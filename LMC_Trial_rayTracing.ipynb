{
 "cells": [
  {
   "cell_type": "code",
   "execution_count": 2,
   "metadata": {},
   "outputs": [
    {
     "name": "stdout",
     "output_type": "stream",
     "text": [
      "The autoreload extension is already loaded. To reload it, use:\n",
      "  %reload_ext autoreload\n"
     ]
    }
   ],
   "source": [
    "%load_ext autoreload\n",
    "%autoreload 2\n",
    "# then imported files are u pdated each time a cell is executed (good if functions in py files are added and modified)\n",
    "\n",
    "import numpy as np\n",
    "import pandas as pd\n",
    "import plotly.graph_objects as go\n",
    "import sys\n",
    "import os\n",
    "\n",
    "from scipy.spatial.transform import Rotation as R\n",
    "from pyswarms.single.global_best import GlobalBestPSO\n",
    "\n",
    "# os.add_dll_directory(\"C:/OpenSim4.4/bin\") # otherwise module _sombody not found error!\n",
    "\n",
    "sys.path.insert(0, '..')\n",
    "sys.path.insert(0, '...')\n",
    "\n",
    "from Python.LMC_util import plotLMC, make_LMC, check_LMC_Hand_visibility, make_hand_poses\n",
    "from Python.plotUtil import plot_hand"
   ]
  },
  {
   "cell_type": "code",
   "execution_count": 38,
   "metadata": {},
   "outputs": [
    {
     "name": "stdout",
     "output_type": "stream",
     "text": [
      "LMC_Naiv_Trial111.txt\n"
     ]
    },
    {
     "name": "stderr",
     "output_type": "stream",
     "text": [
      "d:\\Dokumente\\Projects\\LMC_Optim\\Python\\LMC_util.py:238: RuntimeWarning:\n",
      "\n",
      "invalid value encountered in arccos\n",
      "\n"
     ]
    }
   ],
   "source": [
    "from Python.LMC_util import fingers_idx_LMC\n",
    "\n",
    "# General Settings\n",
    "# Data Path\n",
    "current_dir = os.getcwd()\n",
    "data_path = 'data/'\n",
    "\n",
    "# LMC Settings\n",
    "# Input parameter\n",
    "finger_radius = 10 # mm\n",
    "\n",
    "# LMC settings\n",
    "num_LMC = 1\n",
    "LMC_H = 400 # mm\n",
    "LMC_alpha1 = (180-150) / 2 * np.pi / 180\n",
    "LMC_alpha2 = (180-120) / 2 * np.pi / 180\n",
    "LMC_position = np.array([0,0,0]) # in mm\n",
    "LMC_orientation = np.array([0,0,0]) # in deg\n",
    "LMC = make_LMC(LMC_loc=LMC_position, LMC_orient=LMC_orientation, LMC_H=LMC_H, LMC_alpha1=LMC_alpha1, LMC_alpha2=LMC_alpha2) \n",
    "\n",
    "# PROCES DATA\n",
    "# load files\n",
    "for fi, file in enumerate(os.listdir(os.path.join(current_dir, data_path))):\n",
    "    if fi > 0:\n",
    "        break\n",
    "    if 'LMC_' in file and '_Trial' in file:\n",
    "        print(file)\n",
    "        # load trial\n",
    "        filename = os.path.join(current_dir, data_path, file)\n",
    "        df = pd.read_csv(filename,index_col=False,sep=r',|\\t', engine='python')\n",
    "        df = df.replace('\\t','', regex=True)\n",
    "        #print(df.iloc[[0]].keys())\n",
    "\n",
    "        # to numpy\n",
    "        posDatas_ = df.to_numpy()\n",
    "        posDatas = posDatas_[:, [4, 5, 6] + [13+i for i in range(94-13)]] # cut away unnecessary data\n",
    "        posDatas = posDatas.reshape(posDatas.shape[0], int(posDatas.shape[1]/3), 3)\n",
    "        posDatas = posDatas[:, [i for i in range(posDatas.shape[1]) if i not in [0, 2, 3, 8, 13, 18]]] # cut away unnecessary markers\n",
    "\n",
    "        #print(posDatas.shape)\n",
    "        # check if labels are correct\n",
    "        #f = 11\n",
    "        # frame = (R.from_euler('XYZ', [90, 0, 0], degrees=True).as_matrix().squeeze() @ posDatas[f].T).T\n",
    "        # print(frame)\n",
    "        # fig = go.Figure()\n",
    "        # plot_hand(fig, frame, names=np.arange(0, frame.shape[0]))\n",
    "        # fig.show()\n",
    "\n",
    "        occlusions = np.zeros([posDatas.shape[0], 5])\n",
    "        for f in range(posDatas.shape[0]):  #for each frame\n",
    "            # rotate data such that z points up\n",
    "            frame = (R.from_euler('XYZ', [90, 0, 0], degrees=True).as_matrix().squeeze() @ posDatas[f].T).T\n",
    "            # transform data in global frame not necessary as we only have one LMC\n",
    "            if np.isnan(frame).any(): # the LMC did not detect the hand:\n",
    "                occlusions[f, :] = np.array([-1]*5)\n",
    "                continue\n",
    "            \n",
    "            # get data for ray tracing\n",
    "            handMarkers, palmMarkers, palmPlnNormals, palmCentroids, fingers, forearm_vecs = make_hand_poses(np.array([frame]))   \n",
    "            occlusions_, _ = check_LMC_Hand_visibility(LMC, pos_markers=handMarkers[0], fingers_idx=fingers_idx_LMC, finger_lines=fingers[0], \n",
    "                                                        finger_radius=finger_radius, palm_plane_normal=palmPlnNormals[0], \n",
    "                                                        palm_centroid=palmCentroids[0], palm_markers=palmMarkers[0], forearm_vec=forearm_vecs[0],\n",
    "                                                        fig = None, verbose=0)\n",
    "            occlusions[f, :] = occlusions_[2:]\n",
    "            #print('    Hand detected: {}'.format(f))\n",
    "        \n",
    "        fingers = ['thumb', 'index', 'middle', 'ring', 'pinky']\n",
    "        for finger in range(5):\n",
    "            df['visibility_'+fingers[finger]] = occlusions[:, finger]\n",
    "\n",
    "           "
   ]
  },
  {
   "cell_type": "code",
   "execution_count": 45,
   "metadata": {},
   "outputs": [],
   "source": [
    "df.to_csv(os.path.join(current_dir, 'test.txt'), header=df.iloc[[0]].keys(), index=None, sep=' ', mode='a')"
   ]
  },
  {
   "cell_type": "code",
   "execution_count": 41,
   "metadata": {},
   "outputs": [
    {
     "name": "stdout",
     "output_type": "stream",
     "text": [
      "Device ID            4.000000e+00\n",
      "Frame ID             4.307000e+03\n",
      "Frame Rate           1.745920e-02\n",
      "Time Stamp           1.596278e+10\n",
      "Palm Position.x               NaN\n",
      "                         ...     \n",
      "visibility_thumb    -1.000000e+00\n",
      "visibility_index    -1.000000e+00\n",
      "visibility_middle   -1.000000e+00\n",
      "visibility_ring     -1.000000e+00\n",
      "visibility_pinky    -1.000000e+00\n",
      "Name: 11, Length: 99, dtype: float64\n"
     ]
    }
   ],
   "source": [
    "print(df.iloca[11])"
   ]
  },
  {
   "cell_type": "markdown",
   "metadata": {},
   "source": [
    "# Check finger visibility for a single frame from a given number of LMCs"
   ]
  },
  {
   "cell_type": "code",
   "execution_count": 10,
   "metadata": {},
   "outputs": [
    {
     "name": "stdout",
     "output_type": "stream",
     "text": [
      "(1, 22, 3)\n"
     ]
    },
    {
     "ename": "LinAlgError",
     "evalue": "SVD did not converge",
     "output_type": "error",
     "traceback": [
      "\u001b[1;31m---------------------------------------------------------------------------\u001b[0m",
      "\u001b[1;31mLinAlgError\u001b[0m                               Traceback (most recent call last)",
      "\u001b[1;32m~\\AppData\\Local\\Temp\\ipykernel_27764\\1942295879.py\u001b[0m in \u001b[0;36m<module>\u001b[1;34m\u001b[0m\n\u001b[0;32m     28\u001b[0m \u001b[1;33m\u001b[0m\u001b[0m\n\u001b[0;32m     29\u001b[0m \u001b[1;31m# get data for ray tracing\u001b[0m\u001b[1;33m\u001b[0m\u001b[1;33m\u001b[0m\u001b[1;33m\u001b[0m\u001b[0m\n\u001b[1;32m---> 30\u001b[1;33m \u001b[0mhandMarkers\u001b[0m\u001b[1;33m,\u001b[0m \u001b[0mpalmMarkers\u001b[0m\u001b[1;33m,\u001b[0m \u001b[0mpalmPlnNormals\u001b[0m\u001b[1;33m,\u001b[0m \u001b[0mpalmCentroids\u001b[0m\u001b[1;33m,\u001b[0m \u001b[0mfingers\u001b[0m\u001b[1;33m,\u001b[0m \u001b[0mforearm_vecs\u001b[0m \u001b[1;33m=\u001b[0m \u001b[0mmake_hand_poses\u001b[0m\u001b[1;33m(\u001b[0m\u001b[0mframes\u001b[0m\u001b[1;33m)\u001b[0m\u001b[1;33m\u001b[0m\u001b[1;33m\u001b[0m\u001b[0m\n\u001b[0m\u001b[0;32m     31\u001b[0m \u001b[0mocclusions\u001b[0m \u001b[1;33m=\u001b[0m \u001b[0mnp\u001b[0m\u001b[1;33m.\u001b[0m\u001b[0mzeros\u001b[0m\u001b[1;33m(\u001b[0m\u001b[1;33m[\u001b[0m\u001b[0mnum_LMC\u001b[0m\u001b[1;33m,\u001b[0m \u001b[1;36m5\u001b[0m\u001b[1;33m]\u001b[0m\u001b[1;33m)\u001b[0m\u001b[1;33m\u001b[0m\u001b[1;33m\u001b[0m\u001b[0m\n\u001b[0;32m     32\u001b[0m \u001b[0mfig\u001b[0m \u001b[1;33m=\u001b[0m \u001b[0mgo\u001b[0m\u001b[1;33m.\u001b[0m\u001b[0mFigure\u001b[0m\u001b[1;33m(\u001b[0m\u001b[1;33m)\u001b[0m\u001b[1;33m\u001b[0m\u001b[1;33m\u001b[0m\u001b[0m\n",
      "\u001b[1;32md:\\Dokumente\\Projects\\LMC_Optim\\Python\\LMC_util.py\u001b[0m in \u001b[0;36mmake_hand_poses\u001b[1;34m(frames)\u001b[0m\n\u001b[0;32m    360\u001b[0m                                       pv1__*3, pos_markers[13] + pv1__*3, pos_markers[18] + pv1__*3, pos_markers[1] - pv1__*5, pos_markers[17]])\n\u001b[0;32m    361\u001b[0m \u001b[1;33m\u001b[0m\u001b[0m\n\u001b[1;32m--> 362\u001b[1;33m         \u001b[0mpalmPlnNormals\u001b[0m\u001b[1;33m[\u001b[0m\u001b[0mi\u001b[0m\u001b[1;33m,\u001b[0m \u001b[1;33m:\u001b[0m\u001b[1;33m]\u001b[0m \u001b[1;33m=\u001b[0m \u001b[0mget_regressionPlane\u001b[0m\u001b[1;33m(\u001b[0m\u001b[0mpalmMarkers\u001b[0m\u001b[1;33m[\u001b[0m\u001b[0mi\u001b[0m\u001b[1;33m,\u001b[0m \u001b[1;33m:\u001b[0m\u001b[1;33m]\u001b[0m\u001b[1;33m)\u001b[0m \u001b[1;31m# normal plane to the palm and palm centroid\u001b[0m\u001b[1;33m\u001b[0m\u001b[1;33m\u001b[0m\u001b[0m\n\u001b[0m\u001b[0;32m    363\u001b[0m         \u001b[0mpalmCentroids\u001b[0m\u001b[1;33m[\u001b[0m\u001b[0mi\u001b[0m\u001b[1;33m,\u001b[0m \u001b[1;33m:\u001b[0m\u001b[1;33m]\u001b[0m \u001b[1;33m=\u001b[0m \u001b[0mnp\u001b[0m\u001b[1;33m.\u001b[0m\u001b[0mmean\u001b[0m\u001b[1;33m(\u001b[0m\u001b[0mpalmMarkers\u001b[0m\u001b[1;33m[\u001b[0m\u001b[0mi\u001b[0m\u001b[1;33m,\u001b[0m \u001b[1;33m:\u001b[0m\u001b[1;33m]\u001b[0m\u001b[1;33m,\u001b[0m \u001b[0maxis\u001b[0m\u001b[1;33m=\u001b[0m\u001b[1;36m0\u001b[0m\u001b[1;33m)\u001b[0m \u001b[1;31m# centroid marker of the palm\u001b[0m\u001b[1;33m\u001b[0m\u001b[1;33m\u001b[0m\u001b[0m\n\u001b[0;32m    364\u001b[0m         \u001b[0mforearm_vecs\u001b[0m\u001b[1;33m[\u001b[0m\u001b[0mi\u001b[0m\u001b[1;33m,\u001b[0m \u001b[1;33m:\u001b[0m\u001b[1;33m]\u001b[0m \u001b[1;33m=\u001b[0m \u001b[1;33m(\u001b[0m\u001b[0mpos_markers\u001b[0m\u001b[1;33m[\u001b[0m\u001b[1;36m1\u001b[0m\u001b[1;33m]\u001b[0m \u001b[1;33m+\u001b[0m \u001b[0mpos_markers\u001b[0m\u001b[1;33m[\u001b[0m\u001b[1;36m17\u001b[0m\u001b[1;33m]\u001b[0m\u001b[1;33m)\u001b[0m\u001b[1;33m/\u001b[0m\u001b[1;36m2\u001b[0m \u001b[1;33m-\u001b[0m \u001b[0mpos_markers\u001b[0m\u001b[1;33m[\u001b[0m\u001b[1;36m0\u001b[0m\u001b[1;33m]\u001b[0m \u001b[1;31m# vector from the elbow to the wrist center\u001b[0m\u001b[1;33m\u001b[0m\u001b[1;33m\u001b[0m\u001b[0m\n",
      "\u001b[1;32md:\\Dokumente\\Projects\\LMC_Optim\\Python\\ray_tracing_util.py\u001b[0m in \u001b[0;36mget_regressionPlane\u001b[1;34m(markers)\u001b[0m\n\u001b[0;32m     57\u001b[0m     '''\n\u001b[0;32m     58\u001b[0m \u001b[1;33m\u001b[0m\u001b[0m\n\u001b[1;32m---> 59\u001b[1;33m     \u001b[0msvd\u001b[0m \u001b[1;33m=\u001b[0m \u001b[0mnp\u001b[0m\u001b[1;33m.\u001b[0m\u001b[0mlinalg\u001b[0m\u001b[1;33m.\u001b[0m\u001b[0msvd\u001b[0m\u001b[1;33m(\u001b[0m\u001b[0mmarkers\u001b[0m\u001b[1;33m.\u001b[0m\u001b[0mT\u001b[0m \u001b[1;33m-\u001b[0m \u001b[0mnp\u001b[0m\u001b[1;33m.\u001b[0m\u001b[0mmean\u001b[0m\u001b[1;33m(\u001b[0m\u001b[0mmarkers\u001b[0m\u001b[1;33m,\u001b[0m \u001b[0maxis\u001b[0m\u001b[1;33m=\u001b[0m\u001b[1;36m0\u001b[0m\u001b[1;33m,\u001b[0m \u001b[0mkeepdims\u001b[0m\u001b[1;33m=\u001b[0m\u001b[1;32mTrue\u001b[0m\u001b[1;33m)\u001b[0m\u001b[1;33m.\u001b[0m\u001b[0mT\u001b[0m\u001b[1;33m)\u001b[0m\u001b[1;33m\u001b[0m\u001b[1;33m\u001b[0m\u001b[0m\n\u001b[0m\u001b[0;32m     60\u001b[0m     \u001b[0mright\u001b[0m \u001b[1;33m=\u001b[0m \u001b[0msvd\u001b[0m\u001b[1;33m[\u001b[0m\u001b[1;36m0\u001b[0m\u001b[1;33m]\u001b[0m\u001b[1;33m\u001b[0m\u001b[1;33m\u001b[0m\u001b[0m\n\u001b[0;32m     61\u001b[0m     \u001b[0mn\u001b[0m \u001b[1;33m=\u001b[0m \u001b[0mright\u001b[0m\u001b[1;33m[\u001b[0m\u001b[1;33m:\u001b[0m\u001b[1;33m,\u001b[0m \u001b[1;33m-\u001b[0m\u001b[1;36m1\u001b[0m\u001b[1;33m]\u001b[0m\u001b[1;33m.\u001b[0m\u001b[0msqueeze\u001b[0m\u001b[1;33m(\u001b[0m\u001b[1;33m)\u001b[0m \u001b[1;31m# vector along prosthesis pronation axis\u001b[0m\u001b[1;33m\u001b[0m\u001b[1;33m\u001b[0m\u001b[0m\n",
      "\u001b[1;32mc:\\Users\\ge37del\\Anaconda3\\envs\\OpenSim44\\lib\\site-packages\\numpy\\core\\overrides.py\u001b[0m in \u001b[0;36msvd\u001b[1;34m(*args, **kwargs)\u001b[0m\n",
      "\u001b[1;32mc:\\Users\\ge37del\\Anaconda3\\envs\\OpenSim44\\lib\\site-packages\\numpy\\linalg\\linalg.py\u001b[0m in \u001b[0;36msvd\u001b[1;34m(a, full_matrices, compute_uv, hermitian)\u001b[0m\n\u001b[0;32m   1655\u001b[0m \u001b[1;33m\u001b[0m\u001b[0m\n\u001b[0;32m   1656\u001b[0m         \u001b[0msignature\u001b[0m \u001b[1;33m=\u001b[0m \u001b[1;34m'D->DdD'\u001b[0m \u001b[1;32mif\u001b[0m \u001b[0misComplexType\u001b[0m\u001b[1;33m(\u001b[0m\u001b[0mt\u001b[0m\u001b[1;33m)\u001b[0m \u001b[1;32melse\u001b[0m \u001b[1;34m'd->ddd'\u001b[0m\u001b[1;33m\u001b[0m\u001b[1;33m\u001b[0m\u001b[0m\n\u001b[1;32m-> 1657\u001b[1;33m         \u001b[0mu\u001b[0m\u001b[1;33m,\u001b[0m \u001b[0ms\u001b[0m\u001b[1;33m,\u001b[0m \u001b[0mvh\u001b[0m \u001b[1;33m=\u001b[0m \u001b[0mgufunc\u001b[0m\u001b[1;33m(\u001b[0m\u001b[0ma\u001b[0m\u001b[1;33m,\u001b[0m \u001b[0msignature\u001b[0m\u001b[1;33m=\u001b[0m\u001b[0msignature\u001b[0m\u001b[1;33m,\u001b[0m \u001b[0mextobj\u001b[0m\u001b[1;33m=\u001b[0m\u001b[0mextobj\u001b[0m\u001b[1;33m)\u001b[0m\u001b[1;33m\u001b[0m\u001b[1;33m\u001b[0m\u001b[0m\n\u001b[0m\u001b[0;32m   1658\u001b[0m         \u001b[0mu\u001b[0m \u001b[1;33m=\u001b[0m \u001b[0mu\u001b[0m\u001b[1;33m.\u001b[0m\u001b[0mastype\u001b[0m\u001b[1;33m(\u001b[0m\u001b[0mresult_t\u001b[0m\u001b[1;33m,\u001b[0m \u001b[0mcopy\u001b[0m\u001b[1;33m=\u001b[0m\u001b[1;32mFalse\u001b[0m\u001b[1;33m)\u001b[0m\u001b[1;33m\u001b[0m\u001b[1;33m\u001b[0m\u001b[0m\n\u001b[0;32m   1659\u001b[0m         \u001b[0ms\u001b[0m \u001b[1;33m=\u001b[0m \u001b[0ms\u001b[0m\u001b[1;33m.\u001b[0m\u001b[0mastype\u001b[0m\u001b[1;33m(\u001b[0m\u001b[0m_realType\u001b[0m\u001b[1;33m(\u001b[0m\u001b[0mresult_t\u001b[0m\u001b[1;33m)\u001b[0m\u001b[1;33m,\u001b[0m \u001b[0mcopy\u001b[0m\u001b[1;33m=\u001b[0m\u001b[1;32mFalse\u001b[0m\u001b[1;33m)\u001b[0m\u001b[1;33m\u001b[0m\u001b[1;33m\u001b[0m\u001b[0m\n",
      "\u001b[1;32mc:\\Users\\ge37del\\Anaconda3\\envs\\OpenSim44\\lib\\site-packages\\numpy\\linalg\\linalg.py\u001b[0m in \u001b[0;36m_raise_linalgerror_svd_nonconvergence\u001b[1;34m(err, flag)\u001b[0m\n\u001b[0;32m     96\u001b[0m \u001b[1;33m\u001b[0m\u001b[0m\n\u001b[0;32m     97\u001b[0m \u001b[1;32mdef\u001b[0m \u001b[0m_raise_linalgerror_svd_nonconvergence\u001b[0m\u001b[1;33m(\u001b[0m\u001b[0merr\u001b[0m\u001b[1;33m,\u001b[0m \u001b[0mflag\u001b[0m\u001b[1;33m)\u001b[0m\u001b[1;33m:\u001b[0m\u001b[1;33m\u001b[0m\u001b[1;33m\u001b[0m\u001b[0m\n\u001b[1;32m---> 98\u001b[1;33m     \u001b[1;32mraise\u001b[0m \u001b[0mLinAlgError\u001b[0m\u001b[1;33m(\u001b[0m\u001b[1;34m\"SVD did not converge\"\u001b[0m\u001b[1;33m)\u001b[0m\u001b[1;33m\u001b[0m\u001b[1;33m\u001b[0m\u001b[0m\n\u001b[0m\u001b[0;32m     99\u001b[0m \u001b[1;33m\u001b[0m\u001b[0m\n\u001b[0;32m    100\u001b[0m \u001b[1;32mdef\u001b[0m \u001b[0m_raise_linalgerror_lstsq\u001b[0m\u001b[1;33m(\u001b[0m\u001b[0merr\u001b[0m\u001b[1;33m,\u001b[0m \u001b[0mflag\u001b[0m\u001b[1;33m)\u001b[0m\u001b[1;33m:\u001b[0m\u001b[1;33m\u001b[0m\u001b[1;33m\u001b[0m\u001b[0m\n",
      "\u001b[1;31mLinAlgError\u001b[0m: SVD did not converge"
     ]
    }
   ],
   "source": [
    "from Python.LMC_util import fingers_idx_LMC\n",
    "\n",
    "# Input parameter\n",
    "finger_radius = 10 # mm\n",
    "\n",
    "# LMC settings\n",
    "num_LMC = 1\n",
    "LMC_H = 600 # mm\n",
    "LMC_alpha1 = (180-150) / 2 * np.pi / 180\n",
    "LMC_alpha2 = (180-120) / 2 * np.pi / 180\n",
    "deviceColor = ['orange', 'blue', 'green', 'black']\n",
    "deviceLabel = ['Device {}'.format(i) for i in range(1, num_LMC+1)]\n",
    "LMC_positions = np.array([0,0,0]*num_LMC).reshape(num_LMC, 3) # in mm\n",
    "LMC_orientations = np.array([0,0,0]*num_LMC).reshape(num_LMC, 3) # in deg\n",
    "LMCs = [make_LMC(LMC_loc=LMC_positions[i], LMC_orient=LMC_orientations[i], LMC_H=LMC_H, LMC_alpha1=LMC_alpha1, LMC_alpha2=LMC_alpha2) for i in range(num_LMC)]\n",
    "\n",
    "# input data\n",
    "frames = np.array([frame]) # one row for a single frame of each LMC\n",
    "print(frames.shape)\n",
    "#transform data in global frame\n",
    "for lm, LMC in enumerate(LMCs):\n",
    "    LMC_orient = R.from_euler('xyz', [*LMC[1]], degrees=True).as_matrix().squeeze()\n",
    "    frames[lm, :] = (LMC_orient @ (frames[lm, :] + LMC[0]).T).T \n",
    "\n",
    "# for lm, LMC in enumerate(LMCs):\n",
    "#     LMC_orient = R.from_euler('xyz', [90,0,-10], degrees=True).as_matrix().squeeze()\n",
    "#     frames[lm, :] = (LMC_orient @ (frames[lm, :] + LMC[0]).T).T + np.array([0, 200, 300])\n",
    "\n",
    "# get data for ray tracing\n",
    "handMarkers, palmMarkers, palmPlnNormals, palmCentroids, fingers, forearm_vecs = make_hand_poses(frames)   \n",
    "occlusions = np.zeros([num_LMC, 5])\n",
    "fig = go.Figure()\n",
    "for lm, LMC in enumerate(LMCs):\n",
    "    occlusions_, _ = check_LMC_Hand_visibility(LMC, pos_markers=handMarkers[lm], fingers_idx=fingers_idx_LMC, finger_lines=fingers[lm], \n",
    "                                                finger_radius=finger_radius, palm_plane_normal=palmPlnNormals[lm], \n",
    "                                                palm_centroid=palmCentroids[lm], palm_markers=palmMarkers[lm], forearm_vec=forearm_vecs[lm],\n",
    "                                                fig = fig, verbose=1)\n",
    "    print(occlusions_)\n",
    "    occlusions[lm] = occlusions_[2:]\n",
    "\n",
    "print(occlusions) # 0: thumb, 4:pinky\n",
    "\n",
    "\n",
    "for lm, LMC in enumerate(LMCs):\n",
    "    fig = plot_hand(fig, frames[lm], color=deviceColor[lm], names=np.arange(0, frames[lm].shape[0]))\n",
    "    fig = plotLMC(fig, LMC, color=deviceColor[lm], name=deviceLabel[lm], scale=1)\n",
    "fig.show()"
   ]
  },
  {
   "cell_type": "markdown",
   "metadata": {},
   "source": [
    "# Optimize LMC position for Recorded leap data"
   ]
  },
  {
   "cell_type": "code",
   "execution_count": null,
   "metadata": {},
   "outputs": [],
   "source": [
    "from Python.Hand_model import getHandModel, setHandPose, generate_hand_pose, generate_hand_poses, plot_hand\n",
    "from Python.optimization import PSO_Objective, plotPSOResult\n",
    "from Python.LMC_util import fingers_idx_LMC\n",
    "\n",
    "# Input parameter    \n",
    "finger_radius = 10 # mm\n",
    "\n",
    "# LMC settings\n",
    "LMC_H = 600 # mm\n",
    "num_LMC = 4\n",
    "LMC_alpha1 = (180-150) / 2 * np.pi / 180\n",
    "LMC_alpha2 = (180-120) / 2 * np.pi / 180\n",
    "LMC_positions = np.array([0,0,0]*num_LMC).reshape(num_LMC, 3) # in mm\n",
    "LMC_orientations = np.array([0,0,0]*num_LMC).reshape(num_LMC, 3) # in deg\n",
    "LMCs = [make_LMC(LMC_loc=LMC_positions[i], LMC_orient=LMC_orientations[i], LMC_H=LMC_H, LMC_alpha1=LMC_alpha1, LMC_alpha2=LMC_alpha2) for i in range(num_LMC)]\n",
    "\n",
    "# input data\n",
    "'''\n",
    "  CAREFUL! The optimizer does not work for a single pose! the more the better\n",
    "          if only a single pose is available then it was to be stacked a few times. e.g 10 times \n",
    "          this is caused by the metric that uses an exposnential norm with the number of poses\n",
    "'''\n",
    "frames = np.array([frame]*10) # one row for each frame (if the data is from multiple LMC then they are just flattened such that frames.shape = (num_recordedposes*num_LMC, num_markers, 3)\n",
    "# transform data in global frame\n",
    "for lm, LMC in enumerate(LMCs):\n",
    "    LMC_orient = R.from_euler('xyz', [*LMC[1]], degrees=True).as_matrix().squeeze()\n",
    "    frames[lm, :] = (LMC_orient @ (frames[lm, :] + LMC[0]).T).T \n",
    "\n",
    "# get data for ray tracing\n",
    "handMarkers, palmMarkers, palmPlnNormals, palmCentroids, fingers, forearm_vecs = make_hand_poses(frames)   \n",
    "print(handMarkers.shape)\n",
    "data = [handMarkers, palmMarkers, palmPlnNormals, palmCentroids, fingers, forearm_vecs]\n",
    "\n",
    "# instatiate the optimizer\n",
    "options = {'c1': 0.5, 'c2': 0.3, 'w': 0.9}\n",
    "x_max = np.array([1, 1, 1, 1]*num_LMC)\n",
    "x_min = np.array([-1, -1, -1, -1]*num_LMC)\n",
    "parameter_mult = np.array([1000, 1000, 90, 180]*num_LMC) \n",
    "bounds = (x_min, x_max)\n",
    "\n",
    "n_particles = 30\n",
    "num_iterations = 100\n",
    "args = (data, finger_radius, fingers_idx_LMC, num_LMC, LMC_H, LMC_alpha1, LMC_alpha2, parameter_mult)\n",
    "optimizer = GlobalBestPSO(n_particles=n_particles, dimensions=4*num_LMC, options=options, bounds=bounds)\n",
    "# pos is the optimized LMC location and orientation as\n",
    "'''\n",
    "  pos = np.array([x, y, xrot, zrot]*num_LMC) / parameter_mult \n",
    "  this means pos needs to be multiplied with parameter_mult to get the position in mm and orientation in deg\n",
    "'''\n",
    "# a good cost is smaller than 1e-3\n",
    "cost, pos = optimizer.optimize(PSO_Objective, num_iterations, args=args)\n",
    "plotPSOResult(pos, args)"
   ]
  },
  {
   "cell_type": "markdown",
   "metadata": {},
   "source": [
    "# Optimize LMC position for synthetic data"
   ]
  },
  {
   "cell_type": "code",
   "execution_count": null,
   "metadata": {},
   "outputs": [],
   "source": [
    "from Python.Hand_model import getHandModel, setHandPose, generate_hand_pose, generate_hand_poses, plot_hand\n",
    "from Python.optimization import PSO_Objective, plotPSOResult\n",
    "\n",
    "# Make a Hand model\n",
    "HandModel = getHandModel()\n",
    "q = np.zeros(20)\n",
    "# set the thumb in a flat position\n",
    "q[0] = 0.4\n",
    "q[1] = -0.6\n",
    "q[2] = 0.1\n",
    "state = setHandPose(HandModel, q)\n",
    "\n",
    "# Input parameter \n",
    "# these are the finger_idx of the osim model! NOT THE LMC\n",
    "fingers_idx = np.array([[0,3,8,17], #thumb (root to tip)\n",
    "                    [4,9,13,18], #index\n",
    "                    [5,10,14,19], #middle\n",
    "                    [6,11,15,20], #ring\n",
    "                    [7,12,16,21]]) #pinky\n",
    "    \n",
    "finger_radius = 10 # mm\n",
    "\n",
    "# LMC settings\n",
    "LMC_H = 600 # mm\n",
    "num_LMC = 4\n",
    "LMC_alpha1 = (180-150) / 2 * np.pi / 180\n",
    "LMC_alpha2 = (180-120) / 2 * np.pi / 180\n",
    "\n",
    "# Generate data\n",
    "'''\n",
    "  CAREFUL! The optimizer does not work for a single pose! the more the better\n",
    "          if only a single pose is available then it was to be stacked a few times. e.g 10 times \n",
    "          this is caused by the metric that uses an exposnential norm with the number of poses\n",
    "'''\n",
    "num_poses = 10\n",
    "handMarkers, palmMarkers, palmPlnNormals, palmCentroids, fingers, forearm_vecs = generate_hand_poses(HandModel, state, num_poses=num_poses, \n",
    "                                                                                       x_limits=[0, 0], y_limits=[0, 0], z_limits=[300, 300],\n",
    "                                                                                         limitsPS=[-70, 70], limis_FE=[-60, 60], limits_WD=[-60, 60])\n",
    "#handMarkers, palmMarkers, palmPlnNormals, palmCentroids, fingers, forearm_vecs = generate_hand_pose(HandModel, state, pos=np.array([0, -100, 300]), PS=90, FE=0, WD=0)\n",
    "data = [handMarkers, palmMarkers, palmPlnNormals, palmCentroids, fingers, forearm_vecs]\n",
    "\n",
    "# instatiate the optimizer\n",
    "options = {'c1': 0.5, 'c2': 0.3, 'w': 0.9}\n",
    "x_max = np.array([1, 1, 1, 1]*num_LMC)\n",
    "x_min = np.array([-1, -1, -1, -1]*num_LMC)\n",
    "parameter_mult = np.array([1000, 1000, 90, 180]*num_LMC) \n",
    "bounds = (x_min, x_max)\n",
    "\n",
    "n_particles = 30\n",
    "num_iterations = 100\n",
    "args = (data, finger_radius, fingers_idx, num_LMC, LMC_H, LMC_alpha1, LMC_alpha2, parameter_mult)\n",
    "optimizer = GlobalBestPSO(n_particles=n_particles, dimensions=4*num_LMC, options=options, bounds=bounds)\n",
    "# pos is the optimized LMC location and orientation as\n",
    "'''\n",
    "  pos = np.array([x, y, xrot, zrot]*num_LMC) / parameter_mult \n",
    "  this means pos needs to be multiplied with parameter_mult to get the position in mm and orientation in deg\n",
    "'''\n",
    "cost, pos = optimizer.optimize(PSO_Objective, num_iterations, args=args)\n",
    "plotPSOResult(pos, args)"
   ]
  },
  {
   "cell_type": "code",
   "execution_count": null,
   "metadata": {},
   "outputs": [],
   "source": []
  }
 ],
 "metadata": {
  "kernelspec": {
   "display_name": "OpenSim44",
   "language": "python",
   "name": "python3"
  },
  "language_info": {
   "codemirror_mode": {
    "name": "ipython",
    "version": 3
   },
   "file_extension": ".py",
   "mimetype": "text/x-python",
   "name": "python",
   "nbconvert_exporter": "python",
   "pygments_lexer": "ipython3",
   "version": "3.8.16"
  }
 },
 "nbformat": 4,
 "nbformat_minor": 2
}
