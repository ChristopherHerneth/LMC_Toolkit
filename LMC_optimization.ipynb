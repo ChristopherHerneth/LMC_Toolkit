{
 "cells": [
  {
   "cell_type": "code",
   "execution_count": 1,
   "metadata": {},
   "outputs": [],
   "source": [
    "%load_ext autoreload\n",
    "%autoreload 2\n",
    "# then imported files are u pdated each time a cell is executed (good if functions in py files are added and modified)\n",
    "\n",
    "import numpy as np\n",
    "import pandas as pd\n",
    "import plotly.graph_objects as go\n",
    "import sys\n",
    "import os\n",
    "\n",
    "from scipy.spatial.transform import Rotation as R\n",
    "from pyswarms.single.global_best import GlobalBestPSO\n",
    "\n",
    "# os.add_dll_directory(\"C:/OpenSim4.4/bin\") # otherwise module _sombody not found error!\n",
    "\n",
    "sys.path.insert(0, '..')\n",
    "sys.path.insert(0, '...')\n",
    "\n",
    "from Python.LMC_util import plotLMC, make_LMC, check_LMC_Hand_visibility, make_hand_poses\n",
    "from Python.Hand_model import plot_hand"
   ]
  },
  {
   "cell_type": "code",
   "execution_count": 2,
   "metadata": {},
   "outputs": [],
   "source": [
    "current_dir = os.getcwd()\n",
    "file_data = \"Static.txt\"\n",
    "\n",
    "filename = os.path.join(current_dir, file_data)\n",
    "dataFile = pd.read_csv(filename,index_col=False,sep=r',|\\t', engine='python')\n",
    "dataFile = dataFile.replace('\\t','', regex=True)\n",
    "#print(dataFile.iloc[[0]].keys())\n",
    "\n",
    "# to numpy\n",
    "posDatas_ = dataFile.to_numpy()\n",
    "posDatas = posDatas_[:, [4, 5, 6] + [13+i for i in range(94-13)]] # cut away unnecessary data\n",
    "posDatas = posDatas.reshape(posDatas.shape[0], int(posDatas.shape[1]/3), 3)\n",
    "posDatas = posDatas[:, [i for i in range(posDatas.shape[1]) if i not in [0, 2, 3, 8, 13, 18]]] # cut away unnecessary markers\n",
    "# rotate dta such that z points up\n",
    "frame = (R.from_euler('XYZ', [90, 0, 0], degrees=True).as_matrix().squeeze() @ posDatas[0].T).T\n",
    "\n",
    "# fig = go.Figure()\n",
    "# plot_hand(fig, frame, names=np.arange(0, frame.shape[0]))\n",
    "# fig.show()"
   ]
  },
  {
   "cell_type": "markdown",
   "metadata": {},
   "source": [
    "# Check finger visibility for a single frame from a given number of LMCs"
   ]
  },
  {
   "cell_type": "code",
   "execution_count": 4,
   "metadata": {},
   "outputs": [
    {
     "name": "stdout",
     "output_type": "stream",
     "text": [
      "___________________________________\n",
      "Finger  0\n",
      "___________________________________\n",
      "Finger  1\n",
      "___________________________________\n",
      "Finger  2\n",
      "___________________________________\n",
      "Finger  3\n",
      "___________________________________\n",
      "Finger  4\n",
      "[1. 1. 1. 1. 1. 1. 1.]\n",
      "[[1. 1. 1. 1. 1.]]\n"
     ]
    },
    {
     "data": {
      "application/vnd.plotly.v1+json": {
       "config": {
        "plotlyServerURL": "https://plot.ly"
       },
       "data": [
        {
         "marker": {
          "color": "orange",
          "size": 5
         },
         "mode": "markers+text",
         "text": [
          0,
          1,
          2,
          3,
          4,
          5,
          6,
          7,
          8,
          9,
          10,
          11,
          12,
          13,
          14,
          15,
          16,
          17,
          18,
          19,
          20,
          21
         ],
         "type": "scatter3d",
         "x": [
          146.02127100000004,
          64.91345200000002,
          30.547209000000006,
          13.930209000000003,
          3.429539000000001,
          55.317833000000014,
          50.20135100000002,
          44.51924100000001,
          38.73429900000001,
          73.92041000000002,
          72.51829500000001,
          68.98394800000001,
          65.12235300000002,
          95.30350500000002,
          102.85229500000003,
          105.73185700000003,
          106.33307600000003,
          101.41456600000002,
          111.16279600000003,
          122.03212700000003,
          129.10488900000001,
          131.96713300000002
         ],
         "y": [
          -236.74716200000006,
          21.858574000000004,
          58.982281000000015,
          81.43793500000001,
          97.05516800000002,
          93.53913900000002,
          122.36477700000003,
          140.48823500000003,
          152.08926400000001,
          95.27985400000001,
          129.15840100000003,
          151.48281900000003,
          164.05455000000003,
          90.56539200000002,
          122.85159300000002,
          140.30993700000002,
          152.55299400000004,
          29.966721000000007,
          80.52671100000002,
          99.89927700000003,
          113.83253500000002,
          123.89694200000002
         ],
         "z": [
          256.54437300000006,
          215.64189100000004,
          212.83662400000006,
          208.94841000000005,
          205.03225700000004,
          210.07475300000004,
          208.51519800000005,
          202.57232700000006,
          193.52703900000006,
          209.40609700000005,
          206.23629800000006,
          198.49276700000004,
          189.16439800000003,
          205.84558100000007,
          202.69534300000007,
          197.41217000000006,
          189.88087500000003,
          215.37356600000007,
          200.77082800000005,
          197.77571100000006,
          192.24427800000007,
          185.49743700000002
         ]
        },
        {
         "marker": {
          "color": "orange",
          "size": 5
         },
         "mode": "markers+text",
         "type": "scatter3d",
         "x": [
          0
         ],
         "y": [
          0
         ],
         "z": [
          0
         ]
        },
        {
         "line": {
          "color": "orange",
          "width": 2
         },
         "mode": "lines",
         "type": "scatter3d",
         "x": [
          0,
          0,
          null
         ],
         "y": [
          0,
          -519.6152422706632,
          null
         ],
         "z": [
          0,
          299.99999999999994,
          null
         ]
        },
        {
         "colorscale": [
          [
           0,
           "orange"
          ],
          [
           1,
           "orange"
          ]
         ],
         "showlegend": false,
         "showscale": false,
         "type": "cone",
         "u": [
          0
         ],
         "v": [
          -155.88457268119896
         ],
         "w": [
          89.99999999999999
         ],
         "x": [
          0
         ],
         "y": [
          -509.22293742524994
         ],
         "z": [
          293.99999999999994
         ]
        },
        {
         "marker": {
          "color": "orange",
          "size": 5
         },
         "mode": "markers+text",
         "type": "scatter3d",
         "x": [
          0
         ],
         "y": [
          0
         ],
         "z": [
          0
         ]
        },
        {
         "line": {
          "color": "orange",
          "width": 2
         },
         "mode": "lines",
         "type": "scatter3d",
         "x": [
          0,
          579.555495773441,
          null
         ],
         "y": [
          0,
          0,
          null
         ],
         "z": [
          0,
          155.29142706151245,
          null
         ]
        },
        {
         "colorscale": [
          [
           0,
           "orange"
          ],
          [
           1,
           "orange"
          ]
         ],
         "showlegend": false,
         "showscale": false,
         "type": "cone",
         "u": [
          173.86664873203227
         ],
         "v": [
          0
         ],
         "w": [
          46.58742811845374
         ],
         "x": [
          567.9643858579722
         ],
         "y": [
          0
         ],
         "z": [
          152.1855985202822
         ]
        },
        {
         "marker": {
          "color": "orange",
          "size": 5
         },
         "mode": "markers+text",
         "type": "scatter3d",
         "x": [
          0
         ],
         "y": [
          0
         ],
         "z": [
          0
         ]
        },
        {
         "line": {
          "color": "orange",
          "width": 2
         },
         "mode": "lines",
         "type": "scatter3d",
         "x": [
          0,
          0,
          null
         ],
         "y": [
          0,
          519.6152422706632,
          null
         ],
         "z": [
          0,
          299.99999999999994,
          null
         ]
        },
        {
         "colorscale": [
          [
           0,
           "orange"
          ],
          [
           1,
           "orange"
          ]
         ],
         "showlegend": false,
         "showscale": false,
         "type": "cone",
         "u": [
          0
         ],
         "v": [
          155.88457268119896
         ],
         "w": [
          89.99999999999999
         ],
         "x": [
          0
         ],
         "y": [
          509.22293742524994
         ],
         "z": [
          293.99999999999994
         ]
        },
        {
         "marker": {
          "color": "orange",
          "size": 5
         },
         "mode": "markers+text",
         "type": "scatter3d",
         "x": [
          0
         ],
         "y": [
          0
         ],
         "z": [
          0
         ]
        },
        {
         "line": {
          "color": "orange",
          "width": 2
         },
         "mode": "lines",
         "type": "scatter3d",
         "x": [
          0,
          -579.555495773441,
          null
         ],
         "y": [
          0,
          0,
          null
         ],
         "z": [
          0,
          155.29142706151245,
          null
         ]
        },
        {
         "colorscale": [
          [
           0,
           "orange"
          ],
          [
           1,
           "orange"
          ]
         ],
         "showlegend": false,
         "showscale": false,
         "type": "cone",
         "u": [
          -173.86664873203227
         ],
         "v": [
          0
         ],
         "w": [
          46.58742811845374
         ],
         "x": [
          -567.9643858579722
         ],
         "y": [
          0
         ],
         "z": [
          152.1855985202822
         ]
        },
        {
         "marker": {
          "color": "orange",
          "size": 5
         },
         "mode": "markers+text",
         "text": "0d",
         "type": "scatter3d",
         "x": [
          0
         ],
         "y": [
          -259.8076211353316
         ],
         "z": [
          149.99999999999997
         ]
        },
        {
         "marker": {
          "color": "orange",
          "size": 5
         },
         "mode": "markers+text",
         "text": "1d",
         "type": "scatter3d",
         "x": [
          579.555495773441
         ],
         "y": [
          0
         ],
         "z": [
          155.29142706151245
         ]
        },
        {
         "marker": {
          "color": "orange",
          "size": 5
         },
         "mode": "markers+text",
         "text": "2d",
         "type": "scatter3d",
         "x": [
          0
         ],
         "y": [
          259.8076211353316
         ],
         "z": [
          149.99999999999997
         ]
        },
        {
         "marker": {
          "color": "orange",
          "size": 5
         },
         "mode": "markers+text",
         "text": "3d",
         "type": "scatter3d",
         "x": [
          -579.555495773441
         ],
         "y": [
          0
         ],
         "z": [
          155.29142706151245
         ]
        },
        {
         "marker": {
          "color": "gray",
          "size": 5
         },
         "mode": "markers+text",
         "type": "scatter3d",
         "x": [
          0
         ],
         "y": [
          0
         ],
         "z": [
          0
         ]
        },
        {
         "line": {
          "color": "gray",
          "width": 2
         },
         "mode": "lines",
         "type": "scatter3d",
         "x": [
          0,
          0,
          null
         ],
         "y": [
          0,
          600,
          null
         ],
         "z": [
          0,
          0,
          null
         ]
        },
        {
         "colorscale": [
          [
           0,
           "gray"
          ],
          [
           1,
           "gray"
          ]
         ],
         "showlegend": false,
         "showscale": false,
         "type": "cone",
         "u": [
          0
         ],
         "v": [
          180
         ],
         "w": [
          0
         ],
         "x": [
          0
         ],
         "y": [
          588
         ],
         "z": [
          0
         ]
        },
        {
         "marker": {
          "color": "orange",
          "size": 5
         },
         "mode": "markers+text",
         "text": "Device 1",
         "type": "scatter3d",
         "x": [
          0
         ],
         "y": [
          0
         ],
         "z": [
          0
         ]
        }
       ],
       "layout": {
        "height": 1024,
        "scene": {
         "aspectmode": "data",
         "aspectratio": {
          "x": 1,
          "y": 1,
          "z": 1
         },
         "camera": {
          "center": {
           "x": 0,
           "y": 0,
           "z": 0
          },
          "eye": {
           "x": 0,
           "y": -1,
           "z": 3
          },
          "up": {
           "x": 0,
           "y": -30,
           "z": 40
          }
         }
        },
        "template": {
         "data": {
          "bar": [
           {
            "error_x": {
             "color": "#2a3f5f"
            },
            "error_y": {
             "color": "#2a3f5f"
            },
            "marker": {
             "line": {
              "color": "#E5ECF6",
              "width": 0.5
             },
             "pattern": {
              "fillmode": "overlay",
              "size": 10,
              "solidity": 0.2
             }
            },
            "type": "bar"
           }
          ],
          "barpolar": [
           {
            "marker": {
             "line": {
              "color": "#E5ECF6",
              "width": 0.5
             },
             "pattern": {
              "fillmode": "overlay",
              "size": 10,
              "solidity": 0.2
             }
            },
            "type": "barpolar"
           }
          ],
          "carpet": [
           {
            "aaxis": {
             "endlinecolor": "#2a3f5f",
             "gridcolor": "white",
             "linecolor": "white",
             "minorgridcolor": "white",
             "startlinecolor": "#2a3f5f"
            },
            "baxis": {
             "endlinecolor": "#2a3f5f",
             "gridcolor": "white",
             "linecolor": "white",
             "minorgridcolor": "white",
             "startlinecolor": "#2a3f5f"
            },
            "type": "carpet"
           }
          ],
          "choropleth": [
           {
            "colorbar": {
             "outlinewidth": 0,
             "ticks": ""
            },
            "type": "choropleth"
           }
          ],
          "contour": [
           {
            "colorbar": {
             "outlinewidth": 0,
             "ticks": ""
            },
            "colorscale": [
             [
              0,
              "#0d0887"
             ],
             [
              0.1111111111111111,
              "#46039f"
             ],
             [
              0.2222222222222222,
              "#7201a8"
             ],
             [
              0.3333333333333333,
              "#9c179e"
             ],
             [
              0.4444444444444444,
              "#bd3786"
             ],
             [
              0.5555555555555556,
              "#d8576b"
             ],
             [
              0.6666666666666666,
              "#ed7953"
             ],
             [
              0.7777777777777778,
              "#fb9f3a"
             ],
             [
              0.8888888888888888,
              "#fdca26"
             ],
             [
              1,
              "#f0f921"
             ]
            ],
            "type": "contour"
           }
          ],
          "contourcarpet": [
           {
            "colorbar": {
             "outlinewidth": 0,
             "ticks": ""
            },
            "type": "contourcarpet"
           }
          ],
          "heatmap": [
           {
            "colorbar": {
             "outlinewidth": 0,
             "ticks": ""
            },
            "colorscale": [
             [
              0,
              "#0d0887"
             ],
             [
              0.1111111111111111,
              "#46039f"
             ],
             [
              0.2222222222222222,
              "#7201a8"
             ],
             [
              0.3333333333333333,
              "#9c179e"
             ],
             [
              0.4444444444444444,
              "#bd3786"
             ],
             [
              0.5555555555555556,
              "#d8576b"
             ],
             [
              0.6666666666666666,
              "#ed7953"
             ],
             [
              0.7777777777777778,
              "#fb9f3a"
             ],
             [
              0.8888888888888888,
              "#fdca26"
             ],
             [
              1,
              "#f0f921"
             ]
            ],
            "type": "heatmap"
           }
          ],
          "heatmapgl": [
           {
            "colorbar": {
             "outlinewidth": 0,
             "ticks": ""
            },
            "colorscale": [
             [
              0,
              "#0d0887"
             ],
             [
              0.1111111111111111,
              "#46039f"
             ],
             [
              0.2222222222222222,
              "#7201a8"
             ],
             [
              0.3333333333333333,
              "#9c179e"
             ],
             [
              0.4444444444444444,
              "#bd3786"
             ],
             [
              0.5555555555555556,
              "#d8576b"
             ],
             [
              0.6666666666666666,
              "#ed7953"
             ],
             [
              0.7777777777777778,
              "#fb9f3a"
             ],
             [
              0.8888888888888888,
              "#fdca26"
             ],
             [
              1,
              "#f0f921"
             ]
            ],
            "type": "heatmapgl"
           }
          ],
          "histogram": [
           {
            "marker": {
             "pattern": {
              "fillmode": "overlay",
              "size": 10,
              "solidity": 0.2
             }
            },
            "type": "histogram"
           }
          ],
          "histogram2d": [
           {
            "colorbar": {
             "outlinewidth": 0,
             "ticks": ""
            },
            "colorscale": [
             [
              0,
              "#0d0887"
             ],
             [
              0.1111111111111111,
              "#46039f"
             ],
             [
              0.2222222222222222,
              "#7201a8"
             ],
             [
              0.3333333333333333,
              "#9c179e"
             ],
             [
              0.4444444444444444,
              "#bd3786"
             ],
             [
              0.5555555555555556,
              "#d8576b"
             ],
             [
              0.6666666666666666,
              "#ed7953"
             ],
             [
              0.7777777777777778,
              "#fb9f3a"
             ],
             [
              0.8888888888888888,
              "#fdca26"
             ],
             [
              1,
              "#f0f921"
             ]
            ],
            "type": "histogram2d"
           }
          ],
          "histogram2dcontour": [
           {
            "colorbar": {
             "outlinewidth": 0,
             "ticks": ""
            },
            "colorscale": [
             [
              0,
              "#0d0887"
             ],
             [
              0.1111111111111111,
              "#46039f"
             ],
             [
              0.2222222222222222,
              "#7201a8"
             ],
             [
              0.3333333333333333,
              "#9c179e"
             ],
             [
              0.4444444444444444,
              "#bd3786"
             ],
             [
              0.5555555555555556,
              "#d8576b"
             ],
             [
              0.6666666666666666,
              "#ed7953"
             ],
             [
              0.7777777777777778,
              "#fb9f3a"
             ],
             [
              0.8888888888888888,
              "#fdca26"
             ],
             [
              1,
              "#f0f921"
             ]
            ],
            "type": "histogram2dcontour"
           }
          ],
          "mesh3d": [
           {
            "colorbar": {
             "outlinewidth": 0,
             "ticks": ""
            },
            "type": "mesh3d"
           }
          ],
          "parcoords": [
           {
            "line": {
             "colorbar": {
              "outlinewidth": 0,
              "ticks": ""
             }
            },
            "type": "parcoords"
           }
          ],
          "pie": [
           {
            "automargin": true,
            "type": "pie"
           }
          ],
          "scatter": [
           {
            "fillpattern": {
             "fillmode": "overlay",
             "size": 10,
             "solidity": 0.2
            },
            "type": "scatter"
           }
          ],
          "scatter3d": [
           {
            "line": {
             "colorbar": {
              "outlinewidth": 0,
              "ticks": ""
             }
            },
            "marker": {
             "colorbar": {
              "outlinewidth": 0,
              "ticks": ""
             }
            },
            "type": "scatter3d"
           }
          ],
          "scattercarpet": [
           {
            "marker": {
             "colorbar": {
              "outlinewidth": 0,
              "ticks": ""
             }
            },
            "type": "scattercarpet"
           }
          ],
          "scattergeo": [
           {
            "marker": {
             "colorbar": {
              "outlinewidth": 0,
              "ticks": ""
             }
            },
            "type": "scattergeo"
           }
          ],
          "scattergl": [
           {
            "marker": {
             "colorbar": {
              "outlinewidth": 0,
              "ticks": ""
             }
            },
            "type": "scattergl"
           }
          ],
          "scattermapbox": [
           {
            "marker": {
             "colorbar": {
              "outlinewidth": 0,
              "ticks": ""
             }
            },
            "type": "scattermapbox"
           }
          ],
          "scatterpolar": [
           {
            "marker": {
             "colorbar": {
              "outlinewidth": 0,
              "ticks": ""
             }
            },
            "type": "scatterpolar"
           }
          ],
          "scatterpolargl": [
           {
            "marker": {
             "colorbar": {
              "outlinewidth": 0,
              "ticks": ""
             }
            },
            "type": "scatterpolargl"
           }
          ],
          "scatterternary": [
           {
            "marker": {
             "colorbar": {
              "outlinewidth": 0,
              "ticks": ""
             }
            },
            "type": "scatterternary"
           }
          ],
          "surface": [
           {
            "colorbar": {
             "outlinewidth": 0,
             "ticks": ""
            },
            "colorscale": [
             [
              0,
              "#0d0887"
             ],
             [
              0.1111111111111111,
              "#46039f"
             ],
             [
              0.2222222222222222,
              "#7201a8"
             ],
             [
              0.3333333333333333,
              "#9c179e"
             ],
             [
              0.4444444444444444,
              "#bd3786"
             ],
             [
              0.5555555555555556,
              "#d8576b"
             ],
             [
              0.6666666666666666,
              "#ed7953"
             ],
             [
              0.7777777777777778,
              "#fb9f3a"
             ],
             [
              0.8888888888888888,
              "#fdca26"
             ],
             [
              1,
              "#f0f921"
             ]
            ],
            "type": "surface"
           }
          ],
          "table": [
           {
            "cells": {
             "fill": {
              "color": "#EBF0F8"
             },
             "line": {
              "color": "white"
             }
            },
            "header": {
             "fill": {
              "color": "#C8D4E3"
             },
             "line": {
              "color": "white"
             }
            },
            "type": "table"
           }
          ]
         },
         "layout": {
          "annotationdefaults": {
           "arrowcolor": "#2a3f5f",
           "arrowhead": 0,
           "arrowwidth": 1
          },
          "autotypenumbers": "strict",
          "coloraxis": {
           "colorbar": {
            "outlinewidth": 0,
            "ticks": ""
           }
          },
          "colorscale": {
           "diverging": [
            [
             0,
             "#8e0152"
            ],
            [
             0.1,
             "#c51b7d"
            ],
            [
             0.2,
             "#de77ae"
            ],
            [
             0.3,
             "#f1b6da"
            ],
            [
             0.4,
             "#fde0ef"
            ],
            [
             0.5,
             "#f7f7f7"
            ],
            [
             0.6,
             "#e6f5d0"
            ],
            [
             0.7,
             "#b8e186"
            ],
            [
             0.8,
             "#7fbc41"
            ],
            [
             0.9,
             "#4d9221"
            ],
            [
             1,
             "#276419"
            ]
           ],
           "sequential": [
            [
             0,
             "#0d0887"
            ],
            [
             0.1111111111111111,
             "#46039f"
            ],
            [
             0.2222222222222222,
             "#7201a8"
            ],
            [
             0.3333333333333333,
             "#9c179e"
            ],
            [
             0.4444444444444444,
             "#bd3786"
            ],
            [
             0.5555555555555556,
             "#d8576b"
            ],
            [
             0.6666666666666666,
             "#ed7953"
            ],
            [
             0.7777777777777778,
             "#fb9f3a"
            ],
            [
             0.8888888888888888,
             "#fdca26"
            ],
            [
             1,
             "#f0f921"
            ]
           ],
           "sequentialminus": [
            [
             0,
             "#0d0887"
            ],
            [
             0.1111111111111111,
             "#46039f"
            ],
            [
             0.2222222222222222,
             "#7201a8"
            ],
            [
             0.3333333333333333,
             "#9c179e"
            ],
            [
             0.4444444444444444,
             "#bd3786"
            ],
            [
             0.5555555555555556,
             "#d8576b"
            ],
            [
             0.6666666666666666,
             "#ed7953"
            ],
            [
             0.7777777777777778,
             "#fb9f3a"
            ],
            [
             0.8888888888888888,
             "#fdca26"
            ],
            [
             1,
             "#f0f921"
            ]
           ]
          },
          "colorway": [
           "#636efa",
           "#EF553B",
           "#00cc96",
           "#ab63fa",
           "#FFA15A",
           "#19d3f3",
           "#FF6692",
           "#B6E880",
           "#FF97FF",
           "#FECB52"
          ],
          "font": {
           "color": "#2a3f5f"
          },
          "geo": {
           "bgcolor": "white",
           "lakecolor": "white",
           "landcolor": "#E5ECF6",
           "showlakes": true,
           "showland": true,
           "subunitcolor": "white"
          },
          "hoverlabel": {
           "align": "left"
          },
          "hovermode": "closest",
          "mapbox": {
           "style": "light"
          },
          "paper_bgcolor": "white",
          "plot_bgcolor": "#E5ECF6",
          "polar": {
           "angularaxis": {
            "gridcolor": "white",
            "linecolor": "white",
            "ticks": ""
           },
           "bgcolor": "#E5ECF6",
           "radialaxis": {
            "gridcolor": "white",
            "linecolor": "white",
            "ticks": ""
           }
          },
          "scene": {
           "xaxis": {
            "backgroundcolor": "#E5ECF6",
            "gridcolor": "white",
            "gridwidth": 2,
            "linecolor": "white",
            "showbackground": true,
            "ticks": "",
            "zerolinecolor": "white"
           },
           "yaxis": {
            "backgroundcolor": "#E5ECF6",
            "gridcolor": "white",
            "gridwidth": 2,
            "linecolor": "white",
            "showbackground": true,
            "ticks": "",
            "zerolinecolor": "white"
           },
           "zaxis": {
            "backgroundcolor": "#E5ECF6",
            "gridcolor": "white",
            "gridwidth": 2,
            "linecolor": "white",
            "showbackground": true,
            "ticks": "",
            "zerolinecolor": "white"
           }
          },
          "shapedefaults": {
           "line": {
            "color": "#2a3f5f"
           }
          },
          "ternary": {
           "aaxis": {
            "gridcolor": "white",
            "linecolor": "white",
            "ticks": ""
           },
           "baxis": {
            "gridcolor": "white",
            "linecolor": "white",
            "ticks": ""
           },
           "bgcolor": "#E5ECF6",
           "caxis": {
            "gridcolor": "white",
            "linecolor": "white",
            "ticks": ""
           }
          },
          "title": {
           "x": 0.05
          },
          "xaxis": {
           "automargin": true,
           "gridcolor": "white",
           "linecolor": "white",
           "ticks": "",
           "title": {
            "standoff": 15
           },
           "zerolinecolor": "white",
           "zerolinewidth": 2
          },
          "yaxis": {
           "automargin": true,
           "gridcolor": "white",
           "linecolor": "white",
           "ticks": "",
           "title": {
            "standoff": 15
           },
           "zerolinecolor": "white",
           "zerolinewidth": 2
          }
         }
        },
        "width": 1024
       }
      }
     },
     "metadata": {},
     "output_type": "display_data"
    }
   ],
   "source": [
    "from Python.LMC_util import fingers_idx_LMC\n",
    "\n",
    "# Input parameter\n",
    "finger_radius = 10 # mm\n",
    "\n",
    "# LMC settings\n",
    "num_LMC = 1\n",
    "LMC_H = 600 # mm\n",
    "LMC_alpha1 = (180-150) / 2 * np.pi / 180\n",
    "LMC_alpha2 = (180-120) / 2 * np.pi / 180\n",
    "deviceColor = ['orange', 'blue', 'green', 'black']\n",
    "deviceLabel = ['Device {}'.format(i) for i in range(1, num_LMC+1)]\n",
    "LMC_positions = np.array([0,0,0]*num_LMC).reshape(num_LMC, 3) # in mm\n",
    "LMC_orientations = np.array([0,0,0]*num_LMC).reshape(num_LMC, 3) # in deg\n",
    "LMCs = [make_LMC(LMC_loc=LMC_positions[i], LMC_orient=LMC_orientations[i], LMC_H=LMC_H, LMC_alpha1=LMC_alpha1, LMC_alpha2=LMC_alpha2) for i in range(num_LMC)]\n",
    "\n",
    "# input data\n",
    "frames = np.array([frame]) # one row for a single frame of each LMC\n",
    "#transform data in global frame\n",
    "for lm, LMC in enumerate(LMCs):\n",
    "    LMC_orient = R.from_euler('xyz', [*LMC[1]], degrees=True).as_matrix().squeeze()\n",
    "    frames[lm, :] = (LMC_orient @ (frames[lm, :] + LMC[0]).T).T \n",
    "\n",
    "# for lm, LMC in enumerate(LMCs):\n",
    "#     LMC_orient = R.from_euler('xyz', [90,0,-10], degrees=True).as_matrix().squeeze()\n",
    "#     frames[lm, :] = (LMC_orient @ (frames[lm, :] + LMC[0]).T).T + np.array([0, 200, 300])\n",
    "\n",
    "# get data for ray tracing\n",
    "handMarkers, palmMarkers, palmPlnNormals, palmCentroids, fingers, forearm_vecs = make_hand_poses(frames)   \n",
    "occlusions = np.zeros([num_LMC, 5])\n",
    "fig = go.Figure()\n",
    "for lm, LMC in enumerate(LMCs):\n",
    "    occlusions_, _ = check_LMC_Hand_visibility(LMC, pos_markers=handMarkers[lm], fingers_idx=fingers_idx_LMC, finger_lines=fingers[lm], \n",
    "                                                finger_radius=finger_radius, palm_plane_normal=palmPlnNormals[lm], \n",
    "                                                palm_centroid=palmCentroids[lm], palm_markers=palmMarkers[lm], forearm_vec=forearm_vecs[lm],\n",
    "                                                fig = fig, verbose=1)\n",
    "    print(occlusions_)\n",
    "    occlusions[lm] = occlusions_[2:]\n",
    "\n",
    "print(occlusions) # 0: thumb, 4:pinky\n",
    "\n",
    "\n",
    "for lm, LMC in enumerate(LMCs):\n",
    "    fig = plot_hand(fig, frames[lm], color=deviceColor[lm], names=np.arange(0, frames[lm].shape[0]))\n",
    "    fig = plotLMC(fig, LMC, color=deviceColor[lm], name=deviceLabel[lm], scale=1)\n",
    "fig.show()"
   ]
  },
  {
   "cell_type": "markdown",
   "metadata": {},
   "source": [
    "# Optimize LMC position for Recorded leap data"
   ]
  },
  {
   "cell_type": "code",
   "execution_count": 9,
   "metadata": {},
   "outputs": [
    {
     "name": "stderr",
     "output_type": "stream",
     "text": [
      "2024-02-17 18:07:54,655 - pyswarms.single.global_best - INFO - Optimize for 10 iters with {'c1': 0.5, 'c2': 0.3, 'w': 0.9}\n"
     ]
    },
    {
     "name": "stdout",
     "output_type": "stream",
     "text": [
      "(10, 22, 3)\n"
     ]
    },
    {
     "name": "stderr",
     "output_type": "stream",
     "text": [
      "pyswarms.single.global_best: 100%|██████████|10/10, best_cost=0.01\n",
      "2024-02-17 18:07:59,581 - pyswarms.single.global_best - INFO - Optimization finished | best cost: 0.01, best pos: [-0.13177212  0.24896604  0.15222644  0.09802165 -0.39010865 -0.87828522\n",
      "  0.02363922  0.75355246 -0.116339    0.15260327 -0.34214839 -0.40974643\n",
      " -0.38129968  0.41306325 -0.1331793   0.04796649]\n"
     ]
    },
    {
     "name": "stdout",
     "output_type": "stream",
     "text": [
      "_________________________________\n",
      "POS:  0\n",
      "[1. 1. 1. 1. 1.] 5.0\n",
      "[0. 0. 0. 0. 0.] 0.0\n",
      "[1. 1. 1. 1. 1.] 5.0\n",
      "[0. 0. 0. 0. 0.] 0.0\n",
      "Best LMC:  [0 2]\n",
      "_________________________________\n",
      "POS:  1\n",
      "[1. 1. 1. 1. 1.] 5.0\n",
      "[0. 0. 0. 0. 0.] 0.0\n",
      "[1. 1. 1. 1. 1.] 5.0\n",
      "[0. 0. 0. 0. 0.] 0.0\n",
      "Best LMC:  [0 2]\n",
      "_________________________________\n",
      "POS:  2\n",
      "[1. 1. 1. 1. 1.] 5.0\n",
      "[0. 0. 0. 0. 0.] 0.0\n",
      "[1. 1. 1. 1. 1.] 5.0\n",
      "[0. 0. 0. 0. 0.] 0.0\n",
      "Best LMC:  [0 2]\n",
      "_________________________________\n",
      "POS:  3\n",
      "[1. 1. 1. 1. 1.] 5.0\n",
      "[0. 0. 0. 0. 0.] 0.0\n",
      "[1. 1. 1. 1. 1.] 5.0\n",
      "[0. 0. 0. 0. 0.] 0.0\n",
      "Best LMC:  [0 2]\n",
      "_________________________________\n",
      "POS:  4\n",
      "[1. 1. 1. 1. 1.] 5.0\n",
      "[0. 0. 0. 0. 0.] 0.0\n",
      "[1. 1. 1. 1. 1.] 5.0\n",
      "[0. 0. 0. 0. 0.] 0.0\n",
      "Best LMC:  [0 2]\n",
      "_________________________________\n",
      "POS:  5\n",
      "[1. 1. 1. 1. 1.] 5.0\n",
      "[0. 0. 0. 0. 0.] 0.0\n",
      "[1. 1. 1. 1. 1.] 5.0\n",
      "[0. 0. 0. 0. 0.] 0.0\n",
      "Best LMC:  [0 2]\n",
      "_________________________________\n",
      "POS:  6\n",
      "[1. 1. 1. 1. 1.] 5.0\n",
      "[0. 0. 0. 0. 0.] 0.0\n",
      "[1. 1. 1. 1. 1.] 5.0\n",
      "[0. 0. 0. 0. 0.] 0.0\n",
      "Best LMC:  [0 2]\n",
      "_________________________________\n",
      "POS:  7\n",
      "[1. 1. 1. 1. 1.] 5.0\n",
      "[0. 0. 0. 0. 0.] 0.0\n",
      "[1. 1. 1. 1. 1.] 5.0\n",
      "[0. 0. 0. 0. 0.] 0.0\n",
      "Best LMC:  [0 2]\n",
      "_________________________________\n",
      "POS:  8\n",
      "[1. 1. 1. 1. 1.] 5.0\n",
      "[0. 0. 0. 0. 0.] 0.0\n",
      "[1. 1. 1. 1. 1.] 5.0\n",
      "[0. 0. 0. 0. 0.] 0.0\n",
      "Best LMC:  [0 2]\n",
      "_________________________________\n",
      "POS:  9\n",
      "[1. 1. 1. 1. 1.] 5.0\n",
      "[0. 0. 0. 0. 0.] 0.0\n",
      "[1. 1. 1. 1. 1.] 5.0\n",
      "[0. 0. 0. 0. 0.] 0.0\n",
      "Best LMC:  [0 2]\n",
      "[10.  0. 10.  0.]\n",
      "[[2 2 2 2 2]\n",
      " [2 2 2 2 2]\n",
      " [2 2 2 2 2]\n",
      " [2 2 2 2 2]\n",
      " [2 2 2 2 2]\n",
      " [2 2 2 2 2]\n",
      " [2 2 2 2 2]\n",
      " [2 2 2 2 2]\n",
      " [2 2 2 2 2]\n",
      " [2 2 2 2 2]]\n"
     ]
    },
    {
     "data": {
      "application/vnd.plotly.v1+json": {
       "config": {
        "plotlyServerURL": "https://plot.ly"
       },
       "data": [
        {
         "marker": {
          "color": "orange",
          "size": 5
         },
         "mode": "markers+text",
         "type": "scatter3d",
         "x": [
          -131.77212177471475
         ],
         "y": [
          248.96604408325194
         ],
         "z": [
          0
         ]
        },
        {
         "line": {
          "color": "orange",
          "width": 2
         },
         "mode": "lines",
         "type": "scatter3d",
         "x": [
          -131.77212177471475,
          42.778460570806715,
          null
         ],
         "y": [
          248.96604408325194,
          -299.82791582333266,
          null
         ],
         "z": [
          0,
          168.3962106844728,
          null
         ]
        },
        {
         "colorscale": [
          [
           0,
           "orange"
          ],
          [
           1,
           "orange"
          ]
         ],
         "showlegend": false,
         "showscale": false,
         "type": "cone",
         "u": [
          52.365174703656436
         ],
         "v": [
          -164.63818797197538
         ],
         "w": [
          50.51886320534184
         ],
         "x": [
          39.28744892389628
         ],
         "y": [
          -288.852036625201
         ],
         "z": [
          165.02828647078334
         ]
        },
        {
         "marker": {
          "color": "orange",
          "size": 5
         },
         "mode": "markers+text",
         "type": "scatter3d",
         "x": [
          -131.77212177471475
         ],
         "y": [
          248.96604408325194
         ],
         "z": [
          0
         ]
        },
        {
         "line": {
          "color": "orange",
          "width": 2
         },
         "mode": "lines",
         "type": "scatter3d",
         "x": [
          -131.77212177471475,
          431.6683462342204,
          null
         ],
         "y": [
          248.96604408325194,
          389.57961088206457,
          null
         ],
         "z": [
          0,
          150.87300567692049,
          null
         ]
        },
        {
         "colorscale": [
          [
           0,
           "orange"
          ],
          [
           1,
           "orange"
          ]
         ],
         "showlegend": false,
         "showscale": false,
         "type": "cone",
         "u": [
          169.03214040268054
         ],
         "v": [
          42.184070039643785
         ],
         "w": [
          45.26190170307614
         ],
         "x": [
          420.3995368740417
         ],
         "y": [
          386.76733954608835
         ],
         "z": [
          147.85554556338207
         ]
        },
        {
         "marker": {
          "color": "orange",
          "size": 5
         },
         "mode": "markers+text",
         "type": "scatter3d",
         "x": [
          -131.77212177471475
         ],
         "y": [
          248.96604408325194
         ],
         "z": [
          0
         ]
        },
        {
         "line": {
          "color": "orange",
          "width": 2
         },
         "mode": "lines",
         "type": "scatter3d",
         "x": [
          -131.77212177471475,
          -263.2501352183706,
          null
         ],
         "y": [
          248.96604408325194,
          662.3381375407582,
          null
         ],
         "z": [
          0,
          414.532320008306,
          null
         ]
        },
        {
         "colorscale": [
          [
           0,
           "orange"
          ],
          [
           1,
           "orange"
          ]
         ],
         "showlegend": false,
         "showscale": false,
         "type": "cone",
         "u": [
          -39.44340403309675
         ],
         "v": [
          124.01162803725187
         ],
         "w": [
          124.35969600249179
         ],
         "x": [
          -260.6205749494975
         ],
         "y": [
          654.0706956716081
         ],
         "z": [
          406.2416736081399
         ]
        },
        {
         "marker": {
          "color": "orange",
          "size": 5
         },
         "mode": "markers+text",
         "type": "scatter3d",
         "x": [
          -131.77212177471475
         ],
         "y": [
          248.96604408325194
         ],
         "z": [
          0
         ]
        },
        {
         "line": {
          "color": "orange",
          "width": 2
         },
         "mode": "lines",
         "type": "scatter3d",
         "x": [
          -131.77212177471475,
          -672.916587477063,
          null
         ],
         "y": [
          248.96604408325194,
          38.2529609637362,
          null
         ],
         "z": [
          0,
          150.87300567692049,
          null
         ]
        },
        {
         "colorscale": [
          [
           0,
           "orange"
          ],
          [
           1,
           "orange"
          ]
         ],
         "showlegend": false,
         "showscale": false,
         "type": "cone",
         "u": [
          -162.34333971070447
         ],
         "v": [
          -63.21392493585472
         ],
         "w": [
          45.26190170307614
         ],
         "x": [
          -662.093698163016
         ],
         "y": [
          42.46722262612653
         ],
         "z": [
          147.85554556338207
         ]
        },
        {
         "marker": {
          "color": "orange",
          "size": 5
         },
         "mode": "markers+text",
         "text": "0d",
         "type": "scatter3d",
         "x": [
          -44.49683060195402
         ],
         "y": [
          -25.430935870040372
         ],
         "z": [
          84.1981053422364
         ]
        },
        {
         "marker": {
          "color": "orange",
          "size": 5
         },
         "mode": "markers+text",
         "text": "1d",
         "type": "scatter3d",
         "x": [
          431.6683462342204
         ],
         "y": [
          389.57961088206457
         ],
         "z": [
          150.87300567692049
         ]
        },
        {
         "marker": {
          "color": "orange",
          "size": 5
         },
         "mode": "markers+text",
         "text": "2d",
         "type": "scatter3d",
         "x": [
          -197.51112849654265
         ],
         "y": [
          455.6520908120051
         ],
         "z": [
          207.266160004153
         ]
        },
        {
         "marker": {
          "color": "orange",
          "size": 5
         },
         "mode": "markers+text",
         "text": "3d",
         "type": "scatter3d",
         "x": [
          -672.916587477063
         ],
         "y": [
          38.2529609637362
         ],
         "z": [
          150.87300567692049
         ]
        },
        {
         "marker": {
          "color": "gray",
          "size": 5
         },
         "mode": "markers+text",
         "type": "scatter3d",
         "x": [
          -131.77212177471475
         ],
         "y": [
          248.96604408325194
         ],
         "z": [
          0
         ]
        },
        {
         "line": {
          "color": "gray",
          "width": 2
         },
         "mode": "lines",
         "type": "scatter3d",
         "x": [
          -131.77212177471475,
          -308.45781393331947,
          null
         ],
         "y": [
          248.96604408325194,
          804.4728739981297,
          null
         ],
         "z": [
          0,
          142.1067489754022,
          null
         ]
        },
        {
         "colorscale": [
          [
           0,
           "gray"
          ],
          [
           1,
           "gray"
          ]
         ],
         "showlegend": false,
         "showscale": false,
         "type": "cone",
         "u": [
          -53.00570764758142
         ],
         "v": [
          166.6520489744633
         ],
         "w": [
          42.63202469262066
         ],
         "x": [
          -304.92410009014736
         ],
         "y": [
          793.3627373998321
         ],
         "z": [
          139.26461399589417
         ]
        },
        {
         "marker": {
          "color": "orange",
          "size": 5
         },
         "mode": "markers+text",
         "text": "LMC_0",
         "type": "scatter3d",
         "x": [
          -131.77212177471475
         ],
         "y": [
          248.96604408325194
         ],
         "z": [
          0
         ]
        },
        {
         "marker": {
          "color": "orange",
          "size": 5
         },
         "mode": "markers+text",
         "type": "scatter3d",
         "x": [
          -390.1086464399117
         ],
         "y": [
          -878.2852151735374
         ],
         "z": [
          0
         ]
        },
        {
         "line": {
          "color": "orange",
          "width": 2
         },
         "mode": "lines",
         "type": "scatter3d",
         "x": [
          -390.1086464399117,
          -19.272222489980663,
          null
         ],
         "y": [
          -878.2852151735374,
          -499.0776572969766,
          null
         ],
         "z": [
          0,
          280.50307435270975,
          null
         ]
        },
        {
         "colorscale": [
          [
           0,
           "orange"
          ],
          [
           1,
           "orange"
          ]
         ],
         "showlegend": false,
         "showscale": false,
         "type": "cone",
         "u": [
          111.2509271849793
         ],
         "v": [
          113.76226736296823
         ],
         "w": [
          84.15092230581293
         ],
         "x": [
          -26.68895096897927
         ],
         "y": [
          -506.6618084545078
         ],
         "z": [
          274.8930128656555
         ]
        },
        {
         "marker": {
          "color": "orange",
          "size": 5
         },
         "mode": "markers+text",
         "type": "scatter3d",
         "x": [
          -390.1086464399117
         ],
         "y": [
          -878.2852151735374
         ],
         "z": [
          0
         ]
        },
        {
         "line": {
          "color": "orange",
          "width": 2
         },
         "mode": "lines",
         "type": "scatter3d",
         "x": [
          -390.1086464399117,
          -800.433530315599,
          null
         ],
         "y": [
          -878.2852151735374,
          -468.95491115314604,
          null
         ],
         "z": [
          0,
          155.18438028029053,
          null
         ]
        },
        {
         "colorscale": [
          [
           0,
           "orange"
          ],
          [
           1,
           "orange"
          ]
         ],
         "showlegend": false,
         "showscale": false,
         "type": "cone",
         "u": [
          -123.09746516270619
         ],
         "v": [
          122.7990912061174
         ],
         "w": [
          46.55531408408716
         ],
         "x": [
          -792.2270326380852
         ],
         "y": [
          -477.1415172335539
         ],
         "z": [
          152.0806926746847
         ]
        },
        {
         "marker": {
          "color": "orange",
          "size": 5
         },
         "mode": "markers+text",
         "type": "scatter3d",
         "x": [
          -390.1086464399117
         ],
         "y": [
          -878.2852151735374
         ],
         "z": [
          0
         ]
        },
        {
         "line": {
          "color": "orange",
          "width": 2
         },
         "mode": "lines",
         "type": "scatter3d",
         "x": [
          -390.1086464399117,
          -745.3715045652594,
          null
         ],
         "y": [
          -878.2852151735374,
          -1241.567654905373,
          null
         ],
         "z": [
          0,
          319.0833286448766,
          null
         ]
        },
        {
         "colorscale": [
          [
           0,
           "orange"
          ],
          [
           1,
           "orange"
          ]
         ],
         "showlegend": false,
         "showscale": false,
         "type": "cone",
         "u": [
          -106.57885743760433
         ],
         "v": [
          -108.9847319195507
         ],
         "w": [
          95.72499859346297
         ],
         "x": [
          -738.2662474027525
         ],
         "y": [
          -1234.3020061107363
         ],
         "z": [
          312.70166207197906
         ]
        },
        {
         "marker": {
          "color": "orange",
          "size": 5
         },
         "mode": "markers+text",
         "type": "scatter3d",
         "x": [
          -390.1086464399117
         ],
         "y": [
          -878.2852151735374
         ],
         "z": [
          0
         ]
        },
        {
         "line": {
          "color": "orange",
          "width": 2
         },
         "mode": "lines",
         "type": "scatter3d",
         "x": [
          -390.1086464399117,
          28.277708306895306,
          null
         ],
         "y": [
          -878.2852151735374,
          -1279.3720714512035,
          null
         ],
         "z": [
          0,
          155.18438028029053,
          null
         ]
        },
        {
         "colorscale": [
          [
           0,
           "orange"
          ],
          [
           1,
           "orange"
          ]
         ],
         "showlegend": false,
         "showscale": false,
         "type": "cone",
         "u": [
          125.5159064240421
         ],
         "v": [
          -120.32605688329983
         ],
         "w": [
          46.55531408408716
         ],
         "x": [
          19.909981211959177
         ],
         "y": [
          -1271.3503343256502
         ],
         "z": [
          152.0806926746847
         ]
        },
        {
         "marker": {
          "color": "orange",
          "size": 5
         },
         "mode": "markers+text",
         "text": "0d",
         "type": "scatter3d",
         "x": [
          -204.69043446494618
         ],
         "y": [
          -688.681436235257
         ],
         "z": [
          140.25153717635487
         ]
        },
        {
         "marker": {
          "color": "orange",
          "size": 5
         },
         "mode": "markers+text",
         "text": "1d",
         "type": "scatter3d",
         "x": [
          -800.433530315599
         ],
         "y": [
          -468.95491115314604
         ],
         "z": [
          155.18438028029053
         ]
        },
        {
         "marker": {
          "color": "orange",
          "size": 5
         },
         "mode": "markers+text",
         "text": "2d",
         "type": "scatter3d",
         "x": [
          -567.7400755025856
         ],
         "y": [
          -1059.926435039455
         ],
         "z": [
          159.5416643224383
         ]
        },
        {
         "marker": {
          "color": "orange",
          "size": 5
         },
         "mode": "markers+text",
         "text": "3d",
         "type": "scatter3d",
         "x": [
          28.277708306895306
         ],
         "y": [
          -1279.3720714512035
         ],
         "z": [
          155.18438028029053
         ]
        },
        {
         "marker": {
          "color": "gray",
          "size": 5
         },
         "mode": "markers+text",
         "type": "scatter3d",
         "x": [
          -390.1086464399117
         ],
         "y": [
          -878.2852151735374
         ],
         "z": [
          0
         ]
        },
        {
         "line": {
          "color": "gray",
          "width": 2
         },
         "mode": "lines",
         "type": "scatter3d",
         "x": [
          -390.1086464399117,
          -809.3222624044679,
          null
         ],
         "y": [
          -878.2852151735374,
          -1306.9620151633496,
          null
         ],
         "z": [
          0,
          22.274320200986736,
          null
         ]
        },
        {
         "colorscale": [
          [
           0,
           "gray"
          ],
          [
           1,
           "gray"
          ]
         ],
         "showlegend": false,
         "showscale": false,
         "type": "cone",
         "u": [
          -125.76408478936685
         ],
         "v": [
          -128.60303999694366
         ],
         "w": [
          6.682296060296021
         ],
         "x": [
          -800.9379900851768
         ],
         "y": [
          -1298.3884791635533
         ],
         "z": [
          21.828833796967
         ]
        },
        {
         "marker": {
          "color": "orange",
          "size": 5
         },
         "mode": "markers+text",
         "text": "LMC_1",
         "type": "scatter3d",
         "x": [
          -390.1086464399117
         ],
         "y": [
          -878.2852151735374
         ],
         "z": [
          0
         ]
        },
        {
         "marker": {
          "color": "orange",
          "size": 5
         },
         "mode": "markers+text",
         "type": "scatter3d",
         "x": [
          -116.33900196065888
         ],
         "y": [
          152.60326536170987
         ],
         "z": [
          0
         ]
        },
        {
         "line": {
          "color": "orange",
          "width": 2
         },
         "mode": "lines",
         "type": "scatter3d",
         "x": [
          -116.33900196065888,
          -397.4253022975983,
          null
         ],
         "y": [
          152.60326536170987,
          70.69727268530687,
          null
         ],
         "z": [
          0,
          523.7192951635303,
          null
         ]
        },
        {
         "colorscale": [
          [
           0,
           "orange"
          ],
          [
           1,
           "orange"
          ]
         ],
         "showlegend": false,
         "showscale": false,
         "type": "cone",
         "u": [
          -84.32589010108182
         ],
         "v": [
          -24.5717978029209
         ],
         "w": [
          157.1157885490591
         ],
         "x": [
          -391.8035762908595
         ],
         "y": [
          72.33539253883494
         ],
         "z": [
          513.2449092602596
         ]
        },
        {
         "marker": {
          "color": "orange",
          "size": 5
         },
         "mode": "markers+text",
         "type": "scatter3d",
         "x": [
          -116.33900196065888
         ],
         "y": [
          152.60326536170987
         ],
         "z": [
          0
         ]
        },
        {
         "line": {
          "color": "orange",
          "width": 2
         },
         "mode": "lines",
         "type": "scatter3d",
         "x": [
          -116.33900196065888,
          122.1211617058757,
          null
         ],
         "y": [
          152.60326536170987,
          -381.5705229599664,
          null
         ],
         "z": [
          0,
          133.39832912821112,
          null
         ]
        },
        {
         "colorscale": [
          [
           0,
           "orange"
          ],
          [
           1,
           "orange"
          ]
         ],
         "showlegend": false,
         "showscale": false,
         "type": "cone",
         "u": [
          71.53804909996038
         ],
         "v": [
          -160.25213649650289
         ],
         "w": [
          40.019498738463334
         ],
         "x": [
          117.351958432545
         ],
         "y": [
          -370.8870471935329
         ],
         "z": [
          130.7303625456469
         ]
        },
        {
         "marker": {
          "color": "orange",
          "size": 5
         },
         "mode": "markers+text",
         "type": "scatter3d",
         "x": [
          -116.33900196065888
         ],
         "y": [
          152.60326536170987
         ],
         "z": [
          0
         ]
        },
        {
         "line": {
          "color": "orange",
          "width": 2
         },
         "mode": "lines",
         "type": "scatter3d",
         "x": [
          -116.33900196065888,
          459.64845632491557,
          null
         ],
         "y": [
          152.60326536170987,
          320.44077463728513,
          null
         ],
         "z": [
          0,
          -8.30773000853652,
          null
         ]
        },
        {
         "colorscale": [
          [
           0,
           "orange"
          ],
          [
           1,
           "orange"
          ]
         ],
         "showlegend": false,
         "showscale": false,
         "type": "cone",
         "u": [
          172.79623748567232
         ],
         "v": [
          50.351252782672574
         ],
         "w": [
          -2.492319002560956
         ],
         "x": [
          448.1287071592041
         ],
         "y": [
          317.08402445177364
         ],
         "z": [
          -8.14157540836579
         ]
        },
        {
         "marker": {
          "color": "orange",
          "size": 5
         },
         "mode": "markers+text",
         "type": "scatter3d",
         "x": [
          -116.33900196065888
         ],
         "y": [
          152.60326536170987
         ],
         "z": [
          0
         ]
        },
        {
         "line": {
          "color": "orange",
          "width": 2
         },
         "mode": "lines",
         "type": "scatter3d",
         "x": [
          -116.33900196065888,
          -202.1470934274067,
          null
         ],
         "y": [
          152.60326536170987,
          731.2584798242045,
          null
         ],
         "z": [
          0,
          133.39832912821115,
          null
         ]
        },
        {
         "colorscale": [
          [
           0,
           "orange"
          ],
          [
           1,
           "orange"
          ]
         ],
         "showlegend": false,
         "showscale": false,
         "type": "cone",
         "u": [
          -25.742427440024347
         ],
         "v": [
          173.59656433874838
         ],
         "w": [
          40.01949873846334
         ],
         "x": [
          -200.43093159807174
         ],
         "y": [
          719.6853755349546
         ],
         "z": [
          130.73036254564693
         ]
        },
        {
         "marker": {
          "color": "orange",
          "size": 5
         },
         "mode": "markers+text",
         "text": "0d",
         "type": "scatter3d",
         "x": [
          -256.8821521291286
         ],
         "y": [
          111.65026902350837
         ],
         "z": [
          261.85964758176516
         ]
        },
        {
         "marker": {
          "color": "orange",
          "size": 5
         },
         "mode": "markers+text",
         "text": "1d",
         "type": "scatter3d",
         "x": [
          122.1211617058757
         ],
         "y": [
          -381.5705229599664
         ],
         "z": [
          133.39832912821112
         ]
        },
        {
         "marker": {
          "color": "orange",
          "size": 5
         },
         "mode": "markers+text",
         "text": "2d",
         "type": "scatter3d",
         "x": [
          171.65472718212834
         ],
         "y": [
          236.5220199994975
         ],
         "z": [
          -4.15386500426826
         ]
        },
        {
         "marker": {
          "color": "orange",
          "size": 5
         },
         "mode": "markers+text",
         "text": "3d",
         "type": "scatter3d",
         "x": [
          -202.1470934274067
         ],
         "y": [
          731.2584798242045
         ],
         "z": [
          133.39832912821115
         ]
        },
        {
         "marker": {
          "color": "gray",
          "size": 5
         },
         "mode": "markers+text",
         "type": "scatter3d",
         "x": [
          -116.33900196065888
         ],
         "y": [
          152.60326536170987
         ],
         "z": [
          0
         ]
        },
        {
         "line": {
          "color": "gray",
          "width": 2
         },
         "mode": "lines",
         "type": "scatter3d",
         "x": [
          -116.33900196065888,
          378.4927632954139,
          null
         ],
         "y": [
          152.60326536170987,
          296.79274344204435,
          null
         ],
         "z": [
          0,
          -307.16594619924854,
          null
         ]
        },
        {
         "colorscale": [
          [
           0,
           "gray"
          ],
          [
           1,
           "gray"
          ]
         ],
         "showlegend": false,
         "showscale": false,
         "type": "cone",
         "u": [
          148.44952957682185
         ],
         "v": [
          43.256843424100346
         ],
         "w": [
          -92.14978385977456
         ],
         "x": [
          368.5961279902924
         ],
         "y": [
          293.90895388043765
         ],
         "z": [
          -301.0226272752636
         ]
        },
        {
         "marker": {
          "color": "orange",
          "size": 5
         },
         "mode": "markers+text",
         "text": "LMC_2",
         "type": "scatter3d",
         "x": [
          -116.33900196065888
         ],
         "y": [
          152.60326536170987
         ],
         "z": [
          0
         ]
        },
        {
         "marker": {
          "color": "orange",
          "size": 5
         },
         "mode": "markers+text",
         "type": "scatter3d",
         "x": [
          -381.299683846041
         ],
         "y": [
          413.06325016106285
         ],
         "z": [
          0
         ]
        },
        {
         "line": {
          "color": "orange",
          "width": 2
         },
         "mode": "lines",
         "type": "scatter3d",
         "x": [
          -381.299683846041,
          -314.34789040520013,
          null
         ],
         "y": [
          413.06325016106285,
          -27.86668251629709,
          null
         ],
         "z": [
          0,
          401.3704670553052,
          null
         ]
        },
        {
         "colorscale": [
          [
           0,
           "orange"
          ],
          [
           1,
           "orange"
          ]
         ],
         "showlegend": false,
         "showscale": false,
         "type": "cone",
         "u": [
          20.085538032252252
         ],
         "v": [
          -132.278979803208
         ],
         "w": [
          120.41114011659155
         ],
         "x": [
          -315.68692627401697
         ],
         "y": [
          -19.048083862749877
         ],
         "z": [
          393.34305771419906
         ]
        },
        {
         "marker": {
          "color": "orange",
          "size": 5
         },
         "mode": "markers+text",
         "type": "scatter3d",
         "x": [
          -381.299683846041
         ],
         "y": [
          413.06325016106285
         ],
         "z": [
          0
         ]
        },
        {
         "line": {
          "color": "orange",
          "width": 2
         },
         "mode": "lines",
         "type": "scatter3d",
         "x": [
          -381.299683846041,
          186.8465897671354,
          null
         ],
         "y": [
          413.06325016106285,
          531.951671003481,
          null
         ],
         "z": [
          0,
          151.9057443583281,
          null
         ]
        },
        {
         "colorscale": [
          [
           0,
           "orange"
          ],
          [
           1,
           "orange"
          ]
         ],
         "showlegend": false,
         "showscale": false,
         "type": "cone",
         "u": [
          170.4438820839529
         ],
         "v": [
          35.66652625272545
         ],
         "w": [
          45.571723307498424
         ],
         "x": [
          175.48366429487186
         ],
         "y": [
          529.5739025866326
         ],
         "z": [
          148.86762947116154
         ]
        },
        {
         "marker": {
          "color": "orange",
          "size": 5
         },
         "mode": "markers+text",
         "type": "scatter3d",
         "x": [
          -381.299683846041
         ],
         "y": [
          413.06325016106285
         ],
         "z": [
          0
         ]
        },
        {
         "line": {
          "color": "orange",
          "width": 2
         },
         "mode": "lines",
         "type": "scatter3d",
         "x": [
          -381.299683846041,
          -466.9573690876232,
          null
         ],
         "y": [
          413.06325016106285,
          977.1861129823903,
          null
         ],
         "z": [
          0,
          185.54825949419103,
          null
         ]
        },
        {
         "colorscale": [
          [
           0,
           "orange"
          ],
          [
           1,
           "orange"
          ]
         ],
         "showlegend": false,
         "showscale": false,
         "type": "cone",
         "u": [
          -25.697305572474665
         ],
         "v": [
          169.23685884639826
         ],
         "w": [
          55.664477848257306
         ],
         "x": [
          -465.24421538279154
         ],
         "y": [
          965.9036557259637
         ],
         "z": [
          181.8372943043072
         ]
        },
        {
         "marker": {
          "color": "orange",
          "size": 5
         },
         "mode": "markers+text",
         "type": "scatter3d",
         "x": [
          -381.299683846041
         ],
         "y": [
          413.06325016106285
         ],
         "z": [
          0
         ]
        },
        {
         "line": {
          "color": "orange",
          "width": 2
         },
         "mode": "lines",
         "type": "scatter3d",
         "x": [
          -381.299683846041,
          -959.1288395665354,
          null
         ],
         "y": [
          413.06325016106285,
          357.94418240513124,
          null
         ],
         "z": [
          0,
          151.90574435832812,
          null
         ]
        },
        {
         "colorscale": [
          [
           0,
           "orange"
          ],
          [
           1,
           "orange"
          ]
         ],
         "showlegend": false,
         "showscale": false,
         "type": "cone",
         "u": [
          -173.3487467161483
         ],
         "v": [
          -16.535720326779483
         ],
         "w": [
          45.57172330749844
         ],
         "x": [
          -947.5722564521254
         ],
         "y": [
          359.04656376024985
         ],
         "z": [
          148.86762947116156
         ]
        },
        {
         "marker": {
          "color": "orange",
          "size": 5
         },
         "mode": "markers+text",
         "text": "0d",
         "type": "scatter3d",
         "x": [
          -347.8237871256206
         ],
         "y": [
          192.59828382238288
         ],
         "z": [
          200.6852335276526
         ]
        },
        {
         "marker": {
          "color": "orange",
          "size": 5
         },
         "mode": "markers+text",
         "text": "1d",
         "type": "scatter3d",
         "x": [
          186.8465897671354
         ],
         "y": [
          531.951671003481
         ],
         "z": [
          151.9057443583281
         ]
        },
        {
         "marker": {
          "color": "orange",
          "size": 5
         },
         "mode": "markers+text",
         "text": "2d",
         "type": "scatter3d",
         "x": [
          -424.12852646683206
         ],
         "y": [
          695.1246815717266
         ],
         "z": [
          92.77412974709551
         ]
        },
        {
         "marker": {
          "color": "orange",
          "size": 5
         },
         "mode": "markers+text",
         "text": "3d",
         "type": "scatter3d",
         "x": [
          -959.1288395665354
         ],
         "y": [
          357.94418240513124
         ],
         "z": [
          151.90574435832812
         ]
        },
        {
         "marker": {
          "color": "gray",
          "size": 5
         },
         "mode": "markers+text",
         "type": "scatter3d",
         "x": [
          -381.299683846041
         ],
         "y": [
          413.06325016106285
         ],
         "z": [
          0
         ]
        },
        {
         "line": {
          "color": "gray",
          "width": 2
         },
         "mode": "lines",
         "type": "scatter3d",
         "x": [
          -381.299683846041,
          -469.4088074442264,
          null
         ],
         "y": [
          413.06325016106285,
          993.330752192016,
          null
         ],
         "z": [
          0,
          -124.60500963250855,
          null
         ]
        },
        {
         "colorscale": [
          [
           0,
           "gray"
          ],
          [
           1,
           "gray"
          ]
         ],
         "showlegend": false,
         "showscale": false,
         "type": "cone",
         "u": [
          -26.432737079455624
         ],
         "v": [
          174.08025060928597
         ],
         "w": [
          -37.38150288975257
         ],
         "x": [
          -467.64662497226266
         ],
         "y": [
          981.725402151397
         ],
         "z": [
          -122.11290943985838
         ]
        },
        {
         "marker": {
          "color": "orange",
          "size": 5
         },
         "mode": "markers+text",
         "text": "LMC_3",
         "type": "scatter3d",
         "x": [
          -381.299683846041
         ],
         "y": [
          413.06325016106285
         ],
         "z": [
          0
         ]
        },
        {
         "marker": {
          "color": "blue",
          "size": 5
         },
         "mode": "markers+text",
         "text": [
          0,
          1,
          2,
          3,
          4,
          5,
          6,
          7,
          8,
          9,
          10,
          11,
          12,
          13,
          14,
          15,
          16,
          17,
          18,
          19,
          20,
          21,
          22,
          23,
          24,
          25
         ],
         "type": "scatter3d",
         "x": [
          146.02127100000004,
          64.91345200000002,
          30.547209000000006,
          13.930209000000003,
          3.429539000000001,
          55.317833000000014,
          50.20135100000002,
          44.51924100000001,
          38.73429900000001,
          73.92041000000002,
          72.51829500000001,
          68.98394800000001,
          65.12235300000002,
          95.30350500000002,
          102.85229500000003,
          105.73185700000003,
          106.33307600000003,
          101.41456600000002,
          111.16279600000003,
          122.03212700000003,
          129.10488900000001,
          131.96713300000002
         ],
         "y": [
          -236.74716200000006,
          21.858574000000004,
          58.982281000000015,
          81.43793500000001,
          97.05516800000002,
          93.53913900000002,
          122.36477700000003,
          140.48823500000003,
          152.08926400000001,
          95.27985400000001,
          129.15840100000003,
          151.48281900000003,
          164.05455000000003,
          90.56539200000002,
          122.85159300000002,
          140.30993700000002,
          152.55299400000004,
          29.966721000000007,
          80.52671100000002,
          99.89927700000003,
          113.83253500000002,
          123.89694200000002
         ],
         "z": [
          256.54437300000006,
          215.64189100000004,
          212.83662400000006,
          208.94841000000005,
          205.03225700000004,
          210.07475300000004,
          208.51519800000005,
          202.57232700000006,
          193.52703900000006,
          209.40609700000005,
          206.23629800000006,
          198.49276700000004,
          189.16439800000003,
          205.84558100000007,
          202.69534300000007,
          197.41217000000006,
          189.88087500000003,
          215.37356600000007,
          200.77082800000005,
          197.77571100000006,
          192.24427800000007,
          185.49743700000002
         ]
        },
        {
         "marker": {
          "color": "blue",
          "size": 5
         },
         "mode": "markers+text",
         "text": [
          0,
          1,
          2,
          3,
          4,
          5,
          6,
          7,
          8,
          9,
          10,
          11,
          12,
          13,
          14,
          15,
          16,
          17,
          18,
          19,
          20,
          21,
          22,
          23,
          24,
          25
         ],
         "type": "scatter3d",
         "x": [
          146.02127100000004,
          64.91345200000002,
          30.547209000000006,
          13.930209000000003,
          3.429539000000001,
          55.317833000000014,
          50.20135100000002,
          44.51924100000001,
          38.73429900000001,
          73.92041000000002,
          72.51829500000001,
          68.98394800000001,
          65.12235300000002,
          95.30350500000002,
          102.85229500000003,
          105.73185700000003,
          106.33307600000003,
          101.41456600000002,
          111.16279600000003,
          122.03212700000003,
          129.10488900000001,
          131.96713300000002
         ],
         "y": [
          -236.74716200000006,
          21.858574000000004,
          58.982281000000015,
          81.43793500000001,
          97.05516800000002,
          93.53913900000002,
          122.36477700000003,
          140.48823500000003,
          152.08926400000001,
          95.27985400000001,
          129.15840100000003,
          151.48281900000003,
          164.05455000000003,
          90.56539200000002,
          122.85159300000002,
          140.30993700000002,
          152.55299400000004,
          29.966721000000007,
          80.52671100000002,
          99.89927700000003,
          113.83253500000002,
          123.89694200000002
         ],
         "z": [
          256.54437300000006,
          215.64189100000004,
          212.83662400000006,
          208.94841000000005,
          205.03225700000004,
          210.07475300000004,
          208.51519800000005,
          202.57232700000006,
          193.52703900000006,
          209.40609700000005,
          206.23629800000006,
          198.49276700000004,
          189.16439800000003,
          205.84558100000007,
          202.69534300000007,
          197.41217000000006,
          189.88087500000003,
          215.37356600000007,
          200.77082800000005,
          197.77571100000006,
          192.24427800000007,
          185.49743700000002
         ]
        },
        {
         "marker": {
          "color": "blue",
          "size": 5
         },
         "mode": "markers+text",
         "text": [
          0,
          1,
          2,
          3,
          4,
          5,
          6,
          7,
          8,
          9,
          10,
          11,
          12,
          13,
          14,
          15,
          16,
          17,
          18,
          19,
          20,
          21,
          22,
          23,
          24,
          25
         ],
         "type": "scatter3d",
         "x": [
          146.02127100000004,
          64.91345200000002,
          30.547209000000006,
          13.930209000000003,
          3.429539000000001,
          55.317833000000014,
          50.20135100000002,
          44.51924100000001,
          38.73429900000001,
          73.92041000000002,
          72.51829500000001,
          68.98394800000001,
          65.12235300000002,
          95.30350500000002,
          102.85229500000003,
          105.73185700000003,
          106.33307600000003,
          101.41456600000002,
          111.16279600000003,
          122.03212700000003,
          129.10488900000001,
          131.96713300000002
         ],
         "y": [
          -236.74716200000006,
          21.858574000000004,
          58.982281000000015,
          81.43793500000001,
          97.05516800000002,
          93.53913900000002,
          122.36477700000003,
          140.48823500000003,
          152.08926400000001,
          95.27985400000001,
          129.15840100000003,
          151.48281900000003,
          164.05455000000003,
          90.56539200000002,
          122.85159300000002,
          140.30993700000002,
          152.55299400000004,
          29.966721000000007,
          80.52671100000002,
          99.89927700000003,
          113.83253500000002,
          123.89694200000002
         ],
         "z": [
          256.54437300000006,
          215.64189100000004,
          212.83662400000006,
          208.94841000000005,
          205.03225700000004,
          210.07475300000004,
          208.51519800000005,
          202.57232700000006,
          193.52703900000006,
          209.40609700000005,
          206.23629800000006,
          198.49276700000004,
          189.16439800000003,
          205.84558100000007,
          202.69534300000007,
          197.41217000000006,
          189.88087500000003,
          215.37356600000007,
          200.77082800000005,
          197.77571100000006,
          192.24427800000007,
          185.49743700000002
         ]
        },
        {
         "marker": {
          "color": "blue",
          "size": 5
         },
         "mode": "markers+text",
         "text": [
          0,
          1,
          2,
          3,
          4,
          5,
          6,
          7,
          8,
          9,
          10,
          11,
          12,
          13,
          14,
          15,
          16,
          17,
          18,
          19,
          20,
          21,
          22,
          23,
          24,
          25
         ],
         "type": "scatter3d",
         "x": [
          146.02127100000004,
          64.91345200000002,
          30.547209000000006,
          13.930209000000003,
          3.429539000000001,
          55.317833000000014,
          50.20135100000002,
          44.51924100000001,
          38.73429900000001,
          73.92041000000002,
          72.51829500000001,
          68.98394800000001,
          65.12235300000002,
          95.30350500000002,
          102.85229500000003,
          105.73185700000003,
          106.33307600000003,
          101.41456600000002,
          111.16279600000003,
          122.03212700000003,
          129.10488900000001,
          131.96713300000002
         ],
         "y": [
          -236.74716200000006,
          21.858574000000004,
          58.982281000000015,
          81.43793500000001,
          97.05516800000002,
          93.53913900000002,
          122.36477700000003,
          140.48823500000003,
          152.08926400000001,
          95.27985400000001,
          129.15840100000003,
          151.48281900000003,
          164.05455000000003,
          90.56539200000002,
          122.85159300000002,
          140.30993700000002,
          152.55299400000004,
          29.966721000000007,
          80.52671100000002,
          99.89927700000003,
          113.83253500000002,
          123.89694200000002
         ],
         "z": [
          256.54437300000006,
          215.64189100000004,
          212.83662400000006,
          208.94841000000005,
          205.03225700000004,
          210.07475300000004,
          208.51519800000005,
          202.57232700000006,
          193.52703900000006,
          209.40609700000005,
          206.23629800000006,
          198.49276700000004,
          189.16439800000003,
          205.84558100000007,
          202.69534300000007,
          197.41217000000006,
          189.88087500000003,
          215.37356600000007,
          200.77082800000005,
          197.77571100000006,
          192.24427800000007,
          185.49743700000002
         ]
        },
        {
         "marker": {
          "color": "blue",
          "size": 5
         },
         "mode": "markers+text",
         "text": [
          0,
          1,
          2,
          3,
          4,
          5,
          6,
          7,
          8,
          9,
          10,
          11,
          12,
          13,
          14,
          15,
          16,
          17,
          18,
          19,
          20,
          21,
          22,
          23,
          24,
          25
         ],
         "type": "scatter3d",
         "x": [
          146.02127100000004,
          64.91345200000002,
          30.547209000000006,
          13.930209000000003,
          3.429539000000001,
          55.317833000000014,
          50.20135100000002,
          44.51924100000001,
          38.73429900000001,
          73.92041000000002,
          72.51829500000001,
          68.98394800000001,
          65.12235300000002,
          95.30350500000002,
          102.85229500000003,
          105.73185700000003,
          106.33307600000003,
          101.41456600000002,
          111.16279600000003,
          122.03212700000003,
          129.10488900000001,
          131.96713300000002
         ],
         "y": [
          -236.74716200000006,
          21.858574000000004,
          58.982281000000015,
          81.43793500000001,
          97.05516800000002,
          93.53913900000002,
          122.36477700000003,
          140.48823500000003,
          152.08926400000001,
          95.27985400000001,
          129.15840100000003,
          151.48281900000003,
          164.05455000000003,
          90.56539200000002,
          122.85159300000002,
          140.30993700000002,
          152.55299400000004,
          29.966721000000007,
          80.52671100000002,
          99.89927700000003,
          113.83253500000002,
          123.89694200000002
         ],
         "z": [
          256.54437300000006,
          215.64189100000004,
          212.83662400000006,
          208.94841000000005,
          205.03225700000004,
          210.07475300000004,
          208.51519800000005,
          202.57232700000006,
          193.52703900000006,
          209.40609700000005,
          206.23629800000006,
          198.49276700000004,
          189.16439800000003,
          205.84558100000007,
          202.69534300000007,
          197.41217000000006,
          189.88087500000003,
          215.37356600000007,
          200.77082800000005,
          197.77571100000006,
          192.24427800000007,
          185.49743700000002
         ]
        },
        {
         "marker": {
          "color": "blue",
          "size": 5
         },
         "mode": "markers+text",
         "text": [
          0,
          1,
          2,
          3,
          4,
          5,
          6,
          7,
          8,
          9,
          10,
          11,
          12,
          13,
          14,
          15,
          16,
          17,
          18,
          19,
          20,
          21,
          22,
          23,
          24,
          25
         ],
         "type": "scatter3d",
         "x": [
          146.02127100000004,
          64.91345200000002,
          30.547209000000006,
          13.930209000000003,
          3.429539000000001,
          55.317833000000014,
          50.20135100000002,
          44.51924100000001,
          38.73429900000001,
          73.92041000000002,
          72.51829500000001,
          68.98394800000001,
          65.12235300000002,
          95.30350500000002,
          102.85229500000003,
          105.73185700000003,
          106.33307600000003,
          101.41456600000002,
          111.16279600000003,
          122.03212700000003,
          129.10488900000001,
          131.96713300000002
         ],
         "y": [
          -236.74716200000006,
          21.858574000000004,
          58.982281000000015,
          81.43793500000001,
          97.05516800000002,
          93.53913900000002,
          122.36477700000003,
          140.48823500000003,
          152.08926400000001,
          95.27985400000001,
          129.15840100000003,
          151.48281900000003,
          164.05455000000003,
          90.56539200000002,
          122.85159300000002,
          140.30993700000002,
          152.55299400000004,
          29.966721000000007,
          80.52671100000002,
          99.89927700000003,
          113.83253500000002,
          123.89694200000002
         ],
         "z": [
          256.54437300000006,
          215.64189100000004,
          212.83662400000006,
          208.94841000000005,
          205.03225700000004,
          210.07475300000004,
          208.51519800000005,
          202.57232700000006,
          193.52703900000006,
          209.40609700000005,
          206.23629800000006,
          198.49276700000004,
          189.16439800000003,
          205.84558100000007,
          202.69534300000007,
          197.41217000000006,
          189.88087500000003,
          215.37356600000007,
          200.77082800000005,
          197.77571100000006,
          192.24427800000007,
          185.49743700000002
         ]
        },
        {
         "marker": {
          "color": "blue",
          "size": 5
         },
         "mode": "markers+text",
         "text": [
          0,
          1,
          2,
          3,
          4,
          5,
          6,
          7,
          8,
          9,
          10,
          11,
          12,
          13,
          14,
          15,
          16,
          17,
          18,
          19,
          20,
          21,
          22,
          23,
          24,
          25
         ],
         "type": "scatter3d",
         "x": [
          146.02127100000004,
          64.91345200000002,
          30.547209000000006,
          13.930209000000003,
          3.429539000000001,
          55.317833000000014,
          50.20135100000002,
          44.51924100000001,
          38.73429900000001,
          73.92041000000002,
          72.51829500000001,
          68.98394800000001,
          65.12235300000002,
          95.30350500000002,
          102.85229500000003,
          105.73185700000003,
          106.33307600000003,
          101.41456600000002,
          111.16279600000003,
          122.03212700000003,
          129.10488900000001,
          131.96713300000002
         ],
         "y": [
          -236.74716200000006,
          21.858574000000004,
          58.982281000000015,
          81.43793500000001,
          97.05516800000002,
          93.53913900000002,
          122.36477700000003,
          140.48823500000003,
          152.08926400000001,
          95.27985400000001,
          129.15840100000003,
          151.48281900000003,
          164.05455000000003,
          90.56539200000002,
          122.85159300000002,
          140.30993700000002,
          152.55299400000004,
          29.966721000000007,
          80.52671100000002,
          99.89927700000003,
          113.83253500000002,
          123.89694200000002
         ],
         "z": [
          256.54437300000006,
          215.64189100000004,
          212.83662400000006,
          208.94841000000005,
          205.03225700000004,
          210.07475300000004,
          208.51519800000005,
          202.57232700000006,
          193.52703900000006,
          209.40609700000005,
          206.23629800000006,
          198.49276700000004,
          189.16439800000003,
          205.84558100000007,
          202.69534300000007,
          197.41217000000006,
          189.88087500000003,
          215.37356600000007,
          200.77082800000005,
          197.77571100000006,
          192.24427800000007,
          185.49743700000002
         ]
        },
        {
         "marker": {
          "color": "blue",
          "size": 5
         },
         "mode": "markers+text",
         "text": [
          0,
          1,
          2,
          3,
          4,
          5,
          6,
          7,
          8,
          9,
          10,
          11,
          12,
          13,
          14,
          15,
          16,
          17,
          18,
          19,
          20,
          21,
          22,
          23,
          24,
          25
         ],
         "type": "scatter3d",
         "x": [
          146.02127100000004,
          64.91345200000002,
          30.547209000000006,
          13.930209000000003,
          3.429539000000001,
          55.317833000000014,
          50.20135100000002,
          44.51924100000001,
          38.73429900000001,
          73.92041000000002,
          72.51829500000001,
          68.98394800000001,
          65.12235300000002,
          95.30350500000002,
          102.85229500000003,
          105.73185700000003,
          106.33307600000003,
          101.41456600000002,
          111.16279600000003,
          122.03212700000003,
          129.10488900000001,
          131.96713300000002
         ],
         "y": [
          -236.74716200000006,
          21.858574000000004,
          58.982281000000015,
          81.43793500000001,
          97.05516800000002,
          93.53913900000002,
          122.36477700000003,
          140.48823500000003,
          152.08926400000001,
          95.27985400000001,
          129.15840100000003,
          151.48281900000003,
          164.05455000000003,
          90.56539200000002,
          122.85159300000002,
          140.30993700000002,
          152.55299400000004,
          29.966721000000007,
          80.52671100000002,
          99.89927700000003,
          113.83253500000002,
          123.89694200000002
         ],
         "z": [
          256.54437300000006,
          215.64189100000004,
          212.83662400000006,
          208.94841000000005,
          205.03225700000004,
          210.07475300000004,
          208.51519800000005,
          202.57232700000006,
          193.52703900000006,
          209.40609700000005,
          206.23629800000006,
          198.49276700000004,
          189.16439800000003,
          205.84558100000007,
          202.69534300000007,
          197.41217000000006,
          189.88087500000003,
          215.37356600000007,
          200.77082800000005,
          197.77571100000006,
          192.24427800000007,
          185.49743700000002
         ]
        },
        {
         "marker": {
          "color": "blue",
          "size": 5
         },
         "mode": "markers+text",
         "text": [
          0,
          1,
          2,
          3,
          4,
          5,
          6,
          7,
          8,
          9,
          10,
          11,
          12,
          13,
          14,
          15,
          16,
          17,
          18,
          19,
          20,
          21,
          22,
          23,
          24,
          25
         ],
         "type": "scatter3d",
         "x": [
          146.02127100000004,
          64.91345200000002,
          30.547209000000006,
          13.930209000000003,
          3.429539000000001,
          55.317833000000014,
          50.20135100000002,
          44.51924100000001,
          38.73429900000001,
          73.92041000000002,
          72.51829500000001,
          68.98394800000001,
          65.12235300000002,
          95.30350500000002,
          102.85229500000003,
          105.73185700000003,
          106.33307600000003,
          101.41456600000002,
          111.16279600000003,
          122.03212700000003,
          129.10488900000001,
          131.96713300000002
         ],
         "y": [
          -236.74716200000006,
          21.858574000000004,
          58.982281000000015,
          81.43793500000001,
          97.05516800000002,
          93.53913900000002,
          122.36477700000003,
          140.48823500000003,
          152.08926400000001,
          95.27985400000001,
          129.15840100000003,
          151.48281900000003,
          164.05455000000003,
          90.56539200000002,
          122.85159300000002,
          140.30993700000002,
          152.55299400000004,
          29.966721000000007,
          80.52671100000002,
          99.89927700000003,
          113.83253500000002,
          123.89694200000002
         ],
         "z": [
          256.54437300000006,
          215.64189100000004,
          212.83662400000006,
          208.94841000000005,
          205.03225700000004,
          210.07475300000004,
          208.51519800000005,
          202.57232700000006,
          193.52703900000006,
          209.40609700000005,
          206.23629800000006,
          198.49276700000004,
          189.16439800000003,
          205.84558100000007,
          202.69534300000007,
          197.41217000000006,
          189.88087500000003,
          215.37356600000007,
          200.77082800000005,
          197.77571100000006,
          192.24427800000007,
          185.49743700000002
         ]
        },
        {
         "marker": {
          "color": "blue",
          "size": 5
         },
         "mode": "markers+text",
         "text": [
          0,
          1,
          2,
          3,
          4,
          5,
          6,
          7,
          8,
          9,
          10,
          11,
          12,
          13,
          14,
          15,
          16,
          17,
          18,
          19,
          20,
          21,
          22,
          23,
          24,
          25
         ],
         "type": "scatter3d",
         "x": [
          146.02127100000004,
          64.91345200000002,
          30.547209000000006,
          13.930209000000003,
          3.429539000000001,
          55.317833000000014,
          50.20135100000002,
          44.51924100000001,
          38.73429900000001,
          73.92041000000002,
          72.51829500000001,
          68.98394800000001,
          65.12235300000002,
          95.30350500000002,
          102.85229500000003,
          105.73185700000003,
          106.33307600000003,
          101.41456600000002,
          111.16279600000003,
          122.03212700000003,
          129.10488900000001,
          131.96713300000002
         ],
         "y": [
          -236.74716200000006,
          21.858574000000004,
          58.982281000000015,
          81.43793500000001,
          97.05516800000002,
          93.53913900000002,
          122.36477700000003,
          140.48823500000003,
          152.08926400000001,
          95.27985400000001,
          129.15840100000003,
          151.48281900000003,
          164.05455000000003,
          90.56539200000002,
          122.85159300000002,
          140.30993700000002,
          152.55299400000004,
          29.966721000000007,
          80.52671100000002,
          99.89927700000003,
          113.83253500000002,
          123.89694200000002
         ],
         "z": [
          256.54437300000006,
          215.64189100000004,
          212.83662400000006,
          208.94841000000005,
          205.03225700000004,
          210.07475300000004,
          208.51519800000005,
          202.57232700000006,
          193.52703900000006,
          209.40609700000005,
          206.23629800000006,
          198.49276700000004,
          189.16439800000003,
          205.84558100000007,
          202.69534300000007,
          197.41217000000006,
          189.88087500000003,
          215.37356600000007,
          200.77082800000005,
          197.77571100000006,
          192.24427800000007,
          185.49743700000002
         ]
        }
       ],
       "layout": {
        "height": 1024,
        "scene": {
         "aspectmode": "data",
         "aspectratio": {
          "x": 1,
          "y": 1,
          "z": 1
         },
         "camera": {
          "center": {
           "x": 0,
           "y": 0,
           "z": 0
          },
          "eye": {
           "x": -2,
           "y": -0.5,
           "z": 3
          },
          "up": {
           "x": 0,
           "y": 0,
           "z": 20
          }
         }
        },
        "template": {
         "data": {
          "bar": [
           {
            "error_x": {
             "color": "#2a3f5f"
            },
            "error_y": {
             "color": "#2a3f5f"
            },
            "marker": {
             "line": {
              "color": "#E5ECF6",
              "width": 0.5
             },
             "pattern": {
              "fillmode": "overlay",
              "size": 10,
              "solidity": 0.2
             }
            },
            "type": "bar"
           }
          ],
          "barpolar": [
           {
            "marker": {
             "line": {
              "color": "#E5ECF6",
              "width": 0.5
             },
             "pattern": {
              "fillmode": "overlay",
              "size": 10,
              "solidity": 0.2
             }
            },
            "type": "barpolar"
           }
          ],
          "carpet": [
           {
            "aaxis": {
             "endlinecolor": "#2a3f5f",
             "gridcolor": "white",
             "linecolor": "white",
             "minorgridcolor": "white",
             "startlinecolor": "#2a3f5f"
            },
            "baxis": {
             "endlinecolor": "#2a3f5f",
             "gridcolor": "white",
             "linecolor": "white",
             "minorgridcolor": "white",
             "startlinecolor": "#2a3f5f"
            },
            "type": "carpet"
           }
          ],
          "choropleth": [
           {
            "colorbar": {
             "outlinewidth": 0,
             "ticks": ""
            },
            "type": "choropleth"
           }
          ],
          "contour": [
           {
            "colorbar": {
             "outlinewidth": 0,
             "ticks": ""
            },
            "colorscale": [
             [
              0,
              "#0d0887"
             ],
             [
              0.1111111111111111,
              "#46039f"
             ],
             [
              0.2222222222222222,
              "#7201a8"
             ],
             [
              0.3333333333333333,
              "#9c179e"
             ],
             [
              0.4444444444444444,
              "#bd3786"
             ],
             [
              0.5555555555555556,
              "#d8576b"
             ],
             [
              0.6666666666666666,
              "#ed7953"
             ],
             [
              0.7777777777777778,
              "#fb9f3a"
             ],
             [
              0.8888888888888888,
              "#fdca26"
             ],
             [
              1,
              "#f0f921"
             ]
            ],
            "type": "contour"
           }
          ],
          "contourcarpet": [
           {
            "colorbar": {
             "outlinewidth": 0,
             "ticks": ""
            },
            "type": "contourcarpet"
           }
          ],
          "heatmap": [
           {
            "colorbar": {
             "outlinewidth": 0,
             "ticks": ""
            },
            "colorscale": [
             [
              0,
              "#0d0887"
             ],
             [
              0.1111111111111111,
              "#46039f"
             ],
             [
              0.2222222222222222,
              "#7201a8"
             ],
             [
              0.3333333333333333,
              "#9c179e"
             ],
             [
              0.4444444444444444,
              "#bd3786"
             ],
             [
              0.5555555555555556,
              "#d8576b"
             ],
             [
              0.6666666666666666,
              "#ed7953"
             ],
             [
              0.7777777777777778,
              "#fb9f3a"
             ],
             [
              0.8888888888888888,
              "#fdca26"
             ],
             [
              1,
              "#f0f921"
             ]
            ],
            "type": "heatmap"
           }
          ],
          "heatmapgl": [
           {
            "colorbar": {
             "outlinewidth": 0,
             "ticks": ""
            },
            "colorscale": [
             [
              0,
              "#0d0887"
             ],
             [
              0.1111111111111111,
              "#46039f"
             ],
             [
              0.2222222222222222,
              "#7201a8"
             ],
             [
              0.3333333333333333,
              "#9c179e"
             ],
             [
              0.4444444444444444,
              "#bd3786"
             ],
             [
              0.5555555555555556,
              "#d8576b"
             ],
             [
              0.6666666666666666,
              "#ed7953"
             ],
             [
              0.7777777777777778,
              "#fb9f3a"
             ],
             [
              0.8888888888888888,
              "#fdca26"
             ],
             [
              1,
              "#f0f921"
             ]
            ],
            "type": "heatmapgl"
           }
          ],
          "histogram": [
           {
            "marker": {
             "pattern": {
              "fillmode": "overlay",
              "size": 10,
              "solidity": 0.2
             }
            },
            "type": "histogram"
           }
          ],
          "histogram2d": [
           {
            "colorbar": {
             "outlinewidth": 0,
             "ticks": ""
            },
            "colorscale": [
             [
              0,
              "#0d0887"
             ],
             [
              0.1111111111111111,
              "#46039f"
             ],
             [
              0.2222222222222222,
              "#7201a8"
             ],
             [
              0.3333333333333333,
              "#9c179e"
             ],
             [
              0.4444444444444444,
              "#bd3786"
             ],
             [
              0.5555555555555556,
              "#d8576b"
             ],
             [
              0.6666666666666666,
              "#ed7953"
             ],
             [
              0.7777777777777778,
              "#fb9f3a"
             ],
             [
              0.8888888888888888,
              "#fdca26"
             ],
             [
              1,
              "#f0f921"
             ]
            ],
            "type": "histogram2d"
           }
          ],
          "histogram2dcontour": [
           {
            "colorbar": {
             "outlinewidth": 0,
             "ticks": ""
            },
            "colorscale": [
             [
              0,
              "#0d0887"
             ],
             [
              0.1111111111111111,
              "#46039f"
             ],
             [
              0.2222222222222222,
              "#7201a8"
             ],
             [
              0.3333333333333333,
              "#9c179e"
             ],
             [
              0.4444444444444444,
              "#bd3786"
             ],
             [
              0.5555555555555556,
              "#d8576b"
             ],
             [
              0.6666666666666666,
              "#ed7953"
             ],
             [
              0.7777777777777778,
              "#fb9f3a"
             ],
             [
              0.8888888888888888,
              "#fdca26"
             ],
             [
              1,
              "#f0f921"
             ]
            ],
            "type": "histogram2dcontour"
           }
          ],
          "mesh3d": [
           {
            "colorbar": {
             "outlinewidth": 0,
             "ticks": ""
            },
            "type": "mesh3d"
           }
          ],
          "parcoords": [
           {
            "line": {
             "colorbar": {
              "outlinewidth": 0,
              "ticks": ""
             }
            },
            "type": "parcoords"
           }
          ],
          "pie": [
           {
            "automargin": true,
            "type": "pie"
           }
          ],
          "scatter": [
           {
            "fillpattern": {
             "fillmode": "overlay",
             "size": 10,
             "solidity": 0.2
            },
            "type": "scatter"
           }
          ],
          "scatter3d": [
           {
            "line": {
             "colorbar": {
              "outlinewidth": 0,
              "ticks": ""
             }
            },
            "marker": {
             "colorbar": {
              "outlinewidth": 0,
              "ticks": ""
             }
            },
            "type": "scatter3d"
           }
          ],
          "scattercarpet": [
           {
            "marker": {
             "colorbar": {
              "outlinewidth": 0,
              "ticks": ""
             }
            },
            "type": "scattercarpet"
           }
          ],
          "scattergeo": [
           {
            "marker": {
             "colorbar": {
              "outlinewidth": 0,
              "ticks": ""
             }
            },
            "type": "scattergeo"
           }
          ],
          "scattergl": [
           {
            "marker": {
             "colorbar": {
              "outlinewidth": 0,
              "ticks": ""
             }
            },
            "type": "scattergl"
           }
          ],
          "scattermapbox": [
           {
            "marker": {
             "colorbar": {
              "outlinewidth": 0,
              "ticks": ""
             }
            },
            "type": "scattermapbox"
           }
          ],
          "scatterpolar": [
           {
            "marker": {
             "colorbar": {
              "outlinewidth": 0,
              "ticks": ""
             }
            },
            "type": "scatterpolar"
           }
          ],
          "scatterpolargl": [
           {
            "marker": {
             "colorbar": {
              "outlinewidth": 0,
              "ticks": ""
             }
            },
            "type": "scatterpolargl"
           }
          ],
          "scatterternary": [
           {
            "marker": {
             "colorbar": {
              "outlinewidth": 0,
              "ticks": ""
             }
            },
            "type": "scatterternary"
           }
          ],
          "surface": [
           {
            "colorbar": {
             "outlinewidth": 0,
             "ticks": ""
            },
            "colorscale": [
             [
              0,
              "#0d0887"
             ],
             [
              0.1111111111111111,
              "#46039f"
             ],
             [
              0.2222222222222222,
              "#7201a8"
             ],
             [
              0.3333333333333333,
              "#9c179e"
             ],
             [
              0.4444444444444444,
              "#bd3786"
             ],
             [
              0.5555555555555556,
              "#d8576b"
             ],
             [
              0.6666666666666666,
              "#ed7953"
             ],
             [
              0.7777777777777778,
              "#fb9f3a"
             ],
             [
              0.8888888888888888,
              "#fdca26"
             ],
             [
              1,
              "#f0f921"
             ]
            ],
            "type": "surface"
           }
          ],
          "table": [
           {
            "cells": {
             "fill": {
              "color": "#EBF0F8"
             },
             "line": {
              "color": "white"
             }
            },
            "header": {
             "fill": {
              "color": "#C8D4E3"
             },
             "line": {
              "color": "white"
             }
            },
            "type": "table"
           }
          ]
         },
         "layout": {
          "annotationdefaults": {
           "arrowcolor": "#2a3f5f",
           "arrowhead": 0,
           "arrowwidth": 1
          },
          "autotypenumbers": "strict",
          "coloraxis": {
           "colorbar": {
            "outlinewidth": 0,
            "ticks": ""
           }
          },
          "colorscale": {
           "diverging": [
            [
             0,
             "#8e0152"
            ],
            [
             0.1,
             "#c51b7d"
            ],
            [
             0.2,
             "#de77ae"
            ],
            [
             0.3,
             "#f1b6da"
            ],
            [
             0.4,
             "#fde0ef"
            ],
            [
             0.5,
             "#f7f7f7"
            ],
            [
             0.6,
             "#e6f5d0"
            ],
            [
             0.7,
             "#b8e186"
            ],
            [
             0.8,
             "#7fbc41"
            ],
            [
             0.9,
             "#4d9221"
            ],
            [
             1,
             "#276419"
            ]
           ],
           "sequential": [
            [
             0,
             "#0d0887"
            ],
            [
             0.1111111111111111,
             "#46039f"
            ],
            [
             0.2222222222222222,
             "#7201a8"
            ],
            [
             0.3333333333333333,
             "#9c179e"
            ],
            [
             0.4444444444444444,
             "#bd3786"
            ],
            [
             0.5555555555555556,
             "#d8576b"
            ],
            [
             0.6666666666666666,
             "#ed7953"
            ],
            [
             0.7777777777777778,
             "#fb9f3a"
            ],
            [
             0.8888888888888888,
             "#fdca26"
            ],
            [
             1,
             "#f0f921"
            ]
           ],
           "sequentialminus": [
            [
             0,
             "#0d0887"
            ],
            [
             0.1111111111111111,
             "#46039f"
            ],
            [
             0.2222222222222222,
             "#7201a8"
            ],
            [
             0.3333333333333333,
             "#9c179e"
            ],
            [
             0.4444444444444444,
             "#bd3786"
            ],
            [
             0.5555555555555556,
             "#d8576b"
            ],
            [
             0.6666666666666666,
             "#ed7953"
            ],
            [
             0.7777777777777778,
             "#fb9f3a"
            ],
            [
             0.8888888888888888,
             "#fdca26"
            ],
            [
             1,
             "#f0f921"
            ]
           ]
          },
          "colorway": [
           "#636efa",
           "#EF553B",
           "#00cc96",
           "#ab63fa",
           "#FFA15A",
           "#19d3f3",
           "#FF6692",
           "#B6E880",
           "#FF97FF",
           "#FECB52"
          ],
          "font": {
           "color": "#2a3f5f"
          },
          "geo": {
           "bgcolor": "white",
           "lakecolor": "white",
           "landcolor": "#E5ECF6",
           "showlakes": true,
           "showland": true,
           "subunitcolor": "white"
          },
          "hoverlabel": {
           "align": "left"
          },
          "hovermode": "closest",
          "mapbox": {
           "style": "light"
          },
          "paper_bgcolor": "white",
          "plot_bgcolor": "#E5ECF6",
          "polar": {
           "angularaxis": {
            "gridcolor": "white",
            "linecolor": "white",
            "ticks": ""
           },
           "bgcolor": "#E5ECF6",
           "radialaxis": {
            "gridcolor": "white",
            "linecolor": "white",
            "ticks": ""
           }
          },
          "scene": {
           "xaxis": {
            "backgroundcolor": "#E5ECF6",
            "gridcolor": "white",
            "gridwidth": 2,
            "linecolor": "white",
            "showbackground": true,
            "ticks": "",
            "zerolinecolor": "white"
           },
           "yaxis": {
            "backgroundcolor": "#E5ECF6",
            "gridcolor": "white",
            "gridwidth": 2,
            "linecolor": "white",
            "showbackground": true,
            "ticks": "",
            "zerolinecolor": "white"
           },
           "zaxis": {
            "backgroundcolor": "#E5ECF6",
            "gridcolor": "white",
            "gridwidth": 2,
            "linecolor": "white",
            "showbackground": true,
            "ticks": "",
            "zerolinecolor": "white"
           }
          },
          "shapedefaults": {
           "line": {
            "color": "#2a3f5f"
           }
          },
          "ternary": {
           "aaxis": {
            "gridcolor": "white",
            "linecolor": "white",
            "ticks": ""
           },
           "baxis": {
            "gridcolor": "white",
            "linecolor": "white",
            "ticks": ""
           },
           "bgcolor": "#E5ECF6",
           "caxis": {
            "gridcolor": "white",
            "linecolor": "white",
            "ticks": ""
           }
          },
          "title": {
           "x": 0.05
          },
          "xaxis": {
           "automargin": true,
           "gridcolor": "white",
           "linecolor": "white",
           "ticks": "",
           "title": {
            "standoff": 15
           },
           "zerolinecolor": "white",
           "zerolinewidth": 2
          },
          "yaxis": {
           "automargin": true,
           "gridcolor": "white",
           "linecolor": "white",
           "ticks": "",
           "title": {
            "standoff": 15
           },
           "zerolinecolor": "white",
           "zerolinewidth": 2
          }
         }
        },
        "width": 1024
       }
      }
     },
     "metadata": {},
     "output_type": "display_data"
    }
   ],
   "source": [
    "from Python.Hand_model import getHandModel, setHandPose, generate_hand_pose, generate_hand_poses, plot_hand\n",
    "from Python.optimization import PSO_Objective, plotPSOResult\n",
    "from Python.LMC_util import fingers_idx_LMC\n",
    "\n",
    "# Input parameter    \n",
    "finger_radius = 10 # mm\n",
    "\n",
    "# LMC settings\n",
    "LMC_H = 600 # mm\n",
    "num_LMC = 4\n",
    "LMC_alpha1 = (180-150) / 2 * np.pi / 180\n",
    "LMC_alpha2 = (180-120) / 2 * np.pi / 180\n",
    "\n",
    "# input data\n",
    "'''\n",
    "  CAREFUL! The optimizer does not work for a single pose! the more the better\n",
    "          if only a single pose is available then it was to be stacked a few times. e.g 10 times \n",
    "          this is caused by the metric that uses an exposnential norm with the number of poses\n",
    "'''\n",
    "frames = np.array([frame]*10) # one row for each frame (if the data is from multiple LMC then they are just flattened such that frames.shape = (num_recordedposes*num_LMC, num_markers, 3)\n",
    "# transform data in global frame\n",
    "for lm, LMC in enumerate(LMCs):\n",
    "    LMC_orient = R.from_euler('xyz', [*LMC[1]], degrees=True).as_matrix().squeeze()\n",
    "    frames[lm, :] = (LMC_orient @ (frames[lm, :] + LMC[0]).T).T \n",
    "\n",
    "# get data for ray tracing\n",
    "handMarkers, palmMarkers, palmPlnNormals, palmCentroids, fingers, forearm_vecs = make_hand_poses(frames)   \n",
    "print(handMarkers.shape)\n",
    "data = [handMarkers, palmMarkers, palmPlnNormals, palmCentroids, fingers, forearm_vecs]\n",
    "\n",
    "# instatiate the optimizer\n",
    "options = {'c1': 0.5, 'c2': 0.3, 'w': 0.9}\n",
    "x_max = np.array([1, 1, 1, 1]*num_LMC)\n",
    "x_min = np.array([-1, -1, -1, -1]*num_LMC)\n",
    "parameter_mult = np.array([1000, 1000, 90, 180]*num_LMC) \n",
    "bounds = (x_min, x_max)\n",
    "\n",
    "n_particles = 30\n",
    "num_iterations = 100\n",
    "args = (data, finger_radius, fingers_idx_LMC, num_LMC, LMC_H, LMC_alpha1, LMC_alpha2, parameter_mult)\n",
    "optimizer = GlobalBestPSO(n_particles=n_particles, dimensions=4*num_LMC, options=options, bounds=bounds)\n",
    "# pos is the optimized LMC location and orientation as\n",
    "'''\n",
    "  pos = np.array([x, y, xrot, zrot]*num_LMC) / parameter_mult \n",
    "  this means pos needs to be multiplied with parameter_mult to get the position in mm and orientation in deg\n",
    "'''\n",
    "cost, pos = optimizer.optimize(PSO_Objective, num_iterations, args=args)\n",
    "plotPSOResult(pos, args)"
   ]
  },
  {
   "cell_type": "markdown",
   "metadata": {},
   "source": [
    "# Optimize LMC position for synthetic data"
   ]
  },
  {
   "cell_type": "code",
   "execution_count": 10,
   "metadata": {},
   "outputs": [
    {
     "name": "stderr",
     "output_type": "stream",
     "text": [
      "2024-02-17 18:08:00,556 - pyswarms.single.global_best - INFO - Optimize for 10 iters with {'c1': 0.5, 'c2': 0.3, 'w': 0.9}\n",
      "pyswarms.single.global_best: 100%|██████████|10/10, best_cost=0.262\n",
      "2024-02-17 18:08:04,464 - pyswarms.single.global_best - INFO - Optimization finished | best cost: 0.262, best pos: [-0.59554194  0.58737717 -0.45188122  0.70131623 -0.02744777 -0.1800373\n",
      " -0.03358188 -0.15683796 -0.06421878 -0.45438711  0.92869601 -0.86130642\n",
      "  0.28708869 -0.13304794 -0.24196068 -0.03946147]\n"
     ]
    },
    {
     "name": "stdout",
     "output_type": "stream",
     "text": [
      "_________________________________\n",
      "POS:  0\n",
      "[0. 0. 0. 0. 0.] 0.0\n",
      "[1. 1. 1. 1. 1.] 5.0\n",
      "[0. 0. 0. 0. 0.] 0.0\n",
      "[1. 1. 1. 1. 1.] 5.0\n",
      "Best LMC:  [1 3]\n",
      "_________________________________\n",
      "POS:  1\n",
      "[0. 0. 0. 0. 0.] 0.0\n",
      "[1. 1. 1. 1. 1.] 5.0\n",
      "[0. 0. 0. 0. 0.] 0.0\n",
      "[0. 0. 0. 0. 0.] 0.0\n",
      "Best LMC:  [1]\n",
      "_________________________________\n",
      "POS:  2\n",
      "[0. 0. 0. 0. 0.] 0.0\n",
      "[0. 1. 1. 1. 1.] 4.0\n",
      "[0. 0. 0. 0. 0.] 0.0\n",
      "[0. 1. 1. 1. 1.] 4.0\n",
      "Best LMC:  [1 3]\n",
      "_________________________________\n",
      "POS:  3\n",
      "[0. 0. 0. 0. 0.] 0.0\n",
      "[1. 0. 1. 1. 1.] 4.0\n",
      "[0. 0. 0. 0. 0.] 0.0\n",
      "[1. 0. 1. 1. 1.] 4.0\n",
      "Best LMC:  [1 3]\n",
      "_________________________________\n",
      "POS:  4\n",
      "[0. 0. 0. 0. 0.] 0.0\n",
      "[1. 1. 1. 1. 1.] 5.0\n",
      "[0. 0. 0. 0. 0.] 0.0\n",
      "[1. 1. 1. 1. 1.] 5.0\n",
      "Best LMC:  [1 3]\n",
      "_________________________________\n",
      "POS:  5\n",
      "[0. 0. 0. 0. 0.] 0.0\n",
      "[1. 1. 1. 1. 1.] 5.0\n",
      "[0. 0. 0. 0. 0.] 0.0\n",
      "[1. 1. 1. 1. 1.] 5.0\n",
      "Best LMC:  [1 3]\n",
      "_________________________________\n",
      "POS:  6\n",
      "[0. 0. 0. 0. 0.] 0.0\n",
      "[1. 1. 1. 1. 1.] 5.0\n",
      "[0. 0. 0. 0. 0.] 0.0\n",
      "[1. 1. 1. 1. 1.] 5.0\n",
      "Best LMC:  [1 3]\n",
      "_________________________________\n",
      "POS:  7\n",
      "[0. 0. 0. 0. 0.] 0.0\n",
      "[1. 1. 1. 1. 1.] 5.0\n",
      "[0. 0. 0. 0. 0.] 0.0\n",
      "[1. 1. 1. 1. 1.] 5.0\n",
      "Best LMC:  [1 3]\n",
      "_________________________________\n",
      "POS:  8\n",
      "[0. 0. 0. 0. 0.] 0.0\n",
      "[0. 1. 1. 1. 1.] 4.0\n",
      "[0. 0. 0. 0. 0.] 0.0\n",
      "[0. 1. 1. 1. 1.] 4.0\n",
      "Best LMC:  [1 3]\n",
      "_________________________________\n",
      "POS:  9\n",
      "[0. 0. 0. 0. 0.] 0.0\n",
      "[0. 0. 0. 0. 0.] 0.0\n",
      "[0. 0. 0. 0. 0.] 0.0\n",
      "[1. 1. 1. 1. 1.] 5.0\n",
      "Best LMC:  [3]\n",
      "[0. 9. 0. 9.]\n",
      "[[2 2 2 2 2]\n",
      " [1 1 1 1 1]\n",
      " [0 2 2 2 2]\n",
      " [2 0 2 2 2]\n",
      " [2 2 2 2 2]\n",
      " [2 2 2 2 2]\n",
      " [2 2 2 2 2]\n",
      " [2 2 2 2 2]\n",
      " [0 2 2 2 2]\n",
      " [1 1 1 1 1]]\n"
     ]
    },
    {
     "data": {
      "application/vnd.plotly.v1+json": {
       "config": {
        "plotlyServerURL": "https://plot.ly"
       },
       "data": [
        {
         "marker": {
          "color": "orange",
          "size": 5
         },
         "mode": "markers+text",
         "type": "scatter3d",
         "x": [
          -595.5419372983544
         ],
         "y": [
          587.3771658210838
         ],
         "z": [
          0
         ]
        },
        {
         "line": {
          "color": "orange",
          "width": 2
         },
         "mode": "lines",
         "type": "scatter3d",
         "x": [
          -595.5419372983544,
          -435.3456104398866,
          null
         ],
         "y": [
          587.3771658210838,
          704.7817549510569,
          null
         ],
         "z": [
          0,
          566.1742658513165,
          null
         ]
        },
        {
         "colorscale": [
          [
           0,
           "orange"
          ],
          [
           1,
           "orange"
          ]
         ],
         "showlegend": false,
         "showscale": false,
         "type": "cone",
         "u": [
          48.05889805754032
         ],
         "v": [
          35.22137673899191
         ],
         "w": [
          169.85227975539493
         ],
         "x": [
          -438.549536977056
         ],
         "y": [
          702.4336631684574
         ],
         "z": [
          554.8507805342902
         ]
        },
        {
         "marker": {
          "color": "orange",
          "size": 5
         },
         "mode": "markers+text",
         "type": "scatter3d",
         "x": [
          -595.5419372983544
         ],
         "y": [
          587.3771658210838
         ],
         "z": [
          0
         ]
        },
        {
         "line": {
          "color": "orange",
          "width": 2
         },
         "mode": "lines",
         "type": "scatter3d",
         "x": [
          -595.5419372983544,
          -1019.7596354624393,
          null
         ],
         "y": [
          587.3771658210838,
          995.0115674821561,
          null
         ],
         "z": [
          0,
          117.78598875411716,
          null
         ]
        },
        {
         "colorscale": [
          [
           0,
           "orange"
          ],
          [
           1,
           "orange"
          ]
         ],
         "showlegend": false,
         "showscale": false,
         "type": "cone",
         "u": [
          -127.26530944922547
         ],
         "v": [
          122.29032049832168
         ],
         "w": [
          35.335796626235144
         ],
         "x": [
          -1011.2752814991576
         ],
         "y": [
          986.8588794489347
         ],
         "z": [
          115.4302689790348
         ]
        },
        {
         "marker": {
          "color": "orange",
          "size": 5
         },
         "mode": "markers+text",
         "type": "scatter3d",
         "x": [
          -595.5419372983544
         ],
         "y": [
          587.3771658210838
         ],
         "z": [
          0
         ]
        },
        {
         "line": {
          "color": "orange",
          "width": 2
         },
         "mode": "lines",
         "type": "scatter3d",
         "x": [
          -595.5419372983544,
          -1071.123236360288,
          null
         ],
         "y": [
          587.3771658210838,
          238.83342509227577,
          null
         ],
         "z": [
          0,
          -111.08415180093445,
          null
         ]
        },
        {
         "colorscale": [
          [
           0,
           "orange"
          ],
          [
           1,
           "orange"
          ]
         ],
         "showlegend": false,
         "showscale": false,
         "type": "cone",
         "u": [
          -142.6743897185801
         ],
         "v": [
          -104.56312221864242
         ],
         "w": [
          -33.325245540280335
         ],
         "x": [
          -1061.6116103790494
         ],
         "y": [
          245.80429990685195
         ],
         "z": [
          -108.86246876491576
         ]
        },
        {
         "marker": {
          "color": "orange",
          "size": 5
         },
         "mode": "markers+text",
         "type": "scatter3d",
         "x": [
          -595.5419372983544
         ],
         "y": [
          587.3771658210838
         ],
         "z": [
          0
         ]
        },
        {
         "line": {
          "color": "orange",
          "width": 2
         },
         "mode": "lines",
         "type": "scatter3d",
         "x": [
          -595.5419372983544,
          -334.5795138250416,
          null
         ],
         "y": [
          587.3771658210838,
          60.09633515477708,
          null
         ],
         "z": [
          0,
          117.78598875411716,
          null
         ]
        },
        {
         "colorscale": [
          [
           0,
           "orange"
          ],
          [
           1,
           "orange"
          ]
         ],
         "showlegend": false,
         "showscale": false,
         "type": "cone",
         "u": [
          78.28872704199382
         ],
         "v": [
          -158.18424919989204
         ],
         "w": [
          35.335796626235144
         ],
         "x": [
          -339.79876229450787
         ],
         "y": [
          70.64195176810324
         ],
         "z": [
          115.4302689790348
         ]
        },
        {
         "marker": {
          "color": "orange",
          "size": 5
         },
         "mode": "markers+text",
         "text": "0d",
         "type": "scatter3d",
         "x": [
          -515.4437738691205
         ],
         "y": [
          646.0794603860704
         ],
         "z": [
          283.08713292565824
         ]
        },
        {
         "marker": {
          "color": "orange",
          "size": 5
         },
         "mode": "markers+text",
         "text": "1d",
         "type": "scatter3d",
         "x": [
          -1019.7596354624393
         ],
         "y": [
          995.0115674821561
         ],
         "z": [
          117.78598875411716
         ]
        },
        {
         "marker": {
          "color": "orange",
          "size": 5
         },
         "mode": "markers+text",
         "text": "2d",
         "type": "scatter3d",
         "x": [
          -833.3325868293213
         ],
         "y": [
          413.1052954566798
         ],
         "z": [
          -55.542075900467225
         ]
        },
        {
         "marker": {
          "color": "orange",
          "size": 5
         },
         "mode": "markers+text",
         "text": "3d",
         "type": "scatter3d",
         "x": [
          -334.5795138250416
         ],
         "y": [
          60.09633515477708
         ],
         "z": [
          117.78598875411716
         ]
        },
        {
         "marker": {
          "color": "gray",
          "size": 5
         },
         "mode": "markers+text",
         "type": "scatter3d",
         "x": [
          -595.5419372983544
         ],
         "y": [
          587.3771658210838
         ],
         "z": [
          0
         ]
        },
        {
         "line": {
          "color": "gray",
          "width": 2
         },
         "mode": "lines",
         "type": "scatter3d",
         "x": [
          -595.5419372983544,
          -962.6083207682393,
          null
         ],
         "y": [
          587.3771658210838,
          318.36177214866007,
          null
         ],
         "z": [
          0,
          -391.0153297424671,
          null
         ]
        },
        {
         "colorscale": [
          [
           0,
           "gray"
          ],
          [
           1,
           "gray"
          ]
         ],
         "showlegend": false,
         "showscale": false,
         "type": "cone",
         "u": [
          -110.11991504096548
         ],
         "v": [
          -80.70461810172714
         ],
         "w": [
          -117.30459892274013
         ],
         "x": [
          -955.2669930988416
         ],
         "y": [
          323.74208002210855
         ],
         "z": [
          -383.19502314761775
         ]
        },
        {
         "marker": {
          "color": "orange",
          "size": 5
         },
         "mode": "markers+text",
         "text": "LMC_0",
         "type": "scatter3d",
         "x": [
          -595.5419372983544
         ],
         "y": [
          587.3771658210838
         ],
         "z": [
          0
         ]
        },
        {
         "marker": {
          "color": "orange",
          "size": 5
         },
         "mode": "markers+text",
         "type": "scatter3d",
         "x": [
          -27.44776966628748
         ],
         "y": [
          -180.03729879194552
         ],
         "z": [
          0
         ]
        },
        {
         "line": {
          "color": "orange",
          "width": 2
         },
         "mode": "lines",
         "type": "scatter3d",
         "x": [
          -27.44776966628748,
          -265.4146630044903,
          null
         ],
         "y": [
          -180.03729879194552,
          -623.270794643686,
          null
         ],
         "z": [
          0,
          326.97985538869136,
          null
         ]
        },
        {
         "colorscale": [
          [
           0,
           "orange"
          ],
          [
           1,
           "orange"
          ]
         ],
         "showlegend": false,
         "showscale": false,
         "type": "cone",
         "u": [
          -71.39006800146085
         ],
         "v": [
          -132.97004875552213
         ],
         "w": [
          98.0939566166074
         ],
         "x": [
          -260.6553251377262
         ],
         "y": [
          -614.4061247266512
         ],
         "z": [
          320.44025828091753
         ]
        },
        {
         "marker": {
          "color": "orange",
          "size": 5
         },
         "mode": "markers+text",
         "type": "scatter3d",
         "x": [
          -27.44776966628748
         ],
         "y": [
          -180.03729879194552
         ],
         "z": [
          0
         ]
        },
        {
         "line": {
          "color": "orange",
          "width": 2
         },
         "mode": "lines",
         "type": "scatter3d",
         "x": [
          -27.44776966628748,
          487.0421063707635,
          null
         ],
         "y": [
          -180.03729879194552,
          -446.9675918555382,
          null
         ],
         "z": [
          0,
          155.07542068414455,
          null
         ]
        },
        {
         "colorscale": [
          [
           0,
           "orange"
          ],
          [
           1,
           "orange"
          ]
         ],
         "showlegend": false,
         "showscale": false,
         "type": "cone",
         "u": [
          154.34696281111528
         ],
         "v": [
          -80.07908791907779
         ],
         "w": [
          46.52262620524336
         ],
         "x": [
          476.7523088500225
         ],
         "y": [
          -441.6289859942664
         ],
         "z": [
          151.97391227046165
         ]
        },
        {
         "marker": {
          "color": "orange",
          "size": 5
         },
         "mode": "markers+text",
         "type": "scatter3d",
         "x": [
          -27.44776966628748
         ],
         "y": [
          -180.03729879194552
         ],
         "z": [
          0
         ]
        },
        {
         "line": {
          "color": "orange",
          "width": 2
         },
         "mode": "lines",
         "type": "scatter3d",
         "x": [
          -27.44776966628748,
          225.4835049594664,
          null
         ],
         "y": [
          -180.03729879194552,
          291.068624767262,
          null
         ],
         "z": [
          0,
          272.18556005713754,
          null
         ]
        },
        {
         "colorscale": [
          [
           0,
           "orange"
          ],
          [
           1,
           "orange"
          ]
         ],
         "showlegend": false,
         "showscale": false,
         "type": "cone",
         "u": [
          75.87938238772615
         ],
         "v": [
          141.33177706776226
         ],
         "w": [
          81.65566801714125
         ],
         "x": [
          220.4248794669513
         ],
         "y": [
          281.64650629607786
         ],
         "z": [
          266.74184885599476
         ]
        },
        {
         "marker": {
          "color": "orange",
          "size": 5
         },
         "mode": "markers+text",
         "type": "scatter3d",
         "x": [
          -27.44776966628748
         ],
         "y": [
          -180.03729879194552
         ],
         "z": [
          0
         ]
        },
        {
         "line": {
          "color": "orange",
          "width": 2
         },
         "mode": "lines",
         "type": "scatter3d",
         "x": [
          -27.44776966628748,
          -534.1915119525506,
          null
         ],
         "y": [
          -180.03729879194552,
          101.32082451951848,
          null
         ],
         "z": [
          0,
          155.07542068414455,
          null
         ]
        },
        {
         "colorscale": [
          [
           0,
           "orange"
          ],
          [
           1,
           "orange"
          ]
         ],
         "showlegend": false,
         "showscale": false,
         "type": "cone",
         "u": [
          -152.02312268587895
         ],
         "v": [
          84.40743699343919
         ],
         "w": [
          46.52262620524336
         ],
         "x": [
          -524.0566371068254
         ],
         "y": [
          95.69366205328922
         ],
         "z": [
          151.97391227046165
         ]
        },
        {
         "marker": {
          "color": "orange",
          "size": 5
         },
         "mode": "markers+text",
         "text": "0d",
         "type": "scatter3d",
         "x": [
          -146.4312163353889
         ],
         "y": [
          -401.65404671781573
         ],
         "z": [
          163.48992769434568
         ]
        },
        {
         "marker": {
          "color": "orange",
          "size": 5
         },
         "mode": "markers+text",
         "text": "1d",
         "type": "scatter3d",
         "x": [
          487.0421063707635
         ],
         "y": [
          -446.9675918555382
         ],
         "z": [
          155.07542068414455
         ]
        },
        {
         "marker": {
          "color": "orange",
          "size": 5
         },
         "mode": "markers+text",
         "text": "2d",
         "type": "scatter3d",
         "x": [
          99.01786764658945
         ],
         "y": [
          55.51566298765826
         ],
         "z": [
          136.09278002856877
         ]
        },
        {
         "marker": {
          "color": "orange",
          "size": 5
         },
         "mode": "markers+text",
         "text": "3d",
         "type": "scatter3d",
         "x": [
          -534.1915119525506
         ],
         "y": [
          101.32082451951848
         ],
         "z": [
          155.07542068414455
         ]
        },
        {
         "marker": {
          "color": "gray",
          "size": 5
         },
         "mode": "markers+text",
         "type": "scatter3d",
         "x": [
          -27.44776966628748
         ],
         "y": [
          -180.03729879194552
         ],
         "z": [
          0
         ]
        },
        {
         "line": {
          "color": "gray",
          "width": 2
         },
         "mode": "lines",
         "type": "scatter3d",
         "x": [
          -27.44776966628748,
          255.97241975239703,
          null
         ],
         "y": [
          -180.03729879194552,
          347.85681113565136,
          null
         ],
         "z": [
          0,
          -31.635501159728495,
          null
         ]
        },
        {
         "colorscale": [
          [
           0,
           "gray"
          ],
          [
           1,
           "gray"
          ]
         ],
         "showlegend": false,
         "showscale": false,
         "type": "cone",
         "u": [
          85.02605682560535
         ],
         "v": [
          158.36823297827905
         ],
         "w": [
          -9.490650347918548
         ],
         "x": [
          250.3040159640233
         ],
         "y": [
          337.2989289370994
         ],
         "z": [
          -31.002791136533926
         ]
        },
        {
         "marker": {
          "color": "orange",
          "size": 5
         },
         "mode": "markers+text",
         "text": "LMC_1",
         "type": "scatter3d",
         "x": [
          -27.44776966628748
         ],
         "y": [
          -180.03729879194552
         ],
         "z": [
          0
         ]
        },
        {
         "marker": {
          "color": "orange",
          "size": 5
         },
         "mode": "markers+text",
         "type": "scatter3d",
         "x": [
          -64.21878406698144
         ],
         "y": [
          -454.3871076904338
         ],
         "z": [
          0
         ]
        },
        {
         "line": {
          "color": "orange",
          "width": 2
         },
         "mode": "lines",
         "type": "scatter3d",
         "x": [
          -64.21878406698144,
          -214.55630107106464,
          null
         ],
         "y": [
          -454.3871076904338,
          -131.47011575595144,
          null
         ],
         "z": [
          0,
          -482.82838286603703,
          null
         ]
        },
        {
         "colorscale": [
          [
           0,
           "orange"
          ],
          [
           1,
           "orange"
          ]
         ],
         "showlegend": false,
         "showscale": false,
         "type": "cone",
         "u": [
          -45.10125510122496
         ],
         "v": [
          96.87509758034471
         ],
         "w": [
          -144.8485148598111
         ],
         "x": [
          -211.54955073098296
         ],
         "y": [
          -137.9284555946411
         ],
         "z": [
          -473.1718152087163
         ]
        },
        {
         "marker": {
          "color": "orange",
          "size": 5
         },
         "mode": "markers+text",
         "type": "scatter3d",
         "x": [
          -64.21878406698144
         ],
         "y": [
          -454.3871076904338
         ],
         "z": [
          0
         ]
        },
        {
         "line": {
          "color": "orange",
          "width": 2
         },
         "mode": "lines",
         "type": "scatter3d",
         "x": [
          -64.21878406698144,
          -654.7565693749681,
          null
         ],
         "y": [
          -454.3871076904338,
          -559.095566271355,
          null
         ],
         "z": [
          0,
          17.356924414936753,
          null
         ]
        },
        {
         "colorscale": [
          [
           0,
           "orange"
          ],
          [
           1,
           "orange"
          ]
         ],
         "showlegend": false,
         "showscale": false,
         "type": "cone",
         "u": [
          -177.16133559239597
         ],
         "v": [
          -31.412537574276346
         ],
         "w": [
          5.207077324481026
         ],
         "x": [
          -642.9458136688083
         ],
         "y": [
          -557.0013970997366
         ],
         "z": [
          17.009785926638017
         ]
        },
        {
         "marker": {
          "color": "orange",
          "size": 5
         },
         "mode": "markers+text",
         "type": "scatter3d",
         "x": [
          -64.21878406698144
         ],
         "y": [
          -454.3871076904338
         ],
         "z": [
          0
         ]
        },
        {
         "line": {
          "color": "orange",
          "width": 2
         },
         "mode": "lines",
         "type": "scatter3d",
         "x": [
          -64.21878406698144,
          -165.5317624928904,
          null
         ],
         "y": [
          -454.3871076904338,
          -236.77221761393298,
          null
         ],
         "z": [
          0,
          549.8903890953758,
          null
         ]
        },
        {
         "colorscale": [
          [
           0,
           "orange"
          ],
          [
           1,
           "orange"
          ]
         ],
         "showlegend": false,
         "showscale": false,
         "type": "cone",
         "u": [
          -30.39389352777269
         ],
         "v": [
          65.28446702295025
         ],
         "w": [
          164.96711672861272
         ],
         "x": [
          -163.50550292437222
         ],
         "y": [
          -241.124515415463
         ],
         "z": [
          538.8925813134682
         ]
        },
        {
         "marker": {
          "color": "orange",
          "size": 5
         },
         "mode": "markers+text",
         "type": "scatter3d",
         "x": [
          -64.21878406698144
         ],
         "y": [
          -454.3871076904338
         ],
         "z": [
          0
         ]
        },
        {
         "line": {
          "color": "orange",
          "width": 2
         },
         "mode": "lines",
         "type": "scatter3d",
         "x": [
          -64.21878406698144,
          396.05511938747156,
          null
         ],
         "y": [
          -454.3871076904338,
          -69.87875801041048,
          null
         ],
         "z": [
          0,
          17.356924414936753,
          null
         ]
        },
        {
         "colorscale": [
          [
           0,
           "orange"
          ],
          [
           1,
           "orange"
          ]
         ],
         "showlegend": false,
         "showscale": false,
         "type": "cone",
         "u": [
          138.0821710363359
         ],
         "v": [
          115.35250490400699
         ],
         "w": [
          5.207077324481026
         ],
         "x": [
          386.8496413183825
         ],
         "y": [
          -77.56892500401096
         ],
         "z": [
          17.009785926638017
         ]
        },
        {
         "marker": {
          "color": "orange",
          "size": 5
         },
         "mode": "markers+text",
         "text": "0d",
         "type": "scatter3d",
         "x": [
          -139.38754256902303
         ],
         "y": [
          -292.9286117231926
         ],
         "z": [
          -241.41419143301852
         ]
        },
        {
         "marker": {
          "color": "orange",
          "size": 5
         },
         "mode": "markers+text",
         "text": "1d",
         "type": "scatter3d",
         "x": [
          -654.7565693749681
         ],
         "y": [
          -559.095566271355
         ],
         "z": [
          17.356924414936753
         ]
        },
        {
         "marker": {
          "color": "orange",
          "size": 5
         },
         "mode": "markers+text",
         "text": "2d",
         "type": "scatter3d",
         "x": [
          -114.87527327993593
         ],
         "y": [
          -345.5796626521834
         ],
         "z": [
          274.9451945476879
         ]
        },
        {
         "marker": {
          "color": "orange",
          "size": 5
         },
         "mode": "markers+text",
         "text": "3d",
         "type": "scatter3d",
         "x": [
          396.05511938747156
         ],
         "y": [
          -69.87875801041048
         ],
         "z": [
          17.356924414936753
         ]
        },
        {
         "marker": {
          "color": "gray",
          "size": 5
         },
         "mode": "markers+text",
         "type": "scatter3d",
         "x": [
          -64.21878406698144
         ],
         "y": [
          -454.3871076904338
         ],
         "z": [
          0
         ]
        },
        {
         "line": {
          "color": "gray",
          "width": 2
         },
         "mode": "lines",
         "type": "scatter3d",
         "x": [
          -64.21878406698144,
          -35.91445352197536,
          null
         ],
         "y": [
          -454.3871076904338,
          -515.1833045443728,
          null
         ],
         "z": [
          0,
          596.2404609891014,
          null
         ]
        },
        {
         "colorscale": [
          [
           0,
           "gray"
          ],
          [
           1,
           "gray"
          ]
         ],
         "showlegend": false,
         "showscale": false,
         "type": "cone",
         "u": [
          8.491299163501823
         ],
         "v": [
          -18.238859056181706
         ],
         "w": [
          178.8721382967304
         ],
         "x": [
          -36.48054013287548
         ],
         "y": [
          -513.9673806072941
         ],
         "z": [
          584.3156517693194
         ]
        },
        {
         "marker": {
          "color": "orange",
          "size": 5
         },
         "mode": "markers+text",
         "text": "LMC_2",
         "type": "scatter3d",
         "x": [
          -64.21878406698144
         ],
         "y": [
          -454.3871076904338
         ],
         "z": [
          0
         ]
        },
        {
         "marker": {
          "color": "orange",
          "size": 5
         },
         "mode": "markers+text",
         "type": "scatter3d",
         "x": [
          287.0886874225035
         ],
         "y": [
          -133.0479366200638
         ],
         "z": [
          0
         ]
        },
        {
         "line": {
          "color": "orange",
          "width": 2
         },
         "mode": "lines",
         "type": "scatter3d",
         "x": [
          287.0886874225035,
          241.1833344753556,
          null
         ],
         "y": [
          -133.0479366200638,
          -501.43752075804923,
          null
         ],
         "z": [
          0,
          471.36165825132616,
          null
         ]
        },
        {
         "colorscale": [
          [
           0,
           "orange"
          ],
          [
           1,
           "orange"
          ]
         ],
         "showlegend": false,
         "showscale": false,
         "type": "cone",
         "u": [
          -13.771605884144366
         ],
         "v": [
          -110.51687524139562
         ],
         "w": [
          141.40849747539784
         ],
         "x": [
          242.10144153429854
         ],
         "y": [
          -494.0697290752895
         ],
         "z": [
          461.93442508629965
         ]
        },
        {
         "marker": {
          "color": "orange",
          "size": 5
         },
         "mode": "markers+text",
         "type": "scatter3d",
         "x": [
          287.0886874225035
         ],
         "y": [
          -133.0479366200638
         ],
         "z": [
          0
         ]
        },
        {
         "line": {
          "color": "orange",
          "width": 2
         },
         "mode": "lines",
         "type": "scatter3d",
         "x": [
          287.0886874225035,
          869.32014601011,
          null
         ],
         "y": [
          -133.0479366200638,
          -147.54375030128082,
          null
         ],
         "z": [
          0,
          144.20956978185453,
          null
         ]
        },
        {
         "colorscale": [
          [
           0,
           "orange"
          ],
          [
           1,
           "orange"
          ]
         ],
         "showlegend": false,
         "showscale": false,
         "type": "cone",
         "u": [
          174.66943757628195
         ],
         "v": [
          -4.348744104365104
         ],
         "w": [
          43.262870934556354
         ],
         "x": [
          857.6755168383579
         ],
         "y": [
          -147.2538340276565
         ],
         "z": [
          141.32537838621744
         ]
        },
        {
         "marker": {
          "color": "orange",
          "size": 5
         },
         "mode": "markers+text",
         "type": "scatter3d",
         "x": [
          287.0886874225035
         ],
         "y": [
          -133.0479366200638
         ],
         "z": [
          0
         ]
        },
        {
         "line": {
          "color": "orange",
          "width": 2
         },
         "mode": "lines",
         "type": "scatter3d",
         "x": [
          287.0886874225035,
          360.51852818936413,
          null
         ],
         "y": [
          -133.0479366200638,
          456.22513866957814,
          null
         ],
         "z": [
          0,
          85.82133314998941,
          null
         ]
        },
        {
         "colorscale": [
          [
           0,
           "orange"
          ],
          [
           1,
           "orange"
          ]
         ],
         "showlegend": false,
         "showscale": false,
         "type": "cone",
         "u": [
          22.028952230058195
         ],
         "v": [
          176.7819225868926
         ],
         "w": [
          25.746399944996824
         ],
         "x": [
          359.0499313740269
         ],
         "y": [
          444.43967716378535
         ],
         "z": [
          84.10490648698962
         ]
        },
        {
         "marker": {
          "color": "orange",
          "size": 5
         },
         "mode": "markers+text",
         "type": "scatter3d",
         "x": [
          287.0886874225035
         ],
         "y": [
          -133.0479366200638
         ],
         "z": [
          0
         ]
        },
        {
         "line": {
          "color": "orange",
          "width": 2
         },
         "mode": "lines",
         "type": "scatter3d",
         "x": [
          287.0886874225035,
          -280.8950478562352,
          null
         ],
         "y": [
          -133.0479366200638,
          -4.214414421281106,
          null
         ],
         "z": [
          0,
          144.20956978185455,
          null
         ]
        },
        {
         "colorscale": [
          [
           0,
           "orange"
          ],
          [
           1,
           "orange"
          ]
         ],
         "showlegend": false,
         "showscale": false,
         "type": "cone",
         "u": [
          -170.3951205836216
         ],
         "v": [
          38.65005665963481
         ],
         "w": [
          43.26287093455637
         ],
         "x": [
          -269.5353731506604
         ],
         "y": [
          -6.791084865256764
         ],
         "z": [
          141.32537838621747
         ]
        },
        {
         "marker": {
          "color": "orange",
          "size": 5
         },
         "mode": "markers+text",
         "text": "0d",
         "type": "scatter3d",
         "x": [
          264.13601094892954
         ],
         "y": [
          -317.24272868905655
         ],
         "z": [
          235.68082912566308
         ]
        },
        {
         "marker": {
          "color": "orange",
          "size": 5
         },
         "mode": "markers+text",
         "text": "1d",
         "type": "scatter3d",
         "x": [
          869.32014601011
         ],
         "y": [
          -147.54375030128082
         ],
         "z": [
          144.20956978185453
         ]
        },
        {
         "marker": {
          "color": "orange",
          "size": 5
         },
         "mode": "markers+text",
         "text": "2d",
         "type": "scatter3d",
         "x": [
          323.8036078059338
         ],
         "y": [
          161.58860102475717
         ],
         "z": [
          42.91066657499471
         ]
        },
        {
         "marker": {
          "color": "orange",
          "size": 5
         },
         "mode": "markers+text",
         "text": "3d",
         "type": "scatter3d",
         "x": [
          -280.8950478562352
         ],
         "y": [
          -4.214414421281106
         ],
         "z": [
          144.20956978185455
         ]
        },
        {
         "marker": {
          "color": "gray",
          "size": 5
         },
         "mode": "markers+text",
         "type": "scatter3d",
         "x": [
          287.0886874225035
         ],
         "y": [
          -133.0479366200638
         ],
         "z": [
          0
         ]
        },
        {
         "line": {
          "color": "gray",
          "width": 2
         },
         "mode": "lines",
         "type": "scatter3d",
         "x": [
          287.0886874225035,
          355.9868936370824,
          null
         ],
         "y": [
          -133.0479366200638,
          419.8588575933298,
          null
         ],
         "z": [
          0,
          -222.59181048071258,
          null
         ]
        },
        {
         "colorscale": [
          [
           0,
           "gray"
          ],
          [
           1,
           "gray"
          ]
         ],
         "showlegend": false,
         "showscale": false,
         "type": "cone",
         "u": [
          20.669461864373677
         ],
         "v": [
          165.87203826401807
         ],
         "w": [
          -66.77754314421377
         ],
         "x": [
          354.60892951279084
         ],
         "y": [
          408.80072170906186
         ],
         "z": [
          -218.13997427109834
         ]
        },
        {
         "marker": {
          "color": "orange",
          "size": 5
         },
         "mode": "markers+text",
         "text": "LMC_3",
         "type": "scatter3d",
         "x": [
          287.0886874225035
         ],
         "y": [
          -133.0479366200638
         ],
         "z": [
          0
         ]
        },
        {
         "marker": {
          "color": "blue",
          "size": 5
         },
         "mode": "markers+text",
         "text": [
          0,
          1,
          2,
          3,
          4,
          5,
          6,
          7,
          8,
          9,
          10,
          11,
          12,
          13,
          14,
          15,
          16,
          17,
          18,
          19,
          20,
          21,
          22,
          23,
          24,
          25
         ],
         "type": "scatter3d",
         "x": [
          -30.18586112046798,
          -48.817977965420205,
          -25.88920648854422,
          -54.35794176298475,
          -79.89912793541087,
          -70.52862559316891,
          -58.32076087572768,
          -43.509516024791665,
          -73.1605535987552,
          -104.01824842333225,
          -96.62556070938784,
          -83.89056409508177,
          -60.98262229881643,
          -117.39632465619034,
          -112.5126052365124,
          -96.27832729973773,
          -73.37471580264855,
          -88.63429185651297,
          -126.83419114093645,
          -121.99495380607098,
          -105.2090305863741,
          -82.48178982408443,
          151.06553781914067,
          133.47947240155634,
          10.739240182512432,
          -10.7392401825125
         ],
         "y": [
          -18.423656633553694,
          10.674610454469663,
          49.013948996841755,
          -21.994484020480737,
          34.83556099351864,
          54.413671721327354,
          69.80467426693362,
          80.096679694527,
          -14.447097822045057,
          57.538225333575866,
          77.72491496684125,
          94.65548938515643,
          97.808568447563,
          72.45594012379713,
          92.4959536920097,
          105.74637963817342,
          106.67186498357893,
          -5.22264028964346,
          81.2993643243375,
          100.84443663994675,
          114.85208620284915,
          114.66956414165278,
          -99.10907140975169,
          -66.38701858162169,
          23.025278418940353,
          -23.025278418940324
         ],
         "z": [
          264.79037066430203,
          268.83619466211854,
          280.5213073641034,
          229.8494043218601,
          227.03829199035908,
          233.46879094106816,
          238.73865224055595,
          250.29457552023547,
          206.81795524976715,
          197.29912413647583,
          198.08437022710817,
          202.32184184064985,
          225.37908197072554,
          179.45565084657238,
          177.7175750202409,
          185.37525155740644,
          208.09736287592563,
          188.60715907510723,
          169.4098552032189,
          167.83543525119148,
          170.99762250974092,
          197.06853288449804,
          377.5705968761992,
          427.03043702217764,
          305.6224191778215,
          294.37758082217846
         ]
        },
        {
         "marker": {
          "color": "blue",
          "size": 5
         },
         "mode": "markers+text",
         "text": [
          0,
          1,
          2,
          3,
          4,
          5,
          6,
          7,
          8,
          9,
          10,
          11,
          12,
          13,
          14,
          15,
          16,
          17,
          18,
          19,
          20,
          21,
          22,
          23,
          24,
          25
         ],
         "type": "scatter3d",
         "x": [
          5.9228949208058745,
          2.3493739259285396,
          17.56947450916104,
          19.588418437208993,
          26.740809577912263,
          32.920268599629914,
          40.15148128635341,
          42.15371231083526,
          30.286456969906453,
          44.82242635727143,
          54.60478310261498,
          63.422840962937606,
          58.31563411463479,
          56.664077213868154,
          67.06837284714214,
          73.84260109172556,
          68.27767282697583,
          39.478415658452235,
          62.47359018799623,
          72.56584373682067,
          83.41394344633585,
          74.76182021564105,
          -13.753473029927148,
          -51.36573352670205,
          8.647623532428229,
          -8.647623532428199
         ],
         "y": [
          43.62412423556237,
          25.55144762569104,
          -18.04348736442429,
          73.66013810040197,
          40.45404941455505,
          18.744475306808866,
          -0.10392307649641597,
          -19.359124906322663,
          86.86350794165831,
          47.5257883120257,
          29.0982222553693,
          9.450605859630743,
          -13.372776411443436,
          50.400238500801585,
          34.319165980862444,
          14.427497019675222,
          -6.506469588602926,
          95.01803385827213,
          52.33348708646754,
          36.55778597568083,
          18.339506218385974,
          -3.505160269069314,
          -18.217265014770685,
          -64.10392650089351,
          -24.380914573491918,
          24.380914573491953
         ],
         "z": [
          323.4987325983727,
          353.00876352559106,
          353.0828014038165,
          350.49878367041737,
          402.80659890950096,
          404.52959886033113,
          402.05294791649015,
          392.88419740079354,
          376.0364400433762,
          442.8641411393984,
          448.1082985686656,
          446.37807311688925,
          423.5885648455836,
          466.7683984674301,
          474.6184625274397,
          467.1220023321273,
          443.1944679636008,
          398.5124693255922,
          481.9575259733822,
          489.5193075597716,
          483.3230257512894,
          457.94184247723297,
          104.70643767134581,
          122.1995901432403,
          302.80997067244994,
          297.1900293275503
         ]
        },
        {
         "marker": {
          "color": "blue",
          "size": 5
         },
         "mode": "markers+text",
         "text": [
          0,
          1,
          2,
          3,
          4,
          5,
          6,
          7,
          8,
          9,
          10,
          11,
          12,
          13,
          14,
          15,
          16,
          17,
          18,
          19,
          20,
          21,
          22,
          23,
          24,
          25
         ],
         "type": "scatter3d",
         "x": [
          -35.35101715618788,
          -11.402641141462595,
          20.042944647577276,
          -61.42072406312342,
          -23.802280720404028,
          -7.156511687879093,
          5.593037185847204,
          19.463367849596533,
          -71.84544813836631,
          -28.819761830903936,
          -15.809941520039887,
          -2.8841033369437192,
          14.124621992456895,
          -31.09630829829173,
          -19.818144853138257,
          -7.087853177955125,
          8.215421967591654,
          -77.89951815899315,
          -31.89177882344388,
          -20.80937922091609,
          -11.014979376819339,
          6.096083574011635,
          -22.013538144536582,
          38.27409638294237,
          18.149412296432775,
          -18.149412296432804
         ],
         "y": [
          35.19590541330602,
          55.35801440258984,
          34.47977465336386,
          66.03168238052446,
          97.27349566448463,
          88.77578214694618,
          77.35392182883793,
          61.48519560226671,
          90.15916200202587,
          129.60794051847836,
          124.34555155442423,
          112.80075884563244,
          85.7896669214556,
          148.0820566136236,
          145.79804981206883,
          129.72113202528547,
          102.55927483647763,
          110.16023431987573,
          160.3766844328237,
          158.04843207559702,
          142.5141769413754,
          114.66463222324751,
          -173.9160774230533,
          -164.49176575677993,
          -9.289956753581862,
          9.289956753581945
         ],
         "z": [
          298.6255323019307,
          283.45324622392735,
          256.8553226297541,
          284.9347813958022,
          246.22160039593052,
          233.44790520381596,
          222.46262100976196,
          218.63702722235922,
          269.11900598944,
          216.04098401422894,
          199.73691337899882,
          186.83648225629958,
          193.7253285358674,
          196.71677515624546,
          179.51037782858802,
          170.72186452013557,
          179.07468257034063,
          254.30463350616645,
          185.9275750508818,
          169.20434187060673,
          156.92682005259974,
          168.23467300637557,
          389.0460802290413,
          399.18815586089784,
          283.83207310168626,
          316.1679268983138
         ]
        },
        {
         "marker": {
          "color": "blue",
          "size": 5
         },
         "mode": "markers+text",
         "text": [
          0,
          1,
          2,
          3,
          4,
          5,
          6,
          7,
          8,
          9,
          10,
          11,
          12,
          13,
          14,
          15,
          16,
          17,
          18,
          19,
          20,
          21,
          22,
          23,
          24,
          25
         ],
         "type": "scatter3d",
         "x": [
          -36.81052500974085,
          -18.05626107554563,
          7.911793673565411,
          -67.05174110396082,
          -40.85873666842796,
          -26.975676206348243,
          -16.315434164574995,
          -2.7154849804258516,
          -82.13478747611049,
          -54.34500003587089,
          -44.97485435295219,
          -34.559383644552696,
          -14.870678247080656,
          -61.93614919070311,
          -54.62856971737117,
          -43.223895904558034,
          -24.862424298494265,
          -92.49618626638433,
          -65.82944861893085,
          -58.60290014115854,
          -50.86022080346915,
          -30.044349765273594,
          8.627484099246189,
          68.99416154923433,
          14.642970571212517,
          -14.642970571212558
         ],
         "y": [
          29.65513380625252,
          55.969814438807674,
          47.21982465826952,
          59.679571783106766,
          104.71656376128196,
          102.15923119277123,
          95.84804026055575,
          83.45498458338425,
          85.78988902991932,
          143.2747093046097,
          144.33693623809165,
          138.45894153499128,
          112.86271652677192,
          165.9509561598074,
          169.89239932242202,
          158.53377304686077,
          132.1828455126449,
          108.21866390590922,
          180.55711797493026,
          184.29919539087686,
          174.06622925244483,
          146.46225871310074,
          -193.0807700532192,
          -179.59586888652024,
          -2.1929306306663934,
          2.1929306306664826
         ],
         "z": [
          315.99667530248126,
          303.1106834910461,
          265.9452006938167,
          317.3799298256783,
          283.0942997144206,
          265.3973866245157,
          249.26622215749796,
          238.29848466187397,
          311.7494820600214,
          265.4038740967838,
          246.06885598892552,
          228.07586283134162,
          223.22404127330782,
          253.23576165592942,
          234.2742724000936,
          218.82498108344942,
          215.62947422982649,
          304.98547715000234,
          246.93498852279552,
          228.45038082605598,
          210.46932931185938,
          209.482679362404,
          336.1384145445321,
          336.6860637001826,
          278.60185074642595,
          321.39814925357416
         ]
        },
        {
         "marker": {
          "color": "blue",
          "size": 5
         },
         "mode": "markers+text",
         "text": [
          0,
          1,
          2,
          3,
          4,
          5,
          6,
          7,
          8,
          9,
          10,
          11,
          12,
          13,
          14,
          15,
          16,
          17,
          18,
          19,
          20,
          21,
          22,
          23,
          24,
          25
         ],
         "type": "scatter3d",
         "x": [
          -14.754715734084185,
          -22.485872445207114,
          3.6053346431988085,
          -19.812184203949037,
          -21.028730910967333,
          -9.848747395189172,
          2.8387489802876167,
          13.118179721396801,
          -22.278192095491733,
          -19.845299625361886,
          -7.503409547302044,
          6.597346590216871,
          15.939133055768144,
          -17.808787857206646,
          -6.426020746494402,
          7.788033110697683,
          16.55211873912669,
          -23.66422936369523,
          -18.090543883027426,
          -6.98156129378283,
          10.0027004156634,
          16.719035667391204,
          56.655056682083156,
          30.089073233334425,
          13.808576413079212,
          -13.80857641307923
         ],
         "y": [
          40.98409339733741,
          53.98150815023754,
          40.350331950537345,
          81.70171263710546,
          109.96769818768796,
          103.88912516652223,
          96.32727495692639,
          81.14638648216005,
          112.21504236899696,
          152.06681351644156,
          151.78308332821743,
          145.1090902483898,
          114.66284532483768,
          177.0157483405143,
          180.10768399824397,
          167.97135517792347,
          137.32162776041088,
          137.36857515205497,
          192.18444813515222,
          195.06065854535973,
          186.45174254190817,
          152.93106855364644,
          -165.87994412916873,
          -189.65991115876852,
          -5.416851897972347,
          5.416851897972444
         ],
         "z": [
          275.6496861355505,
          306.9790660068527,
          342.5545526268014,
          264.05620021108354,
          319.63913495630857,
          338.36128678735236,
          352.34457022022116,
          363.4220988867277,
          266.00668999242566,
          334.0552726088899,
          351.672540498376,
          366.61935110454556,
          373.83802293653514,
          343.7146694981569,
          360.7248521413301,
          372.9082742197518,
          377.95914521741895,
          270.64770054773163,
          349.8814065255224,
          366.50141818312864,
          377.69973557027765,
          382.9445816974388,
          210.92334233889852,
          261.47074501100604,
          321.3795990686947,
          278.6204009313053
         ]
        },
        {
         "marker": {
          "color": "blue",
          "size": 5
         },
         "mode": "markers+text",
         "text": [
          0,
          1,
          2,
          3,
          4,
          5,
          6,
          7,
          8,
          9,
          10,
          11,
          12,
          13,
          14,
          15,
          16,
          17,
          18,
          19,
          20,
          21,
          22,
          23,
          24,
          25
         ],
         "type": "scatter3d",
         "x": [
          -6.643028190319275,
          2.6161078287042216,
          32.911937789610135,
          -0.46108010032421476,
          28.60745526522211,
          42.74972540106212,
          55.956748607985965,
          63.3000689989916,
          9.12383959735581,
          49.98187282496684,
          66.81948866603653,
          81.90901659716174,
          81.55438547200899,
          64.1984484228694,
          81.21062108056074,
          93.43663820758987,
          91.73435007572716,
          18.668952217387165,
          71.63856121670507,
          88.19734251598383,
          103.72836133947216,
          99.29650914622471,
          -42.986871412128366,
          -56.32839948235351,
          17.596648935178152,
          -17.59664893517812
         ],
         "y": [
          26.206932124270228,
          54.045545933006444,
          47.42025905006438,
          53.258085648602986,
          100.22690803442896,
          98.81717529543965,
          93.3819033880767,
          82.21983763679368,
          77.7735112945581,
          137.16676254740685,
          138.91872860844083,
          133.8734187908067,
          110.20157764601518,
          158.906113566639,
          163.333491514006,
          152.95037876633984,
          128.41827613925398,
          99.05811916046808,
          173.01777554514848,
          177.24370714997312,
          167.61112589036674,
          142.0846558164683,
          -191.04435537265198,
          -171.92257164876062,
          -1.0115022459889156,
          1.0115022459890004
         ],
         "z": [
          258.0547712082885,
          276.75005400530625,
          310.96179995406044,
          225.6830237952308,
          254.64607845662246,
          272.26620614006794,
          286.74787440511426,
          303.49068320175604,
          209.9327185149489,
          241.9913375097946,
          255.26522876737562,
          269.8813722476492,
          292.37293068435315,
          235.26896643748847,
          246.19865411547948,
          261.7061056375677,
          282.6107568261329,
          199.34892983522528,
          231.5671826374931,
          242.33078482007556,
          254.7397221417926,
          277.6528442870197,
          317.7421931695124,
          375.03651436622744,
          319.14265218920826,
          280.8573478107918
         ]
        },
        {
         "marker": {
          "color": "blue",
          "size": 5
         },
         "mode": "markers+text",
         "text": [
          0,
          1,
          2,
          3,
          4,
          5,
          6,
          7,
          8,
          9,
          10,
          11,
          12,
          13,
          14,
          15,
          16,
          17,
          18,
          19,
          20,
          21,
          22,
          23,
          24,
          25
         ],
         "type": "scatter3d",
         "x": [
          -42.39658465329669,
          -24.454552141235546,
          20.55436751180936,
          -70.38799124374007,
          -35.92819080917561,
          -13.64784343768115,
          5.851836950079564,
          25.091519548055075,
          -81.99865401022284,
          -40.442578556576606,
          -20.98004670680529,
          -0.5009612617124196,
          21.323711366384774,
          -41.68294255255485,
          -24.450144467430764,
          -4.028451530598065,
          15.853358873995967,
          -88.79773127681949,
          -42.76698759072084,
          -25.875880217417826,
          -6.649674524580789,
          13.776915693845792,
          14.084519534180725,
          55.74662883693378,
          25.22211166491703,
          -25.222111664917065
         ],
         "y": [
          25.607705091441243,
          45.49778499606719,
          51.35651002788279,
          57.61122555825754,
          100.90296618490302,
          104.31635539775895,
          105.24879685398155,
          97.68334856506081,
          85.36353239430244,
          144.16368317974494,
          152.79871643067418,
          155.2184141219533,
          132.27392643227896,
          170.50894892008608,
          181.77011650960293,
          178.35914854482064,
          154.3809891740098,
          109.38602451288567,
          186.22411161177564,
          197.0918804441841,
          197.29776526199285,
          170.23433692744143,
          -164.82331313368098,
          -177.13912789743895,
          5.557427736094474,
          -5.557427736094384
         ],
         "z": [
          306.091829198043,
          328.2887165517901,
          319.8006194251762,
          309.2804424668129,
          338.0598779625498,
          335.9634653937862,
          330.2556307658435,
          324.6488207709664,
          315.2763470721606,
          347.5304489193576,
          344.4617462357264,
          338.0171533865644,
          330.0430592897025,
          352.4588510468563,
          350.29308526069184,
          341.9813265437884,
          333.5262822666064,
          321.0080754752813,
          356.937242880045,
          354.818526216644,
          343.94233575438716,
          337.11749776600965,
          193.71969133867225,
          237.75226542393878,
          296.82724039689595,
          303.172759603104
         ]
        },
        {
         "marker": {
          "color": "blue",
          "size": 5
         },
         "mode": "markers+text",
         "text": [
          0,
          1,
          2,
          3,
          4,
          5,
          6,
          7,
          8,
          9,
          10,
          11,
          12,
          13,
          14,
          15,
          16,
          17,
          18,
          19,
          20,
          21,
          22,
          23,
          24,
          25
         ],
         "type": "scatter3d",
         "x": [
          -5.584469412853035,
          -1.8008187008511858,
          25.472559461304748,
          0.4179430887858534,
          20.334841145860587,
          32.68994725526838,
          44.9402972485719,
          51.887720338346234,
          8.41626043453048,
          38.10993766049741,
          53.170708097862864,
          67.21704775744105,
          67.54359432020648,
          50.113864457889704,
          65.25048406613219,
          77.04517367108015,
          76.3089365835018,
          16.255842062628616,
          56.07396733302629,
          70.80492899247247,
          86.08133641101765,
          82.57184260945108,
          -20.42780539942715,
          -41.76535730953462,
          15.561397394082977,
          -15.561397394082961
         ],
         "y": [
          11.290292018228156,
          44.47630058816572,
          52.89668209402966,
          28.131328635090068,
          85.36588147210568,
          91.37331142693641,
          92.513238748587,
          88.04586210871494,
          48.01742084030792,
          119.65048982857635,
          127.75410630882962,
          129.58293744416716,
          113.87023266762365,
          140.28680363197967,
          150.24502585636623,
          146.87542715487197,
          129.6794084979926,
          66.3820161779975,
          153.6116064279846,
          163.26283897599143,
          160.17608111543507,
          142.22994774587312,
          -181.36683382804028,
          -148.33351580138122,
          7.350511211678114,
          -7.350511211678042
         ],
         "z": [
          251.71254468485063,
          261.4391288723649,
          297.7356207012352,
          213.00515586063636,
          227.75072106713162,
          245.74300243816538,
          261.93917016935933,
          281.7031164091927,
          191.06161118167122,
          205.61087870932823,
          218.65984323462635,
          234.97352992471104,
          263.59793041237845,
          193.36551340843334,
          203.37502507122008,
          222.01092267624287,
          249.31442396835675,
          175.01658429696388,
          185.9409400437219,
          195.8282726912621,
          211.48343781864682,
          240.84110981554028,
          373.13944630481177,
          420.8865614433969,
          319.51715192975064,
          280.4828480702494
         ]
        },
        {
         "marker": {
          "color": "blue",
          "size": 5
         },
         "mode": "markers+text",
         "text": [
          0,
          1,
          2,
          3,
          4,
          5,
          6,
          7,
          8,
          9,
          10,
          11,
          12,
          13,
          14,
          15,
          16,
          17,
          18,
          19,
          20,
          21,
          22,
          23,
          24,
          25
         ],
         "type": "scatter3d",
         "x": [
          -34.06203327881516,
          -7.391551757664669,
          28.56631505002774,
          -56.60149056219401,
          -11.730974469065574,
          7.063374680945453,
          21.657806765110692,
          35.87910785350894,
          -63.44438634145897,
          -10.330685074400554,
          5.6356945300236765,
          20.785308645694798,
          35.84192577345313,
          -8.53579573102541,
          5.939839265362811,
          20.036297446443182,
          33.12764185478352,
          -66.24059752843172,
          -7.0510524638736,
          7.135665408073497,
          19.05904328905401,
          33.323960306227846,
          -40.86301796190708,
          16.249758532447593,
          20.94049886549203,
          -20.94049886549205
         ],
         "y": [
          35.43824397846305,
          55.32200777987332,
          34.03422729608821,
          66.36433825239982,
          97.06547189880358,
          88.35992101085857,
          76.77076169579887,
          60.77670246185269,
          90.4554364229044,
          129.22443923851753,
          123.75559134904364,
          112.02892361319302,
          84.94504044494528,
          147.57959433729837,
          145.09513057974695,
          128.86655990759704,
          101.65433600043113,
          110.39593605233793,
          159.80429190391894,
          157.28034920774766,
          141.5912186044003,
          113.69891838200745,
          -173.1302479976549,
          -164.06846251403712,
          -9.532145889361871,
          9.532145889361955
         ],
         "z": [
          291.38349920627144,
          281.20730296254163,
          261.5594655019473,
          272.5829412866368,
          242.02176103635855,
          232.88688969975775,
          224.73947925564133,
          223.85495838196337,
          254.87015881383957,
          211.2743862680305,
          197.93507194915472,
          187.94732392793972,
          198.24846855014758,
          191.78676633006003,
          177.20056744031788,
          171.22654546855034,
          182.6211870650999,
          239.03608267160462,
          180.99094341941887,
          166.83913727041042,
          156.85589462629804,
          171.51143574682888,
          383.7659432187964,
          405.7271141889202,
          287.8451645265436,
          312.1548354734562
         ]
        },
        {
         "marker": {
          "color": "blue",
          "size": 5
         },
         "mode": "markers+text",
         "text": [
          0,
          1,
          2,
          3,
          4,
          5,
          6,
          7,
          8,
          9,
          10,
          11,
          12,
          13,
          14,
          15,
          16,
          17,
          18,
          19,
          20,
          21,
          22,
          23,
          24,
          25
         ],
         "type": "scatter3d",
         "x": [
          -21.879271377184182,
          -25.757335484980086,
          6.630997873789335,
          -32.212348707525784,
          -27.24766029291568,
          -12.808551906420291,
          2.507683126096724,
          15.668647597322916,
          -37.00113583218407,
          -27.521723394685935,
          -12.616987187501815,
          4.1619628984667285,
          17.13440673321513,
          -26.197023000189734,
          -12.625167567363397,
          4.3132759934217075,
          16.398430385978784,
          -39.841327193385176,
          -26.84160007267317,
          -13.580890883928683,
          5.622393379398391,
          15.973428577018105,
          56.405708429913915,
          40.190380696251665,
          17.38048719140696,
          -17.380487191406985
         ],
         "y": [
          -6.2524938651593285,
          28.317398588004657,
          53.441610833163686,
          -1.885159464332441,
          59.873141305760306,
          73.77839885981672,
          82.58820103132257,
          86.26030462660694,
          11.098422051877566,
          88.13076091826747,
          102.94724098531849,
          112.80527466745427,
          107.55797897376199,
          105.75852390301534,
          121.32717764909812,
          126.66045130462965,
          119.39705220354764,
          24.53913521547683,
          116.92269236371257,
          132.08400205993826,
          137.4457913972605,
          129.57201030634107,
          -148.28805410977526,
          -106.87245822885347,
          16.303839285754187,
          -16.303839285754133
         ],
         "z": [
          255.58672340659632,
          255.24500418895622,
          276.5040051406692,
          214.45200178512724,
          207.2984911180043,
          217.81590581600722,
          227.88996599855895,
          244.38670452392967,
          187.0760447146969,
          172.90382773630049,
          177.49639111914854,
          186.88077498334118,
          216.38558164578347,
          152.7194818633121,
          154.0962634027755,
          167.60222133564292,
          196.63527770785072,
          165.4556646894223,
          140.7552289212594,
          142.23683213992982,
          151.74819279321198,
          183.7967933306526,
          416.14495820686847,
          459.13437306381115,
          310.45034989424676,
          289.54965010575324
         ]
        }
       ],
       "layout": {
        "height": 1024,
        "scene": {
         "aspectmode": "data",
         "aspectratio": {
          "x": 1,
          "y": 1,
          "z": 1
         },
         "camera": {
          "center": {
           "x": 0,
           "y": 0,
           "z": 0
          },
          "eye": {
           "x": -2,
           "y": -0.5,
           "z": 3
          },
          "up": {
           "x": 0,
           "y": 0,
           "z": 20
          }
         }
        },
        "template": {
         "data": {
          "bar": [
           {
            "error_x": {
             "color": "#2a3f5f"
            },
            "error_y": {
             "color": "#2a3f5f"
            },
            "marker": {
             "line": {
              "color": "#E5ECF6",
              "width": 0.5
             },
             "pattern": {
              "fillmode": "overlay",
              "size": 10,
              "solidity": 0.2
             }
            },
            "type": "bar"
           }
          ],
          "barpolar": [
           {
            "marker": {
             "line": {
              "color": "#E5ECF6",
              "width": 0.5
             },
             "pattern": {
              "fillmode": "overlay",
              "size": 10,
              "solidity": 0.2
             }
            },
            "type": "barpolar"
           }
          ],
          "carpet": [
           {
            "aaxis": {
             "endlinecolor": "#2a3f5f",
             "gridcolor": "white",
             "linecolor": "white",
             "minorgridcolor": "white",
             "startlinecolor": "#2a3f5f"
            },
            "baxis": {
             "endlinecolor": "#2a3f5f",
             "gridcolor": "white",
             "linecolor": "white",
             "minorgridcolor": "white",
             "startlinecolor": "#2a3f5f"
            },
            "type": "carpet"
           }
          ],
          "choropleth": [
           {
            "colorbar": {
             "outlinewidth": 0,
             "ticks": ""
            },
            "type": "choropleth"
           }
          ],
          "contour": [
           {
            "colorbar": {
             "outlinewidth": 0,
             "ticks": ""
            },
            "colorscale": [
             [
              0,
              "#0d0887"
             ],
             [
              0.1111111111111111,
              "#46039f"
             ],
             [
              0.2222222222222222,
              "#7201a8"
             ],
             [
              0.3333333333333333,
              "#9c179e"
             ],
             [
              0.4444444444444444,
              "#bd3786"
             ],
             [
              0.5555555555555556,
              "#d8576b"
             ],
             [
              0.6666666666666666,
              "#ed7953"
             ],
             [
              0.7777777777777778,
              "#fb9f3a"
             ],
             [
              0.8888888888888888,
              "#fdca26"
             ],
             [
              1,
              "#f0f921"
             ]
            ],
            "type": "contour"
           }
          ],
          "contourcarpet": [
           {
            "colorbar": {
             "outlinewidth": 0,
             "ticks": ""
            },
            "type": "contourcarpet"
           }
          ],
          "heatmap": [
           {
            "colorbar": {
             "outlinewidth": 0,
             "ticks": ""
            },
            "colorscale": [
             [
              0,
              "#0d0887"
             ],
             [
              0.1111111111111111,
              "#46039f"
             ],
             [
              0.2222222222222222,
              "#7201a8"
             ],
             [
              0.3333333333333333,
              "#9c179e"
             ],
             [
              0.4444444444444444,
              "#bd3786"
             ],
             [
              0.5555555555555556,
              "#d8576b"
             ],
             [
              0.6666666666666666,
              "#ed7953"
             ],
             [
              0.7777777777777778,
              "#fb9f3a"
             ],
             [
              0.8888888888888888,
              "#fdca26"
             ],
             [
              1,
              "#f0f921"
             ]
            ],
            "type": "heatmap"
           }
          ],
          "heatmapgl": [
           {
            "colorbar": {
             "outlinewidth": 0,
             "ticks": ""
            },
            "colorscale": [
             [
              0,
              "#0d0887"
             ],
             [
              0.1111111111111111,
              "#46039f"
             ],
             [
              0.2222222222222222,
              "#7201a8"
             ],
             [
              0.3333333333333333,
              "#9c179e"
             ],
             [
              0.4444444444444444,
              "#bd3786"
             ],
             [
              0.5555555555555556,
              "#d8576b"
             ],
             [
              0.6666666666666666,
              "#ed7953"
             ],
             [
              0.7777777777777778,
              "#fb9f3a"
             ],
             [
              0.8888888888888888,
              "#fdca26"
             ],
             [
              1,
              "#f0f921"
             ]
            ],
            "type": "heatmapgl"
           }
          ],
          "histogram": [
           {
            "marker": {
             "pattern": {
              "fillmode": "overlay",
              "size": 10,
              "solidity": 0.2
             }
            },
            "type": "histogram"
           }
          ],
          "histogram2d": [
           {
            "colorbar": {
             "outlinewidth": 0,
             "ticks": ""
            },
            "colorscale": [
             [
              0,
              "#0d0887"
             ],
             [
              0.1111111111111111,
              "#46039f"
             ],
             [
              0.2222222222222222,
              "#7201a8"
             ],
             [
              0.3333333333333333,
              "#9c179e"
             ],
             [
              0.4444444444444444,
              "#bd3786"
             ],
             [
              0.5555555555555556,
              "#d8576b"
             ],
             [
              0.6666666666666666,
              "#ed7953"
             ],
             [
              0.7777777777777778,
              "#fb9f3a"
             ],
             [
              0.8888888888888888,
              "#fdca26"
             ],
             [
              1,
              "#f0f921"
             ]
            ],
            "type": "histogram2d"
           }
          ],
          "histogram2dcontour": [
           {
            "colorbar": {
             "outlinewidth": 0,
             "ticks": ""
            },
            "colorscale": [
             [
              0,
              "#0d0887"
             ],
             [
              0.1111111111111111,
              "#46039f"
             ],
             [
              0.2222222222222222,
              "#7201a8"
             ],
             [
              0.3333333333333333,
              "#9c179e"
             ],
             [
              0.4444444444444444,
              "#bd3786"
             ],
             [
              0.5555555555555556,
              "#d8576b"
             ],
             [
              0.6666666666666666,
              "#ed7953"
             ],
             [
              0.7777777777777778,
              "#fb9f3a"
             ],
             [
              0.8888888888888888,
              "#fdca26"
             ],
             [
              1,
              "#f0f921"
             ]
            ],
            "type": "histogram2dcontour"
           }
          ],
          "mesh3d": [
           {
            "colorbar": {
             "outlinewidth": 0,
             "ticks": ""
            },
            "type": "mesh3d"
           }
          ],
          "parcoords": [
           {
            "line": {
             "colorbar": {
              "outlinewidth": 0,
              "ticks": ""
             }
            },
            "type": "parcoords"
           }
          ],
          "pie": [
           {
            "automargin": true,
            "type": "pie"
           }
          ],
          "scatter": [
           {
            "fillpattern": {
             "fillmode": "overlay",
             "size": 10,
             "solidity": 0.2
            },
            "type": "scatter"
           }
          ],
          "scatter3d": [
           {
            "line": {
             "colorbar": {
              "outlinewidth": 0,
              "ticks": ""
             }
            },
            "marker": {
             "colorbar": {
              "outlinewidth": 0,
              "ticks": ""
             }
            },
            "type": "scatter3d"
           }
          ],
          "scattercarpet": [
           {
            "marker": {
             "colorbar": {
              "outlinewidth": 0,
              "ticks": ""
             }
            },
            "type": "scattercarpet"
           }
          ],
          "scattergeo": [
           {
            "marker": {
             "colorbar": {
              "outlinewidth": 0,
              "ticks": ""
             }
            },
            "type": "scattergeo"
           }
          ],
          "scattergl": [
           {
            "marker": {
             "colorbar": {
              "outlinewidth": 0,
              "ticks": ""
             }
            },
            "type": "scattergl"
           }
          ],
          "scattermapbox": [
           {
            "marker": {
             "colorbar": {
              "outlinewidth": 0,
              "ticks": ""
             }
            },
            "type": "scattermapbox"
           }
          ],
          "scatterpolar": [
           {
            "marker": {
             "colorbar": {
              "outlinewidth": 0,
              "ticks": ""
             }
            },
            "type": "scatterpolar"
           }
          ],
          "scatterpolargl": [
           {
            "marker": {
             "colorbar": {
              "outlinewidth": 0,
              "ticks": ""
             }
            },
            "type": "scatterpolargl"
           }
          ],
          "scatterternary": [
           {
            "marker": {
             "colorbar": {
              "outlinewidth": 0,
              "ticks": ""
             }
            },
            "type": "scatterternary"
           }
          ],
          "surface": [
           {
            "colorbar": {
             "outlinewidth": 0,
             "ticks": ""
            },
            "colorscale": [
             [
              0,
              "#0d0887"
             ],
             [
              0.1111111111111111,
              "#46039f"
             ],
             [
              0.2222222222222222,
              "#7201a8"
             ],
             [
              0.3333333333333333,
              "#9c179e"
             ],
             [
              0.4444444444444444,
              "#bd3786"
             ],
             [
              0.5555555555555556,
              "#d8576b"
             ],
             [
              0.6666666666666666,
              "#ed7953"
             ],
             [
              0.7777777777777778,
              "#fb9f3a"
             ],
             [
              0.8888888888888888,
              "#fdca26"
             ],
             [
              1,
              "#f0f921"
             ]
            ],
            "type": "surface"
           }
          ],
          "table": [
           {
            "cells": {
             "fill": {
              "color": "#EBF0F8"
             },
             "line": {
              "color": "white"
             }
            },
            "header": {
             "fill": {
              "color": "#C8D4E3"
             },
             "line": {
              "color": "white"
             }
            },
            "type": "table"
           }
          ]
         },
         "layout": {
          "annotationdefaults": {
           "arrowcolor": "#2a3f5f",
           "arrowhead": 0,
           "arrowwidth": 1
          },
          "autotypenumbers": "strict",
          "coloraxis": {
           "colorbar": {
            "outlinewidth": 0,
            "ticks": ""
           }
          },
          "colorscale": {
           "diverging": [
            [
             0,
             "#8e0152"
            ],
            [
             0.1,
             "#c51b7d"
            ],
            [
             0.2,
             "#de77ae"
            ],
            [
             0.3,
             "#f1b6da"
            ],
            [
             0.4,
             "#fde0ef"
            ],
            [
             0.5,
             "#f7f7f7"
            ],
            [
             0.6,
             "#e6f5d0"
            ],
            [
             0.7,
             "#b8e186"
            ],
            [
             0.8,
             "#7fbc41"
            ],
            [
             0.9,
             "#4d9221"
            ],
            [
             1,
             "#276419"
            ]
           ],
           "sequential": [
            [
             0,
             "#0d0887"
            ],
            [
             0.1111111111111111,
             "#46039f"
            ],
            [
             0.2222222222222222,
             "#7201a8"
            ],
            [
             0.3333333333333333,
             "#9c179e"
            ],
            [
             0.4444444444444444,
             "#bd3786"
            ],
            [
             0.5555555555555556,
             "#d8576b"
            ],
            [
             0.6666666666666666,
             "#ed7953"
            ],
            [
             0.7777777777777778,
             "#fb9f3a"
            ],
            [
             0.8888888888888888,
             "#fdca26"
            ],
            [
             1,
             "#f0f921"
            ]
           ],
           "sequentialminus": [
            [
             0,
             "#0d0887"
            ],
            [
             0.1111111111111111,
             "#46039f"
            ],
            [
             0.2222222222222222,
             "#7201a8"
            ],
            [
             0.3333333333333333,
             "#9c179e"
            ],
            [
             0.4444444444444444,
             "#bd3786"
            ],
            [
             0.5555555555555556,
             "#d8576b"
            ],
            [
             0.6666666666666666,
             "#ed7953"
            ],
            [
             0.7777777777777778,
             "#fb9f3a"
            ],
            [
             0.8888888888888888,
             "#fdca26"
            ],
            [
             1,
             "#f0f921"
            ]
           ]
          },
          "colorway": [
           "#636efa",
           "#EF553B",
           "#00cc96",
           "#ab63fa",
           "#FFA15A",
           "#19d3f3",
           "#FF6692",
           "#B6E880",
           "#FF97FF",
           "#FECB52"
          ],
          "font": {
           "color": "#2a3f5f"
          },
          "geo": {
           "bgcolor": "white",
           "lakecolor": "white",
           "landcolor": "#E5ECF6",
           "showlakes": true,
           "showland": true,
           "subunitcolor": "white"
          },
          "hoverlabel": {
           "align": "left"
          },
          "hovermode": "closest",
          "mapbox": {
           "style": "light"
          },
          "paper_bgcolor": "white",
          "plot_bgcolor": "#E5ECF6",
          "polar": {
           "angularaxis": {
            "gridcolor": "white",
            "linecolor": "white",
            "ticks": ""
           },
           "bgcolor": "#E5ECF6",
           "radialaxis": {
            "gridcolor": "white",
            "linecolor": "white",
            "ticks": ""
           }
          },
          "scene": {
           "xaxis": {
            "backgroundcolor": "#E5ECF6",
            "gridcolor": "white",
            "gridwidth": 2,
            "linecolor": "white",
            "showbackground": true,
            "ticks": "",
            "zerolinecolor": "white"
           },
           "yaxis": {
            "backgroundcolor": "#E5ECF6",
            "gridcolor": "white",
            "gridwidth": 2,
            "linecolor": "white",
            "showbackground": true,
            "ticks": "",
            "zerolinecolor": "white"
           },
           "zaxis": {
            "backgroundcolor": "#E5ECF6",
            "gridcolor": "white",
            "gridwidth": 2,
            "linecolor": "white",
            "showbackground": true,
            "ticks": "",
            "zerolinecolor": "white"
           }
          },
          "shapedefaults": {
           "line": {
            "color": "#2a3f5f"
           }
          },
          "ternary": {
           "aaxis": {
            "gridcolor": "white",
            "linecolor": "white",
            "ticks": ""
           },
           "baxis": {
            "gridcolor": "white",
            "linecolor": "white",
            "ticks": ""
           },
           "bgcolor": "#E5ECF6",
           "caxis": {
            "gridcolor": "white",
            "linecolor": "white",
            "ticks": ""
           }
          },
          "title": {
           "x": 0.05
          },
          "xaxis": {
           "automargin": true,
           "gridcolor": "white",
           "linecolor": "white",
           "ticks": "",
           "title": {
            "standoff": 15
           },
           "zerolinecolor": "white",
           "zerolinewidth": 2
          },
          "yaxis": {
           "automargin": true,
           "gridcolor": "white",
           "linecolor": "white",
           "ticks": "",
           "title": {
            "standoff": 15
           },
           "zerolinecolor": "white",
           "zerolinewidth": 2
          }
         }
        },
        "width": 1024
       }
      }
     },
     "metadata": {},
     "output_type": "display_data"
    }
   ],
   "source": [
    "from Python.Hand_model import getHandModel, setHandPose, generate_hand_pose, generate_hand_poses, plot_hand\n",
    "from Python.optimization import PSO_Objective, plotPSOResult\n",
    "\n",
    "# Make a Hand model\n",
    "HandModel = getHandModel()\n",
    "q = np.zeros(20)\n",
    "# set the thumb in a flat position\n",
    "q[0] = 0.4\n",
    "q[1] = -0.6\n",
    "q[2] = 0.1\n",
    "state = setHandPose(HandModel, q)\n",
    "\n",
    "# Input parameter \n",
    "# these are the finger_idx of the osim model! NOT THE LMC\n",
    "fingers_idx = np.array([[0,3,8,17], #thumb (root to tip)\n",
    "                    [4,9,13,18], #index\n",
    "                    [5,10,14,19], #middle\n",
    "                    [6,11,15,20], #ring\n",
    "                    [7,12,16,21]]) #pinky\n",
    "    \n",
    "finger_radius = 10 # mm\n",
    "\n",
    "# LMC settings\n",
    "LMC_H = 600 # mm\n",
    "num_LMC = 4\n",
    "LMC_alpha1 = (180-150) / 2 * np.pi / 180\n",
    "LMC_alpha2 = (180-120) / 2 * np.pi / 180\n",
    "\n",
    "# Generate data\n",
    "'''\n",
    "  CAREFUL! The optimizer does not work for a single pose! the more the better\n",
    "          if only a single pose is available then it was to be stacked a few times. e.g 10 times \n",
    "          this is caused by the metric that uses an exposnential norm with the number of poses\n",
    "'''\n",
    "num_poses = 10\n",
    "handMarkers, palmMarkers, palmPlnNormals, palmCentroids, fingers, forearm_vecs = generate_hand_poses(HandModel, state, num_poses=num_poses, \n",
    "                                                                                       x_limits=[0, 0], y_limits=[0, 0], z_limits=[300, 300],\n",
    "                                                                                         limitsPS=[-70, 70], limis_FE=[-60, 60], limits_WD=[-60, 60])\n",
    "#handMarkers, palmMarkers, palmPlnNormals, palmCentroids, fingers, forearm_vecs = generate_hand_pose(HandModel, state, pos=np.array([0, -100, 300]), PS=90, FE=0, WD=0)\n",
    "data = [handMarkers, palmMarkers, palmPlnNormals, palmCentroids, fingers, forearm_vecs]\n",
    "\n",
    "# instatiate the optimizer\n",
    "options = {'c1': 0.5, 'c2': 0.3, 'w': 0.9}\n",
    "x_max = np.array([1, 1, 1, 1]*num_LMC)\n",
    "x_min = np.array([-1, -1, -1, -1]*num_LMC)\n",
    "parameter_mult = np.array([1000, 1000, 90, 180]*num_LMC) \n",
    "bounds = (x_min, x_max)\n",
    "\n",
    "n_particles = 30\n",
    "num_iterations = 100\n",
    "args = (data, finger_radius, fingers_idx, num_LMC, LMC_H, LMC_alpha1, LMC_alpha2, parameter_mult)\n",
    "optimizer = GlobalBestPSO(n_particles=n_particles, dimensions=4*num_LMC, options=options, bounds=bounds)\n",
    "# pos is the optimized LMC location and orientation as\n",
    "'''\n",
    "  pos = np.array([x, y, xrot, zrot]*num_LMC) / parameter_mult \n",
    "  this means pos needs to be multiplied with parameter_mult to get the position in mm and orientation in deg\n",
    "'''\n",
    "cost, pos = optimizer.optimize(PSO_Objective, num_iterations, args=args)\n",
    "plotPSOResult(pos, args)"
   ]
  },
  {
   "cell_type": "code",
   "execution_count": null,
   "metadata": {},
   "outputs": [],
   "source": []
  }
 ],
 "metadata": {
  "kernelspec": {
   "display_name": "OpenSim44",
   "language": "python",
   "name": "python3"
  },
  "language_info": {
   "codemirror_mode": {
    "name": "ipython",
    "version": 3
   },
   "file_extension": ".py",
   "mimetype": "text/x-python",
   "name": "python",
   "nbconvert_exporter": "python",
   "pygments_lexer": "ipython3",
   "version": "3.8.16"
  }
 },
 "nbformat": 4,
 "nbformat_minor": 2
}
