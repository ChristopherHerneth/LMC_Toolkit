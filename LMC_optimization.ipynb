{
 "cells": [
  {
   "cell_type": "code",
   "execution_count": 1,
   "metadata": {},
   "outputs": [
    {
     "name": "stderr",
     "output_type": "stream",
     "text": [
      "2024-02-17 11:56:31,463 - numexpr.utils - INFO - Note: NumExpr detected 16 cores but \"NUMEXPR_MAX_THREADS\" not set, so enforcing safe limit of 8.\n",
      "2024-02-17 11:56:31,464 - numexpr.utils - INFO - NumExpr defaulting to 8 threads.\n"
     ]
    }
   ],
   "source": [
    "%load_ext autoreload\n",
    "%autoreload 2\n",
    " # then imported files are u pdated each time a cell is executed (good if functions in py files are added and modified)\n",
    "\n",
    "import scipy.io\n",
    "import numpy as np\n",
    "import plotly.graph_objects as go\n",
    "import sys\n",
    "import os\n",
    "\n",
    "from pyswarms.single.global_best import GlobalBestPSO\n",
    "\n",
    "\n",
    "os.add_dll_directory(\"C:/OpenSim4.4/bin\") # otherwise module _sombody not found error!\n",
    "\n",
    "sys.path.insert(0, '..')\n",
    "sys.path.insert(0, '...')\n",
    "\n",
    "from OsimPython.plotUtil import addArrow, addMarker\n",
    "from Paper_util.IROS_2024_LMC.LMC_util import plotLMC, make_LMC,  check_LMC_Hand_visibility\n",
    "from OsimPython.Hand_model import getHandModel, getHandMarkers, setHandPose, plot_hand, generate_hand_pose, generate_hand_poses"
   ]
  },
  {
   "cell_type": "code",
   "execution_count": 2,
   "metadata": {},
   "outputs": [],
   "source": [
    "# Make a Hand model\n",
    "HandModel = getHandModel()\n",
    "q = np.zeros(20)\n",
    "# set the thumb in a flat position\n",
    "q[0] = 0.4\n",
    "q[1] = -0.6\n",
    "q[2] = 0.1\n",
    "state = setHandPose(HandModel, q)"
   ]
  },
  {
   "cell_type": "code",
   "execution_count": 3,
   "metadata": {},
   "outputs": [
    {
     "data": {
      "application/vnd.plotly.v1+json": {
       "config": {
        "plotlyServerURL": "https://plot.ly"
       },
       "data": [
        {
         "marker": {
          "color": "blue",
          "size": 5
         },
         "mode": "markers+text",
         "text": [
          0,
          1,
          2,
          3,
          4,
          5,
          6,
          7,
          8,
          9,
          10,
          11,
          12,
          13,
          14,
          15,
          16,
          17,
          18,
          19,
          20,
          21,
          22,
          23,
          24,
          25
         ],
         "type": "scatter3d",
         "x": [
          -26.60752008267271,
          -11.397433658260654,
          -0.5505007987712001,
          -52.05603983214437,
          -35.75023332175329,
          -29.037280753281674,
          -25.100003275503752,
          -17.120160192210214,
          -66.03722396355232,
          -51.39260635879008,
          -49.17893030016894,
          -46.07575185154441,
          -31.343178331854315,
          -60.87943731967889,
          -60.23973535383321,
          -55.77134465842977,
          -41.77186188561658,
          -76.28046214285371,
          -65.52992819248796,
          -64.81808996273729,
          -64.55701117048258,
          -47.601311495162776,
          5.193386148996055,
          62.94335477354034,
          6.181998459614043,
          -6.18199845961408
         ],
         "y": [
          19.52346249673688,
          49.755074151230446,
          56.817572588471236,
          45.151708694736044,
          101.06765979356628,
          106.00970865269929,
          106.70851916579977,
          100.02754910613724,
          70.59598704131554,
          142.5988849328856,
          151.24683178976727,
          153.02023626997484,
          132.1800870555227,
          167.69355282001894,
          178.75788041972697,
          174.56459636999224,
          152.33805558371978,
          93.31082219015045,
          183.34728639961628,
          194.0461834411415,
          191.62288733791962,
          167.55865518272526,
          -191.97382897162404,
          -176.23562906806703,
          6.688204278236615,
          -6.688204278236529
         ],
         "z": [
          337.43273461131565,
          329.37441312325075,
          285.0501481713172,
          360.09277122061343,
          337.789505838904,
          316.74259462944707,
          296.80028111361327,
          278.0779827496374,
          369.9955024772343,
          341.2585907451833,
          321.6860708543624,
          300.37865490024825,
          280.0073150931287,
          341.6565345302175,
          324.1738229864211,
          302.72119071663786,
          283.9669471361783,
          375.9345786271959,
          342.8938886200082,
          325.77858095638726,
          303.82316324837916,
          285.66634265556087,
          257.81374652448574,
          242.20834960277756,
          275.6246611929916,
          324.3753388070085
         ]
        }
       ],
       "layout": {
        "height": 1024,
        "scene": {
         "aspectmode": "data",
         "aspectratio": {
          "x": 1,
          "y": 1,
          "z": 1
         },
         "camera": {
          "center": {
           "x": 0,
           "y": 0,
           "z": 0
          },
          "eye": {
           "x": -2,
           "y": -0.5,
           "z": 3
          },
          "up": {
           "x": 0,
           "y": 0,
           "z": 20
          }
         }
        },
        "template": {
         "data": {
          "bar": [
           {
            "error_x": {
             "color": "#2a3f5f"
            },
            "error_y": {
             "color": "#2a3f5f"
            },
            "marker": {
             "line": {
              "color": "#E5ECF6",
              "width": 0.5
             },
             "pattern": {
              "fillmode": "overlay",
              "size": 10,
              "solidity": 0.2
             }
            },
            "type": "bar"
           }
          ],
          "barpolar": [
           {
            "marker": {
             "line": {
              "color": "#E5ECF6",
              "width": 0.5
             },
             "pattern": {
              "fillmode": "overlay",
              "size": 10,
              "solidity": 0.2
             }
            },
            "type": "barpolar"
           }
          ],
          "carpet": [
           {
            "aaxis": {
             "endlinecolor": "#2a3f5f",
             "gridcolor": "white",
             "linecolor": "white",
             "minorgridcolor": "white",
             "startlinecolor": "#2a3f5f"
            },
            "baxis": {
             "endlinecolor": "#2a3f5f",
             "gridcolor": "white",
             "linecolor": "white",
             "minorgridcolor": "white",
             "startlinecolor": "#2a3f5f"
            },
            "type": "carpet"
           }
          ],
          "choropleth": [
           {
            "colorbar": {
             "outlinewidth": 0,
             "ticks": ""
            },
            "type": "choropleth"
           }
          ],
          "contour": [
           {
            "colorbar": {
             "outlinewidth": 0,
             "ticks": ""
            },
            "colorscale": [
             [
              0,
              "#0d0887"
             ],
             [
              0.1111111111111111,
              "#46039f"
             ],
             [
              0.2222222222222222,
              "#7201a8"
             ],
             [
              0.3333333333333333,
              "#9c179e"
             ],
             [
              0.4444444444444444,
              "#bd3786"
             ],
             [
              0.5555555555555556,
              "#d8576b"
             ],
             [
              0.6666666666666666,
              "#ed7953"
             ],
             [
              0.7777777777777778,
              "#fb9f3a"
             ],
             [
              0.8888888888888888,
              "#fdca26"
             ],
             [
              1,
              "#f0f921"
             ]
            ],
            "type": "contour"
           }
          ],
          "contourcarpet": [
           {
            "colorbar": {
             "outlinewidth": 0,
             "ticks": ""
            },
            "type": "contourcarpet"
           }
          ],
          "heatmap": [
           {
            "colorbar": {
             "outlinewidth": 0,
             "ticks": ""
            },
            "colorscale": [
             [
              0,
              "#0d0887"
             ],
             [
              0.1111111111111111,
              "#46039f"
             ],
             [
              0.2222222222222222,
              "#7201a8"
             ],
             [
              0.3333333333333333,
              "#9c179e"
             ],
             [
              0.4444444444444444,
              "#bd3786"
             ],
             [
              0.5555555555555556,
              "#d8576b"
             ],
             [
              0.6666666666666666,
              "#ed7953"
             ],
             [
              0.7777777777777778,
              "#fb9f3a"
             ],
             [
              0.8888888888888888,
              "#fdca26"
             ],
             [
              1,
              "#f0f921"
             ]
            ],
            "type": "heatmap"
           }
          ],
          "heatmapgl": [
           {
            "colorbar": {
             "outlinewidth": 0,
             "ticks": ""
            },
            "colorscale": [
             [
              0,
              "#0d0887"
             ],
             [
              0.1111111111111111,
              "#46039f"
             ],
             [
              0.2222222222222222,
              "#7201a8"
             ],
             [
              0.3333333333333333,
              "#9c179e"
             ],
             [
              0.4444444444444444,
              "#bd3786"
             ],
             [
              0.5555555555555556,
              "#d8576b"
             ],
             [
              0.6666666666666666,
              "#ed7953"
             ],
             [
              0.7777777777777778,
              "#fb9f3a"
             ],
             [
              0.8888888888888888,
              "#fdca26"
             ],
             [
              1,
              "#f0f921"
             ]
            ],
            "type": "heatmapgl"
           }
          ],
          "histogram": [
           {
            "marker": {
             "pattern": {
              "fillmode": "overlay",
              "size": 10,
              "solidity": 0.2
             }
            },
            "type": "histogram"
           }
          ],
          "histogram2d": [
           {
            "colorbar": {
             "outlinewidth": 0,
             "ticks": ""
            },
            "colorscale": [
             [
              0,
              "#0d0887"
             ],
             [
              0.1111111111111111,
              "#46039f"
             ],
             [
              0.2222222222222222,
              "#7201a8"
             ],
             [
              0.3333333333333333,
              "#9c179e"
             ],
             [
              0.4444444444444444,
              "#bd3786"
             ],
             [
              0.5555555555555556,
              "#d8576b"
             ],
             [
              0.6666666666666666,
              "#ed7953"
             ],
             [
              0.7777777777777778,
              "#fb9f3a"
             ],
             [
              0.8888888888888888,
              "#fdca26"
             ],
             [
              1,
              "#f0f921"
             ]
            ],
            "type": "histogram2d"
           }
          ],
          "histogram2dcontour": [
           {
            "colorbar": {
             "outlinewidth": 0,
             "ticks": ""
            },
            "colorscale": [
             [
              0,
              "#0d0887"
             ],
             [
              0.1111111111111111,
              "#46039f"
             ],
             [
              0.2222222222222222,
              "#7201a8"
             ],
             [
              0.3333333333333333,
              "#9c179e"
             ],
             [
              0.4444444444444444,
              "#bd3786"
             ],
             [
              0.5555555555555556,
              "#d8576b"
             ],
             [
              0.6666666666666666,
              "#ed7953"
             ],
             [
              0.7777777777777778,
              "#fb9f3a"
             ],
             [
              0.8888888888888888,
              "#fdca26"
             ],
             [
              1,
              "#f0f921"
             ]
            ],
            "type": "histogram2dcontour"
           }
          ],
          "mesh3d": [
           {
            "colorbar": {
             "outlinewidth": 0,
             "ticks": ""
            },
            "type": "mesh3d"
           }
          ],
          "parcoords": [
           {
            "line": {
             "colorbar": {
              "outlinewidth": 0,
              "ticks": ""
             }
            },
            "type": "parcoords"
           }
          ],
          "pie": [
           {
            "automargin": true,
            "type": "pie"
           }
          ],
          "scatter": [
           {
            "fillpattern": {
             "fillmode": "overlay",
             "size": 10,
             "solidity": 0.2
            },
            "type": "scatter"
           }
          ],
          "scatter3d": [
           {
            "line": {
             "colorbar": {
              "outlinewidth": 0,
              "ticks": ""
             }
            },
            "marker": {
             "colorbar": {
              "outlinewidth": 0,
              "ticks": ""
             }
            },
            "type": "scatter3d"
           }
          ],
          "scattercarpet": [
           {
            "marker": {
             "colorbar": {
              "outlinewidth": 0,
              "ticks": ""
             }
            },
            "type": "scattercarpet"
           }
          ],
          "scattergeo": [
           {
            "marker": {
             "colorbar": {
              "outlinewidth": 0,
              "ticks": ""
             }
            },
            "type": "scattergeo"
           }
          ],
          "scattergl": [
           {
            "marker": {
             "colorbar": {
              "outlinewidth": 0,
              "ticks": ""
             }
            },
            "type": "scattergl"
           }
          ],
          "scattermapbox": [
           {
            "marker": {
             "colorbar": {
              "outlinewidth": 0,
              "ticks": ""
             }
            },
            "type": "scattermapbox"
           }
          ],
          "scatterpolar": [
           {
            "marker": {
             "colorbar": {
              "outlinewidth": 0,
              "ticks": ""
             }
            },
            "type": "scatterpolar"
           }
          ],
          "scatterpolargl": [
           {
            "marker": {
             "colorbar": {
              "outlinewidth": 0,
              "ticks": ""
             }
            },
            "type": "scatterpolargl"
           }
          ],
          "scatterternary": [
           {
            "marker": {
             "colorbar": {
              "outlinewidth": 0,
              "ticks": ""
             }
            },
            "type": "scatterternary"
           }
          ],
          "surface": [
           {
            "colorbar": {
             "outlinewidth": 0,
             "ticks": ""
            },
            "colorscale": [
             [
              0,
              "#0d0887"
             ],
             [
              0.1111111111111111,
              "#46039f"
             ],
             [
              0.2222222222222222,
              "#7201a8"
             ],
             [
              0.3333333333333333,
              "#9c179e"
             ],
             [
              0.4444444444444444,
              "#bd3786"
             ],
             [
              0.5555555555555556,
              "#d8576b"
             ],
             [
              0.6666666666666666,
              "#ed7953"
             ],
             [
              0.7777777777777778,
              "#fb9f3a"
             ],
             [
              0.8888888888888888,
              "#fdca26"
             ],
             [
              1,
              "#f0f921"
             ]
            ],
            "type": "surface"
           }
          ],
          "table": [
           {
            "cells": {
             "fill": {
              "color": "#EBF0F8"
             },
             "line": {
              "color": "white"
             }
            },
            "header": {
             "fill": {
              "color": "#C8D4E3"
             },
             "line": {
              "color": "white"
             }
            },
            "type": "table"
           }
          ]
         },
         "layout": {
          "annotationdefaults": {
           "arrowcolor": "#2a3f5f",
           "arrowhead": 0,
           "arrowwidth": 1
          },
          "autotypenumbers": "strict",
          "coloraxis": {
           "colorbar": {
            "outlinewidth": 0,
            "ticks": ""
           }
          },
          "colorscale": {
           "diverging": [
            [
             0,
             "#8e0152"
            ],
            [
             0.1,
             "#c51b7d"
            ],
            [
             0.2,
             "#de77ae"
            ],
            [
             0.3,
             "#f1b6da"
            ],
            [
             0.4,
             "#fde0ef"
            ],
            [
             0.5,
             "#f7f7f7"
            ],
            [
             0.6,
             "#e6f5d0"
            ],
            [
             0.7,
             "#b8e186"
            ],
            [
             0.8,
             "#7fbc41"
            ],
            [
             0.9,
             "#4d9221"
            ],
            [
             1,
             "#276419"
            ]
           ],
           "sequential": [
            [
             0,
             "#0d0887"
            ],
            [
             0.1111111111111111,
             "#46039f"
            ],
            [
             0.2222222222222222,
             "#7201a8"
            ],
            [
             0.3333333333333333,
             "#9c179e"
            ],
            [
             0.4444444444444444,
             "#bd3786"
            ],
            [
             0.5555555555555556,
             "#d8576b"
            ],
            [
             0.6666666666666666,
             "#ed7953"
            ],
            [
             0.7777777777777778,
             "#fb9f3a"
            ],
            [
             0.8888888888888888,
             "#fdca26"
            ],
            [
             1,
             "#f0f921"
            ]
           ],
           "sequentialminus": [
            [
             0,
             "#0d0887"
            ],
            [
             0.1111111111111111,
             "#46039f"
            ],
            [
             0.2222222222222222,
             "#7201a8"
            ],
            [
             0.3333333333333333,
             "#9c179e"
            ],
            [
             0.4444444444444444,
             "#bd3786"
            ],
            [
             0.5555555555555556,
             "#d8576b"
            ],
            [
             0.6666666666666666,
             "#ed7953"
            ],
            [
             0.7777777777777778,
             "#fb9f3a"
            ],
            [
             0.8888888888888888,
             "#fdca26"
            ],
            [
             1,
             "#f0f921"
            ]
           ]
          },
          "colorway": [
           "#636efa",
           "#EF553B",
           "#00cc96",
           "#ab63fa",
           "#FFA15A",
           "#19d3f3",
           "#FF6692",
           "#B6E880",
           "#FF97FF",
           "#FECB52"
          ],
          "font": {
           "color": "#2a3f5f"
          },
          "geo": {
           "bgcolor": "white",
           "lakecolor": "white",
           "landcolor": "#E5ECF6",
           "showlakes": true,
           "showland": true,
           "subunitcolor": "white"
          },
          "hoverlabel": {
           "align": "left"
          },
          "hovermode": "closest",
          "mapbox": {
           "style": "light"
          },
          "paper_bgcolor": "white",
          "plot_bgcolor": "#E5ECF6",
          "polar": {
           "angularaxis": {
            "gridcolor": "white",
            "linecolor": "white",
            "ticks": ""
           },
           "bgcolor": "#E5ECF6",
           "radialaxis": {
            "gridcolor": "white",
            "linecolor": "white",
            "ticks": ""
           }
          },
          "scene": {
           "xaxis": {
            "backgroundcolor": "#E5ECF6",
            "gridcolor": "white",
            "gridwidth": 2,
            "linecolor": "white",
            "showbackground": true,
            "ticks": "",
            "zerolinecolor": "white"
           },
           "yaxis": {
            "backgroundcolor": "#E5ECF6",
            "gridcolor": "white",
            "gridwidth": 2,
            "linecolor": "white",
            "showbackground": true,
            "ticks": "",
            "zerolinecolor": "white"
           },
           "zaxis": {
            "backgroundcolor": "#E5ECF6",
            "gridcolor": "white",
            "gridwidth": 2,
            "linecolor": "white",
            "showbackground": true,
            "ticks": "",
            "zerolinecolor": "white"
           }
          },
          "shapedefaults": {
           "line": {
            "color": "#2a3f5f"
           }
          },
          "ternary": {
           "aaxis": {
            "gridcolor": "white",
            "linecolor": "white",
            "ticks": ""
           },
           "baxis": {
            "gridcolor": "white",
            "linecolor": "white",
            "ticks": ""
           },
           "bgcolor": "#E5ECF6",
           "caxis": {
            "gridcolor": "white",
            "linecolor": "white",
            "ticks": ""
           }
          },
          "title": {
           "x": 0.05
          },
          "xaxis": {
           "automargin": true,
           "gridcolor": "white",
           "linecolor": "white",
           "ticks": "",
           "title": {
            "standoff": 15
           },
           "zerolinecolor": "white",
           "zerolinewidth": 2
          },
          "yaxis": {
           "automargin": true,
           "gridcolor": "white",
           "linecolor": "white",
           "ticks": "",
           "title": {
            "standoff": 15
           },
           "zerolinecolor": "white",
           "zerolinewidth": 2
          }
         }
        },
        "width": 1024
       }
      }
     },
     "metadata": {},
     "output_type": "display_data"
    }
   ],
   "source": [
    "handMarkers, palmMarkers, palmPlnNormals, palmCentroids, fingers = generate_hand_poses(HandModel, state, num_poses=1, x_limits=[0, 0], y_limits=[0, 0], z_limits=[300, 300], limitsPS=[-70, 70], limis_FE=[-60, 60], limits_WD=[-60, 60])    \n",
    "fig = go.Figure()\n",
    "for pos_markers in handMarkers:\n",
    "    fig = plot_hand(fig, pos_markers)\n",
    "fig.show()"
   ]
  },
  {
   "cell_type": "code",
   "execution_count": 55,
   "metadata": {},
   "outputs": [
    {
     "name": "stderr",
     "output_type": "stream",
     "text": [
      "2024-02-17 13:01:12,264 - pyswarms.single.global_best - INFO - Optimize for 100 iters with {'c1': 0.5, 'c2': 0.3, 'w': 0.6}\n",
      "pyswarms.single.global_best:   0%|          |0/100d:\\Dokumente\\Projects\\HULD\\Paper_util\\IROS_2024_LMC\\LMC_util.py:218: RuntimeWarning:\n",
      "\n",
      "invalid value encountered in arccos\n",
      "\n",
      "pyswarms.single.global_best: 100%|██████████|100/100, best_cost=0.0206\n",
      "2024-02-17 13:10:05,808 - pyswarms.single.global_best - INFO - Optimization finished | best cost: 0.020552181613429567, best pos: [ 0.15064258  0.14589982 -0.22812142  0.60887537 -0.16545953 -0.12516035\n",
      " -0.01322021 -0.01994919  0.31480264  0.22484185  0.25171776  0.03127642\n",
      " -0.06442255  0.38986011  0.23742635 -0.05655378]\n"
     ]
    }
   ],
   "source": [
    "# Make a Hand model\n",
    "HandModel = getHandModel()\n",
    "q = np.zeros(20)\n",
    "# set the thumb in a flat position\n",
    "q[0] = 0.4\n",
    "q[1] = -0.6\n",
    "q[2] = 0.1\n",
    "state = setHandPose(HandModel, q)\n",
    "\n",
    "# Input parameter\n",
    "fingers_idx = np.array([[0,3,8,17], #thumb (root to tip)\n",
    "                    [4,9,13,18], #index\n",
    "                    [5,10,14,19], #middle\n",
    "                    [6,11,15,20], #ring\n",
    "                    [7,12,16,21]]) #pinky\n",
    "    \n",
    "finger_radius = 10 # mm\n",
    "LMC_H = 600 # mm\n",
    "\n",
    "num_LMC = 4\n",
    "# Generate data\n",
    "num_poses = 10\n",
    "handMarkers, palmMarkers, palmPlnNormals, palmCentroids, fingers = generate_hand_poses(HandModel, state, num_poses=num_poses, \n",
    "                                                                                       x_limits=[0, 0], y_limits=[0, 0], z_limits=[300, 300],\n",
    "                                                                                         limitsPS=[-70, 70], limis_FE=[-60, 60], limits_WD=[-60, 60])\n",
    "#handMarkers, palmMarkers, palmPlnNormals, palmCentroids, fingers = generate_hand_pose(HandModel, state, pos=np.array([0, -100, 300]), PS=90, FE=0, WD=0)\n",
    "\n",
    "data = [handMarkers, palmMarkers, palmPlnNormals, palmCentroids, fingers]\n",
    "\n",
    "# optimization\n",
    "def fun(x, args):\n",
    "    pos = x*mult\n",
    "    cost = []\n",
    "    data = args\n",
    "    for xx in pos: # for each particle\n",
    "        LMCs = [make_LMC(LMC_loc=np.array([xx[0+4*l], xx[1+4*l], 0]), LMC_orient=[xx[2+4*l], 0, xx[3+4*l]], LMC_H=LMC_H) for l in range(num_LMC)]\n",
    "        occlusions = np.zeros([num_poses, num_LMC, 7])\n",
    "        for lm, LMC in enumerate(LMCs):\n",
    "            for i in range(num_poses):\n",
    "                occlusions[i, lm] = check_LMC_Hand_visibility(LMC, pos_markers=data[0][i], fingers_idx=fingers_idx, finger_lines=data[4][0], \n",
    "                                                              finger_radius=finger_radius, palm_plane_normal=data[2][i], palm_centroid=data[3][i], \n",
    "                                                              palm_markers=data[1][i])\n",
    "\n",
    "        occlusions = np.array(occlusions).astype(np.int16)\n",
    "        #print(occlusions.shape) # num_poses, num_LMC, num\n",
    "        vis = np.sum(occlusions, axis = 1)[:, 2:] # how many LMCs see each finger for each pose\n",
    "        #print(vis.shape)\n",
    "        vis = np.min(vis, axis=1) # take the minimum of each pose: e.g in pose i there is a finger that is only seen by 1 LMC -> this pose will get the value 1\n",
    "        #print(vis)\n",
    "        vis_LMC = np.zeros(fingers_idx.shape[0]) # counts how many poses have 1, 2, 3, 4, 5  fngers not seen byy any LMC\n",
    "        unique, counts = np.unique(vis, return_counts=True)\n",
    "        #print(vis_LMC, unique, counts)\n",
    "        vis_LMC[unique] = counts\n",
    "\n",
    "        met = 0\n",
    "        '''\n",
    "            this metrics functions in the following\n",
    "            the number of poses having a finger that is not seen by and LMC is punished the most \n",
    "        '''\n",
    "        # for f in range(fingers_idx.shape[0]-1): # for each finger:\n",
    "        #     print(f, f+1)\n",
    "        #     met += (vis_LMC[f] + 1) / (num_poses ** (f+1))\n",
    "        # met /= (num_poses ** (fingers_idx.shape[0]-2)) \n",
    "\n",
    "        # maximize the global visibility of all fingers\n",
    "        met += vis_LMC[0] / num_poses\n",
    "        met += vis_LMC[1] / num_poses ** 2\n",
    "        met += vis_LMC[2] / num_poses ** 3\n",
    "        met += vis_LMC[3] / num_poses ** 4\n",
    "        #met *= num_poses\n",
    "\n",
    "        # maximize the local visibility of fingers in an LMC\n",
    "        for lm, LMC in enumerate(LMCs):\n",
    "            met_ = 0\n",
    "            vis = np.sum(occlusions, axis = 1)[lm, 2:] # how many LMCs see each finger for each pose\n",
    "            vis_LMC = np.zeros(fingers_idx.shape[0]) # counts how many poses have 1, 2, 3, 4, 5  fngers not seen byy any LMC\n",
    "            unique, counts = np.unique(vis, return_counts=True)\n",
    "            vis_LMC[unique] = counts\n",
    "\n",
    "            met_ += vis_LMC[0] / num_poses\n",
    "            met_ += vis_LMC[1] / num_poses ** 2\n",
    "            met_ += vis_LMC[2] / num_poses ** 3\n",
    "            met_ += vis_LMC[3] / num_poses ** 4\n",
    "            #met_ *= num_poses ** 4\n",
    "            #met += met_\n",
    "            \n",
    "            # penalize large LMC elevations \n",
    "            a_met = np.sum(np.abs(x[0, [2+4*lm, 3+4*lm]])) / (num_LMC*2*10) * met_\n",
    "            met += a_met\n",
    "            \n",
    "            # maximize distance between LMCs (volume... to some extent)\n",
    "            d_met = 0\n",
    "            for lmm in range(num_LMC):\n",
    "                if lmm == lm:\n",
    "                    continue\n",
    "                d_met += np.linalg.norm(LMCs[lm][0]-LMCs[lmm][0]) / (1000*num_LMC*100) * met_\n",
    "            met -= d_met\n",
    "            \n",
    "        # penalize large LMC elevations \n",
    "        #a_met = np.sum(np.abs(x*np.array([0, 0, 1, 1]*num_LMC))) / (num_LMC*2*10)\n",
    "        \n",
    "        # # maximize distance between LMCs (volume... to some extent)\n",
    "        # ds = 0\n",
    "        # for lm in range(num_LMC):\n",
    "        #     for lmm in range(lm, num_LMC):\n",
    "        #         ds += np.linalg.norm(LMCs[lm][0]-LMCs[lmm][0]) / 1000\n",
    "        # met -= ds * 10\n",
    "\n",
    "        # try to maximize the distance from the LMCs to the center   \n",
    "        # for lm, LMC in enumerate(LMCs):\n",
    "        #     met -= np.linalg.norm(LMC[0]) / 1000 \n",
    "        cost.append(met)\n",
    "    return cost\n",
    "\n",
    "mult = np.array([1000, 1000, 90, 180]*num_LMC)\n",
    "\n",
    "# instatiate the optimizer\n",
    "options = {'c1': 0.5, 'c2': 0.3, 'w': 0.6}\n",
    "x_max = np.array([1, 1, 1, 1]*num_LMC)\n",
    "x_min = np.array([-1, -1, -1, -1]*num_LMC)\n",
    "bounds = (x_min, x_max)\n",
    "optimizer = GlobalBestPSO(n_particles=10, dimensions=4*num_LMC, options=options, bounds=bounds)\n",
    "\n",
    "# now run the optimization, pass a=1 and b=100 as a tuple assigned to args\n",
    "cost, pos = optimizer.optimize(fun, 100, args=(data))\n",
    "\n"
   ]
  },
  {
   "cell_type": "code",
   "execution_count": 61,
   "metadata": {},
   "outputs": [
    {
     "name": "stderr",
     "output_type": "stream",
     "text": [
      "d:\\Dokumente\\Projects\\HULD\\Paper_util\\IROS_2024_LMC\\LMC_util.py:233: RuntimeWarning:\n",
      "\n",
      "invalid value encountered in arccos\n",
      "\n"
     ]
    },
    {
     "name": "stdout",
     "output_type": "stream",
     "text": [
      "_________________________________\n",
      "POS:  0\n",
      "[0. 0. 0. 0. 0.] 0.0\n",
      "[1. 1. 1. 1. 1.] 5.0\n",
      "[1. 1. 1. 1. 1.] 5.0\n",
      "[1. 1. 1. 1. 1.] 5.0\n",
      "Best LMC:  [1 2 3]\n",
      "_________________________________\n",
      "POS:  1\n",
      "[1. 1. 1. 1. 1.] 5.0\n",
      "[1. 1. 1. 1. 1.] 5.0\n",
      "[1. 1. 1. 1. 1.] 5.0\n",
      "[1. 1. 1. 1. 1.] 5.0\n",
      "Best LMC:  [0 1 2 3]\n",
      "_________________________________\n",
      "POS:  2\n",
      "[0. 0. 0. 0. 0.] 0.0\n",
      "[1. 0. 1. 1. 0.] 3.0\n",
      "[1. 0. 1. 1. 0.] 3.0\n",
      "[1. 1. 0. 0. 1.] 3.0\n",
      "Best LMC:  [1 2 3]\n",
      "_________________________________\n",
      "POS:  3\n",
      "[1. 1. 1. 1. 1.] 5.0\n",
      "[1. 1. 1. 1. 1.] 5.0\n",
      "[1. 1. 1. 1. 1.] 5.0\n",
      "[1. 1. 1. 1. 1.] 5.0\n",
      "Best LMC:  [0 1 2 3]\n",
      "_________________________________\n",
      "POS:  4\n",
      "[0. 0. 0. 0. 0.] 0.0\n",
      "[1. 1. 1. 1. 1.] 5.0\n",
      "[1. 1. 1. 1. 1.] 5.0\n",
      "[1. 1. 1. 1. 1.] 5.0\n",
      "Best LMC:  [1 2 3]\n",
      "_________________________________\n",
      "POS:  5\n",
      "[1. 1. 1. 1. 1.] 5.0\n",
      "[1. 1. 1. 1. 1.] 5.0\n",
      "[0. 0. 0. 0. 0.] 0.0\n",
      "[1. 1. 1. 1. 1.] 5.0\n",
      "Best LMC:  [0 1 3]\n",
      "_________________________________\n",
      "POS:  6\n",
      "[0. 0. 0. 0. 0.] 0.0\n",
      "[1. 1. 1. 0. 0.] 3.0\n",
      "[1. 1. 1. 0. 1.] 4.0\n",
      "[1. 1. 1. 1. 0.] 4.0\n",
      "Best LMC:  [2 3]\n",
      "_________________________________\n",
      "POS:  7\n",
      "[1. 1. 1. 1. 1.] 5.0\n",
      "[1. 1. 1. 1. 1.] 5.0\n",
      "[0. 0. 0. 0. 0.] 0.0\n",
      "[1. 1. 1. 1. 1.] 5.0\n",
      "Best LMC:  [0 1 3]\n",
      "_________________________________\n",
      "POS:  8\n",
      "[0. 0. 0. 0. 0.] 0.0\n",
      "[1. 1. 1. 1. 1.] 5.0\n",
      "[1. 1. 1. 1. 1.] 5.0\n",
      "[1. 1. 1. 1. 1.] 5.0\n",
      "Best LMC:  [1 2 3]\n",
      "_________________________________\n",
      "POS:  9\n",
      "[0. 0. 0. 0. 0.] 0.0\n",
      "[1. 1. 1. 1. 1.] 5.0\n",
      "[1. 1. 1. 1. 1.] 5.0\n",
      "[1. 1. 1. 1. 1.] 5.0\n",
      "Best LMC:  [1 2 3]\n",
      "[ 4.  9.  8. 10.]\n",
      "[[3 3 3 3 3]\n",
      " [4 4 4 4 4]\n",
      " [3 1 2 2 1]\n",
      " [4 4 4 4 4]\n",
      " [3 3 3 3 3]\n",
      " [3 3 3 3 3]\n",
      " [3 3 3 1 1]\n",
      " [3 3 3 3 3]\n",
      " [3 3 3 3 3]\n",
      " [3 3 3 3 3]]\n"
     ]
    },
    {
     "data": {
      "application/vnd.plotly.v1+json": {
       "config": {
        "plotlyServerURL": "https://plot.ly"
       },
       "data": [
        {
         "marker": {
          "color": "red",
          "size": 5
         },
         "mode": "markers+text",
         "type": "scatter3d",
         "x": [
          150.6425782042548
         ],
         "y": [
          145.89981540765856
         ],
         "z": [
          0
         ]
        },
        {
         "line": {
          "color": "red",
          "width": 2
         },
         "mode": "lines",
         "type": "scatter3d",
         "x": [
          150.6425782042548,
          509.94586418883125,
          null
         ],
         "y": [
          145.89981540765856,
          273.82476381827183,
          null
         ],
         "z": [
          0,
          463.1806950368588,
          null
         ]
        },
        {
         "colorscale": [
          [
           0,
           "red"
          ],
          [
           1,
           "red"
          ]
         ],
         "showlegend": false,
         "showscale": false,
         "type": "cone",
         "u": [
          107.79098579537293
         ],
         "v": [
          38.37748452318398
         ],
         "w": [
          138.95420851105763
         ],
         "x": [
          502.7597984691397
         ],
         "y": [
          271.26626485005954
         ],
         "z": [
          453.9170811361216
         ]
        },
        {
         "marker": {
          "color": "red",
          "size": 5
         },
         "mode": "markers+text",
         "type": "scatter3d",
         "x": [
          150.6425782042548
         ],
         "y": [
          145.89981540765856
         ],
         "z": [
          0
         ]
        },
        {
         "line": {
          "color": "red",
          "width": 2
         },
         "mode": "lines",
         "type": "scatter3d",
         "x": [
          150.6425782042548,
          -95.05481283009408,
          null
         ],
         "y": [
          145.89981540765856,
          673.615223461499,
          null
         ],
         "z": [
          0,
          145.4277832516295,
          null
         ]
        },
        {
         "colorscale": [
          [
           0,
           "red"
          ],
          [
           1,
           "red"
          ]
         ],
         "showlegend": false,
         "showscale": false,
         "type": "cone",
         "u": [
          -73.70921731030465
         ],
         "v": [
          158.3146224161521
         ],
         "w": [
          43.62833497548885
         ],
         "x": [
          -90.1408650094071
         ],
         "y": [
          663.0609153004222
         ],
         "z": [
          142.5192275865969
         ]
        },
        {
         "marker": {
          "color": "red",
          "size": 5
         },
         "mode": "markers+text",
         "type": "scatter3d",
         "x": [
          150.6425782042548
         ],
         "y": [
          145.89981540765856
         ],
         "z": [
          0
         ]
        },
        {
         "line": {
          "color": "red",
          "width": 2
         },
         "mode": "lines",
         "type": "scatter3d",
         "x": [
          150.6425782042548,
          -406.89875181901294,
          null
         ],
         "y": [
          145.89981540765856,
          -52.60503735083498,
          null
         ],
         "z": [
          0,
          98.70911177401214,
          null
         ]
        },
        {
         "colorscale": [
          [
           0,
           "red"
          ],
          [
           1,
           "red"
          ]
         ],
         "showlegend": false,
         "showscale": false,
         "type": "cone",
         "u": [
          -167.2623990069803
         ],
         "v": [
          -59.55145582754806
         ],
         "w": [
          29.61273353220364
         ],
         "x": [
          -395.74792521854755
         ],
         "y": [
          -48.6349402956651
         ],
         "z": [
          96.7349295385319
         ]
        },
        {
         "marker": {
          "color": "red",
          "size": 5
         },
         "mode": "markers+text",
         "type": "scatter3d",
         "x": [
          150.6425782042548
         ],
         "y": [
          145.89981540765856
         ],
         "z": [
          0
         ]
        },
        {
         "line": {
          "color": "red",
          "width": 2
         },
         "mode": "lines",
         "type": "scatter3d",
         "x": [
          150.6425782042548,
          293.72440671643255,
          null
         ],
         "y": [
          145.89981540765856,
          -418.3504395396732,
          null
         ],
         "z": [
          0,
          145.42778325162953,
          null
         ]
        },
        {
         "colorscale": [
          [
           0,
           "red"
          ],
          [
           1,
           "red"
          ]
         ],
         "showlegend": false,
         "showscale": false,
         "type": "cone",
         "u": [
          42.92454855365333
         ],
         "v": [
          -169.27507648419953
         ],
         "w": [
          43.62833497548886
         ],
         "x": [
          290.862770146189
         ],
         "y": [
          -407.06543444072656
         ],
         "z": [
          142.51922758659694
         ]
        },
        {
         "marker": {
          "color": "red",
          "size": 5
         },
         "mode": "markers+text",
         "text": "0d",
         "type": "scatter3d",
         "x": [
          330.29422119654305
         ],
         "y": [
          209.86228961296518
         ],
         "z": [
          231.5903475184294
         ]
        },
        {
         "marker": {
          "color": "red",
          "size": 5
         },
         "mode": "markers+text",
         "text": "1d",
         "type": "scatter3d",
         "x": [
          -95.05481283009408
         ],
         "y": [
          673.615223461499
         ],
         "z": [
          145.4277832516295
         ]
        },
        {
         "marker": {
          "color": "red",
          "size": 5
         },
         "mode": "markers+text",
         "text": "2d",
         "type": "scatter3d",
         "x": [
          -128.12808680737908
         ],
         "y": [
          46.647389028411794
         ],
         "z": [
          49.35455588700607
         ]
        },
        {
         "marker": {
          "color": "red",
          "size": 5
         },
         "mode": "markers+text",
         "text": "3d",
         "type": "scatter3d",
         "x": [
          293.72440671643255
         ],
         "y": [
          -418.3504395396732
         ],
         "z": [
          145.42778325162953
         ]
        },
        {
         "marker": {
          "color": "gray",
          "size": 5
         },
         "mode": "markers+text",
         "type": "scatter3d",
         "x": [
          150.6425782042548
         ],
         "y": [
          145.89981540765856
         ],
         "z": [
          0
         ]
        },
        {
         "line": {
          "color": "gray",
          "width": 2
         },
         "mode": "lines",
         "type": "scatter3d",
         "x": [
          150.6425782042548,
          -378.6979076529331,
          null
         ],
         "y": [
          145.89981540765856,
          -42.56451816884123,
          null
         ],
         "z": [
          0,
          -210.42776670877365,
          null
         ]
        },
        {
         "colorscale": [
          [
           0,
           "gray"
          ],
          [
           1,
           "gray"
          ]
         ],
         "showlegend": false,
         "showscale": false,
         "type": "cone",
         "u": [
          -158.80214575715635
         ],
         "v": [
          -56.539300072949935
         ],
         "w": [
          -63.12833001263209
         ],
         "x": [
          -368.11109793578936
         ],
         "y": [
          -38.79523149731122
         ],
         "z": [
          -206.21921137459816
         ]
        },
        {
         "marker": {
          "color": "red",
          "size": 5
         },
         "mode": "markers+text",
         "text": "LMC_0",
         "type": "scatter3d",
         "x": [
          150.6425782042548
         ],
         "y": [
          145.89981540765856
         ],
         "z": [
          0
         ]
        },
        {
         "marker": {
          "color": "blue",
          "size": 5
         },
         "mode": "markers+text",
         "type": "scatter3d",
         "x": [
          -165.45952866976432
         ],
         "y": [
          -125.16035054305222
         ],
         "z": [
          0
         ]
        },
        {
         "line": {
          "color": "blue",
          "width": 2
         },
         "mode": "lines",
         "type": "scatter3d",
         "x": [
          -165.45952866976432,
          -197.6064891670898,
          null
         ],
         "y": [
          -125.16035054305222,
          -637.4264380482459,
          null
         ],
         "z": [
          0,
          310.7250046631339,
          null
         ]
        },
        {
         "colorscale": [
          [
           0,
           "blue"
          ],
          [
           1,
           "blue"
          ]
         ],
         "showlegend": false,
         "showscale": false,
         "type": "cone",
         "u": [
          -9.64408814919764
         ],
         "v": [
          -153.6798262515581
         ],
         "w": [
          93.21750139894017
         ],
         "x": [
          -196.96354995714327
         ],
         "y": [
          -627.181116298142
         ],
         "z": [
          304.5105045698712
         ]
        },
        {
         "marker": {
          "color": "blue",
          "size": 5
         },
         "mode": "markers+text",
         "type": "scatter3d",
         "x": [
          -165.45952866976432
         ],
         "y": [
          -125.16035054305222
         ],
         "z": [
          0
         ]
        },
        {
         "line": {
          "color": "blue",
          "width": 2
         },
         "mode": "lines",
         "type": "scatter3d",
         "x": [
          -165.45952866976432,
          413.1601079418203,
          null
         ],
         "y": [
          -125.16035054305222,
          -158.24035641394673,
          null
         ],
         "z": [
          0,
          155.25794452799937,
          null
         ]
        },
        {
         "colorscale": [
          [
           0,
           "blue"
          ],
          [
           1,
           "blue"
          ]
         ],
         "showlegend": false,
         "showscale": false,
         "type": "cone",
         "u": [
          173.58589098347537
         ],
         "v": [
          -9.924001761268352
         ],
         "w": [
          46.57738335839981
         ],
         "x": [
          401.58771520958857
         ],
         "y": [
          -157.57875629652884
         ],
         "z": [
          152.1527856374394
         ]
        },
        {
         "marker": {
          "color": "blue",
          "size": 5
         },
         "mode": "markers+text",
         "type": "scatter3d",
         "x": [
          -165.45952866976432
         ],
         "y": [
          -125.16035054305222
         ],
         "z": [
          0
         ]
        },
        {
         "line": {
          "color": "blue",
          "width": 2
         },
         "mode": "lines",
         "type": "scatter3d",
         "x": [
          -165.45952866976432,
          -132.5322547246713,
          null
         ],
         "y": [
          -125.16035054305222,
          399.54013544746124,
          null
         ],
         "z": [
          0,
          289.1456287614666,
          null
         ]
        },
        {
         "colorscale": [
          [
           0,
           "blue"
          ],
          [
           1,
           "blue"
          ]
         ],
         "showlegend": false,
         "showscale": false,
         "type": "cone",
         "u": [
          9.878182183527906
         ],
         "v": [
          157.41014579715403
         ],
         "w": [
          86.74368862843997
         ],
         "x": [
          -133.19080020357316
         ],
         "y": [
          389.046125727651
         ],
         "z": [
          283.36271618623726
         ]
        },
        {
         "marker": {
          "color": "blue",
          "size": 5
         },
         "mode": "markers+text",
         "type": "scatter3d",
         "x": [
          -165.45952866976432
         ],
         "y": [
          -125.16035054305222
         ],
         "z": [
          0
         ]
        },
        {
         "line": {
          "color": "blue",
          "width": 2
         },
         "mode": "lines",
         "type": "scatter3d",
         "x": [
          -165.45952866976432,
          -743.6752453184854,
          null
         ],
         "y": [
          -125.16035054305222,
          -85.64382638736836,
          null
         ],
         "z": [
          0,
          155.25794452799943,
          null
         ]
        },
        {
         "colorscale": [
          [
           0,
           "blue"
          ],
          [
           1,
           "blue"
          ]
         ],
         "showlegend": false,
         "showscale": false,
         "type": "cone",
         "u": [
          -173.46471499461634
         ],
         "v": [
          11.854957246705156
         ],
         "w": [
          46.57738335839983
         ],
         "x": [
          -732.110930985511
         ],
         "y": [
          -86.43415687048204
         ],
         "z": [
          152.15278563743945
         ]
        },
        {
         "marker": {
          "color": "blue",
          "size": 5
         },
         "mode": "markers+text",
         "text": "0d",
         "type": "scatter3d",
         "x": [
          -181.53300891842707
         ],
         "y": [
          -381.2933942956491
         ],
         "z": [
          155.36250233156696
         ]
        },
        {
         "marker": {
          "color": "blue",
          "size": 5
         },
         "mode": "markers+text",
         "text": "1d",
         "type": "scatter3d",
         "x": [
          413.1601079418203
         ],
         "y": [
          -158.24035641394673
         ],
         "z": [
          155.25794452799937
         ]
        },
        {
         "marker": {
          "color": "blue",
          "size": 5
         },
         "mode": "markers+text",
         "text": "2d",
         "type": "scatter3d",
         "x": [
          -148.99589169721781
         ],
         "y": [
          137.1898924522045
         ],
         "z": [
          144.5728143807333
         ]
        },
        {
         "marker": {
          "color": "blue",
          "size": 5
         },
         "mode": "markers+text",
         "text": "3d",
         "type": "scatter3d",
         "x": [
          -743.6752453184854
         ],
         "y": [
          -85.64382638736836
         ],
         "z": [
          155.25794452799943
         ]
        },
        {
         "marker": {
          "color": "gray",
          "size": 5
         },
         "mode": "markers+text",
         "type": "scatter3d",
         "x": [
          -165.45952866976432
         ],
         "y": [
          -125.16035054305222
         ],
         "z": [
          0
         ]
        },
        {
         "line": {
          "color": "gray",
          "width": 2
         },
         "mode": "lines",
         "type": "scatter3d",
         "x": [
          -165.45952866976432,
          -127.88890189712518,
          null
         ],
         "y": [
          -125.16035054305222,
          473.5325798053382,
          null
         ],
         "z": [
          0,
          -12.458858485771783,
          null
         ]
        },
        {
         "colorscale": [
          [
           0,
           "gray"
          ],
          [
           1,
           "gray"
          ]
         ],
         "showlegend": false,
         "showscale": false,
         "type": "cone",
         "u": [
          11.271188031791743
         ],
         "v": [
          179.6078791045171
         ],
         "w": [
          -3.7376575457315346
         ],
         "x": [
          -128.64031443257795
         ],
         "y": [
          461.55872119837034
         ],
         "z": [
          -12.209681316056347
         ]
        },
        {
         "marker": {
          "color": "blue",
          "size": 5
         },
         "mode": "markers+text",
         "text": "LMC_1",
         "type": "scatter3d",
         "x": [
          -165.45952866976432
         ],
         "y": [
          -125.16035054305222
         ],
         "z": [
          0
         ]
        },
        {
         "marker": {
          "color": "green",
          "size": 5
         },
         "mode": "markers+text",
         "type": "scatter3d",
         "x": [
          314.8026369351417
         ],
         "y": [
          224.84185220319048
         ],
         "z": [
          0
         ]
        },
        {
         "line": {
          "color": "green",
          "width": 2
         },
         "mode": "lines",
         "type": "scatter3d",
         "x": [
          314.8026369351417,
          373.17944423997915,
          null
         ],
         "y": [
          224.84185220319048,
          -367.36391772000593,
          null
         ],
         "z": [
          0,
          76.71032810885396,
          null
         ]
        },
        {
         "colorscale": [
          [
           0,
           "green"
          ],
          [
           1,
           "green"
          ]
         ],
         "showlegend": false,
         "showscale": false,
         "type": "cone",
         "u": [
          17.513042191451227
         ],
         "v": [
          -177.66173097695892
         ],
         "w": [
          23.013098432656186
         ],
         "x": [
          372.0119080938824
         ],
         "y": [
          -355.519802321542
         ],
         "z": [
          75.17612154667688
         ]
        },
        {
         "marker": {
          "color": "green",
          "size": 5
         },
         "mode": "markers+text",
         "type": "scatter3d",
         "x": [
          314.8026369351417
         ],
         "y": [
          224.84185220319048
         ],
         "z": [
          0
         ]
        },
        {
         "line": {
          "color": "green",
          "width": 2
         },
         "mode": "lines",
         "type": "scatter3d",
         "x": [
          314.8026369351417,
          897.430470859829,
          null
         ],
         "y": [
          224.84185220319048,
          222.1702447596195,
          null
         ],
         "z": [
          0,
          143.30969838044643,
          null
         ]
        },
        {
         "colorscale": [
          [
           0,
           "green"
          ],
          [
           1,
           "green"
          ]
         ],
         "showlegend": false,
         "showscale": false,
         "type": "cone",
         "u": [
          174.78835017740622
         ],
         "v": [
          -0.8014822330712974
         ],
         "w": [
          42.99290951413393
         ],
         "x": [
          885.7779141813353
         ],
         "y": [
          222.22367690849092
         ],
         "z": [
          140.4435044128375
         ]
        },
        {
         "marker": {
          "color": "green",
          "size": 5
         },
         "mode": "markers+text",
         "type": "scatter3d",
         "x": [
          314.8026369351417
         ],
         "y": [
          224.84185220319048
         ],
         "z": [
          0
         ]
        },
        {
         "line": {
          "color": "green",
          "width": 2
         },
         "mode": "lines",
         "type": "scatter3d",
         "x": [
          314.8026369351417,
          279.097164161247,
          null
         ],
         "y": [
          224.84185220319048,
          587.0573958542707,
          null
         ],
         "z": [
          0,
          476.9958271846255,
          null
         ]
        },
        {
         "colorscale": [
          [
           0,
           "green"
          ],
          [
           1,
           "green"
          ]
         ],
         "showlegend": false,
         "showscale": false,
         "type": "cone",
         "u": [
          -10.711641832168413
         ],
         "v": [
          108.66466309532406
         ],
         "w": [
          143.09874815538765
         ],
         "x": [
          279.8112736167249
         ],
         "y": [
          579.8130849812491
         ],
         "z": [
          467.455910640933
         ]
        },
        {
         "marker": {
          "color": "green",
          "size": 5
         },
         "mode": "markers+text",
         "type": "scatter3d",
         "x": [
          314.8026369351417
         ],
         "y": [
          224.84185220319048
         ],
         "z": [
          0
         ]
        },
        {
         "line": {
          "color": "green",
          "width": 2
         },
         "mode": "lines",
         "type": "scatter3d",
         "x": [
          314.8026369351417,
          -256.0896506805487,
          null
         ],
         "y": [
          224.84185220319048,
          108.46175815343784,
          null
         ],
         "z": [
          0,
          143.30969838044643,
          null
         ]
        },
        {
         "colorscale": [
          [
           0,
           "green"
          ],
          [
           1,
           "green"
          ]
         ],
         "showlegend": false,
         "showscale": false,
         "type": "cone",
         "u": [
          -171.2676862847071
         ],
         "v": [
          -34.91402821492579
         ],
         "w": [
          42.99290951413393
         ],
         "x": [
          -244.67180492823485
         ],
         "y": [
          110.7893600344329
         ],
         "z": [
          140.4435044128375
         ]
        },
        {
         "marker": {
          "color": "green",
          "size": 5
         },
         "mode": "markers+text",
         "text": "0d",
         "type": "scatter3d",
         "x": [
          343.9910405875604
         ],
         "y": [
          -71.26103275840771
         ],
         "z": [
          38.35516405442698
         ]
        },
        {
         "marker": {
          "color": "green",
          "size": 5
         },
         "mode": "markers+text",
         "text": "1d",
         "type": "scatter3d",
         "x": [
          897.430470859829
         ],
         "y": [
          222.1702447596195
         ],
         "z": [
          143.30969838044643
         ]
        },
        {
         "marker": {
          "color": "green",
          "size": 5
         },
         "mode": "markers+text",
         "text": "2d",
         "type": "scatter3d",
         "x": [
          296.94990054819436
         ],
         "y": [
          405.94962402873057
         ],
         "z": [
          238.49791359231276
         ]
        },
        {
         "marker": {
          "color": "green",
          "size": 5
         },
         "mode": "markers+text",
         "text": "3d",
         "type": "scatter3d",
         "x": [
          -256.0896506805487
         ],
         "y": [
          108.46175815343784
         ],
         "z": [
          143.30969838044643
         ]
        },
        {
         "marker": {
          "color": "gray",
          "size": 5
         },
         "mode": "markers+text",
         "type": "scatter3d",
         "x": [
          314.8026369351417
         ],
         "y": [
          224.84185220319048
         ],
         "z": [
          0
         ]
        },
        {
         "line": {
          "color": "gray",
          "width": 2
         },
         "mode": "lines",
         "type": "scatter3d",
         "x": [
          314.8026369351417,
          260.484207205712,
          null
         ],
         "y": [
          224.84185220319048,
          775.8772545156153,
          null
         ],
         "z": [
          0,
          231.1049406441004,
          null
         ]
        },
        {
         "colorscale": [
          [
           0,
           "gray"
          ],
          [
           1,
           "gray"
          ]
         ],
         "showlegend": false,
         "showscale": false,
         "type": "cone",
         "u": [
          -16.29552891882892
         ],
         "v": [
          165.31062069372743
         ],
         "w": [
          69.33148219323012
         ],
         "x": [
          261.57057580030056
         ],
         "y": [
          764.8565464693668
         ],
         "z": [
          226.4828418312184
         ]
        },
        {
         "marker": {
          "color": "green",
          "size": 5
         },
         "mode": "markers+text",
         "text": "LMC_2",
         "type": "scatter3d",
         "x": [
          314.8026369351417
         ],
         "y": [
          224.84185220319048
         ],
         "z": [
          0
         ]
        },
        {
         "marker": {
          "color": "black",
          "size": 5
         },
         "mode": "markers+text",
         "type": "scatter3d",
         "x": [
          -64.42255233927608
         ],
         "y": [
          389.8601122593337
         ],
         "z": [
          0
         ]
        },
        {
         "line": {
          "color": "black",
          "width": 2
         },
         "mode": "lines",
         "type": "scatter3d",
         "x": [
          -64.42255233927608,
          -169.2629114208811,
          null
         ],
         "y": [
          389.8601122593337,
          -194.0060824119302,
          null
         ],
         "z": [
          0,
          90.04868587457531,
          null
         ]
        },
        {
         "colorscale": [
          [
           0,
           "black"
          ],
          [
           1,
           "black"
          ]
         ],
         "showlegend": false,
         "showscale": false,
         "type": "cone",
         "u": [
          -31.452107724481504
         ],
         "v": [
          -175.15985840137915
         ],
         "w": [
          27.014605762372593
         ],
         "x": [
          -167.166104239249
         ],
         "y": [
          -182.3287585185049
         ],
         "z": [
          88.24771215708381
         ]
        },
        {
         "marker": {
          "color": "black",
          "size": 5
         },
         "mode": "markers+text",
         "type": "scatter3d",
         "x": [
          -64.42255233927608
         ],
         "y": [
          389.8601122593337
         ],
         "z": [
          0
         ]
        },
        {
         "line": {
          "color": "black",
          "width": 2
         },
         "mode": "lines",
         "type": "scatter3d",
         "x": [
          -64.42255233927608,
          496.00964979346065,
          null
         ],
         "y": [
          389.8601122593337,
          231.74025604907652,
          null
         ],
         "z": [
          0,
          144.61624350223906,
          null
         ]
        },
        {
         "colorscale": [
          [
           0,
           "black"
          ],
          [
           1,
           "black"
          ]
         ],
         "showlegend": false,
         "showscale": false,
         "type": "cone",
         "u": [
          168.12966063982103
         ],
         "v": [
          -47.435956863077145
         ],
         "w": [
          43.384873050671715
         ],
         "x": [
          484.80100575080587
         ],
         "y": [
          234.90265317328166
         ],
         "z": [
          141.72391863219428
         ]
        },
        {
         "marker": {
          "color": "black",
          "size": 5
         },
         "mode": "markers+text",
         "type": "scatter3d",
         "x": [
          -64.42255233927608
         ],
         "y": [
          389.8601122593337
         ],
         "z": [
          0
         ]
        },
        {
         "line": {
          "color": "black",
          "width": 2
         },
         "mode": "lines",
         "type": "scatter3d",
         "x": [
          -64.42255233927608,
          1.7802632012012225,
          null
         ],
         "y": [
          389.8601122593337,
          758.5500549946037,
          null
         ],
         "z": [
          0,
          468.70557212431015,
          null
         ]
        },
        {
         "colorscale": [
          [
           0,
           "black"
          ],
          [
           1,
           "black"
          ]
         ],
         "showlegend": false,
         "showscale": false,
         "type": "cone",
         "u": [
          19.86084466214319
         ],
         "v": [
          110.606982820581
         ],
         "w": [
          140.61167163729303
         ],
         "x": [
          0.4562068903916696
         ],
         "y": [
          751.1762561398982
         ],
         "z": [
          459.33146068182396
         ]
        },
        {
         "marker": {
          "color": "black",
          "size": 5
         },
         "mode": "markers+text",
         "type": "scatter3d",
         "x": [
          -64.42255233927608
         ],
         "y": [
          389.8601122593337
         ],
         "z": [
          0
         ]
        },
        {
         "line": {
          "color": "black",
          "width": 2
         },
         "mode": "lines",
         "type": "scatter3d",
         "x": [
          -64.42255233927608,
          -644.8550187208564,
          null
         ],
         "y": [
          389.8601122593337,
          436.59654435996407,
          null
         ],
         "z": [
          0,
          144.61624350223906,
          null
         ]
        },
        {
         "colorscale": [
          [
           0,
           "black"
          ],
          [
           1,
           "black"
          ]
         ],
         "showlegend": false,
         "showscale": false,
         "type": "cone",
         "u": [
          -174.12973991447407
         ],
         "v": [
          14.020929630189118
         ],
         "w": [
          43.384873050671715
         ],
         "x": [
          -633.2463693932248
         ],
         "y": [
          435.66181571795147
         ],
         "z": [
          141.72391863219428
         ]
        },
        {
         "marker": {
          "color": "black",
          "size": 5
         },
         "mode": "markers+text",
         "text": "0d",
         "type": "scatter3d",
         "x": [
          -116.84273188007859
         ],
         "y": [
          97.92701492370173
         ],
         "z": [
          45.024342937287656
         ]
        },
        {
         "marker": {
          "color": "black",
          "size": 5
         },
         "mode": "markers+text",
         "text": "1d",
         "type": "scatter3d",
         "x": [
          496.00964979346065
         ],
         "y": [
          231.74025604907652
         ],
         "z": [
          144.61624350223906
         ]
        },
        {
         "marker": {
          "color": "black",
          "size": 5
         },
         "mode": "markers+text",
         "text": "2d",
         "type": "scatter3d",
         "x": [
          -31.32114456903743
         ],
         "y": [
          574.2050836269686
         ],
         "z": [
          234.35278606215508
         ]
        },
        {
         "marker": {
          "color": "black",
          "size": 5
         },
         "mode": "markers+text",
         "text": "3d",
         "type": "scatter3d",
         "x": [
          -644.8550187208564
         ],
         "y": [
          436.59654435996407
         ],
         "z": [
          144.61624350223906
         ]
        },
        {
         "marker": {
          "color": "gray",
          "size": 5
         },
         "mode": "markers+text",
         "type": "scatter3d",
         "x": [
          -64.42255233927608
         ],
         "y": [
          389.8601122593337
         ],
         "z": [
          0
         ]
        },
        {
         "line": {
          "color": "gray",
          "width": 2
         },
         "mode": "lines",
         "type": "scatter3d",
         "x": [
          -64.42255233927608,
          34.3292705718313,
          null
         ],
         "y": [
          389.8601122593337,
          939.8186546092261,
          null
         ],
         "z": [
          0,
          218.61765520678992,
          null
         ]
        },
        {
         "colorscale": [
          [
           0,
           "gray"
          ],
          [
           1,
           "gray"
          ]
         ],
         "showlegend": false,
         "showscale": false,
         "type": "cone",
         "u": [
          29.625546873332212
         ],
         "v": [
          164.98756270496773
         ],
         "w": [
          65.58529656203697
         ],
         "x": [
          32.35423411360915
         ],
         "y": [
          928.8194837622282
         ],
         "z": [
          214.2453021026541
         ]
        },
        {
         "marker": {
          "color": "black",
          "size": 5
         },
         "mode": "markers+text",
         "text": "LMC_3",
         "type": "scatter3d",
         "x": [
          -64.42255233927608
         ],
         "y": [
          389.8601122593337
         ],
         "z": [
          0
         ]
        },
        {
         "marker": {
          "color": "blue",
          "size": 5
         },
         "mode": "markers+text",
         "text": [
          0,
          1,
          2,
          3,
          4,
          5,
          6,
          7,
          8,
          9,
          10,
          11,
          12,
          13,
          14,
          15,
          16,
          17,
          18,
          19,
          20,
          21,
          22,
          23,
          24,
          25
         ],
         "type": "scatter3d",
         "x": [
          4.1261145825707555,
          28.193845233001404,
          53.623695507273816,
          20.46293836468755,
          72.24841300880088,
          85.14689444746057,
          94.86771168564825,
          96.83926941394215,
          39.90238515456505,
          108.44656402471881,
          124.87756283854858,
          136.41195553596492,
          125.86974270861795,
          131.20663079579865,
          148.96153304982363,
          155.36998293014534,
          143.08970903139982,
          58.10362321842089,
          144.52358726255164,
          161.77343293606606,
          171.0926862532663,
          156.16281374247245,
          -134.2494152545102,
          -130.3461375191074,
          16.178911949694424,
          -16.178911949694363
         ],
         "y": [
          49.71915006116723,
          45.95943423936668,
          7.426762565448627,
          89.06896190198302,
          81.99563326533944,
          63.465578722613095,
          45.75730906543846,
          24.55118321475791,
          112.4748110830302,
          106.47842849727641,
          92.59499653819665,
          74.56372997428973,
          43.93782718153716,
          119.92605881854402,
          109.30910517006737,
          88.47795399762322,
          59.043308382073675,
          129.93984850390177,
          128.48488438177029,
          118.00413122019967,
          99.43630962141962,
          68.4070560985925,
          -101.13733705936079,
          -136.77218398391219,
          -20.351652866162514,
          20.35165286616259
         ],
         "z": [
          298.8525554744817,
          323.68886952767457,
          322.8337503186589,
          297.2364129796259,
          331.26788661521766,
          332.91903948261375,
          330.55065260446526,
          328.2591685589324,
          301.1380830391003,
          339.74418572210766,
          339.9526957364226,
          337.01809767549724,
          332.862636911318,
          344.3312628547226,
          345.05064310082105,
          340.2798476961471,
          335.32779802311944,
          305.5931577390449,
          348.5268153717916,
          349.23639651377505,
          341.72850655996643,
          338.4823569383245,
          197.97580772982027,
          248.38612743728024,
          301.07673446949525,
          298.9232655305049
         ]
        },
        {
         "marker": {
          "color": "blue",
          "size": 5
         },
         "mode": "markers+text",
         "text": [
          0,
          1,
          2,
          3,
          4,
          5,
          6,
          7,
          8,
          9,
          10,
          11,
          12,
          13,
          14,
          15,
          16,
          17,
          18,
          19,
          20,
          21,
          22,
          23,
          24,
          25
         ],
         "type": "scatter3d",
         "x": [
          -42.888289969628815,
          -55.859648634280944,
          -26.86500034218756,
          -78.81218741665664,
          -98.27387842482783,
          -85.4399432105571,
          -70.81729640232763,
          -51.851435801786714,
          -104.24166889786679,
          -129.80046359309682,
          -120.89201217422041,
          -106.04192114935162,
          -75.86818839750542,
          -147.59485010183664,
          -141.97255962124092,
          -122.9256421864387,
          -93.08403560960862,
          -124.6141978108578,
          -159.32558629818598,
          -153.72592508325883,
          -135.82526509013772,
          -104.96291354085359,
          159.70498228323058,
          165.41000370037196,
          14.092174753649463,
          -14.092174753649548
         ],
         "y": [
          -22.99152714543304,
          8.838514491157511,
          41.09432819503651,
          -34.53598930107072,
          20.28609161716167,
          37.56194970614116,
          49.97292894751879,
          59.92886389288255,
          -32.799227677154164,
          33.74042812331387,
          49.67878393951525,
          62.85417791212736,
          69.35265830967079,
          42.654006022077326,
          58.0540032488954,
          68.56457038813924,
          72.98815881743855,
          -28.439483035857208,
          48.554965075853026,
          63.60571511907255,
          72.73417029405616,
          77.65384178795573,
          -92.69511911422158,
          -38.83538702860602,
          19.57248279936189,
          -19.572482799361875
         ],
         "z": [
          288.94018100083184,
          283.5712033256064,
          267.72670418925105,
          269.08796687968913,
          246.60040171968814,
          239.57937011623298,
          232.80942528441096,
          232.9243324050042,
          252.0212147781941,
          218.19941049232568,
          206.82491320223764,
          198.3005689579198,
          208.96207127578043,
          200.2047275242292,
          187.56733452060067,
          182.61672925716582,
          194.09003165129786,
          237.11775940355994,
          190.4187173045361,
          178.17022411535308,
          168.99315645723064,
          183.81089056130455,
          367.54654527311203,
          397.4273119252564,
          290.2309237304732,
          309.76907626952686
         ]
        },
        {
         "marker": {
          "color": "blue",
          "size": 5
         },
         "mode": "markers+text",
         "text": [
          0,
          1,
          2,
          3,
          4,
          5,
          6,
          7,
          8,
          9,
          10,
          11,
          12,
          13,
          14,
          15,
          16,
          17,
          18,
          19,
          20,
          21,
          22,
          23,
          24,
          25
         ],
         "type": "scatter3d",
         "x": [
          -6.93635613394933,
          5.283666722578826,
          36.784696083158835,
          -0.5329674636447364,
          33.341079050972375,
          48.254612651921406,
          61.78016870411168,
          69.17108206127797,
          9.953669495097344,
          56.630997676160604,
          74.22815290219036,
          89.66393607086032,
          88.78726628734461,
          72.00655140740616,
          89.84716420826467,
          102.0922813424899,
          99.72745892342527,
          20.439866153851913,
          80.24109390732967,
          97.60681395137934,
          113.03439216816285,
          107.98509693702556,
          -55.68183358163899,
          -64.56471714058611,
          18.463177445721946,
          -18.463177445721914
         ],
         "y": [
          42.54651011297426,
          58.566562259759934,
          36.002013090881405,
          81.00740769310903,
          108.64999069008222,
          98.87384102850811,
          86.96077569508948,
          69.16109826558005,
          109.57646745664609,
          146.4218703373119,
          141.31408084118831,
          129.61132102040466,
          98.37934604189616,
          168.2572538518497,
          166.58468153617338,
          149.83717546834583,
          118.60834558396544,
          132.93743815449244,
          182.2058885656475,
          180.44704313895528,
          165.630529159537,
          132.72110520137468,
          -176.60209083782314,
          -184.83053728418665,
          -10.248252884226883,
          10.248252884226975
         ],
         "z": [
          274.8600562036803,
          303.21957996680794,
          328.33335248693413,
          257.60701616354186,
          302.0856080691884,
          316.0309823524137,
          325.45566092915055,
          334.8035802566855,
          253.76147768910184,
          305.6106391664874,
          316.88102051863535,
          326.449858751301,
          335.9444475450997,
          308.20082285354084,
          318.563679771449,
          326.7700020115428,
          334.573468195493,
          253.0795558167646,
          310.61440627256826,
          320.7753657797993,
          326.2927597964977,
          335.6590604082265,
          233.88013027300192,
          294.5403748668192,
          315.2049569156661,
          284.79504308433377
         ]
        },
        {
         "marker": {
          "color": "blue",
          "size": 5
         },
         "mode": "markers+text",
         "text": [
          0,
          1,
          2,
          3,
          4,
          5,
          6,
          7,
          8,
          9,
          10,
          11,
          12,
          13,
          14,
          15,
          16,
          17,
          18,
          19,
          20,
          21,
          22,
          23,
          24,
          25
         ],
         "type": "scatter3d",
         "x": [
          -40.30166131597881,
          -55.272447651831875,
          -27.87197048677695,
          -73.9982302159254,
          -96.11883637643236,
          -84.21455601758484,
          -70.1807469703278,
          -52.05503151693666,
          -98.41124495040869,
          -126.79481241855184,
          -118.43528161214276,
          -104.12656117895577,
          -75.22173876809367,
          -144.08947978309214,
          -138.88446209180623,
          -120.41425023772965,
          -91.73360256660955,
          -118.11750489742973,
          -155.6178221458222,
          -150.43262295066373,
          -132.74511834156527,
          -103.28719033239089,
          161.8340232067199,
          161.6789811041623,
          13.150392640859756,
          -13.150392640859842
         ],
         "y": [
          -21.591720761493534,
          9.736840406467266,
          46.625113385042454,
          -29.435569675808402,
          28.210134331116876,
          47.42536537234239,
          61.99309518068348,
          72.60961587156012,
          -24.650731917269976,
          46.945153070288896,
          65.81167882557683,
          81.59489206783361,
          86.7068290901847,
          59.312528870298294,
          77.8124070303815,
          90.31592304037534,
          93.19644473116705,
          -17.63342158718799,
          66.93646980081476,
          84.99546092790153,
          97.2298762168015,
          99.75469707501681,
          -98.197265716448,
          -54.00534239746154,
          22.227651060197502,
          -22.227651060197477
         ],
         "z": [
          280.00227455378143,
          282.15411774109253,
          277.61049936484983,
          255.08387375558064,
          246.2770495512637,
          245.0429281060029,
          242.91694355988287,
          247.1104671766894,
          237.13787320298476,
          220.01786805991097,
          213.9397653929353,
          210.34374622023697,
          224.65218319311705,
          203.65195305728147,
          195.9619552901922,
          195.43380826101387,
          209.95446008726762,
          222.35338929642094,
          194.8672884342982,
          187.45827927185124,
          182.4132662773564,
          200.3606591737841,
          353.1756353094104,
          396.4575957633857,
          296.8211597844705,
          303.1788402155293
         ]
        },
        {
         "marker": {
          "color": "blue",
          "size": 5
         },
         "mode": "markers+text",
         "text": [
          0,
          1,
          2,
          3,
          4,
          5,
          6,
          7,
          8,
          9,
          10,
          11,
          12,
          13,
          14,
          15,
          16,
          17,
          18,
          19,
          20,
          21,
          22,
          23,
          24,
          25
         ],
         "type": "scatter3d",
         "x": [
          -22.47175749351524,
          7.193422308062238,
          31.60528515635444,
          -36.988234906525946,
          10.095842320247803,
          23.7632067605576,
          32.7440275420956,
          41.09846224962001,
          -38.670577961798934,
          16.71089298151295,
          28.08777654584612,
          37.27718182758972,
          44.67630230398234,
          21.13702775617769,
          31.840450045756356,
          39.25474142237123,
          44.92746309916187,
          -37.53881002257459,
          24.679148852367867,
          35.1628450521898,
          40.106551798382746,
          47.15630623213024,
          -79.0221699928479,
          -19.290944331002386,
          14.98758414007044,
          -14.987584140070437
         ],
         "y": [
          42.50119513354833,
          58.287280149708984,
          39.425636622544424,
          82.58958905749822,
          112.20097243326617,
          104.02185979973063,
          93.82706615613542,
          76.85191575884814,
          112.67342310221304,
          152.9029720536584,
          149.9376789390736,
          140.24840088326602,
          108.70464672060814,
          176.7027897204468,
          177.2213021165706,
          162.14457156856312,
          130.48039647287735,
          137.41159405289847,
          191.59759721722827,
          191.96843953574628,
          179.4922045849668,
          145.63219982646072,
          -178.28303544932828,
          -192.00621509646442,
          -8.157710955005664,
          8.157710955005763
         ],
         "z": [
          313.3792324393143,
          304.3786633087631,
          270.0206270451195,
          313.0567795357932,
          284.84039765922125,
          268.7542136382961,
          253.61824987352549,
          243.57407731880414,
          307.3051234569028,
          268.0728880784843,
          250.057771134186,
          233.07385592298766,
          228.99996136955718,
          256.5022922733333,
          238.79236107786062,
          224.1129177234106,
          221.48108760108943,
          300.7551395563047,
          250.6888962558267,
          233.4302329832691,
          215.88360316631093,
          215.65080515014935,
          325.12485169337884,
          333.49941118808323,
          280.3548887252469,
          319.6451112747532
         ]
        },
        {
         "marker": {
          "color": "blue",
          "size": 5
         },
         "mode": "markers+text",
         "text": [
          0,
          1,
          2,
          3,
          4,
          5,
          6,
          7,
          8,
          9,
          10,
          11,
          12,
          13,
          14,
          15,
          16,
          17,
          18,
          19,
          20,
          21,
          22,
          23,
          24,
          25
         ],
         "type": "scatter3d",
         "x": [
          -49.06148315257459,
          -50.1532652458816,
          -19.66139077327958,
          -91.32402180566396,
          -95.84507099567344,
          -81.2286746274056,
          -66.82724020443082,
          -47.0401347581043,
          -118.68482873314407,
          -128.3088093321955,
          -119.17569493939553,
          -104.96804243309968,
          -72.97119750363719,
          -146.89057135827136,
          -141.2177349629689,
          -123.09497560138702,
          -91.84451808541452,
          -139.96458177227922,
          -158.33553719737836,
          -152.66360234601692,
          -137.64532936414298,
          -104.06601417700874,
          126.02589348467542,
          162.45684594405995,
          15.486116272857608,
          -15.486116272857695
         ],
         "y": [
          -7.974126620572753,
          -6.027718100045609,
          21.87699495452067,
          -4.42363871544385,
          12.218002134330916,
          24.76973124413532,
          37.472181283418784,
          45.374961679982086,
          1.4982424185627683,
          26.944717479598946,
          41.88724884463303,
          56.339951993327944,
          58.67913005961037,
          37.14758923358834,
          51.93982462673037,
          64.56611772090073,
          65.89643879300864,
          7.56486424723452,
          41.96630402255009,
          56.36977415834999,
          72.34683722582248,
          71.03135144443007,
          -6.022469635951985,
          -27.804743927718214,
          15.714442412405738,
          -15.714442412405722
         ],
         "z": [
          295.5593346443103,
          330.2760902992265,
          350.861227671926,
          299.93920701583926,
          359.87687850862136,
          371.76279892443887,
          378.46599278962793,
          380.6692251108957,
          312.4797996951051,
          386.537534806749,
          399.0306472812905,
          406.5168102859355,
          400.4272957022438,
          402.9850332572727,
          416.3072877987671,
          419.4549684771993,
          411.4947275013973,
          325.38439189838635,
          413.6616539870228,
          426.6337806854453,
          429.31068659576255,
          421.1282515388511,
          149.19613306386148,
          194.19164900717024,
          313.7964787474653,
          286.20352125253464
         ]
        },
        {
         "marker": {
          "color": "blue",
          "size": 5
         },
         "mode": "markers+text",
         "text": [
          0,
          1,
          2,
          3,
          4,
          5,
          6,
          7,
          8,
          9,
          10,
          11,
          12,
          13,
          14,
          15,
          16,
          17,
          18,
          19,
          20,
          21,
          22,
          23,
          24,
          25
         ],
         "type": "scatter3d",
         "x": [
          -36.416245476008456,
          -17.71917987282036,
          28.221669982700934,
          -57.14473248744406,
          -18.34306772398968,
          4.2323541772379185,
          24.060240173023725,
          41.81870504768597,
          -63.279571507528075,
          -14.766970480927315,
          6.3155001778357285,
          27.503968375738214,
          44.80966853910852,
          -11.01829902941905,
          8.344462798394629,
          28.483359295824698,
          43.75094982993359,
          -65.51225817869636,
          -9.316599867079411,
          9.625580091653568,
          29.709980815811903,
          44.63691486945252,
          -7.465345597918157,
          24.50955237913123,
          26.020230725387687,
          -26.020230725387705
         ],
         "y": [
          34.0460745094826,
          52.158397114939966,
          47.99978037006144,
          71.14638333844968,
          109.44924509377512,
          108.11010373437307,
          104.53222822014536,
          92.73705784693975,
          101.12819010762465,
          153.48727486833718,
          157.69671442168564,
          155.29566478604895,
          127.75369293790247,
          179.91734808253395,
          187.22458615350396,
          178.959413972383,
          150.74790967262953,
          126.48818197572959,
          195.9121411911959,
          202.9091743114783,
          198.13928844344082,
          166.98292051757434,
          -174.4796584198962,
          -190.2041972845027,
          0.05059051017953296,
          -0.05059051017943601
         ],
         "z": [
          297.7511760365999,
          320.82924192473536,
          318.75089607161743,
          294.31485085244833,
          324.6006586320829,
          325.60916097342084,
          322.82705706147664,
          320.74172884647817,
          296.4134002773879,
          330.02509482145456,
          329.2629065391758,
          325.78951761051394,
          322.90775497242754,
          332.72682936483466,
          332.3249675280188,
          327.43852152777515,
          323.86948945547385,
          299.24998491912237,
          335.8038894641189,
          335.42677686085625,
          327.5625585761127,
          325.9131549975958,
          209.65776367169522,
          260.22082333264717,
          300.2266207766631,
          299.7733792233368
         ]
        },
        {
         "marker": {
          "color": "blue",
          "size": 5
         },
         "mode": "markers+text",
         "text": [
          0,
          1,
          2,
          3,
          4,
          5,
          6,
          7,
          8,
          9,
          10,
          11,
          12,
          13,
          14,
          15,
          16,
          17,
          18,
          19,
          20,
          21,
          22,
          23,
          24,
          25
         ],
         "type": "scatter3d",
         "x": [
          -49.09126370064547,
          -52.21332129628836,
          -21.385454938456792,
          -91.24225108907106,
          -98.43417148571208,
          -83.83318429395547,
          -69.11522361941829,
          -49.05086276698181,
          -118.90849990027598,
          -131.51386079187154,
          -122.26432245425661,
          -107.67939032467449,
          -75.28284549357242,
          -150.41183857768556,
          -144.67002292799896,
          -126.02909518945552,
          -94.32252430080177,
          -140.5307833012721,
          -162.17642053621793,
          -156.43789157152798,
          -140.652305559253,
          -106.7762599566993,
          134.5278690893282,
          166.67308221913564,
          15.545004113637216,
          -15.54500411363731
         ],
         "y": [
          -7.9919584133969686,
          10.971659885672686,
          44.70401392861132,
          -1.7603302682198734,
          42.56240292014142,
          59.01973838174314,
          73.03762042060713,
          80.53151451901124,
          10.239493149498983,
          69.33421841125508,
          88.29384557381589,
          104.22360851760168,
          102.48877504029787,
          86.78651936407842,
          106.10759390176209,
          118.20688773544063,
          114.6845624930036,
          22.405413340196777,
          96.53588426674315,
          115.34575006162889,
          130.18961304279713,
          124.20786501690716,
          -83.06349350215552,
          -80.44351092449713,
          20.13027593104696,
          -20.130275931046924
         ],
         "z": [
          295.93653321845346,
          324.93424959143505,
          331.5634461271418,
          294.3962434404426,
          337.6822707893431,
          343.01399969297637,
          343.766977223395,
          343.44966440148687,
          300.0115627809141,
          350.742328086589,
          354.95533886348244,
          355.5058494504284,
          351.7901714311079,
          358.37019176923354,
          363.0820277719661,
          361.1101049530443,
          356.2098118113434,
          306.38553612508997,
          364.2644246131479,
          368.86497915479777,
          364.56894622683484,
          360.97932512886547,
          183.10983472711993,
          235.89334720550897,
          305.4982871355959,
          294.5017128644043
         ]
        },
        {
         "marker": {
          "color": "blue",
          "size": 5
         },
         "mode": "markers+text",
         "text": [
          0,
          1,
          2,
          3,
          4,
          5,
          6,
          7,
          8,
          9,
          10,
          11,
          12,
          13,
          14,
          15,
          16,
          17,
          18,
          19,
          20,
          21,
          22,
          23,
          24,
          25
         ],
         "type": "scatter3d",
         "x": [
          -19.23796728315212,
          5.759929647252748,
          19.669275777052356,
          -34.83811702647079,
          0.5290577925816587,
          9.15020822951458,
          13.662910292016171,
          19.363472707729763,
          -39.38425948461194,
          0.20516146910107091,
          5.854998668708787,
          9.99922696903816,
          17.154391124071363,
          0.02589053029745765,
          4.9798240919232635,
          8.333634804684138,
          14.272810956632142,
          -41.260794389767966,
          1.0729771922140443,
          5.956805257995709,
          5.997466695841257,
          14.050995774650389,
          -60.63888356813425,
          -0.5918246099812191,
          8.827307216396033,
          -8.827307216396038
         ],
         "y": [
          44.84883960316586,
          57.7439269656964,
          31.594245477521607,
          84.30487450991544,
          106.32342349156437,
          94.6674829440687,
          81.34366323817157,
          62.465221713290404,
          112.55958439857099,
          142.4789005966273,
          135.57031706899795,
          122.35100965654465,
          90.49313041358627,
          163.23967133993403,
          159.81620109631692,
          141.84911722338106,
          110.21269185086857,
          135.35794561201888,
          176.51279841411537,
          173.04390279219263,
          157.07740778985723,
          123.76301380353874,
          -167.3165822098622,
          -180.32812806522787,
          -12.406253773257538,
          12.406253773257632
         ],
         "z": [
          310.4315643292068,
          289.9607194897586,
          254.5361581167233,
          306.2163469940489,
          259.8023942859531,
          242.41634051667037,
          227.7262858205882,
          219.36292846017218,
          295.1731203598807,
          233.8363084745235,
          214.26281377714668,
          197.6840340299556,
          198.16484936503767,
          216.84045788161683,
          197.03611087091167,
          184.24152495979553,
          186.6056446248961,
          283.64603779391587,
          207.3049876426781,
          188.01711957544524,
          172.75113526847565,
          177.39279202438152,
          383.59838137930643,
          376.4339825661443,
          278.89858208556967,
          321.1014179144303
         ]
        },
        {
         "marker": {
          "color": "blue",
          "size": 5
         },
         "mode": "markers+text",
         "text": [
          0,
          1,
          2,
          3,
          4,
          5,
          6,
          7,
          8,
          9,
          10,
          11,
          12,
          13,
          14,
          15,
          16,
          17,
          18,
          19,
          20,
          21,
          22,
          23,
          24,
          25
         ],
         "type": "scatter3d",
         "x": [
          3.8580924119267803,
          12.315111795750225,
          34.992957602949936,
          18.587181126641774,
          46.47646178042607,
          56.931299457315525,
          66.63766230630914,
          69.61382267200628,
          33.33897907989496,
          73.45168391918594,
          87.66015733546097,
          99.22220197675989,
          92.34567834982664,
          90.79508546235476,
          105.87597764496138,
          113.93200930741222,
          105.94119132501278,
          46.776291186030505,
          100.18331185168017,
          114.83084760282938,
          126.76274724781449,
          115.6337346887616,
          -64.70911466173739,
          -86.31244036953102,
          13.593872712458836,
          -13.593872712458795
         ],
         "y": [
          28.825505494646453,
          54.48962150648044,
          42.81936117906158,
          56.57421028819574,
          98.48942771742644,
          94.63051495202347,
          87.03657975975602,
          74.30700261930305,
          80.60347406724802,
          133.370561060305,
          132.56079535543617,
          125.1355421506235,
          100.57284181547574,
          153.67841137676166,
          155.61985945976025,
          143.1752301625878,
          117.98863767493785,
          101.17589385588984,
          167.02927754343511,
          168.8299850101922,
          156.9114558426114,
          130.9458548160832,
          -185.6398917620924,
          -167.98990814987653,
          -3.9272834858424988,
          3.9272834858425822
         ],
         "z": [
          259.44706312470515,
          281.35746225260704,
          319.8502620156621,
          230.62043051397984,
          267.4336228830588,
          287.13806938607615,
          303.31845958450344,
          320.2871969536992,
          218.54037107627317,
          261.33403493218003,
          277.46581859334924,
          294.1381127706092,
          314.52779649510086,
          258.7459244749457,
          272.79125241985236,
          289.4644984547617,
          307.9984854068061,
          211.3033497861369,
          257.39942406834956,
          271.1876080324858,
          285.45502988145,
          305.409623275707,
          296.6588447698427,
          351.86801631113394,
          321.8377973357626,
          278.1622026642374
         ]
        }
       ],
       "layout": {
        "height": 1024,
        "scene": {
         "aspectmode": "data",
         "aspectratio": {
          "x": 1,
          "y": 1,
          "z": 1
         },
         "camera": {
          "center": {
           "x": 0,
           "y": 0,
           "z": 0
          },
          "eye": {
           "x": -2,
           "y": -0.5,
           "z": 3
          },
          "up": {
           "x": 0,
           "y": 0,
           "z": 20
          }
         }
        },
        "template": {
         "data": {
          "bar": [
           {
            "error_x": {
             "color": "#2a3f5f"
            },
            "error_y": {
             "color": "#2a3f5f"
            },
            "marker": {
             "line": {
              "color": "#E5ECF6",
              "width": 0.5
             },
             "pattern": {
              "fillmode": "overlay",
              "size": 10,
              "solidity": 0.2
             }
            },
            "type": "bar"
           }
          ],
          "barpolar": [
           {
            "marker": {
             "line": {
              "color": "#E5ECF6",
              "width": 0.5
             },
             "pattern": {
              "fillmode": "overlay",
              "size": 10,
              "solidity": 0.2
             }
            },
            "type": "barpolar"
           }
          ],
          "carpet": [
           {
            "aaxis": {
             "endlinecolor": "#2a3f5f",
             "gridcolor": "white",
             "linecolor": "white",
             "minorgridcolor": "white",
             "startlinecolor": "#2a3f5f"
            },
            "baxis": {
             "endlinecolor": "#2a3f5f",
             "gridcolor": "white",
             "linecolor": "white",
             "minorgridcolor": "white",
             "startlinecolor": "#2a3f5f"
            },
            "type": "carpet"
           }
          ],
          "choropleth": [
           {
            "colorbar": {
             "outlinewidth": 0,
             "ticks": ""
            },
            "type": "choropleth"
           }
          ],
          "contour": [
           {
            "colorbar": {
             "outlinewidth": 0,
             "ticks": ""
            },
            "colorscale": [
             [
              0,
              "#0d0887"
             ],
             [
              0.1111111111111111,
              "#46039f"
             ],
             [
              0.2222222222222222,
              "#7201a8"
             ],
             [
              0.3333333333333333,
              "#9c179e"
             ],
             [
              0.4444444444444444,
              "#bd3786"
             ],
             [
              0.5555555555555556,
              "#d8576b"
             ],
             [
              0.6666666666666666,
              "#ed7953"
             ],
             [
              0.7777777777777778,
              "#fb9f3a"
             ],
             [
              0.8888888888888888,
              "#fdca26"
             ],
             [
              1,
              "#f0f921"
             ]
            ],
            "type": "contour"
           }
          ],
          "contourcarpet": [
           {
            "colorbar": {
             "outlinewidth": 0,
             "ticks": ""
            },
            "type": "contourcarpet"
           }
          ],
          "heatmap": [
           {
            "colorbar": {
             "outlinewidth": 0,
             "ticks": ""
            },
            "colorscale": [
             [
              0,
              "#0d0887"
             ],
             [
              0.1111111111111111,
              "#46039f"
             ],
             [
              0.2222222222222222,
              "#7201a8"
             ],
             [
              0.3333333333333333,
              "#9c179e"
             ],
             [
              0.4444444444444444,
              "#bd3786"
             ],
             [
              0.5555555555555556,
              "#d8576b"
             ],
             [
              0.6666666666666666,
              "#ed7953"
             ],
             [
              0.7777777777777778,
              "#fb9f3a"
             ],
             [
              0.8888888888888888,
              "#fdca26"
             ],
             [
              1,
              "#f0f921"
             ]
            ],
            "type": "heatmap"
           }
          ],
          "heatmapgl": [
           {
            "colorbar": {
             "outlinewidth": 0,
             "ticks": ""
            },
            "colorscale": [
             [
              0,
              "#0d0887"
             ],
             [
              0.1111111111111111,
              "#46039f"
             ],
             [
              0.2222222222222222,
              "#7201a8"
             ],
             [
              0.3333333333333333,
              "#9c179e"
             ],
             [
              0.4444444444444444,
              "#bd3786"
             ],
             [
              0.5555555555555556,
              "#d8576b"
             ],
             [
              0.6666666666666666,
              "#ed7953"
             ],
             [
              0.7777777777777778,
              "#fb9f3a"
             ],
             [
              0.8888888888888888,
              "#fdca26"
             ],
             [
              1,
              "#f0f921"
             ]
            ],
            "type": "heatmapgl"
           }
          ],
          "histogram": [
           {
            "marker": {
             "pattern": {
              "fillmode": "overlay",
              "size": 10,
              "solidity": 0.2
             }
            },
            "type": "histogram"
           }
          ],
          "histogram2d": [
           {
            "colorbar": {
             "outlinewidth": 0,
             "ticks": ""
            },
            "colorscale": [
             [
              0,
              "#0d0887"
             ],
             [
              0.1111111111111111,
              "#46039f"
             ],
             [
              0.2222222222222222,
              "#7201a8"
             ],
             [
              0.3333333333333333,
              "#9c179e"
             ],
             [
              0.4444444444444444,
              "#bd3786"
             ],
             [
              0.5555555555555556,
              "#d8576b"
             ],
             [
              0.6666666666666666,
              "#ed7953"
             ],
             [
              0.7777777777777778,
              "#fb9f3a"
             ],
             [
              0.8888888888888888,
              "#fdca26"
             ],
             [
              1,
              "#f0f921"
             ]
            ],
            "type": "histogram2d"
           }
          ],
          "histogram2dcontour": [
           {
            "colorbar": {
             "outlinewidth": 0,
             "ticks": ""
            },
            "colorscale": [
             [
              0,
              "#0d0887"
             ],
             [
              0.1111111111111111,
              "#46039f"
             ],
             [
              0.2222222222222222,
              "#7201a8"
             ],
             [
              0.3333333333333333,
              "#9c179e"
             ],
             [
              0.4444444444444444,
              "#bd3786"
             ],
             [
              0.5555555555555556,
              "#d8576b"
             ],
             [
              0.6666666666666666,
              "#ed7953"
             ],
             [
              0.7777777777777778,
              "#fb9f3a"
             ],
             [
              0.8888888888888888,
              "#fdca26"
             ],
             [
              1,
              "#f0f921"
             ]
            ],
            "type": "histogram2dcontour"
           }
          ],
          "mesh3d": [
           {
            "colorbar": {
             "outlinewidth": 0,
             "ticks": ""
            },
            "type": "mesh3d"
           }
          ],
          "parcoords": [
           {
            "line": {
             "colorbar": {
              "outlinewidth": 0,
              "ticks": ""
             }
            },
            "type": "parcoords"
           }
          ],
          "pie": [
           {
            "automargin": true,
            "type": "pie"
           }
          ],
          "scatter": [
           {
            "fillpattern": {
             "fillmode": "overlay",
             "size": 10,
             "solidity": 0.2
            },
            "type": "scatter"
           }
          ],
          "scatter3d": [
           {
            "line": {
             "colorbar": {
              "outlinewidth": 0,
              "ticks": ""
             }
            },
            "marker": {
             "colorbar": {
              "outlinewidth": 0,
              "ticks": ""
             }
            },
            "type": "scatter3d"
           }
          ],
          "scattercarpet": [
           {
            "marker": {
             "colorbar": {
              "outlinewidth": 0,
              "ticks": ""
             }
            },
            "type": "scattercarpet"
           }
          ],
          "scattergeo": [
           {
            "marker": {
             "colorbar": {
              "outlinewidth": 0,
              "ticks": ""
             }
            },
            "type": "scattergeo"
           }
          ],
          "scattergl": [
           {
            "marker": {
             "colorbar": {
              "outlinewidth": 0,
              "ticks": ""
             }
            },
            "type": "scattergl"
           }
          ],
          "scattermapbox": [
           {
            "marker": {
             "colorbar": {
              "outlinewidth": 0,
              "ticks": ""
             }
            },
            "type": "scattermapbox"
           }
          ],
          "scatterpolar": [
           {
            "marker": {
             "colorbar": {
              "outlinewidth": 0,
              "ticks": ""
             }
            },
            "type": "scatterpolar"
           }
          ],
          "scatterpolargl": [
           {
            "marker": {
             "colorbar": {
              "outlinewidth": 0,
              "ticks": ""
             }
            },
            "type": "scatterpolargl"
           }
          ],
          "scatterternary": [
           {
            "marker": {
             "colorbar": {
              "outlinewidth": 0,
              "ticks": ""
             }
            },
            "type": "scatterternary"
           }
          ],
          "surface": [
           {
            "colorbar": {
             "outlinewidth": 0,
             "ticks": ""
            },
            "colorscale": [
             [
              0,
              "#0d0887"
             ],
             [
              0.1111111111111111,
              "#46039f"
             ],
             [
              0.2222222222222222,
              "#7201a8"
             ],
             [
              0.3333333333333333,
              "#9c179e"
             ],
             [
              0.4444444444444444,
              "#bd3786"
             ],
             [
              0.5555555555555556,
              "#d8576b"
             ],
             [
              0.6666666666666666,
              "#ed7953"
             ],
             [
              0.7777777777777778,
              "#fb9f3a"
             ],
             [
              0.8888888888888888,
              "#fdca26"
             ],
             [
              1,
              "#f0f921"
             ]
            ],
            "type": "surface"
           }
          ],
          "table": [
           {
            "cells": {
             "fill": {
              "color": "#EBF0F8"
             },
             "line": {
              "color": "white"
             }
            },
            "header": {
             "fill": {
              "color": "#C8D4E3"
             },
             "line": {
              "color": "white"
             }
            },
            "type": "table"
           }
          ]
         },
         "layout": {
          "annotationdefaults": {
           "arrowcolor": "#2a3f5f",
           "arrowhead": 0,
           "arrowwidth": 1
          },
          "autotypenumbers": "strict",
          "coloraxis": {
           "colorbar": {
            "outlinewidth": 0,
            "ticks": ""
           }
          },
          "colorscale": {
           "diverging": [
            [
             0,
             "#8e0152"
            ],
            [
             0.1,
             "#c51b7d"
            ],
            [
             0.2,
             "#de77ae"
            ],
            [
             0.3,
             "#f1b6da"
            ],
            [
             0.4,
             "#fde0ef"
            ],
            [
             0.5,
             "#f7f7f7"
            ],
            [
             0.6,
             "#e6f5d0"
            ],
            [
             0.7,
             "#b8e186"
            ],
            [
             0.8,
             "#7fbc41"
            ],
            [
             0.9,
             "#4d9221"
            ],
            [
             1,
             "#276419"
            ]
           ],
           "sequential": [
            [
             0,
             "#0d0887"
            ],
            [
             0.1111111111111111,
             "#46039f"
            ],
            [
             0.2222222222222222,
             "#7201a8"
            ],
            [
             0.3333333333333333,
             "#9c179e"
            ],
            [
             0.4444444444444444,
             "#bd3786"
            ],
            [
             0.5555555555555556,
             "#d8576b"
            ],
            [
             0.6666666666666666,
             "#ed7953"
            ],
            [
             0.7777777777777778,
             "#fb9f3a"
            ],
            [
             0.8888888888888888,
             "#fdca26"
            ],
            [
             1,
             "#f0f921"
            ]
           ],
           "sequentialminus": [
            [
             0,
             "#0d0887"
            ],
            [
             0.1111111111111111,
             "#46039f"
            ],
            [
             0.2222222222222222,
             "#7201a8"
            ],
            [
             0.3333333333333333,
             "#9c179e"
            ],
            [
             0.4444444444444444,
             "#bd3786"
            ],
            [
             0.5555555555555556,
             "#d8576b"
            ],
            [
             0.6666666666666666,
             "#ed7953"
            ],
            [
             0.7777777777777778,
             "#fb9f3a"
            ],
            [
             0.8888888888888888,
             "#fdca26"
            ],
            [
             1,
             "#f0f921"
            ]
           ]
          },
          "colorway": [
           "#636efa",
           "#EF553B",
           "#00cc96",
           "#ab63fa",
           "#FFA15A",
           "#19d3f3",
           "#FF6692",
           "#B6E880",
           "#FF97FF",
           "#FECB52"
          ],
          "font": {
           "color": "#2a3f5f"
          },
          "geo": {
           "bgcolor": "white",
           "lakecolor": "white",
           "landcolor": "#E5ECF6",
           "showlakes": true,
           "showland": true,
           "subunitcolor": "white"
          },
          "hoverlabel": {
           "align": "left"
          },
          "hovermode": "closest",
          "mapbox": {
           "style": "light"
          },
          "paper_bgcolor": "white",
          "plot_bgcolor": "#E5ECF6",
          "polar": {
           "angularaxis": {
            "gridcolor": "white",
            "linecolor": "white",
            "ticks": ""
           },
           "bgcolor": "#E5ECF6",
           "radialaxis": {
            "gridcolor": "white",
            "linecolor": "white",
            "ticks": ""
           }
          },
          "scene": {
           "xaxis": {
            "backgroundcolor": "#E5ECF6",
            "gridcolor": "white",
            "gridwidth": 2,
            "linecolor": "white",
            "showbackground": true,
            "ticks": "",
            "zerolinecolor": "white"
           },
           "yaxis": {
            "backgroundcolor": "#E5ECF6",
            "gridcolor": "white",
            "gridwidth": 2,
            "linecolor": "white",
            "showbackground": true,
            "ticks": "",
            "zerolinecolor": "white"
           },
           "zaxis": {
            "backgroundcolor": "#E5ECF6",
            "gridcolor": "white",
            "gridwidth": 2,
            "linecolor": "white",
            "showbackground": true,
            "ticks": "",
            "zerolinecolor": "white"
           }
          },
          "shapedefaults": {
           "line": {
            "color": "#2a3f5f"
           }
          },
          "ternary": {
           "aaxis": {
            "gridcolor": "white",
            "linecolor": "white",
            "ticks": ""
           },
           "baxis": {
            "gridcolor": "white",
            "linecolor": "white",
            "ticks": ""
           },
           "bgcolor": "#E5ECF6",
           "caxis": {
            "gridcolor": "white",
            "linecolor": "white",
            "ticks": ""
           }
          },
          "title": {
           "x": 0.05
          },
          "xaxis": {
           "automargin": true,
           "gridcolor": "white",
           "linecolor": "white",
           "ticks": "",
           "title": {
            "standoff": 15
           },
           "zerolinecolor": "white",
           "zerolinewidth": 2
          },
          "yaxis": {
           "automargin": true,
           "gridcolor": "white",
           "linecolor": "white",
           "ticks": "",
           "title": {
            "standoff": 15
           },
           "zerolinecolor": "white",
           "zerolinewidth": 2
          }
         }
        },
        "width": 1024
       }
      }
     },
     "metadata": {},
     "output_type": "display_data"
    }
   ],
   "source": [
    "def plotResult(pos, data_):\n",
    "    deviceColor = ['red', 'blue', 'green', 'black']\n",
    "\n",
    "    xx = pos*mult\n",
    "    data = (data_)\n",
    "    LMCs = [make_LMC(LMC_loc=[xx[0+4*l], xx[1+4*l], 0], LMC_orient=[xx[2+4*l], 0, xx[3+4*l]], LMC_H=LMC_H) for l in range(num_LMC)]\n",
    "    occlusions = np.zeros([num_poses, num_LMC, 7])\n",
    "    for lm, LMC in enumerate(LMCs):\n",
    "        for i in range(num_poses):\n",
    "            occlusions[i, lm] = check_LMC_Hand_visibility(LMC, pos_markers=data[0][i], fingers_idx=fingers_idx, finger_lines=data[4][0], finger_radius=finger_radius, palm_plane_normal=data[2][i], palm_centroid=data[3][i], palm_markers=data[1][i])\n",
    "\n",
    "    bestLMCs = np.zeros(num_LMC)\n",
    "    for i in range(num_poses):\n",
    "        print('_________________________________')\n",
    "        print('POS: ', i)\n",
    "        for lm, LMC in enumerate(LMCs):\n",
    "            print(occlusions[i, lm, 2:], np.sum(occlusions[i, lm, 2:]))\n",
    "        k = np.sum(occlusions[i, :, 2:], axis = 1)\n",
    "        kk = np.flatnonzero(k == np.max(k))\n",
    "        bestLMCs[kk] += 1\n",
    "        print('Best LMC: ', kk)\n",
    "\n",
    "    print(bestLMCs)\n",
    "\n",
    "    occlusions = np.array(occlusions).astype(np.int16)\n",
    "    vis = np.sum(occlusions, axis = 1)[:, 2:] # how many LMCs see each finger for each pose\n",
    "    print(vis)\n",
    "    vis = np.min(vis, axis=1) # take the minimum of each pose: e.g in pose i there is a finger that is only seen by 1 LMC -> this pose will get the value 1\n",
    "    vis_LMC = np.zeros(fingers_idx.shape[0]) # counts how many poses have 1, 2, 3, 4, 5  fngers not seen byy any LMC\n",
    "    unique, counts = np.unique(vis, return_counts=True)\n",
    "    vis_LMC[unique] = counts\n",
    "    \n",
    "    fig = go.Figure()\n",
    "    for lm, LMC in enumerate(LMCs):\n",
    "        fig = plotLMC(fig, LMC, color=deviceColor[lm], name='LMC_{}'.format(lm), scale = 1)\n",
    "\n",
    "    #fig = go.Figure()\n",
    "    for pos_markers in handMarkers:\n",
    "        fig = plot_hand(fig, pos_markers)\n",
    "    #fig = plot_hand(fig, data[0][0])\n",
    "    fig.show()\n",
    "\n",
    "#print(pos)\n",
    "plotResult(pos, data)"
   ]
  },
  {
   "cell_type": "code",
   "execution_count": 76,
   "metadata": {},
   "outputs": [
    {
     "name": "stdout",
     "output_type": "stream",
     "text": [
      "[ 3.71477453e+02 -4.97280161e+01  9.57858303e-05  6.87211000e+01]\n",
      "[[1. 1. 1. 1. 1. 1. 1.]]\n"
     ]
    },
    {
     "data": {
      "application/vnd.plotly.v1+json": {
       "config": {
        "plotlyServerURL": "https://plot.ly"
       },
       "data": [
        {
         "marker": {
          "color": "orange",
          "size": 5
         },
         "mode": "markers+text",
         "type": "scatter3d",
         "x": [
          371.477453349533
         ],
         "y": [
          -49.7280160580212
         ],
         "z": [
          0
         ]
        },
        {
         "line": {
          "color": "orange",
          "width": 2
         },
         "mode": "lines",
         "type": "scatter3d",
         "x": [
          371.477453349533,
          371.477453349533,
          null
         ],
         "y": [
          -49.7280160580212,
          -309.5356371933528,
          null
         ],
         "z": [
          0,
          149.99999999999997,
          null
         ]
        },
        {
         "colorscale": [
          [
           0,
           "orange"
          ],
          [
           1,
           "orange"
          ]
         ],
         "showlegend": false,
         "showscale": false,
         "type": "cone",
         "u": [
          0
         ],
         "v": [
          -77.94228634059948
         ],
         "w": [
          44.99999999999999
         ],
         "x": [
          371.477453349533
         ],
         "y": [
          -304.33948477064615
         ],
         "z": [
          146.99999999999997
         ]
        },
        {
         "marker": {
          "color": "orange",
          "size": 5
         },
         "mode": "markers+text",
         "type": "scatter3d",
         "x": [
          371.477453349533
         ],
         "y": [
          -49.7280160580212
         ],
         "z": [
          0
         ]
        },
        {
         "line": {
          "color": "orange",
          "width": 2
         },
         "mode": "lines",
         "type": "scatter3d",
         "x": [
          371.477453349533,
          661.2552012362535,
          null
         ],
         "y": [
          -49.7280160580212,
          -49.7280160580212,
          null
         ],
         "z": [
          0,
          77.64571353075623,
          null
         ]
        },
        {
         "colorscale": [
          [
           0,
           "orange"
          ],
          [
           1,
           "orange"
          ]
         ],
         "showlegend": false,
         "showscale": false,
         "type": "cone",
         "u": [
          86.93332436601614
         ],
         "v": [
          0
         ],
         "w": [
          23.29371405922687
         ],
         "x": [
          655.4596462785191
         ],
         "y": [
          -49.7280160580212
         ],
         "z": [
          76.0927992601411
         ]
        },
        {
         "marker": {
          "color": "orange",
          "size": 5
         },
         "mode": "markers+text",
         "type": "scatter3d",
         "x": [
          371.477453349533
         ],
         "y": [
          -49.7280160580212
         ],
         "z": [
          0
         ]
        },
        {
         "line": {
          "color": "orange",
          "width": 2
         },
         "mode": "lines",
         "type": "scatter3d",
         "x": [
          371.477453349533,
          371.477453349533,
          null
         ],
         "y": [
          -49.7280160580212,
          210.07960507731042,
          null
         ],
         "z": [
          0,
          149.99999999999997,
          null
         ]
        },
        {
         "colorscale": [
          [
           0,
           "orange"
          ],
          [
           1,
           "orange"
          ]
         ],
         "showlegend": false,
         "showscale": false,
         "type": "cone",
         "u": [
          0
         ],
         "v": [
          77.94228634059948
         ],
         "w": [
          44.99999999999999
         ],
         "x": [
          371.477453349533
         ],
         "y": [
          204.8834526546038
         ],
         "z": [
          146.99999999999997
         ]
        },
        {
         "marker": {
          "color": "orange",
          "size": 5
         },
         "mode": "markers+text",
         "type": "scatter3d",
         "x": [
          371.477453349533
         ],
         "y": [
          -49.7280160580212
         ],
         "z": [
          0
         ]
        },
        {
         "line": {
          "color": "orange",
          "width": 2
         },
         "mode": "lines",
         "type": "scatter3d",
         "x": [
          371.477453349533,
          81.69970546281252,
          null
         ],
         "y": [
          -49.7280160580212,
          -49.7280160580212,
          null
         ],
         "z": [
          0,
          77.64571353075623,
          null
         ]
        },
        {
         "colorscale": [
          [
           0,
           "orange"
          ],
          [
           1,
           "orange"
          ]
         ],
         "showlegend": false,
         "showscale": false,
         "type": "cone",
         "u": [
          -86.93332436601614
         ],
         "v": [
          0
         ],
         "w": [
          23.29371405922687
         ],
         "x": [
          87.49526042054691
         ],
         "y": [
          -49.7280160580212
         ],
         "z": [
          76.0927992601411
         ]
        },
        {
         "marker": {
          "color": "orange",
          "size": 5
         },
         "mode": "markers+text",
         "text": "0d",
         "type": "scatter3d",
         "x": [
          371.477453349533
         ],
         "y": [
          -179.63182662568698
         ],
         "z": [
          74.99999999999999
         ]
        },
        {
         "marker": {
          "color": "orange",
          "size": 5
         },
         "mode": "markers+text",
         "text": "1d",
         "type": "scatter3d",
         "x": [
          516.3663272928932
         ],
         "y": [
          -49.7280160580212
         ],
         "z": [
          38.82285676537811
         ]
        },
        {
         "marker": {
          "color": "orange",
          "size": 5
         },
         "mode": "markers+text",
         "text": "2d",
         "type": "scatter3d",
         "x": [
          371.477453349533
         ],
         "y": [
          80.1757945096446
         ],
         "z": [
          74.99999999999999
         ]
        },
        {
         "marker": {
          "color": "orange",
          "size": 5
         },
         "mode": "markers+text",
         "text": "3d",
         "type": "scatter3d",
         "x": [
          226.58857940617276
         ],
         "y": [
          -49.7280160580212
         ],
         "z": [
          38.82285676537811
         ]
        },
        {
         "marker": {
          "color": "orange",
          "size": 5
         },
         "mode": "markers+text",
         "type": "scatter3d",
         "x": [
          371.477453349533
         ],
         "y": [
          -49.7280160580212
         ],
         "z": [
          0
         ]
        },
        {
         "line": {
          "color": "orange",
          "width": 2
         },
         "mode": "lines",
         "type": "scatter3d",
         "x": [
          371.477453349533,
          371.477453349533,
          null
         ],
         "y": [
          -49.7280160580212,
          250.27198394197882,
          null
         ],
         "z": [
          0,
          0,
          null
         ]
        },
        {
         "colorscale": [
          [
           0,
           "orange"
          ],
          [
           1,
           "orange"
          ]
         ],
         "showlegend": false,
         "showscale": false,
         "type": "cone",
         "u": [
          0
         ],
         "v": [
          90
         ],
         "w": [
          0
         ],
         "x": [
          371.477453349533
         ],
         "y": [
          244.27198394197882
         ],
         "z": [
          0
         ]
        },
        {
         "marker": {
          "color": "orange",
          "size": 5
         },
         "mode": "markers+text",
         "text": "LMC",
         "type": "scatter3d",
         "x": [
          371.477453349533
         ],
         "y": [
          -49.7280160580212
         ],
         "z": [
          0
         ]
        },
        {
         "marker": {
          "color": "blue",
          "size": 5
         },
         "mode": "markers+text",
         "text": [
          0,
          1,
          2,
          3,
          4,
          5,
          6,
          7,
          8,
          9,
          10,
          11,
          12,
          13,
          14,
          15,
          16,
          17,
          18,
          19,
          20,
          21,
          22,
          23,
          24,
          25
         ],
         "type": "scatter3d",
         "x": [
          9.4098110473911,
          -8.9529803308769,
          -7.472844917917064,
          20.778027417231275,
          0.0010895002134085428,
          -1.0959260117360343,
          0.9881856356647079,
          0.563413341429151,
          25.295311971632692,
          4.453402496562397,
          6.295299050436839,
          9.324203933319785,
          6.199065690062207,
          7.678603335372421,
          9.838523962802098,
          12.943633818926138,
          10.324692944889177,
          28.10472268587001,
          8.219368705220678,
          10.283333259796985,
          17.06333488652509,
          11.919775489292466,
          49.566143615149095,
          -2.960560702861752,
          -0.00009321185828976525,
          0.00009321185829580334
         ],
         "y": [
          -68.48161875460463,
          -45.129174919162026,
          -48.161424548364664,
          -33.742580156886596,
          11.5304423163642,
          11.175091087345931,
          7.7121800464186085,
          -3.673851527731642,
          -4.25071085069878,
          55.77138830220385,
          60.38585388206965,
          57.96136906421048,
          31.034931688866234,
          82.25263363419619,
          89.91096208035118,
          81.42439166436314,
          53.627917689367756,
          21.024447205886556,
          98.5784306291386,
          105.92628123187133,
          100.18788190734374,
          69.93349235139029,
          -290.2650498206238,
          -293.40222525835344,
          -99.06222194990012,
          -100.93777805009977
         ],
         "z": [
          262.4715783303531,
          280.5741990572509,
          326.62623442496306,
          240.51994345652255,
          278.051008547417,
          300.65920027170023,
          320.59286737531755,
          338.73165361068436,
          233.3944482655405,
          280.16681882959637,
          301.097299137167,
          322.3511990888108,
          340.55978246487365,
          283.03777729641934,
          302.146898549276,
          322.54547676411613,
          338.7387923221184,
          230.3229850303637,
          284.2097033936271,
          302.90879454342013,
          323.13460093047416,
          339.0866811729465,
          298.264927696833,
          330.7823336386574,
          326.0043630127447,
          273.9956369872552
         ]
        }
       ],
       "layout": {
        "height": 1024,
        "scene": {
         "aspectmode": "data",
         "aspectratio": {
          "x": 1,
          "y": 1,
          "z": 1
         },
         "camera": {
          "center": {
           "x": 0,
           "y": 0,
           "z": 0
          },
          "eye": {
           "x": -2,
           "y": -0.5,
           "z": 3
          },
          "up": {
           "x": 0,
           "y": 0,
           "z": 20
          }
         }
        },
        "template": {
         "data": {
          "bar": [
           {
            "error_x": {
             "color": "#2a3f5f"
            },
            "error_y": {
             "color": "#2a3f5f"
            },
            "marker": {
             "line": {
              "color": "#E5ECF6",
              "width": 0.5
             },
             "pattern": {
              "fillmode": "overlay",
              "size": 10,
              "solidity": 0.2
             }
            },
            "type": "bar"
           }
          ],
          "barpolar": [
           {
            "marker": {
             "line": {
              "color": "#E5ECF6",
              "width": 0.5
             },
             "pattern": {
              "fillmode": "overlay",
              "size": 10,
              "solidity": 0.2
             }
            },
            "type": "barpolar"
           }
          ],
          "carpet": [
           {
            "aaxis": {
             "endlinecolor": "#2a3f5f",
             "gridcolor": "white",
             "linecolor": "white",
             "minorgridcolor": "white",
             "startlinecolor": "#2a3f5f"
            },
            "baxis": {
             "endlinecolor": "#2a3f5f",
             "gridcolor": "white",
             "linecolor": "white",
             "minorgridcolor": "white",
             "startlinecolor": "#2a3f5f"
            },
            "type": "carpet"
           }
          ],
          "choropleth": [
           {
            "colorbar": {
             "outlinewidth": 0,
             "ticks": ""
            },
            "type": "choropleth"
           }
          ],
          "contour": [
           {
            "colorbar": {
             "outlinewidth": 0,
             "ticks": ""
            },
            "colorscale": [
             [
              0,
              "#0d0887"
             ],
             [
              0.1111111111111111,
              "#46039f"
             ],
             [
              0.2222222222222222,
              "#7201a8"
             ],
             [
              0.3333333333333333,
              "#9c179e"
             ],
             [
              0.4444444444444444,
              "#bd3786"
             ],
             [
              0.5555555555555556,
              "#d8576b"
             ],
             [
              0.6666666666666666,
              "#ed7953"
             ],
             [
              0.7777777777777778,
              "#fb9f3a"
             ],
             [
              0.8888888888888888,
              "#fdca26"
             ],
             [
              1,
              "#f0f921"
             ]
            ],
            "type": "contour"
           }
          ],
          "contourcarpet": [
           {
            "colorbar": {
             "outlinewidth": 0,
             "ticks": ""
            },
            "type": "contourcarpet"
           }
          ],
          "heatmap": [
           {
            "colorbar": {
             "outlinewidth": 0,
             "ticks": ""
            },
            "colorscale": [
             [
              0,
              "#0d0887"
             ],
             [
              0.1111111111111111,
              "#46039f"
             ],
             [
              0.2222222222222222,
              "#7201a8"
             ],
             [
              0.3333333333333333,
              "#9c179e"
             ],
             [
              0.4444444444444444,
              "#bd3786"
             ],
             [
              0.5555555555555556,
              "#d8576b"
             ],
             [
              0.6666666666666666,
              "#ed7953"
             ],
             [
              0.7777777777777778,
              "#fb9f3a"
             ],
             [
              0.8888888888888888,
              "#fdca26"
             ],
             [
              1,
              "#f0f921"
             ]
            ],
            "type": "heatmap"
           }
          ],
          "heatmapgl": [
           {
            "colorbar": {
             "outlinewidth": 0,
             "ticks": ""
            },
            "colorscale": [
             [
              0,
              "#0d0887"
             ],
             [
              0.1111111111111111,
              "#46039f"
             ],
             [
              0.2222222222222222,
              "#7201a8"
             ],
             [
              0.3333333333333333,
              "#9c179e"
             ],
             [
              0.4444444444444444,
              "#bd3786"
             ],
             [
              0.5555555555555556,
              "#d8576b"
             ],
             [
              0.6666666666666666,
              "#ed7953"
             ],
             [
              0.7777777777777778,
              "#fb9f3a"
             ],
             [
              0.8888888888888888,
              "#fdca26"
             ],
             [
              1,
              "#f0f921"
             ]
            ],
            "type": "heatmapgl"
           }
          ],
          "histogram": [
           {
            "marker": {
             "pattern": {
              "fillmode": "overlay",
              "size": 10,
              "solidity": 0.2
             }
            },
            "type": "histogram"
           }
          ],
          "histogram2d": [
           {
            "colorbar": {
             "outlinewidth": 0,
             "ticks": ""
            },
            "colorscale": [
             [
              0,
              "#0d0887"
             ],
             [
              0.1111111111111111,
              "#46039f"
             ],
             [
              0.2222222222222222,
              "#7201a8"
             ],
             [
              0.3333333333333333,
              "#9c179e"
             ],
             [
              0.4444444444444444,
              "#bd3786"
             ],
             [
              0.5555555555555556,
              "#d8576b"
             ],
             [
              0.6666666666666666,
              "#ed7953"
             ],
             [
              0.7777777777777778,
              "#fb9f3a"
             ],
             [
              0.8888888888888888,
              "#fdca26"
             ],
             [
              1,
              "#f0f921"
             ]
            ],
            "type": "histogram2d"
           }
          ],
          "histogram2dcontour": [
           {
            "colorbar": {
             "outlinewidth": 0,
             "ticks": ""
            },
            "colorscale": [
             [
              0,
              "#0d0887"
             ],
             [
              0.1111111111111111,
              "#46039f"
             ],
             [
              0.2222222222222222,
              "#7201a8"
             ],
             [
              0.3333333333333333,
              "#9c179e"
             ],
             [
              0.4444444444444444,
              "#bd3786"
             ],
             [
              0.5555555555555556,
              "#d8576b"
             ],
             [
              0.6666666666666666,
              "#ed7953"
             ],
             [
              0.7777777777777778,
              "#fb9f3a"
             ],
             [
              0.8888888888888888,
              "#fdca26"
             ],
             [
              1,
              "#f0f921"
             ]
            ],
            "type": "histogram2dcontour"
           }
          ],
          "mesh3d": [
           {
            "colorbar": {
             "outlinewidth": 0,
             "ticks": ""
            },
            "type": "mesh3d"
           }
          ],
          "parcoords": [
           {
            "line": {
             "colorbar": {
              "outlinewidth": 0,
              "ticks": ""
             }
            },
            "type": "parcoords"
           }
          ],
          "pie": [
           {
            "automargin": true,
            "type": "pie"
           }
          ],
          "scatter": [
           {
            "fillpattern": {
             "fillmode": "overlay",
             "size": 10,
             "solidity": 0.2
            },
            "type": "scatter"
           }
          ],
          "scatter3d": [
           {
            "line": {
             "colorbar": {
              "outlinewidth": 0,
              "ticks": ""
             }
            },
            "marker": {
             "colorbar": {
              "outlinewidth": 0,
              "ticks": ""
             }
            },
            "type": "scatter3d"
           }
          ],
          "scattercarpet": [
           {
            "marker": {
             "colorbar": {
              "outlinewidth": 0,
              "ticks": ""
             }
            },
            "type": "scattercarpet"
           }
          ],
          "scattergeo": [
           {
            "marker": {
             "colorbar": {
              "outlinewidth": 0,
              "ticks": ""
             }
            },
            "type": "scattergeo"
           }
          ],
          "scattergl": [
           {
            "marker": {
             "colorbar": {
              "outlinewidth": 0,
              "ticks": ""
             }
            },
            "type": "scattergl"
           }
          ],
          "scattermapbox": [
           {
            "marker": {
             "colorbar": {
              "outlinewidth": 0,
              "ticks": ""
             }
            },
            "type": "scattermapbox"
           }
          ],
          "scatterpolar": [
           {
            "marker": {
             "colorbar": {
              "outlinewidth": 0,
              "ticks": ""
             }
            },
            "type": "scatterpolar"
           }
          ],
          "scatterpolargl": [
           {
            "marker": {
             "colorbar": {
              "outlinewidth": 0,
              "ticks": ""
             }
            },
            "type": "scatterpolargl"
           }
          ],
          "scatterternary": [
           {
            "marker": {
             "colorbar": {
              "outlinewidth": 0,
              "ticks": ""
             }
            },
            "type": "scatterternary"
           }
          ],
          "surface": [
           {
            "colorbar": {
             "outlinewidth": 0,
             "ticks": ""
            },
            "colorscale": [
             [
              0,
              "#0d0887"
             ],
             [
              0.1111111111111111,
              "#46039f"
             ],
             [
              0.2222222222222222,
              "#7201a8"
             ],
             [
              0.3333333333333333,
              "#9c179e"
             ],
             [
              0.4444444444444444,
              "#bd3786"
             ],
             [
              0.5555555555555556,
              "#d8576b"
             ],
             [
              0.6666666666666666,
              "#ed7953"
             ],
             [
              0.7777777777777778,
              "#fb9f3a"
             ],
             [
              0.8888888888888888,
              "#fdca26"
             ],
             [
              1,
              "#f0f921"
             ]
            ],
            "type": "surface"
           }
          ],
          "table": [
           {
            "cells": {
             "fill": {
              "color": "#EBF0F8"
             },
             "line": {
              "color": "white"
             }
            },
            "header": {
             "fill": {
              "color": "#C8D4E3"
             },
             "line": {
              "color": "white"
             }
            },
            "type": "table"
           }
          ]
         },
         "layout": {
          "annotationdefaults": {
           "arrowcolor": "#2a3f5f",
           "arrowhead": 0,
           "arrowwidth": 1
          },
          "autotypenumbers": "strict",
          "coloraxis": {
           "colorbar": {
            "outlinewidth": 0,
            "ticks": ""
           }
          },
          "colorscale": {
           "diverging": [
            [
             0,
             "#8e0152"
            ],
            [
             0.1,
             "#c51b7d"
            ],
            [
             0.2,
             "#de77ae"
            ],
            [
             0.3,
             "#f1b6da"
            ],
            [
             0.4,
             "#fde0ef"
            ],
            [
             0.5,
             "#f7f7f7"
            ],
            [
             0.6,
             "#e6f5d0"
            ],
            [
             0.7,
             "#b8e186"
            ],
            [
             0.8,
             "#7fbc41"
            ],
            [
             0.9,
             "#4d9221"
            ],
            [
             1,
             "#276419"
            ]
           ],
           "sequential": [
            [
             0,
             "#0d0887"
            ],
            [
             0.1111111111111111,
             "#46039f"
            ],
            [
             0.2222222222222222,
             "#7201a8"
            ],
            [
             0.3333333333333333,
             "#9c179e"
            ],
            [
             0.4444444444444444,
             "#bd3786"
            ],
            [
             0.5555555555555556,
             "#d8576b"
            ],
            [
             0.6666666666666666,
             "#ed7953"
            ],
            [
             0.7777777777777778,
             "#fb9f3a"
            ],
            [
             0.8888888888888888,
             "#fdca26"
            ],
            [
             1,
             "#f0f921"
            ]
           ],
           "sequentialminus": [
            [
             0,
             "#0d0887"
            ],
            [
             0.1111111111111111,
             "#46039f"
            ],
            [
             0.2222222222222222,
             "#7201a8"
            ],
            [
             0.3333333333333333,
             "#9c179e"
            ],
            [
             0.4444444444444444,
             "#bd3786"
            ],
            [
             0.5555555555555556,
             "#d8576b"
            ],
            [
             0.6666666666666666,
             "#ed7953"
            ],
            [
             0.7777777777777778,
             "#fb9f3a"
            ],
            [
             0.8888888888888888,
             "#fdca26"
            ],
            [
             1,
             "#f0f921"
            ]
           ]
          },
          "colorway": [
           "#636efa",
           "#EF553B",
           "#00cc96",
           "#ab63fa",
           "#FFA15A",
           "#19d3f3",
           "#FF6692",
           "#B6E880",
           "#FF97FF",
           "#FECB52"
          ],
          "font": {
           "color": "#2a3f5f"
          },
          "geo": {
           "bgcolor": "white",
           "lakecolor": "white",
           "landcolor": "#E5ECF6",
           "showlakes": true,
           "showland": true,
           "subunitcolor": "white"
          },
          "hoverlabel": {
           "align": "left"
          },
          "hovermode": "closest",
          "mapbox": {
           "style": "light"
          },
          "paper_bgcolor": "white",
          "plot_bgcolor": "#E5ECF6",
          "polar": {
           "angularaxis": {
            "gridcolor": "white",
            "linecolor": "white",
            "ticks": ""
           },
           "bgcolor": "#E5ECF6",
           "radialaxis": {
            "gridcolor": "white",
            "linecolor": "white",
            "ticks": ""
           }
          },
          "scene": {
           "xaxis": {
            "backgroundcolor": "#E5ECF6",
            "gridcolor": "white",
            "gridwidth": 2,
            "linecolor": "white",
            "showbackground": true,
            "ticks": "",
            "zerolinecolor": "white"
           },
           "yaxis": {
            "backgroundcolor": "#E5ECF6",
            "gridcolor": "white",
            "gridwidth": 2,
            "linecolor": "white",
            "showbackground": true,
            "ticks": "",
            "zerolinecolor": "white"
           },
           "zaxis": {
            "backgroundcolor": "#E5ECF6",
            "gridcolor": "white",
            "gridwidth": 2,
            "linecolor": "white",
            "showbackground": true,
            "ticks": "",
            "zerolinecolor": "white"
           }
          },
          "shapedefaults": {
           "line": {
            "color": "#2a3f5f"
           }
          },
          "ternary": {
           "aaxis": {
            "gridcolor": "white",
            "linecolor": "white",
            "ticks": ""
           },
           "baxis": {
            "gridcolor": "white",
            "linecolor": "white",
            "ticks": ""
           },
           "bgcolor": "#E5ECF6",
           "caxis": {
            "gridcolor": "white",
            "linecolor": "white",
            "ticks": ""
           }
          },
          "title": {
           "x": 0.05
          },
          "xaxis": {
           "automargin": true,
           "gridcolor": "white",
           "linecolor": "white",
           "ticks": "",
           "title": {
            "standoff": 15
           },
           "zerolinecolor": "white",
           "zerolinewidth": 2
          },
          "yaxis": {
           "automargin": true,
           "gridcolor": "white",
           "linecolor": "white",
           "ticks": "",
           "title": {
            "standoff": 15
           },
           "zerolinecolor": "white",
           "zerolinewidth": 2
          }
         }
        },
        "width": 1024
       }
      }
     },
     "metadata": {},
     "output_type": "display_data"
    }
   ],
   "source": [
    "x = pos * mult\n",
    "print(x)\n",
    "#x = np.array([300, 0, 0, 0])\n",
    "LMCs = [make_LMC(LMC_loc=[x[0+4*l], x[1+4*l], 0], LMC_orient=[0, 0, 0], LMC_H=LMC_H) for l in range(num_LMC)]\n",
    "\n",
    "occlusions = []\n",
    "for LMC in LMCs:\n",
    "    for i in range(num_poses):\n",
    "        occlusions += [check_LMC_Hand_visibility(LMC, pos_markers=data[0][i], fingers_idx=fingers_idx, finger_lines=data[4][0], finger_radius=finger_radius, palm_plane_normal=data[2][i], palm_centroid=data[3][i], palm_markers=data[1][i])]\n",
    "        \n",
    "\n",
    "occlusions = np.array(occlusions)\n",
    "print(occlusions)\n",
    "fig = go.Figure()\n",
    "fig = plotLMC(fig, LMCs[0], color='orange', name='LMC', scale = 30)\n",
    "fig = plot_hand(fig, data[0][0])\n",
    "fig.show()"
   ]
  },
  {
   "cell_type": "code",
   "execution_count": null,
   "metadata": {},
   "outputs": [],
   "source": [
    "handMarkers, palmMarkers, palmPlnNormals, palmCentroids, fingers = generate_hand_pose(pos=np.array([0, -100, 300]), PS=90, FE=0, WD=0)\n",
    "data = [handMarkers, palmMarkers, palmPlnNormals, palmCentroids, fingers]\n",
    "LMCs = [make_LMC(LMC_loc=[-380,  130, 0], LMC_orient=[0, 0, 0], LMC_H=LMC_H) ]\n",
    "i = 0\n",
    "print(check_LMC_Hand_visibility(LMCs[0], pos_markers=data[0][i], fingers_idx=fingers_idx, finger_lines=data[4][0], finger_radius=finger_radius, palm_plane_normal=data[2][i], palm_centroid=data[3][i], palm_markers=data[1][i]))\n",
    "\n",
    "fig = go.Figure()\n",
    "fig = plotLMC(fig, LMCs[0], color='orange', name='LMC', scale = 30)\n",
    "fig = plot_hand(fig, data[0][0])\n",
    "fig.show()"
   ]
  },
  {
   "cell_type": "code",
   "execution_count": null,
   "metadata": {},
   "outputs": [],
   "source": [
    "d = np.zeros(5)\n",
    "k = np.ones(5)\n",
    "for i in range(4):\n",
    "    k[i+1] = 2*k[-1]\n",
    "    d[i+1] = "
   ]
  }
 ],
 "metadata": {
  "kernelspec": {
   "display_name": "OpenSim44",
   "language": "python",
   "name": "python3"
  },
  "language_info": {
   "codemirror_mode": {
    "name": "ipython",
    "version": 3
   },
   "file_extension": ".py",
   "mimetype": "text/x-python",
   "name": "python",
   "nbconvert_exporter": "python",
   "pygments_lexer": "ipython3",
   "version": "3.8.16"
  }
 },
 "nbformat": 4,
 "nbformat_minor": 2
}
