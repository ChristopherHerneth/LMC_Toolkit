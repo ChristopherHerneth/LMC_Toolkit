{
 "cells": [
  {
   "cell_type": "code",
   "execution_count": 9,
   "metadata": {},
   "outputs": [
    {
     "name": "stdout",
     "output_type": "stream",
     "text": [
      "The autoreload extension is already loaded. To reload it, use:\n",
      "  %reload_ext autoreload\n"
     ]
    }
   ],
   "source": [
    "%load_ext autoreload\n",
    "%autoreload 2\n",
    " # then imported files are u pdated each time a cell is executed (good if functions in py files are added and modified)\n",
    "\n",
    "import scipy.io\n",
    "import numpy as np\n",
    "import pandas as pd\n",
    "import plotly.graph_objects as go\n",
    "import pickle\n",
    "import sys\n",
    "import os\n",
    "\n",
    "os.add_dll_directory(\"C:/OpenSim4.4/bin\") # otherwise module _sombody not found error!\n",
    "\n",
    "import opensim as osim\n",
    "from scipy.spatial.transform import Rotation as R\n",
    "\n",
    "sys.path.insert(0, '..')\n",
    "sys.path.insert(0, '...')\n",
    "\n",
    "from Python.plotUtil import addArrow, addMarker\n",
    "from Python.LMC_util import plotLMC, make_LMC,  check_LMC_Hand_visibility\n",
    "from Python.Hand_model import getHandModel, getHandMarkers, setHandPose, plot_hand, generate_hand_pose, generate_hand_poses\n",
    "from Python.ray_tracing_util import get_regressionPlane"
   ]
  },
  {
   "cell_type": "markdown",
   "metadata": {},
   "source": [
    "# Plot the OSIM Hand"
   ]
  },
  {
   "cell_type": "code",
   "execution_count": null,
   "metadata": {},
   "outputs": [
    {
     "name": "stdout",
     "output_type": "stream",
     "text": [
      "[5.20087260e+01 1.87555610e+00 1.86423717e-04]\n"
     ]
    },
    {
     "data": {
      "application/vnd.plotly.v1+json": {
       "config": {
        "plotlyServerURL": "https://plot.ly"
       },
       "data": [
        {
         "marker": {
          "color": "blue",
          "size": 5
         },
         "mode": "markers+text",
         "text": [
          0,
          1,
          2,
          3,
          4,
          5,
          6,
          7,
          8,
          9,
          10,
          11,
          12,
          13,
          14,
          15,
          16,
          17,
          18,
          19,
          20,
          21,
          22,
          23,
          24,
          25
         ],
         "type": "scatter3d",
         "x": [
          -37.528421669646804,
          -19.425800942749035,
          26.6262344249631,
          -59.48005654347742,
          -21.948991452582963,
          0.6592002717002806,
          20.592867375317628,
          38.731653610684425,
          -66.60555173445947,
          -19.83318117040357,
          1.0972991371670402,
          22.351199088810844,
          40.55978246487372,
          -16.962222703580608,
          2.1468985492760453,
          22.54547676411621,
          38.73879232211848,
          -69.67701496963628,
          -15.790296606372836,
          2.9087945434201594,
          23.13460093047421,
          39.08668117294655,
          -1.7350723031669164,
          30.782333638657448,
          26.004363012744747,
          -26.00436301274477
         ],
         "y": [
          31.518381245395357,
          54.87082508083795,
          51.83857545163532,
          66.25741984311338,
          111.53044231636417,
          111.1750910873459,
          107.71218004641858,
          96.32614847226833,
          95.74928914930119,
          155.77138830220386,
          160.38585388206963,
          157.96136906421046,
          131.0349316888662,
          182.25263363419614,
          189.91096208035114,
          181.4243916643631,
          153.62791768936773,
          121.02444720588653,
          198.57843062913858,
          205.9262812318713,
          200.18788190734372,
          169.93349235139024,
          -190.26504982062383,
          -193.4022252583535,
          0.9377780500998716,
          -0.9377780500997742
         ],
         "z": [
          -9.4098110473911,
          8.9529803308769,
          7.4728449179170635,
          -20.778027417231275,
          -0.0010895002134085428,
          1.0959260117360343,
          -0.9881856356647077,
          -0.563413341429151,
          -25.29531197163269,
          -4.453402496562397,
          -6.295299050436838,
          -9.324203933319785,
          -6.199065690062207,
          -7.67860333537242,
          -9.838523962802098,
          -12.943633818926136,
          -10.324692944889179,
          -28.10472268587001,
          -8.219368705220678,
          -10.283333259796985,
          -17.063334886525094,
          -11.919775489292464,
          -49.56614361514909,
          2.9605607028617515,
          0.00009321185828976524,
          -0.00009321185829580333
         ]
        }
       ],
       "layout": {
        "height": 1024,
        "scene": {
         "aspectmode": "data",
         "aspectratio": {
          "x": 1,
          "y": 1,
          "z": 1
         },
         "camera": {
          "center": {
           "x": 0,
           "y": 0,
           "z": 0
          },
          "eye": {
           "x": -2,
           "y": -0.5,
           "z": 3
          },
          "up": {
           "x": 0,
           "y": 0,
           "z": 20
          }
         }
        },
        "template": {
         "data": {
          "bar": [
           {
            "error_x": {
             "color": "#2a3f5f"
            },
            "error_y": {
             "color": "#2a3f5f"
            },
            "marker": {
             "line": {
              "color": "#E5ECF6",
              "width": 0.5
             },
             "pattern": {
              "fillmode": "overlay",
              "size": 10,
              "solidity": 0.2
             }
            },
            "type": "bar"
           }
          ],
          "barpolar": [
           {
            "marker": {
             "line": {
              "color": "#E5ECF6",
              "width": 0.5
             },
             "pattern": {
              "fillmode": "overlay",
              "size": 10,
              "solidity": 0.2
             }
            },
            "type": "barpolar"
           }
          ],
          "carpet": [
           {
            "aaxis": {
             "endlinecolor": "#2a3f5f",
             "gridcolor": "white",
             "linecolor": "white",
             "minorgridcolor": "white",
             "startlinecolor": "#2a3f5f"
            },
            "baxis": {
             "endlinecolor": "#2a3f5f",
             "gridcolor": "white",
             "linecolor": "white",
             "minorgridcolor": "white",
             "startlinecolor": "#2a3f5f"
            },
            "type": "carpet"
           }
          ],
          "choropleth": [
           {
            "colorbar": {
             "outlinewidth": 0,
             "ticks": ""
            },
            "type": "choropleth"
           }
          ],
          "contour": [
           {
            "colorbar": {
             "outlinewidth": 0,
             "ticks": ""
            },
            "colorscale": [
             [
              0,
              "#0d0887"
             ],
             [
              0.1111111111111111,
              "#46039f"
             ],
             [
              0.2222222222222222,
              "#7201a8"
             ],
             [
              0.3333333333333333,
              "#9c179e"
             ],
             [
              0.4444444444444444,
              "#bd3786"
             ],
             [
              0.5555555555555556,
              "#d8576b"
             ],
             [
              0.6666666666666666,
              "#ed7953"
             ],
             [
              0.7777777777777778,
              "#fb9f3a"
             ],
             [
              0.8888888888888888,
              "#fdca26"
             ],
             [
              1,
              "#f0f921"
             ]
            ],
            "type": "contour"
           }
          ],
          "contourcarpet": [
           {
            "colorbar": {
             "outlinewidth": 0,
             "ticks": ""
            },
            "type": "contourcarpet"
           }
          ],
          "heatmap": [
           {
            "colorbar": {
             "outlinewidth": 0,
             "ticks": ""
            },
            "colorscale": [
             [
              0,
              "#0d0887"
             ],
             [
              0.1111111111111111,
              "#46039f"
             ],
             [
              0.2222222222222222,
              "#7201a8"
             ],
             [
              0.3333333333333333,
              "#9c179e"
             ],
             [
              0.4444444444444444,
              "#bd3786"
             ],
             [
              0.5555555555555556,
              "#d8576b"
             ],
             [
              0.6666666666666666,
              "#ed7953"
             ],
             [
              0.7777777777777778,
              "#fb9f3a"
             ],
             [
              0.8888888888888888,
              "#fdca26"
             ],
             [
              1,
              "#f0f921"
             ]
            ],
            "type": "heatmap"
           }
          ],
          "heatmapgl": [
           {
            "colorbar": {
             "outlinewidth": 0,
             "ticks": ""
            },
            "colorscale": [
             [
              0,
              "#0d0887"
             ],
             [
              0.1111111111111111,
              "#46039f"
             ],
             [
              0.2222222222222222,
              "#7201a8"
             ],
             [
              0.3333333333333333,
              "#9c179e"
             ],
             [
              0.4444444444444444,
              "#bd3786"
             ],
             [
              0.5555555555555556,
              "#d8576b"
             ],
             [
              0.6666666666666666,
              "#ed7953"
             ],
             [
              0.7777777777777778,
              "#fb9f3a"
             ],
             [
              0.8888888888888888,
              "#fdca26"
             ],
             [
              1,
              "#f0f921"
             ]
            ],
            "type": "heatmapgl"
           }
          ],
          "histogram": [
           {
            "marker": {
             "pattern": {
              "fillmode": "overlay",
              "size": 10,
              "solidity": 0.2
             }
            },
            "type": "histogram"
           }
          ],
          "histogram2d": [
           {
            "colorbar": {
             "outlinewidth": 0,
             "ticks": ""
            },
            "colorscale": [
             [
              0,
              "#0d0887"
             ],
             [
              0.1111111111111111,
              "#46039f"
             ],
             [
              0.2222222222222222,
              "#7201a8"
             ],
             [
              0.3333333333333333,
              "#9c179e"
             ],
             [
              0.4444444444444444,
              "#bd3786"
             ],
             [
              0.5555555555555556,
              "#d8576b"
             ],
             [
              0.6666666666666666,
              "#ed7953"
             ],
             [
              0.7777777777777778,
              "#fb9f3a"
             ],
             [
              0.8888888888888888,
              "#fdca26"
             ],
             [
              1,
              "#f0f921"
             ]
            ],
            "type": "histogram2d"
           }
          ],
          "histogram2dcontour": [
           {
            "colorbar": {
             "outlinewidth": 0,
             "ticks": ""
            },
            "colorscale": [
             [
              0,
              "#0d0887"
             ],
             [
              0.1111111111111111,
              "#46039f"
             ],
             [
              0.2222222222222222,
              "#7201a8"
             ],
             [
              0.3333333333333333,
              "#9c179e"
             ],
             [
              0.4444444444444444,
              "#bd3786"
             ],
             [
              0.5555555555555556,
              "#d8576b"
             ],
             [
              0.6666666666666666,
              "#ed7953"
             ],
             [
              0.7777777777777778,
              "#fb9f3a"
             ],
             [
              0.8888888888888888,
              "#fdca26"
             ],
             [
              1,
              "#f0f921"
             ]
            ],
            "type": "histogram2dcontour"
           }
          ],
          "mesh3d": [
           {
            "colorbar": {
             "outlinewidth": 0,
             "ticks": ""
            },
            "type": "mesh3d"
           }
          ],
          "parcoords": [
           {
            "line": {
             "colorbar": {
              "outlinewidth": 0,
              "ticks": ""
             }
            },
            "type": "parcoords"
           }
          ],
          "pie": [
           {
            "automargin": true,
            "type": "pie"
           }
          ],
          "scatter": [
           {
            "fillpattern": {
             "fillmode": "overlay",
             "size": 10,
             "solidity": 0.2
            },
            "type": "scatter"
           }
          ],
          "scatter3d": [
           {
            "line": {
             "colorbar": {
              "outlinewidth": 0,
              "ticks": ""
             }
            },
            "marker": {
             "colorbar": {
              "outlinewidth": 0,
              "ticks": ""
             }
            },
            "type": "scatter3d"
           }
          ],
          "scattercarpet": [
           {
            "marker": {
             "colorbar": {
              "outlinewidth": 0,
              "ticks": ""
             }
            },
            "type": "scattercarpet"
           }
          ],
          "scattergeo": [
           {
            "marker": {
             "colorbar": {
              "outlinewidth": 0,
              "ticks": ""
             }
            },
            "type": "scattergeo"
           }
          ],
          "scattergl": [
           {
            "marker": {
             "colorbar": {
              "outlinewidth": 0,
              "ticks": ""
             }
            },
            "type": "scattergl"
           }
          ],
          "scattermapbox": [
           {
            "marker": {
             "colorbar": {
              "outlinewidth": 0,
              "ticks": ""
             }
            },
            "type": "scattermapbox"
           }
          ],
          "scatterpolar": [
           {
            "marker": {
             "colorbar": {
              "outlinewidth": 0,
              "ticks": ""
             }
            },
            "type": "scatterpolar"
           }
          ],
          "scatterpolargl": [
           {
            "marker": {
             "colorbar": {
              "outlinewidth": 0,
              "ticks": ""
             }
            },
            "type": "scatterpolargl"
           }
          ],
          "scatterternary": [
           {
            "marker": {
             "colorbar": {
              "outlinewidth": 0,
              "ticks": ""
             }
            },
            "type": "scatterternary"
           }
          ],
          "surface": [
           {
            "colorbar": {
             "outlinewidth": 0,
             "ticks": ""
            },
            "colorscale": [
             [
              0,
              "#0d0887"
             ],
             [
              0.1111111111111111,
              "#46039f"
             ],
             [
              0.2222222222222222,
              "#7201a8"
             ],
             [
              0.3333333333333333,
              "#9c179e"
             ],
             [
              0.4444444444444444,
              "#bd3786"
             ],
             [
              0.5555555555555556,
              "#d8576b"
             ],
             [
              0.6666666666666666,
              "#ed7953"
             ],
             [
              0.7777777777777778,
              "#fb9f3a"
             ],
             [
              0.8888888888888888,
              "#fdca26"
             ],
             [
              1,
              "#f0f921"
             ]
            ],
            "type": "surface"
           }
          ],
          "table": [
           {
            "cells": {
             "fill": {
              "color": "#EBF0F8"
             },
             "line": {
              "color": "white"
             }
            },
            "header": {
             "fill": {
              "color": "#C8D4E3"
             },
             "line": {
              "color": "white"
             }
            },
            "type": "table"
           }
          ]
         },
         "layout": {
          "annotationdefaults": {
           "arrowcolor": "#2a3f5f",
           "arrowhead": 0,
           "arrowwidth": 1
          },
          "autotypenumbers": "strict",
          "coloraxis": {
           "colorbar": {
            "outlinewidth": 0,
            "ticks": ""
           }
          },
          "colorscale": {
           "diverging": [
            [
             0,
             "#8e0152"
            ],
            [
             0.1,
             "#c51b7d"
            ],
            [
             0.2,
             "#de77ae"
            ],
            [
             0.3,
             "#f1b6da"
            ],
            [
             0.4,
             "#fde0ef"
            ],
            [
             0.5,
             "#f7f7f7"
            ],
            [
             0.6,
             "#e6f5d0"
            ],
            [
             0.7,
             "#b8e186"
            ],
            [
             0.8,
             "#7fbc41"
            ],
            [
             0.9,
             "#4d9221"
            ],
            [
             1,
             "#276419"
            ]
           ],
           "sequential": [
            [
             0,
             "#0d0887"
            ],
            [
             0.1111111111111111,
             "#46039f"
            ],
            [
             0.2222222222222222,
             "#7201a8"
            ],
            [
             0.3333333333333333,
             "#9c179e"
            ],
            [
             0.4444444444444444,
             "#bd3786"
            ],
            [
             0.5555555555555556,
             "#d8576b"
            ],
            [
             0.6666666666666666,
             "#ed7953"
            ],
            [
             0.7777777777777778,
             "#fb9f3a"
            ],
            [
             0.8888888888888888,
             "#fdca26"
            ],
            [
             1,
             "#f0f921"
            ]
           ],
           "sequentialminus": [
            [
             0,
             "#0d0887"
            ],
            [
             0.1111111111111111,
             "#46039f"
            ],
            [
             0.2222222222222222,
             "#7201a8"
            ],
            [
             0.3333333333333333,
             "#9c179e"
            ],
            [
             0.4444444444444444,
             "#bd3786"
            ],
            [
             0.5555555555555556,
             "#d8576b"
            ],
            [
             0.6666666666666666,
             "#ed7953"
            ],
            [
             0.7777777777777778,
             "#fb9f3a"
            ],
            [
             0.8888888888888888,
             "#fdca26"
            ],
            [
             1,
             "#f0f921"
            ]
           ]
          },
          "colorway": [
           "#636efa",
           "#EF553B",
           "#00cc96",
           "#ab63fa",
           "#FFA15A",
           "#19d3f3",
           "#FF6692",
           "#B6E880",
           "#FF97FF",
           "#FECB52"
          ],
          "font": {
           "color": "#2a3f5f"
          },
          "geo": {
           "bgcolor": "white",
           "lakecolor": "white",
           "landcolor": "#E5ECF6",
           "showlakes": true,
           "showland": true,
           "subunitcolor": "white"
          },
          "hoverlabel": {
           "align": "left"
          },
          "hovermode": "closest",
          "mapbox": {
           "style": "light"
          },
          "paper_bgcolor": "white",
          "plot_bgcolor": "#E5ECF6",
          "polar": {
           "angularaxis": {
            "gridcolor": "white",
            "linecolor": "white",
            "ticks": ""
           },
           "bgcolor": "#E5ECF6",
           "radialaxis": {
            "gridcolor": "white",
            "linecolor": "white",
            "ticks": ""
           }
          },
          "scene": {
           "xaxis": {
            "backgroundcolor": "#E5ECF6",
            "gridcolor": "white",
            "gridwidth": 2,
            "linecolor": "white",
            "showbackground": true,
            "ticks": "",
            "zerolinecolor": "white"
           },
           "yaxis": {
            "backgroundcolor": "#E5ECF6",
            "gridcolor": "white",
            "gridwidth": 2,
            "linecolor": "white",
            "showbackground": true,
            "ticks": "",
            "zerolinecolor": "white"
           },
           "zaxis": {
            "backgroundcolor": "#E5ECF6",
            "gridcolor": "white",
            "gridwidth": 2,
            "linecolor": "white",
            "showbackground": true,
            "ticks": "",
            "zerolinecolor": "white"
           }
          },
          "shapedefaults": {
           "line": {
            "color": "#2a3f5f"
           }
          },
          "ternary": {
           "aaxis": {
            "gridcolor": "white",
            "linecolor": "white",
            "ticks": ""
           },
           "baxis": {
            "gridcolor": "white",
            "linecolor": "white",
            "ticks": ""
           },
           "bgcolor": "#E5ECF6",
           "caxis": {
            "gridcolor": "white",
            "linecolor": "white",
            "ticks": ""
           }
          },
          "title": {
           "x": 0.05
          },
          "xaxis": {
           "automargin": true,
           "gridcolor": "white",
           "linecolor": "white",
           "ticks": "",
           "title": {
            "standoff": 15
           },
           "zerolinecolor": "white",
           "zerolinewidth": 2
          },
          "yaxis": {
           "automargin": true,
           "gridcolor": "white",
           "linecolor": "white",
           "ticks": "",
           "title": {
            "standoff": 15
           },
           "zerolinecolor": "white",
           "zerolinewidth": 2
          }
         }
        },
        "width": 1024
       }
      }
     },
     "metadata": {},
     "output_type": "display_data"
    }
   ],
   "source": [
    "HandModel = getHandModel()\n",
    "q = np.zeros(20)\n",
    "# set the thumb in a flat position\n",
    "q[0] = 0.4\n",
    "q[1] = -0.6\n",
    "q[2] = 0.1\n",
    "state = setHandPose(HandModel, q)\n",
    "# HAND ROTATION\n",
    "# x = + flexion, - extension\n",
    "# y = + pronation, - supination\n",
    "# z = + ulna devation, - radial deviation\n",
    "pos_markers = getHandMarkers(HandModel, state, pos=np.array([0, 0, 0]), orient=np.array([0, 0, 0])*np.pi/180) \n",
    "\n",
    "print(pos_markers[24] - pos_markers[25])\n",
    "\n",
    "fig = go.Figure()\n",
    "plot_hand(None, pos_markers).show()"
   ]
  },
  {
   "cell_type": "markdown",
   "metadata": {},
   "source": [
    "# Make and Plot some LMC\n",
    "the grey arrow points in the LMC forward direction"
   ]
  },
  {
   "cell_type": "code",
   "execution_count": 7,
   "metadata": {},
   "outputs": [
    {
     "data": {
      "application/vnd.plotly.v1+json": {
       "config": {
        "plotlyServerURL": "https://plot.ly"
       },
       "data": [
        {
         "marker": {
          "color": "red",
          "size": 5
         },
         "mode": "markers+text",
         "type": "scatter3d",
         "x": [
          0
         ],
         "y": [
          0
         ],
         "z": [
          0
         ]
        },
        {
         "line": {
          "color": "red",
          "width": 2
         },
         "mode": "lines",
         "type": "scatter3d",
         "x": [
          0,
          -367.42346141747674,
          null
         ],
         "y": [
          0,
          -367.4234614174767,
          null
         ],
         "z": [
          0,
          299.99999999999994,
          null
         ]
        },
        {
         "colorscale": [
          [
           0,
           "red"
          ],
          [
           1,
           "red"
          ]
         ],
         "showlegend": false,
         "showscale": false,
         "type": "cone",
         "u": [
          -110.22703842524302
         ],
         "v": [
          -110.22703842524301
         ],
         "w": [
          89.99999999999999
         ],
         "x": [
          -360.0749921891272
         ],
         "y": [
          -360.07499218912716
         ],
         "z": [
          293.99999999999994
         ]
        },
        {
         "marker": {
          "color": "red",
          "size": 5
         },
         "mode": "markers+text",
         "type": "scatter3d",
         "x": [
          0
         ],
         "y": [
          0
         ],
         "z": [
          0
         ]
        },
        {
         "line": {
          "color": "red",
          "width": 2
         },
         "mode": "lines",
         "type": "scatter3d",
         "x": [
          0,
          409.8076211353316,
          null
         ],
         "y": [
          0,
          -409.80762113533166,
          null
         ],
         "z": [
          0,
          155.29142706151245,
          null
         ]
        },
        {
         "colorscale": [
          [
           0,
           "red"
          ],
          [
           1,
           "red"
          ]
         ],
         "showlegend": false,
         "showscale": false,
         "type": "cone",
         "u": [
          122.94228634059948
         ],
         "v": [
          -122.9422863405995
         ],
         "w": [
          46.58742811845374
         ],
         "x": [
          401.61146871262497
         ],
         "y": [
          -401.611468712625
         ],
         "z": [
          152.1855985202822
         ]
        },
        {
         "marker": {
          "color": "red",
          "size": 5
         },
         "mode": "markers+text",
         "type": "scatter3d",
         "x": [
          0
         ],
         "y": [
          0
         ],
         "z": [
          0
         ]
        },
        {
         "line": {
          "color": "red",
          "width": 2
         },
         "mode": "lines",
         "type": "scatter3d",
         "x": [
          0,
          367.42346141747674,
          null
         ],
         "y": [
          0,
          367.4234614174767,
          null
         ],
         "z": [
          0,
          299.99999999999994,
          null
         ]
        },
        {
         "colorscale": [
          [
           0,
           "red"
          ],
          [
           1,
           "red"
          ]
         ],
         "showlegend": false,
         "showscale": false,
         "type": "cone",
         "u": [
          110.22703842524302
         ],
         "v": [
          110.22703842524301
         ],
         "w": [
          89.99999999999999
         ],
         "x": [
          360.0749921891272
         ],
         "y": [
          360.07499218912716
         ],
         "z": [
          293.99999999999994
         ]
        },
        {
         "marker": {
          "color": "red",
          "size": 5
         },
         "mode": "markers+text",
         "type": "scatter3d",
         "x": [
          0
         ],
         "y": [
          0
         ],
         "z": [
          0
         ]
        },
        {
         "line": {
          "color": "red",
          "width": 2
         },
         "mode": "lines",
         "type": "scatter3d",
         "x": [
          0,
          -409.8076211353316,
          null
         ],
         "y": [
          0,
          409.80762113533166,
          null
         ],
         "z": [
          0,
          155.29142706151245,
          null
         ]
        },
        {
         "colorscale": [
          [
           0,
           "red"
          ],
          [
           1,
           "red"
          ]
         ],
         "showlegend": false,
         "showscale": false,
         "type": "cone",
         "u": [
          -122.94228634059948
         ],
         "v": [
          122.9422863405995
         ],
         "w": [
          46.58742811845374
         ],
         "x": [
          -401.61146871262497
         ],
         "y": [
          401.611468712625
         ],
         "z": [
          152.1855985202822
         ]
        },
        {
         "marker": {
          "color": "red",
          "size": 5
         },
         "mode": "markers+text",
         "text": "0d",
         "type": "scatter3d",
         "x": [
          -183.71173070873837
         ],
         "y": [
          -183.71173070873834
         ],
         "z": [
          149.99999999999997
         ]
        },
        {
         "marker": {
          "color": "red",
          "size": 5
         },
         "mode": "markers+text",
         "text": "1d",
         "type": "scatter3d",
         "x": [
          409.8076211353316
         ],
         "y": [
          -409.80762113533166
         ],
         "z": [
          155.29142706151245
         ]
        },
        {
         "marker": {
          "color": "red",
          "size": 5
         },
         "mode": "markers+text",
         "text": "2d",
         "type": "scatter3d",
         "x": [
          183.71173070873837
         ],
         "y": [
          183.71173070873834
         ],
         "z": [
          149.99999999999997
         ]
        },
        {
         "marker": {
          "color": "red",
          "size": 5
         },
         "mode": "markers+text",
         "text": "3d",
         "type": "scatter3d",
         "x": [
          -409.8076211353316
         ],
         "y": [
          409.80762113533166
         ],
         "z": [
          155.29142706151245
         ]
        },
        {
         "marker": {
          "color": "gray",
          "size": 5
         },
         "mode": "markers+text",
         "type": "scatter3d",
         "x": [
          0
         ],
         "y": [
          0
         ],
         "z": [
          0
         ]
        },
        {
         "line": {
          "color": "gray",
          "width": 2
         },
         "mode": "lines",
         "type": "scatter3d",
         "x": [
          0,
          424.26406871192853,
          null
         ],
         "y": [
          0,
          424.2640687119285,
          null
         ],
         "z": [
          0,
          0,
          null
         ]
        },
        {
         "colorscale": [
          [
           0,
           "gray"
          ],
          [
           1,
           "gray"
          ]
         ],
         "showlegend": false,
         "showscale": false,
         "type": "cone",
         "u": [
          127.27922061357856
         ],
         "v": [
          127.27922061357853
         ],
         "w": [
          0
         ],
         "x": [
          415.77878733768995
         ],
         "y": [
          415.7787873376899
         ],
         "z": [
          0
         ]
        },
        {
         "marker": {
          "color": "red",
          "size": 5
         },
         "mode": "markers+text",
         "text": "0",
         "type": "scatter3d",
         "x": [
          0
         ],
         "y": [
          0
         ],
         "z": [
          0
         ]
        },
        {
         "marker": {
          "color": "green",
          "size": 5
         },
         "mode": "markers+text",
         "type": "scatter3d",
         "x": [
          5000
         ],
         "y": [
          0
         ],
         "z": [
          0
         ]
        },
        {
         "line": {
          "color": "green",
          "width": 2
         },
         "mode": "lines",
         "type": "scatter3d",
         "x": [
          5000,
          5272.711686603227,
          null
         ],
         "y": [
          0,
          -272.7116866032262,
          null
         ],
         "z": [
          0,
          459.6266658713869,
          null
         ]
        },
        {
         "colorscale": [
          [
           0,
           "green"
          ],
          [
           1,
           "green"
          ]
         ],
         "showlegend": false,
         "showscale": false,
         "type": "cone",
         "u": [
          81.81350598096796
         ],
         "v": [
          -81.81350598096786
         ],
         "w": [
          137.88799976141607
         ],
         "x": [
          5267.257452871162
         ],
         "y": [
          -267.25745287116166
         ],
         "z": [
          450.4341325539591
         ]
        },
        {
         "marker": {
          "color": "green",
          "size": 5
         },
         "mode": "markers+text",
         "type": "scatter3d",
         "x": [
          5000
         ],
         "y": [
          0
         ],
         "z": [
          0
         ]
        },
        {
         "line": {
          "color": "green",
          "width": 2
         },
         "mode": "lines",
         "type": "scatter3d",
         "x": [
          5000,
          5372.251202816375,
          null
         ],
         "y": [
          0,
          447.3640394542885,
          null
         ],
         "z": [
          0,
          145.92620808101637,
          null
         ]
        },
        {
         "colorscale": [
          [
           0,
           "green"
          ],
          [
           1,
           "green"
          ]
         ],
         "showlegend": false,
         "showscale": false,
         "type": "cone",
         "u": [
          111.67536084491239
         ],
         "v": [
          134.20921183628656
         ],
         "w": [
          43.77786242430491
         ],
         "x": [
          5364.806178760047
         ],
         "y": [
          438.41675866520274
         ],
         "z": [
          143.00768391939604
         ]
        },
        {
         "marker": {
          "color": "green",
          "size": 5
         },
         "mode": "markers+text",
         "type": "scatter3d",
         "x": [
          5000
         ],
         "y": [
          0
         ],
         "z": [
          0
         ]
        },
        {
         "line": {
          "color": "green",
          "width": 2
         },
         "mode": "lines",
         "type": "scatter3d",
         "x": [
          5000,
          4582.181455807989,
          null
         ],
         "y": [
          0,
          417.8185441920113,
          null
         ],
         "z": [
          0,
          104.18890660015813,
          null
         ]
        },
        {
         "colorscale": [
          [
           0,
           "green"
          ],
          [
           1,
           "green"
          ]
         ],
         "showlegend": false,
         "showscale": false,
         "type": "cone",
         "u": [
          -125.3455632576034
         ],
         "v": [
          125.34556325760339
         ],
         "w": [
          31.25667198004744
         ],
         "x": [
          4590.537826691829
         ],
         "y": [
          409.4621733081711
         ],
         "z": [
          102.10512846815497
         ]
        },
        {
         "marker": {
          "color": "green",
          "size": 5
         },
         "mode": "markers+text",
         "type": "scatter3d",
         "x": [
          5000
         ],
         "y": [
          0
         ],
         "z": [
          0
         ]
        },
        {
         "line": {
          "color": "green",
          "width": 2
         },
         "mode": "lines",
         "type": "scatter3d",
         "x": [
          5000,
          4552.635960545712,
          null
         ],
         "y": [
          0,
          -372.2512028163748,
          null
         ],
         "z": [
          0,
          145.9262080810164,
          null
         ]
        },
        {
         "colorscale": [
          [
           0,
           "green"
          ],
          [
           1,
           "green"
          ]
         ],
         "showlegend": false,
         "showscale": false,
         "type": "cone",
         "u": [
          -134.2092118362864
         ],
         "v": [
          -111.67536084491245
         ],
         "w": [
          43.77786242430492
         ],
         "x": [
          4561.583241334798
         ],
         "y": [
          -364.8061787600473
         ],
         "z": [
          143.00768391939607
         ]
        },
        {
         "marker": {
          "color": "green",
          "size": 5
         },
         "mode": "markers+text",
         "text": "0d",
         "type": "scatter3d",
         "x": [
          5136.355843301613
         ],
         "y": [
          -136.3558433016131
         ],
         "z": [
          229.81333293569344
         ]
        },
        {
         "marker": {
          "color": "green",
          "size": 5
         },
         "mode": "markers+text",
         "text": "1d",
         "type": "scatter3d",
         "x": [
          5372.251202816375
         ],
         "y": [
          447.3640394542885
         ],
         "z": [
          145.92620808101637
         ]
        },
        {
         "marker": {
          "color": "green",
          "size": 5
         },
         "mode": "markers+text",
         "text": "2d",
         "type": "scatter3d",
         "x": [
          4791.090727903995
         ],
         "y": [
          208.90927209600565
         ],
         "z": [
          52.09445330007907
         ]
        },
        {
         "marker": {
          "color": "green",
          "size": 5
         },
         "mode": "markers+text",
         "text": "3d",
         "type": "scatter3d",
         "x": [
          4552.635960545712
         ],
         "y": [
          -372.2512028163748
         ],
         "z": [
          145.9262080810164
         ]
        },
        {
         "marker": {
          "color": "gray",
          "size": 5
         },
         "mode": "markers+text",
         "type": "scatter3d",
         "x": [
          5000
         ],
         "y": [
          0
         ],
         "z": [
          0
         ]
        },
        {
         "line": {
          "color": "gray",
          "width": 2
         },
         "mode": "lines",
         "type": "scatter3d",
         "x": [
          5000,
          4601.322185366795,
          null
         ],
         "y": [
          0,
          398.6778146332048,
          null
         ],
         "z": [
          0,
          -205.21208599540128,
          null
         ]
        },
        {
         "colorscale": [
          [
           0,
           "gray"
          ],
          [
           1,
           "gray"
          ]
         ],
         "showlegend": false,
         "showscale": false,
         "type": "cone",
         "u": [
          -119.60334438996159
         ],
         "v": [
          119.60334438996142
         ],
         "w": [
          -61.56362579862038
         ],
         "x": [
          4609.295741659459
         ],
         "y": [
          390.70425834054066
         ],
         "z": [
          -201.10784427549325
         ]
        },
        {
         "marker": {
          "color": "green",
          "size": 5
         },
         "mode": "markers+text",
         "text": "1",
         "type": "scatter3d",
         "x": [
          5000
         ],
         "y": [
          0
         ],
         "z": [
          0
         ]
        },
        {
         "marker": {
          "color": "blue",
          "size": 5
         },
         "mode": "markers+text",
         "type": "scatter3d",
         "x": [
          5000
         ],
         "y": [
          5000
         ],
         "z": [
          0
         ]
        },
        {
         "line": {
          "color": "blue",
          "width": 2
         },
         "mode": "lines",
         "type": "scatter3d",
         "x": [
          5000,
          4582.181455807989,
          null
         ],
         "y": [
          5000,
          4582.181455807989,
          null
         ],
         "z": [
          0,
          104.18890660015813,
          null
         ]
        },
        {
         "colorscale": [
          [
           0,
           "blue"
          ],
          [
           1,
           "blue"
          ]
         ],
         "showlegend": false,
         "showscale": false,
         "type": "cone",
         "u": [
          -125.3455632576034
         ],
         "v": [
          -125.3455632576034
         ],
         "w": [
          31.25667198004744
         ],
         "x": [
          4590.537826691829
         ],
         "y": [
          4590.537826691829
         ],
         "z": [
          102.10512846815497
         ]
        },
        {
         "marker": {
          "color": "blue",
          "size": 5
         },
         "mode": "markers+text",
         "type": "scatter3d",
         "x": [
          5000
         ],
         "y": [
          5000
         ],
         "z": [
          0
         ]
        },
        {
         "line": {
          "color": "blue",
          "width": 2
         },
         "mode": "lines",
         "type": "scatter3d",
         "x": [
          5000,
          5372.251202816375,
          null
         ],
         "y": [
          5000,
          4552.635960545712,
          null
         ],
         "z": [
          0,
          145.92620808101637,
          null
         ]
        },
        {
         "colorscale": [
          [
           0,
           "blue"
          ],
          [
           1,
           "blue"
          ]
         ],
         "showlegend": false,
         "showscale": false,
         "type": "cone",
         "u": [
          111.67536084491239
         ],
         "v": [
          -134.2092118362864
         ],
         "w": [
          43.77786242430491
         ],
         "x": [
          5364.806178760047
         ],
         "y": [
          4561.583241334798
         ],
         "z": [
          143.00768391939604
         ]
        },
        {
         "marker": {
          "color": "blue",
          "size": 5
         },
         "mode": "markers+text",
         "type": "scatter3d",
         "x": [
          5000
         ],
         "y": [
          5000
         ],
         "z": [
          0
         ]
        },
        {
         "line": {
          "color": "blue",
          "width": 2
         },
         "mode": "lines",
         "type": "scatter3d",
         "x": [
          5000,
          5272.711686603227,
          null
         ],
         "y": [
          5000,
          5272.711686603227,
          null
         ],
         "z": [
          0,
          459.6266658713869,
          null
         ]
        },
        {
         "colorscale": [
          [
           0,
           "blue"
          ],
          [
           1,
           "blue"
          ]
         ],
         "showlegend": false,
         "showscale": false,
         "type": "cone",
         "u": [
          81.81350598096796
         ],
         "v": [
          81.81350598096796
         ],
         "w": [
          137.88799976141607
         ],
         "x": [
          5267.257452871162
         ],
         "y": [
          5267.257452871162
         ],
         "z": [
          450.4341325539591
         ]
        },
        {
         "marker": {
          "color": "blue",
          "size": 5
         },
         "mode": "markers+text",
         "type": "scatter3d",
         "x": [
          5000
         ],
         "y": [
          5000
         ],
         "z": [
          0
         ]
        },
        {
         "line": {
          "color": "blue",
          "width": 2
         },
         "mode": "lines",
         "type": "scatter3d",
         "x": [
          5000,
          4552.635960545712,
          null
         ],
         "y": [
          5000,
          5372.251202816375,
          null
         ],
         "z": [
          0,
          145.9262080810164,
          null
         ]
        },
        {
         "colorscale": [
          [
           0,
           "blue"
          ],
          [
           1,
           "blue"
          ]
         ],
         "showlegend": false,
         "showscale": false,
         "type": "cone",
         "u": [
          -134.2092118362864
         ],
         "v": [
          111.67536084491239
         ],
         "w": [
          43.77786242430492
         ],
         "x": [
          4561.583241334798
         ],
         "y": [
          5364.806178760047
         ],
         "z": [
          143.00768391939607
         ]
        },
        {
         "marker": {
          "color": "blue",
          "size": 5
         },
         "mode": "markers+text",
         "text": "0d",
         "type": "scatter3d",
         "x": [
          4791.090727903995
         ],
         "y": [
          4791.090727903995
         ],
         "z": [
          52.09445330007907
         ]
        },
        {
         "marker": {
          "color": "blue",
          "size": 5
         },
         "mode": "markers+text",
         "text": "1d",
         "type": "scatter3d",
         "x": [
          5372.251202816375
         ],
         "y": [
          4552.635960545712
         ],
         "z": [
          145.92620808101637
         ]
        },
        {
         "marker": {
          "color": "blue",
          "size": 5
         },
         "mode": "markers+text",
         "text": "2d",
         "type": "scatter3d",
         "x": [
          5136.355843301613
         ],
         "y": [
          5136.355843301613
         ],
         "z": [
          229.81333293569344
         ]
        },
        {
         "marker": {
          "color": "blue",
          "size": 5
         },
         "mode": "markers+text",
         "text": "3d",
         "type": "scatter3d",
         "x": [
          4552.635960545712
         ],
         "y": [
          5372.251202816375
         ],
         "z": [
          145.9262080810164
         ]
        },
        {
         "marker": {
          "color": "gray",
          "size": 5
         },
         "mode": "markers+text",
         "type": "scatter3d",
         "x": [
          5000
         ],
         "y": [
          5000
         ],
         "z": [
          0
         ]
        },
        {
         "line": {
          "color": "gray",
          "width": 2
         },
         "mode": "lines",
         "type": "scatter3d",
         "x": [
          5000,
          5398.677814633205,
          null
         ],
         "y": [
          5000,
          5398.677814633204,
          null
         ],
         "z": [
          0,
          205.21208599540128,
          null
         ]
        },
        {
         "colorscale": [
          [
           0,
           "gray"
          ],
          [
           1,
           "gray"
          ]
         ],
         "showlegend": false,
         "showscale": false,
         "type": "cone",
         "u": [
          119.60334438996159
         ],
         "v": [
          119.60334438996132
         ],
         "w": [
          61.56362579862038
         ],
         "x": [
          5390.704258340541
         ],
         "y": [
          5390.70425834054
         ],
         "z": [
          201.10784427549325
         ]
        },
        {
         "marker": {
          "color": "blue",
          "size": 5
         },
         "mode": "markers+text",
         "text": "2",
         "type": "scatter3d",
         "x": [
          5000
         ],
         "y": [
          5000
         ],
         "z": [
          0
         ]
        },
        {
         "marker": {
          "color": "orange",
          "size": 5
         },
         "mode": "markers+text",
         "type": "scatter3d",
         "x": [
          0
         ],
         "y": [
          5000
         ],
         "z": [
          0
         ]
        },
        {
         "line": {
          "color": "orange",
          "width": 2
         },
         "mode": "lines",
         "type": "scatter3d",
         "x": [
          0,
          417.81854419201136,
          null
         ],
         "y": [
          5000,
          4582.181455807989,
          null
         ],
         "z": [
          0,
          104.18890660015813,
          null
         ]
        },
        {
         "colorscale": [
          [
           0,
           "orange"
          ],
          [
           1,
           "orange"
          ]
         ],
         "showlegend": false,
         "showscale": false,
         "type": "cone",
         "u": [
          125.3455632576034
         ],
         "v": [
          -125.3455632576034
         ],
         "w": [
          31.25667198004744
         ],
         "x": [
          409.46217330817115
         ],
         "y": [
          4590.537826691829
         ],
         "z": [
          102.10512846815497
         ]
        },
        {
         "marker": {
          "color": "orange",
          "size": 5
         },
         "mode": "markers+text",
         "type": "scatter3d",
         "x": [
          0
         ],
         "y": [
          5000
         ],
         "z": [
          0
         ]
        },
        {
         "line": {
          "color": "orange",
          "width": 2
         },
         "mode": "lines",
         "type": "scatter3d",
         "x": [
          0,
          447.36403945428833,
          null
         ],
         "y": [
          5000,
          5372.251202816375,
          null
         ],
         "z": [
          0,
          145.9262080810164,
          null
         ]
        },
        {
         "colorscale": [
          [
           0,
           "orange"
          ],
          [
           1,
           "orange"
          ]
         ],
         "showlegend": false,
         "showscale": false,
         "type": "cone",
         "u": [
          134.2092118362865
         ],
         "v": [
          111.67536084491239
         ],
         "w": [
          43.77786242430492
         ],
         "x": [
          438.41675866520256
         ],
         "y": [
          5364.806178760047
         ],
         "z": [
          143.00768391939607
         ]
        },
        {
         "marker": {
          "color": "orange",
          "size": 5
         },
         "mode": "markers+text",
         "type": "scatter3d",
         "x": [
          0
         ],
         "y": [
          5000
         ],
         "z": [
          0
         ]
        },
        {
         "line": {
          "color": "orange",
          "width": 2
         },
         "mode": "lines",
         "type": "scatter3d",
         "x": [
          0,
          -272.71168660322627,
          null
         ],
         "y": [
          5000,
          5272.711686603227,
          null
         ],
         "z": [
          0,
          459.6266658713869,
          null
         ]
        },
        {
         "colorscale": [
          [
           0,
           "orange"
          ],
          [
           1,
           "orange"
          ]
         ],
         "showlegend": false,
         "showscale": false,
         "type": "cone",
         "u": [
          -81.81350598096788
         ],
         "v": [
          81.81350598096796
         ],
         "w": [
          137.88799976141607
         ],
         "x": [
          -267.2574528711617
         ],
         "y": [
          5267.257452871162
         ],
         "z": [
          450.4341325539591
         ]
        },
        {
         "marker": {
          "color": "orange",
          "size": 5
         },
         "mode": "markers+text",
         "type": "scatter3d",
         "x": [
          0
         ],
         "y": [
          5000
         ],
         "z": [
          0
         ]
        },
        {
         "line": {
          "color": "orange",
          "width": 2
         },
         "mode": "lines",
         "type": "scatter3d",
         "x": [
          0,
          -372.25120281637464,
          null
         ],
         "y": [
          5000,
          4552.635960545712,
          null
         ],
         "z": [
          0,
          145.92620808101637,
          null
         ]
        },
        {
         "colorscale": [
          [
           0,
           "orange"
          ],
          [
           1,
           "orange"
          ]
         ],
         "showlegend": false,
         "showscale": false,
         "type": "cone",
         "u": [
          -111.67536084491239
         ],
         "v": [
          -134.2092118362864
         ],
         "w": [
          43.77786242430491
         ],
         "x": [
          -364.80617876004715
         ],
         "y": [
          4561.583241334798
         ],
         "z": [
          143.00768391939604
         ]
        },
        {
         "marker": {
          "color": "orange",
          "size": 5
         },
         "mode": "markers+text",
         "text": "0d",
         "type": "scatter3d",
         "x": [
          208.90927209600568
         ],
         "y": [
          4791.090727903995
         ],
         "z": [
          52.09445330007907
         ]
        },
        {
         "marker": {
          "color": "orange",
          "size": 5
         },
         "mode": "markers+text",
         "text": "1d",
         "type": "scatter3d",
         "x": [
          447.36403945428833
         ],
         "y": [
          5372.251202816375
         ],
         "z": [
          145.9262080810164
         ]
        },
        {
         "marker": {
          "color": "orange",
          "size": 5
         },
         "mode": "markers+text",
         "text": "2d",
         "type": "scatter3d",
         "x": [
          -136.35584330161313
         ],
         "y": [
          5136.355843301613
         ],
         "z": [
          229.81333293569344
         ]
        },
        {
         "marker": {
          "color": "orange",
          "size": 5
         },
         "mode": "markers+text",
         "text": "3d",
         "type": "scatter3d",
         "x": [
          -372.25120281637464
         ],
         "y": [
          4552.635960545712
         ],
         "z": [
          145.92620808101637
         ]
        },
        {
         "marker": {
          "color": "gray",
          "size": 5
         },
         "mode": "markers+text",
         "type": "scatter3d",
         "x": [
          0
         ],
         "y": [
          5000
         ],
         "z": [
          0
         ]
        },
        {
         "line": {
          "color": "gray",
          "width": 2
         },
         "mode": "lines",
         "type": "scatter3d",
         "x": [
          0,
          -398.67781463320495,
          null
         ],
         "y": [
          5000,
          5398.677814633204,
          null
         ],
         "z": [
          0,
          205.21208599540128,
          null
         ]
        },
        {
         "colorscale": [
          [
           0,
           "gray"
          ],
          [
           1,
           "gray"
          ]
         ],
         "showlegend": false,
         "showscale": false,
         "type": "cone",
         "u": [
          -119.60334438996148
         ],
         "v": [
          119.60334438996132
         ],
         "w": [
          61.56362579862038
         ],
         "x": [
          -390.70425834054083
         ],
         "y": [
          5390.70425834054
         ],
         "z": [
          201.10784427549325
         ]
        },
        {
         "marker": {
          "color": "orange",
          "size": 5
         },
         "mode": "markers+text",
         "text": "3",
         "type": "scatter3d",
         "x": [
          0
         ],
         "y": [
          5000
         ],
         "z": [
          0
         ]
        }
       ],
       "layout": {
        "height": 1024,
        "scene": {
         "aspectmode": "data",
         "aspectratio": {
          "x": 1,
          "y": 1,
          "z": 1
         },
         "camera": {
          "center": {
           "x": 0,
           "y": 0,
           "z": 0
          },
          "eye": {
           "x": 0,
           "y": -1,
           "z": 3
          },
          "up": {
           "x": 0,
           "y": -30,
           "z": 40
          }
         }
        },
        "template": {
         "data": {
          "bar": [
           {
            "error_x": {
             "color": "#2a3f5f"
            },
            "error_y": {
             "color": "#2a3f5f"
            },
            "marker": {
             "line": {
              "color": "#E5ECF6",
              "width": 0.5
             },
             "pattern": {
              "fillmode": "overlay",
              "size": 10,
              "solidity": 0.2
             }
            },
            "type": "bar"
           }
          ],
          "barpolar": [
           {
            "marker": {
             "line": {
              "color": "#E5ECF6",
              "width": 0.5
             },
             "pattern": {
              "fillmode": "overlay",
              "size": 10,
              "solidity": 0.2
             }
            },
            "type": "barpolar"
           }
          ],
          "carpet": [
           {
            "aaxis": {
             "endlinecolor": "#2a3f5f",
             "gridcolor": "white",
             "linecolor": "white",
             "minorgridcolor": "white",
             "startlinecolor": "#2a3f5f"
            },
            "baxis": {
             "endlinecolor": "#2a3f5f",
             "gridcolor": "white",
             "linecolor": "white",
             "minorgridcolor": "white",
             "startlinecolor": "#2a3f5f"
            },
            "type": "carpet"
           }
          ],
          "choropleth": [
           {
            "colorbar": {
             "outlinewidth": 0,
             "ticks": ""
            },
            "type": "choropleth"
           }
          ],
          "contour": [
           {
            "colorbar": {
             "outlinewidth": 0,
             "ticks": ""
            },
            "colorscale": [
             [
              0,
              "#0d0887"
             ],
             [
              0.1111111111111111,
              "#46039f"
             ],
             [
              0.2222222222222222,
              "#7201a8"
             ],
             [
              0.3333333333333333,
              "#9c179e"
             ],
             [
              0.4444444444444444,
              "#bd3786"
             ],
             [
              0.5555555555555556,
              "#d8576b"
             ],
             [
              0.6666666666666666,
              "#ed7953"
             ],
             [
              0.7777777777777778,
              "#fb9f3a"
             ],
             [
              0.8888888888888888,
              "#fdca26"
             ],
             [
              1,
              "#f0f921"
             ]
            ],
            "type": "contour"
           }
          ],
          "contourcarpet": [
           {
            "colorbar": {
             "outlinewidth": 0,
             "ticks": ""
            },
            "type": "contourcarpet"
           }
          ],
          "heatmap": [
           {
            "colorbar": {
             "outlinewidth": 0,
             "ticks": ""
            },
            "colorscale": [
             [
              0,
              "#0d0887"
             ],
             [
              0.1111111111111111,
              "#46039f"
             ],
             [
              0.2222222222222222,
              "#7201a8"
             ],
             [
              0.3333333333333333,
              "#9c179e"
             ],
             [
              0.4444444444444444,
              "#bd3786"
             ],
             [
              0.5555555555555556,
              "#d8576b"
             ],
             [
              0.6666666666666666,
              "#ed7953"
             ],
             [
              0.7777777777777778,
              "#fb9f3a"
             ],
             [
              0.8888888888888888,
              "#fdca26"
             ],
             [
              1,
              "#f0f921"
             ]
            ],
            "type": "heatmap"
           }
          ],
          "heatmapgl": [
           {
            "colorbar": {
             "outlinewidth": 0,
             "ticks": ""
            },
            "colorscale": [
             [
              0,
              "#0d0887"
             ],
             [
              0.1111111111111111,
              "#46039f"
             ],
             [
              0.2222222222222222,
              "#7201a8"
             ],
             [
              0.3333333333333333,
              "#9c179e"
             ],
             [
              0.4444444444444444,
              "#bd3786"
             ],
             [
              0.5555555555555556,
              "#d8576b"
             ],
             [
              0.6666666666666666,
              "#ed7953"
             ],
             [
              0.7777777777777778,
              "#fb9f3a"
             ],
             [
              0.8888888888888888,
              "#fdca26"
             ],
             [
              1,
              "#f0f921"
             ]
            ],
            "type": "heatmapgl"
           }
          ],
          "histogram": [
           {
            "marker": {
             "pattern": {
              "fillmode": "overlay",
              "size": 10,
              "solidity": 0.2
             }
            },
            "type": "histogram"
           }
          ],
          "histogram2d": [
           {
            "colorbar": {
             "outlinewidth": 0,
             "ticks": ""
            },
            "colorscale": [
             [
              0,
              "#0d0887"
             ],
             [
              0.1111111111111111,
              "#46039f"
             ],
             [
              0.2222222222222222,
              "#7201a8"
             ],
             [
              0.3333333333333333,
              "#9c179e"
             ],
             [
              0.4444444444444444,
              "#bd3786"
             ],
             [
              0.5555555555555556,
              "#d8576b"
             ],
             [
              0.6666666666666666,
              "#ed7953"
             ],
             [
              0.7777777777777778,
              "#fb9f3a"
             ],
             [
              0.8888888888888888,
              "#fdca26"
             ],
             [
              1,
              "#f0f921"
             ]
            ],
            "type": "histogram2d"
           }
          ],
          "histogram2dcontour": [
           {
            "colorbar": {
             "outlinewidth": 0,
             "ticks": ""
            },
            "colorscale": [
             [
              0,
              "#0d0887"
             ],
             [
              0.1111111111111111,
              "#46039f"
             ],
             [
              0.2222222222222222,
              "#7201a8"
             ],
             [
              0.3333333333333333,
              "#9c179e"
             ],
             [
              0.4444444444444444,
              "#bd3786"
             ],
             [
              0.5555555555555556,
              "#d8576b"
             ],
             [
              0.6666666666666666,
              "#ed7953"
             ],
             [
              0.7777777777777778,
              "#fb9f3a"
             ],
             [
              0.8888888888888888,
              "#fdca26"
             ],
             [
              1,
              "#f0f921"
             ]
            ],
            "type": "histogram2dcontour"
           }
          ],
          "mesh3d": [
           {
            "colorbar": {
             "outlinewidth": 0,
             "ticks": ""
            },
            "type": "mesh3d"
           }
          ],
          "parcoords": [
           {
            "line": {
             "colorbar": {
              "outlinewidth": 0,
              "ticks": ""
             }
            },
            "type": "parcoords"
           }
          ],
          "pie": [
           {
            "automargin": true,
            "type": "pie"
           }
          ],
          "scatter": [
           {
            "fillpattern": {
             "fillmode": "overlay",
             "size": 10,
             "solidity": 0.2
            },
            "type": "scatter"
           }
          ],
          "scatter3d": [
           {
            "line": {
             "colorbar": {
              "outlinewidth": 0,
              "ticks": ""
             }
            },
            "marker": {
             "colorbar": {
              "outlinewidth": 0,
              "ticks": ""
             }
            },
            "type": "scatter3d"
           }
          ],
          "scattercarpet": [
           {
            "marker": {
             "colorbar": {
              "outlinewidth": 0,
              "ticks": ""
             }
            },
            "type": "scattercarpet"
           }
          ],
          "scattergeo": [
           {
            "marker": {
             "colorbar": {
              "outlinewidth": 0,
              "ticks": ""
             }
            },
            "type": "scattergeo"
           }
          ],
          "scattergl": [
           {
            "marker": {
             "colorbar": {
              "outlinewidth": 0,
              "ticks": ""
             }
            },
            "type": "scattergl"
           }
          ],
          "scattermapbox": [
           {
            "marker": {
             "colorbar": {
              "outlinewidth": 0,
              "ticks": ""
             }
            },
            "type": "scattermapbox"
           }
          ],
          "scatterpolar": [
           {
            "marker": {
             "colorbar": {
              "outlinewidth": 0,
              "ticks": ""
             }
            },
            "type": "scatterpolar"
           }
          ],
          "scatterpolargl": [
           {
            "marker": {
             "colorbar": {
              "outlinewidth": 0,
              "ticks": ""
             }
            },
            "type": "scatterpolargl"
           }
          ],
          "scatterternary": [
           {
            "marker": {
             "colorbar": {
              "outlinewidth": 0,
              "ticks": ""
             }
            },
            "type": "scatterternary"
           }
          ],
          "surface": [
           {
            "colorbar": {
             "outlinewidth": 0,
             "ticks": ""
            },
            "colorscale": [
             [
              0,
              "#0d0887"
             ],
             [
              0.1111111111111111,
              "#46039f"
             ],
             [
              0.2222222222222222,
              "#7201a8"
             ],
             [
              0.3333333333333333,
              "#9c179e"
             ],
             [
              0.4444444444444444,
              "#bd3786"
             ],
             [
              0.5555555555555556,
              "#d8576b"
             ],
             [
              0.6666666666666666,
              "#ed7953"
             ],
             [
              0.7777777777777778,
              "#fb9f3a"
             ],
             [
              0.8888888888888888,
              "#fdca26"
             ],
             [
              1,
              "#f0f921"
             ]
            ],
            "type": "surface"
           }
          ],
          "table": [
           {
            "cells": {
             "fill": {
              "color": "#EBF0F8"
             },
             "line": {
              "color": "white"
             }
            },
            "header": {
             "fill": {
              "color": "#C8D4E3"
             },
             "line": {
              "color": "white"
             }
            },
            "type": "table"
           }
          ]
         },
         "layout": {
          "annotationdefaults": {
           "arrowcolor": "#2a3f5f",
           "arrowhead": 0,
           "arrowwidth": 1
          },
          "autotypenumbers": "strict",
          "coloraxis": {
           "colorbar": {
            "outlinewidth": 0,
            "ticks": ""
           }
          },
          "colorscale": {
           "diverging": [
            [
             0,
             "#8e0152"
            ],
            [
             0.1,
             "#c51b7d"
            ],
            [
             0.2,
             "#de77ae"
            ],
            [
             0.3,
             "#f1b6da"
            ],
            [
             0.4,
             "#fde0ef"
            ],
            [
             0.5,
             "#f7f7f7"
            ],
            [
             0.6,
             "#e6f5d0"
            ],
            [
             0.7,
             "#b8e186"
            ],
            [
             0.8,
             "#7fbc41"
            ],
            [
             0.9,
             "#4d9221"
            ],
            [
             1,
             "#276419"
            ]
           ],
           "sequential": [
            [
             0,
             "#0d0887"
            ],
            [
             0.1111111111111111,
             "#46039f"
            ],
            [
             0.2222222222222222,
             "#7201a8"
            ],
            [
             0.3333333333333333,
             "#9c179e"
            ],
            [
             0.4444444444444444,
             "#bd3786"
            ],
            [
             0.5555555555555556,
             "#d8576b"
            ],
            [
             0.6666666666666666,
             "#ed7953"
            ],
            [
             0.7777777777777778,
             "#fb9f3a"
            ],
            [
             0.8888888888888888,
             "#fdca26"
            ],
            [
             1,
             "#f0f921"
            ]
           ],
           "sequentialminus": [
            [
             0,
             "#0d0887"
            ],
            [
             0.1111111111111111,
             "#46039f"
            ],
            [
             0.2222222222222222,
             "#7201a8"
            ],
            [
             0.3333333333333333,
             "#9c179e"
            ],
            [
             0.4444444444444444,
             "#bd3786"
            ],
            [
             0.5555555555555556,
             "#d8576b"
            ],
            [
             0.6666666666666666,
             "#ed7953"
            ],
            [
             0.7777777777777778,
             "#fb9f3a"
            ],
            [
             0.8888888888888888,
             "#fdca26"
            ],
            [
             1,
             "#f0f921"
            ]
           ]
          },
          "colorway": [
           "#636efa",
           "#EF553B",
           "#00cc96",
           "#ab63fa",
           "#FFA15A",
           "#19d3f3",
           "#FF6692",
           "#B6E880",
           "#FF97FF",
           "#FECB52"
          ],
          "font": {
           "color": "#2a3f5f"
          },
          "geo": {
           "bgcolor": "white",
           "lakecolor": "white",
           "landcolor": "#E5ECF6",
           "showlakes": true,
           "showland": true,
           "subunitcolor": "white"
          },
          "hoverlabel": {
           "align": "left"
          },
          "hovermode": "closest",
          "mapbox": {
           "style": "light"
          },
          "paper_bgcolor": "white",
          "plot_bgcolor": "#E5ECF6",
          "polar": {
           "angularaxis": {
            "gridcolor": "white",
            "linecolor": "white",
            "ticks": ""
           },
           "bgcolor": "#E5ECF6",
           "radialaxis": {
            "gridcolor": "white",
            "linecolor": "white",
            "ticks": ""
           }
          },
          "scene": {
           "xaxis": {
            "backgroundcolor": "#E5ECF6",
            "gridcolor": "white",
            "gridwidth": 2,
            "linecolor": "white",
            "showbackground": true,
            "ticks": "",
            "zerolinecolor": "white"
           },
           "yaxis": {
            "backgroundcolor": "#E5ECF6",
            "gridcolor": "white",
            "gridwidth": 2,
            "linecolor": "white",
            "showbackground": true,
            "ticks": "",
            "zerolinecolor": "white"
           },
           "zaxis": {
            "backgroundcolor": "#E5ECF6",
            "gridcolor": "white",
            "gridwidth": 2,
            "linecolor": "white",
            "showbackground": true,
            "ticks": "",
            "zerolinecolor": "white"
           }
          },
          "shapedefaults": {
           "line": {
            "color": "#2a3f5f"
           }
          },
          "ternary": {
           "aaxis": {
            "gridcolor": "white",
            "linecolor": "white",
            "ticks": ""
           },
           "baxis": {
            "gridcolor": "white",
            "linecolor": "white",
            "ticks": ""
           },
           "bgcolor": "#E5ECF6",
           "caxis": {
            "gridcolor": "white",
            "linecolor": "white",
            "ticks": ""
           }
          },
          "title": {
           "x": 0.05
          },
          "xaxis": {
           "automargin": true,
           "gridcolor": "white",
           "linecolor": "white",
           "ticks": "",
           "title": {
            "standoff": 15
           },
           "zerolinecolor": "white",
           "zerolinewidth": 2
          },
          "yaxis": {
           "automargin": true,
           "gridcolor": "white",
           "linecolor": "white",
           "ticks": "",
           "title": {
            "standoff": 15
           },
           "zerolinecolor": "white",
           "zerolinewidth": 2
          }
         }
        },
        "width": 1024
       }
      }
     },
     "metadata": {},
     "output_type": "display_data"
    }
   ],
   "source": [
    "fig = go.Figure()\n",
    "\n",
    "LMC_H = 600\n",
    "LMC_alpha1 = (180-150) / 2 * np.pi / 180\n",
    "LMC_alpha2 = (180-120) / 2 * np.pi / 180\n",
    "\n",
    "LMC0 = make_LMC(LMC_loc=[0,0,0], LMC_orient=[0, 0, -45], LMC_H=LMC_H, LMC_alpha1=LMC_alpha1, LMC_alpha2=LMC_alpha2)\n",
    "LMC1 = make_LMC(LMC_loc=[5000,0,0], LMC_orient=[-20, 0, 45], LMC_H=LMC_H, LMC_alpha1=LMC_alpha1, LMC_alpha2=LMC_alpha2)\n",
    "LMC2 = make_LMC(LMC_loc=[5000,5000,0], LMC_orient=[20, 0, -45], LMC_H=LMC_H, LMC_alpha1=LMC_alpha1, LMC_alpha2=LMC_alpha2)\n",
    "LMC3 = make_LMC(LMC_loc=[0,5000,0], LMC_orient=[20, 0, 45], LMC_H=LMC_H, LMC_alpha1=LMC_alpha1, LMC_alpha2=LMC_alpha2)\n",
    "\n",
    "fig = plotLMC(fig, LMC0, color='red', name='0')\n",
    "fig = plotLMC(fig, LMC1, color='green', name='1')\n",
    "fig = plotLMC(fig, LMC2, color='blue', name='2')\n",
    "fig = plotLMC(fig, LMC3, color='orange', name='3')\n",
    "\n",
    "fig.show()"
   ]
  },
  {
   "cell_type": "markdown",
   "metadata": {},
   "source": [
    "# Play with raytracing"
   ]
  },
  {
   "cell_type": "code",
   "execution_count": 17,
   "metadata": {},
   "outputs": [
    {
     "name": "stdout",
     "output_type": "stream",
     "text": [
      "___________________________________\n",
      "Finger  0\n",
      "___________________________________\n",
      "Finger  1\n",
      "___________________________________\n",
      "Finger  2\n",
      "    Finger 2, marker 10: occluded by Finger 1\n",
      "    Finger 2, marker 14: occluded by Finger 1\n",
      "___________________________________\n",
      "Finger  3\n",
      "    Finger 3, marker 11: occluded by Finger 2\n",
      "    Finger 3, marker 15: occluded by Finger 2\n",
      "    Finger 3, marker 20: occluded by Finger 2\n",
      "___________________________________\n",
      "Finger  4\n",
      "    Finger 4, marker 12: occluded by Finger 3\n",
      "    Finger 4, marker 16: occluded by Finger 3\n",
      "    Finger 4, marker 21: occluded by Finger 3\n",
      "[1. 1. 1. 1. 0. 0. 0.]\n"
     ]
    },
    {
     "name": "stderr",
     "output_type": "stream",
     "text": [
      "C:\\Users\\ge37del\\AppData\\Local\\Temp\\ipykernel_8484\\360348711.py:36: VisibleDeprecationWarning:\n",
      "\n",
      "Creating an ndarray from ragged nested sequences (which is a list-or-tuple of lists-or-tuples-or ndarrays with different lengths or shapes) is deprecated. If you meant to do this, you must specify 'dtype=object' when creating the ndarray.\n",
      "\n",
      "d:\\Dokumente\\Projects\\LMC_Optim\\Python\\LMC_util.py:238: RuntimeWarning:\n",
      "\n",
      "invalid value encountered in arccos\n",
      "\n"
     ]
    },
    {
     "data": {
      "application/vnd.plotly.v1+json": {
       "config": {
        "plotlyServerURL": "https://plot.ly"
       },
       "data": [
        {
         "marker": {
          "color": "orange",
          "size": 5
         },
         "mode": "markers+text",
         "type": "scatter3d",
         "x": [
          0
         ],
         "y": [
          0
         ],
         "z": [
          0
         ]
        },
        {
         "line": {
          "color": "orange",
          "width": 2
         },
         "mode": "lines",
         "type": "scatter3d",
         "x": [
          0,
          0,
          null
         ],
         "y": [
          0,
          -519.6152422706632,
          null
         ],
         "z": [
          0,
          299.99999999999994,
          null
         ]
        },
        {
         "colorscale": [
          [
           0,
           "orange"
          ],
          [
           1,
           "orange"
          ]
         ],
         "showlegend": false,
         "showscale": false,
         "type": "cone",
         "u": [
          0
         ],
         "v": [
          -155.88457268119896
         ],
         "w": [
          89.99999999999999
         ],
         "x": [
          0
         ],
         "y": [
          -509.22293742524994
         ],
         "z": [
          293.99999999999994
         ]
        },
        {
         "marker": {
          "color": "orange",
          "size": 5
         },
         "mode": "markers+text",
         "type": "scatter3d",
         "x": [
          0
         ],
         "y": [
          0
         ],
         "z": [
          0
         ]
        },
        {
         "line": {
          "color": "orange",
          "width": 2
         },
         "mode": "lines",
         "type": "scatter3d",
         "x": [
          0,
          579.555495773441,
          null
         ],
         "y": [
          0,
          0,
          null
         ],
         "z": [
          0,
          155.29142706151245,
          null
         ]
        },
        {
         "colorscale": [
          [
           0,
           "orange"
          ],
          [
           1,
           "orange"
          ]
         ],
         "showlegend": false,
         "showscale": false,
         "type": "cone",
         "u": [
          173.86664873203227
         ],
         "v": [
          0
         ],
         "w": [
          46.58742811845374
         ],
         "x": [
          567.9643858579722
         ],
         "y": [
          0
         ],
         "z": [
          152.1855985202822
         ]
        },
        {
         "marker": {
          "color": "orange",
          "size": 5
         },
         "mode": "markers+text",
         "type": "scatter3d",
         "x": [
          0
         ],
         "y": [
          0
         ],
         "z": [
          0
         ]
        },
        {
         "line": {
          "color": "orange",
          "width": 2
         },
         "mode": "lines",
         "type": "scatter3d",
         "x": [
          0,
          0,
          null
         ],
         "y": [
          0,
          519.6152422706632,
          null
         ],
         "z": [
          0,
          299.99999999999994,
          null
         ]
        },
        {
         "colorscale": [
          [
           0,
           "orange"
          ],
          [
           1,
           "orange"
          ]
         ],
         "showlegend": false,
         "showscale": false,
         "type": "cone",
         "u": [
          0
         ],
         "v": [
          155.88457268119896
         ],
         "w": [
          89.99999999999999
         ],
         "x": [
          0
         ],
         "y": [
          509.22293742524994
         ],
         "z": [
          293.99999999999994
         ]
        },
        {
         "marker": {
          "color": "orange",
          "size": 5
         },
         "mode": "markers+text",
         "type": "scatter3d",
         "x": [
          0
         ],
         "y": [
          0
         ],
         "z": [
          0
         ]
        },
        {
         "line": {
          "color": "orange",
          "width": 2
         },
         "mode": "lines",
         "type": "scatter3d",
         "x": [
          0,
          -579.555495773441,
          null
         ],
         "y": [
          0,
          0,
          null
         ],
         "z": [
          0,
          155.29142706151245,
          null
         ]
        },
        {
         "colorscale": [
          [
           0,
           "orange"
          ],
          [
           1,
           "orange"
          ]
         ],
         "showlegend": false,
         "showscale": false,
         "type": "cone",
         "u": [
          -173.86664873203227
         ],
         "v": [
          0
         ],
         "w": [
          46.58742811845374
         ],
         "x": [
          -567.9643858579722
         ],
         "y": [
          0
         ],
         "z": [
          152.1855985202822
         ]
        },
        {
         "marker": {
          "color": "orange",
          "size": 5
         },
         "mode": "markers+text",
         "text": "0d",
         "type": "scatter3d",
         "x": [
          0
         ],
         "y": [
          -259.8076211353316
         ],
         "z": [
          149.99999999999997
         ]
        },
        {
         "marker": {
          "color": "orange",
          "size": 5
         },
         "mode": "markers+text",
         "text": "1d",
         "type": "scatter3d",
         "x": [
          579.555495773441
         ],
         "y": [
          0
         ],
         "z": [
          155.29142706151245
         ]
        },
        {
         "marker": {
          "color": "orange",
          "size": 5
         },
         "mode": "markers+text",
         "text": "2d",
         "type": "scatter3d",
         "x": [
          0
         ],
         "y": [
          259.8076211353316
         ],
         "z": [
          149.99999999999997
         ]
        },
        {
         "marker": {
          "color": "orange",
          "size": 5
         },
         "mode": "markers+text",
         "text": "3d",
         "type": "scatter3d",
         "x": [
          -579.555495773441
         ],
         "y": [
          0
         ],
         "z": [
          155.29142706151245
         ]
        },
        {
         "marker": {
          "color": "gray",
          "size": 5
         },
         "mode": "markers+text",
         "type": "scatter3d",
         "x": [
          0
         ],
         "y": [
          0
         ],
         "z": [
          0
         ]
        },
        {
         "line": {
          "color": "gray",
          "width": 2
         },
         "mode": "lines",
         "type": "scatter3d",
         "x": [
          0,
          0,
          null
         ],
         "y": [
          0,
          600,
          null
         ],
         "z": [
          0,
          0,
          null
         ]
        },
        {
         "colorscale": [
          [
           0,
           "gray"
          ],
          [
           1,
           "gray"
          ]
         ],
         "showlegend": false,
         "showscale": false,
         "type": "cone",
         "u": [
          0
         ],
         "v": [
          180
         ],
         "w": [
          0
         ],
         "x": [
          0
         ],
         "y": [
          588
         ],
         "z": [
          0
         ]
        },
        {
         "marker": {
          "color": "orange",
          "size": 5
         },
         "mode": "markers+text",
         "text": "LMC",
         "type": "scatter3d",
         "x": [
          0
         ],
         "y": [
          0
         ],
         "z": [
          0
         ]
        },
        {
         "marker": {
          "color": "blue",
          "size": 5
         },
         "mode": "markers+text",
         "text": [
          0,
          1,
          2,
          3,
          4,
          5,
          6,
          7,
          8,
          9,
          10,
          11,
          12,
          13,
          14,
          15,
          16,
          17,
          18,
          19,
          20,
          21,
          22,
          23,
          24,
          25
         ],
         "type": "scatter3d",
         "x": [
          25.22783528661827,
          0.7002543295376358,
          -18.611211566918453,
          45.226931210209116,
          9.835737980102873,
          -1.275124447539157,
          -8.343685890024737,
          -16.850942444536102,
          52.45811492731266,
          12.868052179964874,
          5.13630555509244,
          -1.6791753934274019,
          -12.63182435409217,
          14.464970227316734,
          7.833639001062629,
          1.4695321479335817,
          -8.127589714817416,
          56.34596037111795,
          14.423303499539765,
          7.889911535304084,
          4.888560161829595,
          -6.857471057354943,
          45.08940714061495,
          -16.439482937113166,
          -11.651952301346501,
          11.651952301346515
         ],
         "y": [
          -68.48161875460464,
          -45.12917491916205,
          -48.16142454836468,
          -33.74258015688662,
          11.530442316364173,
          11.175091087345905,
          7.712180046418581,
          -3.673851527731671,
          -4.250710850698809,
          55.77138830220386,
          60.385853882069625,
          57.96136906421046,
          31.03493168886621,
          82.25263363419614,
          89.91096208035114,
          81.4243916643631,
          53.627917689367735,
          21.02444720588653,
          98.57843062913858,
          105.92628123187129,
          100.18788190734372,
          69.93349235139024,
          -290.26504982062386,
          -293.4022252583535,
          -99.06222194990013,
          -100.93777805009978
         ],
         "z": [
          270.6660043002376,
          278.6218044974244,
          320.45538009501973,
          256.1351137802285,
          280.3781630482941,
          300.0982673124561,
          318.8527346386819,
          334.878419756954,
          251.78902087836383,
          284.2646543657872,
          303.8017391777429,
          324.15982718679714,
          339.03794798032993,
          288.2764090590511,
          306.3277031495279,
          325.9552818175018,
          339.25857359112865,
          250.30196581166433,
          289.56640977468663,
          307.20814293649573,
          328.32788621140264,
          340.28429946676806,
          320.65813235708066,
          326.1927544308978,
          323.24777200667717,
          276.75222799332283
         ]
        },
        {
         "marker": {
          "color": "red",
          "size": 5
         },
         "mode": "markers+text",
         "type": "scatter3d",
         "x": [
          12.868052179964874
         ],
         "y": [
          55.77138830220386
         ],
         "z": [
          284.2646543657872
         ]
        },
        {
         "line": {
          "color": "red",
          "width": 2
         },
         "mode": "lines",
         "type": "scatter3d",
         "x": [
          12.868052179964874,
          14.464970227316734,
          null
         ],
         "y": [
          55.77138830220386,
          82.25263363419614,
          null
         ],
         "z": [
          284.2646543657872,
          288.2764090590511,
          null
         ]
        },
        {
         "colorscale": [
          [
           0,
           "red"
          ],
          [
           1,
           "red"
          ]
         ],
         "showlegend": false,
         "showscale": false,
         "type": "cone",
         "u": [
          0.47907541420555794
         ],
         "v": [
          7.944373599597685
         ],
         "w": [
          1.2035264079791772
         ],
         "x": [
          14.433031866369696
         ],
         "y": [
          81.7230087275563
         ],
         "z": [
          288.19617396518584
         ]
        },
        {
         "marker": {
          "color": "red",
          "size": 5
         },
         "mode": "markers+text",
         "type": "scatter3d",
         "x": [
          0
         ],
         "y": [
          0
         ],
         "z": [
          0
         ]
        },
        {
         "line": {
          "color": "red",
          "width": 2
         },
         "mode": "lines",
         "type": "scatter3d",
         "x": [
          0,
          5.053405105100328,
          null
         ],
         "y": [
          0,
          59.41122057681032,
          null
         ],
         "z": [
          0,
          298.8983508150216,
          null
         ]
        },
        {
         "colorscale": [
          [
           0,
           "red"
          ],
          [
           1,
           "red"
          ]
         ],
         "showlegend": false,
         "showscale": false,
         "type": "cone",
         "u": [
          1.5160215315300984
         ],
         "v": [
          17.823366173043095
         ],
         "w": [
          89.66950524450648
         ],
         "x": [
          4.952337002998322
         ],
         "y": [
          58.22299616527412
         ],
         "z": [
          292.92038379872116
         ]
        },
        {
         "marker": {
          "color": "red",
          "size": 5
         },
         "mode": "markers+text",
         "type": "scatter3d",
         "x": [
          14.464970227316734
         ],
         "y": [
          82.25263363419614
         ],
         "z": [
          288.2764090590511
         ]
        },
        {
         "line": {
          "color": "red",
          "width": 2
         },
         "mode": "lines",
         "type": "scatter3d",
         "x": [
          14.464970227316734,
          14.423303499539765,
          null
         ],
         "y": [
          82.25263363419614,
          98.57843062913858,
          null
         ],
         "z": [
          288.2764090590511,
          289.56640977468663,
          null
         ]
        },
        {
         "colorscale": [
          [
           0,
           "red"
          ],
          [
           1,
           "red"
          ]
         ],
         "showlegend": false,
         "showscale": false,
         "type": "cone",
         "u": [
          -0.0125000183330906
         ],
         "v": [
          4.897739098482731
         ],
         "w": [
          0.3870002146906586
         ],
         "x": [
          14.424136834095304
         ],
         "y": [
          98.25191468923973
         ],
         "z": [
          289.5406097603739
         ]
        },
        {
         "marker": {
          "color": "red",
          "size": 5
         },
         "mode": "markers+text",
         "type": "scatter3d",
         "x": [
          0
         ],
         "y": [
          0
         ],
         "z": [
          0
         ]
        },
        {
         "line": {
          "color": "red",
          "width": 2
         },
         "mode": "lines",
         "type": "scatter3d",
         "x": [
          0,
          7.710987807912248,
          null
         ],
         "y": [
          0,
          88.5032272109044,
          null
         ],
         "z": [
          0,
          301.53153392584926,
          null
         ]
        },
        {
         "colorscale": [
          [
           0,
           "red"
          ],
          [
           1,
           "red"
          ]
         ],
         "showlegend": false,
         "showscale": false,
         "type": "cone",
         "u": [
          2.313296342373674
         ],
         "v": [
          26.550968163271317
         ],
         "w": [
          90.45946017775478
         ],
         "x": [
          7.556768051754003
         ],
         "y": [
          86.73316266668631
         ],
         "z": [
          295.50090324733225
         ]
        },
        {
         "marker": {
          "color": "red",
          "size": 5
         },
         "mode": "markers+text",
         "type": "scatter3d",
         "x": [
          -1.275124447539157
         ],
         "y": [
          11.175091087345905
         ],
         "z": [
          300.0982673124561
         ]
        },
        {
         "line": {
          "color": "red",
          "width": 2
         },
         "mode": "lines",
         "type": "scatter3d",
         "x": [
          -1.275124447539157,
          5.136305555092439,
          null
         ],
         "y": [
          11.175091087345905,
          60.385853882069625,
          null
         ],
         "z": [
          300.0982673124561,
          303.8017391777429,
          null
         ]
        },
        {
         "colorscale": [
          [
           0,
           "red"
          ],
          [
           1,
           "red"
          ]
         ],
         "showlegend": false,
         "showscale": false,
         "type": "cone",
         "u": [
          1.9234290007894785
         ],
         "v": [
          14.763228838417115
         ],
         "w": [
          1.1110415595860446
         ],
         "x": [
          5.008076955039807
         ],
         "y": [
          59.40163862617515
         ],
         "z": [
          303.72766974043714
         ]
        },
        {
         "marker": {
          "color": "red",
          "size": 5
         },
         "mode": "markers+text",
         "type": "scatter3d",
         "x": [
          0
         ],
         "y": [
          0
         ],
         "z": [
          0
         ]
        },
        {
         "line": {
          "color": "red",
          "width": 2
         },
         "mode": "lines",
         "type": "scatter3d",
         "x": [
          0,
          -1.6536796641119975,
          null
         ],
         "y": [
          0,
          57.08131366190073,
          null
         ],
         "z": [
          0,
          319.2379522943753,
          null
         ]
        },
        {
         "colorscale": [
          [
           0,
           "red"
          ],
          [
           1,
           "red"
          ]
         ],
         "showlegend": false,
         "showscale": false,
         "type": "cone",
         "u": [
          -0.4961038992335992
         ],
         "v": [
          17.124394098570217
         ],
         "w": [
          95.77138568831259
         ],
         "x": [
          -1.6206060708297576
         ],
         "y": [
          55.93968738866271
         ],
         "z": [
          312.8531932484878
         ]
        },
        {
         "marker": {
          "color": "red",
          "size": 5
         },
         "mode": "markers+text",
         "type": "scatter3d",
         "x": [
          5.13630555509244
         ],
         "y": [
          60.385853882069625
         ],
         "z": [
          303.8017391777429
         ]
        },
        {
         "line": {
          "color": "red",
          "width": 2
         },
         "mode": "lines",
         "type": "scatter3d",
         "x": [
          5.13630555509244,
          7.833639001062629,
          null
         ],
         "y": [
          60.385853882069625,
          89.91096208035114,
          null
         ],
         "z": [
          303.8017391777429,
          306.3277031495279,
          null
         ]
        },
        {
         "colorscale": [
          [
           0,
           "red"
          ],
          [
           1,
           "red"
          ]
         ],
         "showlegend": false,
         "showscale": false,
         "type": "cone",
         "u": [
          0.8092000337910568
         ],
         "v": [
          8.857532459484455
         ],
         "w": [
          0.7577891915355053
         ],
         "x": [
          7.779692332143226
         ],
         "y": [
          89.32045991638552
         ],
         "z": [
          306.2771838700922
         ]
        },
        {
         "marker": {
          "color": "red",
          "size": 5
         },
         "mode": "markers+text",
         "type": "scatter3d",
         "x": [
          0
         ],
         "y": [
          0
         ],
         "z": [
          0
         ]
        },
        {
         "line": {
          "color": "red",
          "width": 2
         },
         "mode": "lines",
         "type": "scatter3d",
         "x": [
          0,
          1.4476624572560317,
          null
         ],
         "y": [
          0,
          80.21262759250436,
          null
         ],
         "z": [
          0,
          321.10439019319375,
          null
         ]
        },
        {
         "colorscale": [
          [
           0,
           "red"
          ],
          [
           1,
           "red"
          ]
         ],
         "showlegend": false,
         "showscale": false,
         "type": "cone",
         "u": [
          0.4342987371768095
         ],
         "v": [
          24.063788277751307
         ],
         "w": [
          96.33131705795812
         ],
         "x": [
          1.418709208110911
         ],
         "y": [
          78.60837504065427
         ],
         "z": [
          314.6823023893299
         ]
        },
        {
         "marker": {
          "color": "red",
          "size": 5
         },
         "mode": "markers+text",
         "type": "scatter3d",
         "x": [
          7.833639001062629
         ],
         "y": [
          89.91096208035114
         ],
         "z": [
          306.3277031495279
         ]
        },
        {
         "line": {
          "color": "red",
          "width": 2
         },
         "mode": "lines",
         "type": "scatter3d",
         "x": [
          7.833639001062629,
          7.889911535304084,
          null
         ],
         "y": [
          89.91096208035114,
          105.92628123187129,
          null
         ],
         "z": [
          306.3277031495279,
          307.20814293649573,
          null
         ]
        },
        {
         "colorscale": [
          [
           0,
           "red"
          ],
          [
           1,
           "red"
          ]
         ],
         "showlegend": false,
         "showscale": false,
         "type": "cone",
         "u": [
          0.016881760272436618
         ],
         "v": [
          4.8045957454560435
         ],
         "w": [
          0.2641319360903481
         ],
         "x": [
          7.888786084619255
         ],
         "y": [
          105.60597484884089
         ],
         "z": [
          307.19053414075637
         ]
        },
        {
         "marker": {
          "color": "red",
          "size": 5
         },
         "mode": "markers+text",
         "type": "scatter3d",
         "x": [
          0
         ],
         "y": [
          0
         ],
         "z": [
          0
         ]
        },
        {
         "line": {
          "color": "red",
          "width": 2
         },
         "mode": "lines",
         "type": "scatter3d",
         "x": [
          0,
          4.817362383657895,
          null
         ],
         "y": [
          0,
          98.72872944621048,
          null
         ],
         "z": [
          0,
          323.546065954267,
          null
         ]
        },
        {
         "colorscale": [
          [
           0,
           "red"
          ],
          [
           1,
           "red"
          ]
         ],
         "showlegend": false,
         "showscale": false,
         "type": "cone",
         "u": [
          1.4452087150973685
         ],
         "v": [
          29.61861883386314
         ],
         "w": [
          97.0638197862801
         ],
         "x": [
          4.721015135984737
         ],
         "y": [
          96.75415485728627
         ],
         "z": [
          317.0751446351817
         ]
        },
        {
         "marker": {
          "color": "red",
          "size": 5
         },
         "mode": "markers+text",
         "type": "scatter3d",
         "x": [
          -8.343685890024737
         ],
         "y": [
          7.712180046418581
         ],
         "z": [
          318.8527346386819
         ]
        },
        {
         "line": {
          "color": "red",
          "width": 2
         },
         "mode": "lines",
         "type": "scatter3d",
         "x": [
          -8.343685890024737,
          -1.6791753934274016,
          null
         ],
         "y": [
          7.712180046418581,
          57.96136906421046,
          null
         ],
         "z": [
          318.8527346386819,
          324.15982718679714,
          null
         ]
        },
        {
         "colorscale": [
          [
           0,
           "red"
          ],
          [
           1,
           "red"
          ]
         ],
         "showlegend": false,
         "showscale": false,
         "type": "cone",
         "u": [
          1.9993531489792007
         ],
         "v": [
          15.074756705337563
         ],
         "w": [
          1.5921277644345706
         ],
         "x": [
          -1.8124656033593487
         ],
         "y": [
          56.95638528385462
         ],
         "z": [
          324.0536853358348
         ]
        },
        {
         "marker": {
          "color": "red",
          "size": 5
         },
         "mode": "markers+text",
         "type": "scatter3d",
         "x": [
          0
         ],
         "y": [
          0
         ],
         "z": [
          0
         ]
        },
        {
         "line": {
          "color": "red",
          "width": 2
         },
         "mode": "lines",
         "type": "scatter3d",
         "x": [
          0,
          -12.446438283097736,
          null
         ],
         "y": [
          0,
          30.579459550551075,
          null
         ],
         "z": [
          0,
          334.0621890295869,
          null
         ]
        },
        {
         "colorscale": [
          [
           0,
           "red"
          ],
          [
           1,
           "red"
          ]
         ],
         "showlegend": false,
         "showscale": false,
         "type": "cone",
         "u": [
          -3.733931484929321
         ],
         "v": [
          9.173837865165321
         ],
         "w": [
          100.21865670887605
         ],
         "x": [
          -12.197509517435781
         ],
         "y": [
          29.967870359540054
         ],
         "z": [
          327.38094524899515
         ]
        },
        {
         "marker": {
          "color": "red",
          "size": 5
         },
         "mode": "markers+text",
         "type": "scatter3d",
         "x": [
          -8.343685890024737
         ],
         "y": [
          7.712180046418581
         ],
         "z": [
          318.8527346386819
         ]
        },
        {
         "line": {
          "color": "red",
          "width": 2
         },
         "mode": "lines",
         "type": "scatter3d",
         "x": [
          -8.343685890024737,
          -1.6791753934274016,
          null
         ],
         "y": [
          7.712180046418581,
          57.96136906421046,
          null
         ],
         "z": [
          318.8527346386819,
          324.15982718679714,
          null
         ]
        },
        {
         "colorscale": [
          [
           0,
           "red"
          ],
          [
           1,
           "red"
          ]
         ],
         "showlegend": false,
         "showscale": false,
         "type": "cone",
         "u": [
          1.9993531489792007
         ],
         "v": [
          15.074756705337563
         ],
         "w": [
          1.5921277644345706
         ],
         "x": [
          -1.8124656033593487
         ],
         "y": [
          56.95638528385462
         ],
         "z": [
          324.0536853358348
         ]
        },
        {
         "marker": {
          "color": "red",
          "size": 5
         },
         "mode": "markers+text",
         "type": "scatter3d",
         "x": [
          0
         ],
         "y": [
          0
         ],
         "z": [
          0
         ]
        },
        {
         "line": {
          "color": "red",
          "width": 2
         },
         "mode": "lines",
         "type": "scatter3d",
         "x": [
          0,
          -8.009307312657388,
          null
         ],
         "y": [
          0,
          52.847460118339704,
          null
         ],
         "z": [
          0,
          334.3212772405777,
          null
         ]
        },
        {
         "colorscale": [
          [
           0,
           "red"
          ],
          [
           1,
           "red"
          ]
         ],
         "showlegend": false,
         "showscale": false,
         "type": "cone",
         "u": [
          -2.4027921937972163
         ],
         "v": [
          15.854238035501911
         ],
         "w": [
          100.2963831721733
         ],
         "x": [
          -7.84912116640424
         ],
         "y": [
          51.79051091597291
         ],
         "z": [
          327.6348516957661
         ]
        },
        {
         "marker": {
          "color": "red",
          "size": 5
         },
         "mode": "markers+text",
         "type": "scatter3d",
         "x": [
          -1.6791753934274019
         ],
         "y": [
          57.96136906421046
         ],
         "z": [
          324.15982718679714
         ]
        },
        {
         "line": {
          "color": "red",
          "width": 2
         },
         "mode": "lines",
         "type": "scatter3d",
         "x": [
          -1.6791753934274019,
          1.4695321479335812,
          null
         ],
         "y": [
          57.96136906421046,
          81.4243916643631,
          null
         ],
         "z": [
          324.15982718679714,
          325.9552818175018,
          null
         ]
        },
        {
         "colorscale": [
          [
           0,
           "red"
          ],
          [
           1,
           "red"
          ]
         ],
         "showlegend": false,
         "showscale": false,
         "type": "cone",
         "u": [
          0.9446122624082949
         ],
         "v": [
          7.038906780045792
         ],
         "w": [
          0.5386363892114048
         ],
         "x": [
          1.4065579971063615
         ],
         "y": [
          80.95513121236004
         ],
         "z": [
          325.91937272488775
         ]
        },
        {
         "marker": {
          "color": "red",
          "size": 5
         },
         "mode": "markers+text",
         "type": "scatter3d",
         "x": [
          0
         ],
         "y": [
          0
         ],
         "z": [
          0
         ]
        },
        {
         "line": {
          "color": "red",
          "width": 2
         },
         "mode": "lines",
         "type": "scatter3d",
         "x": [
          0,
          -6.758792141830816,
          null
         ],
         "y": [
          0,
          68.92715034479168,
          null
         ],
         "z": [
          0,
          335.38761301189,
          null
         ]
        },
        {
         "colorscale": [
          [
           0,
           "red"
          ],
          [
           1,
           "red"
          ]
         ],
         "showlegend": false,
         "showscale": false,
         "type": "cone",
         "u": [
          -2.027637642549245
         ],
         "v": [
          20.678145103437505
         ],
         "w": [
          100.616283903567
         ],
         "x": [
          -6.623616298994199
         ],
         "y": [
          67.54860733789585
         ],
         "z": [
          328.6798607516522
         ]
        }
       ],
       "layout": {
        "height": 1024,
        "scene": {
         "aspectmode": "data",
         "aspectratio": {
          "x": 1,
          "y": 1,
          "z": 1
         },
         "camera": {
          "center": {
           "x": 0,
           "y": 0,
           "z": 0
          },
          "eye": {
           "x": -2,
           "y": -0.5,
           "z": 3
          },
          "up": {
           "x": 0,
           "y": 0,
           "z": 20
          }
         }
        },
        "template": {
         "data": {
          "bar": [
           {
            "error_x": {
             "color": "#2a3f5f"
            },
            "error_y": {
             "color": "#2a3f5f"
            },
            "marker": {
             "line": {
              "color": "#E5ECF6",
              "width": 0.5
             },
             "pattern": {
              "fillmode": "overlay",
              "size": 10,
              "solidity": 0.2
             }
            },
            "type": "bar"
           }
          ],
          "barpolar": [
           {
            "marker": {
             "line": {
              "color": "#E5ECF6",
              "width": 0.5
             },
             "pattern": {
              "fillmode": "overlay",
              "size": 10,
              "solidity": 0.2
             }
            },
            "type": "barpolar"
           }
          ],
          "carpet": [
           {
            "aaxis": {
             "endlinecolor": "#2a3f5f",
             "gridcolor": "white",
             "linecolor": "white",
             "minorgridcolor": "white",
             "startlinecolor": "#2a3f5f"
            },
            "baxis": {
             "endlinecolor": "#2a3f5f",
             "gridcolor": "white",
             "linecolor": "white",
             "minorgridcolor": "white",
             "startlinecolor": "#2a3f5f"
            },
            "type": "carpet"
           }
          ],
          "choropleth": [
           {
            "colorbar": {
             "outlinewidth": 0,
             "ticks": ""
            },
            "type": "choropleth"
           }
          ],
          "contour": [
           {
            "colorbar": {
             "outlinewidth": 0,
             "ticks": ""
            },
            "colorscale": [
             [
              0,
              "#0d0887"
             ],
             [
              0.1111111111111111,
              "#46039f"
             ],
             [
              0.2222222222222222,
              "#7201a8"
             ],
             [
              0.3333333333333333,
              "#9c179e"
             ],
             [
              0.4444444444444444,
              "#bd3786"
             ],
             [
              0.5555555555555556,
              "#d8576b"
             ],
             [
              0.6666666666666666,
              "#ed7953"
             ],
             [
              0.7777777777777778,
              "#fb9f3a"
             ],
             [
              0.8888888888888888,
              "#fdca26"
             ],
             [
              1,
              "#f0f921"
             ]
            ],
            "type": "contour"
           }
          ],
          "contourcarpet": [
           {
            "colorbar": {
             "outlinewidth": 0,
             "ticks": ""
            },
            "type": "contourcarpet"
           }
          ],
          "heatmap": [
           {
            "colorbar": {
             "outlinewidth": 0,
             "ticks": ""
            },
            "colorscale": [
             [
              0,
              "#0d0887"
             ],
             [
              0.1111111111111111,
              "#46039f"
             ],
             [
              0.2222222222222222,
              "#7201a8"
             ],
             [
              0.3333333333333333,
              "#9c179e"
             ],
             [
              0.4444444444444444,
              "#bd3786"
             ],
             [
              0.5555555555555556,
              "#d8576b"
             ],
             [
              0.6666666666666666,
              "#ed7953"
             ],
             [
              0.7777777777777778,
              "#fb9f3a"
             ],
             [
              0.8888888888888888,
              "#fdca26"
             ],
             [
              1,
              "#f0f921"
             ]
            ],
            "type": "heatmap"
           }
          ],
          "heatmapgl": [
           {
            "colorbar": {
             "outlinewidth": 0,
             "ticks": ""
            },
            "colorscale": [
             [
              0,
              "#0d0887"
             ],
             [
              0.1111111111111111,
              "#46039f"
             ],
             [
              0.2222222222222222,
              "#7201a8"
             ],
             [
              0.3333333333333333,
              "#9c179e"
             ],
             [
              0.4444444444444444,
              "#bd3786"
             ],
             [
              0.5555555555555556,
              "#d8576b"
             ],
             [
              0.6666666666666666,
              "#ed7953"
             ],
             [
              0.7777777777777778,
              "#fb9f3a"
             ],
             [
              0.8888888888888888,
              "#fdca26"
             ],
             [
              1,
              "#f0f921"
             ]
            ],
            "type": "heatmapgl"
           }
          ],
          "histogram": [
           {
            "marker": {
             "pattern": {
              "fillmode": "overlay",
              "size": 10,
              "solidity": 0.2
             }
            },
            "type": "histogram"
           }
          ],
          "histogram2d": [
           {
            "colorbar": {
             "outlinewidth": 0,
             "ticks": ""
            },
            "colorscale": [
             [
              0,
              "#0d0887"
             ],
             [
              0.1111111111111111,
              "#46039f"
             ],
             [
              0.2222222222222222,
              "#7201a8"
             ],
             [
              0.3333333333333333,
              "#9c179e"
             ],
             [
              0.4444444444444444,
              "#bd3786"
             ],
             [
              0.5555555555555556,
              "#d8576b"
             ],
             [
              0.6666666666666666,
              "#ed7953"
             ],
             [
              0.7777777777777778,
              "#fb9f3a"
             ],
             [
              0.8888888888888888,
              "#fdca26"
             ],
             [
              1,
              "#f0f921"
             ]
            ],
            "type": "histogram2d"
           }
          ],
          "histogram2dcontour": [
           {
            "colorbar": {
             "outlinewidth": 0,
             "ticks": ""
            },
            "colorscale": [
             [
              0,
              "#0d0887"
             ],
             [
              0.1111111111111111,
              "#46039f"
             ],
             [
              0.2222222222222222,
              "#7201a8"
             ],
             [
              0.3333333333333333,
              "#9c179e"
             ],
             [
              0.4444444444444444,
              "#bd3786"
             ],
             [
              0.5555555555555556,
              "#d8576b"
             ],
             [
              0.6666666666666666,
              "#ed7953"
             ],
             [
              0.7777777777777778,
              "#fb9f3a"
             ],
             [
              0.8888888888888888,
              "#fdca26"
             ],
             [
              1,
              "#f0f921"
             ]
            ],
            "type": "histogram2dcontour"
           }
          ],
          "mesh3d": [
           {
            "colorbar": {
             "outlinewidth": 0,
             "ticks": ""
            },
            "type": "mesh3d"
           }
          ],
          "parcoords": [
           {
            "line": {
             "colorbar": {
              "outlinewidth": 0,
              "ticks": ""
             }
            },
            "type": "parcoords"
           }
          ],
          "pie": [
           {
            "automargin": true,
            "type": "pie"
           }
          ],
          "scatter": [
           {
            "fillpattern": {
             "fillmode": "overlay",
             "size": 10,
             "solidity": 0.2
            },
            "type": "scatter"
           }
          ],
          "scatter3d": [
           {
            "line": {
             "colorbar": {
              "outlinewidth": 0,
              "ticks": ""
             }
            },
            "marker": {
             "colorbar": {
              "outlinewidth": 0,
              "ticks": ""
             }
            },
            "type": "scatter3d"
           }
          ],
          "scattercarpet": [
           {
            "marker": {
             "colorbar": {
              "outlinewidth": 0,
              "ticks": ""
             }
            },
            "type": "scattercarpet"
           }
          ],
          "scattergeo": [
           {
            "marker": {
             "colorbar": {
              "outlinewidth": 0,
              "ticks": ""
             }
            },
            "type": "scattergeo"
           }
          ],
          "scattergl": [
           {
            "marker": {
             "colorbar": {
              "outlinewidth": 0,
              "ticks": ""
             }
            },
            "type": "scattergl"
           }
          ],
          "scattermapbox": [
           {
            "marker": {
             "colorbar": {
              "outlinewidth": 0,
              "ticks": ""
             }
            },
            "type": "scattermapbox"
           }
          ],
          "scatterpolar": [
           {
            "marker": {
             "colorbar": {
              "outlinewidth": 0,
              "ticks": ""
             }
            },
            "type": "scatterpolar"
           }
          ],
          "scatterpolargl": [
           {
            "marker": {
             "colorbar": {
              "outlinewidth": 0,
              "ticks": ""
             }
            },
            "type": "scatterpolargl"
           }
          ],
          "scatterternary": [
           {
            "marker": {
             "colorbar": {
              "outlinewidth": 0,
              "ticks": ""
             }
            },
            "type": "scatterternary"
           }
          ],
          "surface": [
           {
            "colorbar": {
             "outlinewidth": 0,
             "ticks": ""
            },
            "colorscale": [
             [
              0,
              "#0d0887"
             ],
             [
              0.1111111111111111,
              "#46039f"
             ],
             [
              0.2222222222222222,
              "#7201a8"
             ],
             [
              0.3333333333333333,
              "#9c179e"
             ],
             [
              0.4444444444444444,
              "#bd3786"
             ],
             [
              0.5555555555555556,
              "#d8576b"
             ],
             [
              0.6666666666666666,
              "#ed7953"
             ],
             [
              0.7777777777777778,
              "#fb9f3a"
             ],
             [
              0.8888888888888888,
              "#fdca26"
             ],
             [
              1,
              "#f0f921"
             ]
            ],
            "type": "surface"
           }
          ],
          "table": [
           {
            "cells": {
             "fill": {
              "color": "#EBF0F8"
             },
             "line": {
              "color": "white"
             }
            },
            "header": {
             "fill": {
              "color": "#C8D4E3"
             },
             "line": {
              "color": "white"
             }
            },
            "type": "table"
           }
          ]
         },
         "layout": {
          "annotationdefaults": {
           "arrowcolor": "#2a3f5f",
           "arrowhead": 0,
           "arrowwidth": 1
          },
          "autotypenumbers": "strict",
          "coloraxis": {
           "colorbar": {
            "outlinewidth": 0,
            "ticks": ""
           }
          },
          "colorscale": {
           "diverging": [
            [
             0,
             "#8e0152"
            ],
            [
             0.1,
             "#c51b7d"
            ],
            [
             0.2,
             "#de77ae"
            ],
            [
             0.3,
             "#f1b6da"
            ],
            [
             0.4,
             "#fde0ef"
            ],
            [
             0.5,
             "#f7f7f7"
            ],
            [
             0.6,
             "#e6f5d0"
            ],
            [
             0.7,
             "#b8e186"
            ],
            [
             0.8,
             "#7fbc41"
            ],
            [
             0.9,
             "#4d9221"
            ],
            [
             1,
             "#276419"
            ]
           ],
           "sequential": [
            [
             0,
             "#0d0887"
            ],
            [
             0.1111111111111111,
             "#46039f"
            ],
            [
             0.2222222222222222,
             "#7201a8"
            ],
            [
             0.3333333333333333,
             "#9c179e"
            ],
            [
             0.4444444444444444,
             "#bd3786"
            ],
            [
             0.5555555555555556,
             "#d8576b"
            ],
            [
             0.6666666666666666,
             "#ed7953"
            ],
            [
             0.7777777777777778,
             "#fb9f3a"
            ],
            [
             0.8888888888888888,
             "#fdca26"
            ],
            [
             1,
             "#f0f921"
            ]
           ],
           "sequentialminus": [
            [
             0,
             "#0d0887"
            ],
            [
             0.1111111111111111,
             "#46039f"
            ],
            [
             0.2222222222222222,
             "#7201a8"
            ],
            [
             0.3333333333333333,
             "#9c179e"
            ],
            [
             0.4444444444444444,
             "#bd3786"
            ],
            [
             0.5555555555555556,
             "#d8576b"
            ],
            [
             0.6666666666666666,
             "#ed7953"
            ],
            [
             0.7777777777777778,
             "#fb9f3a"
            ],
            [
             0.8888888888888888,
             "#fdca26"
            ],
            [
             1,
             "#f0f921"
            ]
           ]
          },
          "colorway": [
           "#636efa",
           "#EF553B",
           "#00cc96",
           "#ab63fa",
           "#FFA15A",
           "#19d3f3",
           "#FF6692",
           "#B6E880",
           "#FF97FF",
           "#FECB52"
          ],
          "font": {
           "color": "#2a3f5f"
          },
          "geo": {
           "bgcolor": "white",
           "lakecolor": "white",
           "landcolor": "#E5ECF6",
           "showlakes": true,
           "showland": true,
           "subunitcolor": "white"
          },
          "hoverlabel": {
           "align": "left"
          },
          "hovermode": "closest",
          "mapbox": {
           "style": "light"
          },
          "paper_bgcolor": "white",
          "plot_bgcolor": "#E5ECF6",
          "polar": {
           "angularaxis": {
            "gridcolor": "white",
            "linecolor": "white",
            "ticks": ""
           },
           "bgcolor": "#E5ECF6",
           "radialaxis": {
            "gridcolor": "white",
            "linecolor": "white",
            "ticks": ""
           }
          },
          "scene": {
           "xaxis": {
            "backgroundcolor": "#E5ECF6",
            "gridcolor": "white",
            "gridwidth": 2,
            "linecolor": "white",
            "showbackground": true,
            "ticks": "",
            "zerolinecolor": "white"
           },
           "yaxis": {
            "backgroundcolor": "#E5ECF6",
            "gridcolor": "white",
            "gridwidth": 2,
            "linecolor": "white",
            "showbackground": true,
            "ticks": "",
            "zerolinecolor": "white"
           },
           "zaxis": {
            "backgroundcolor": "#E5ECF6",
            "gridcolor": "white",
            "gridwidth": 2,
            "linecolor": "white",
            "showbackground": true,
            "ticks": "",
            "zerolinecolor": "white"
           }
          },
          "shapedefaults": {
           "line": {
            "color": "#2a3f5f"
           }
          },
          "ternary": {
           "aaxis": {
            "gridcolor": "white",
            "linecolor": "white",
            "ticks": ""
           },
           "baxis": {
            "gridcolor": "white",
            "linecolor": "white",
            "ticks": ""
           },
           "bgcolor": "#E5ECF6",
           "caxis": {
            "gridcolor": "white",
            "linecolor": "white",
            "ticks": ""
           }
          },
          "title": {
           "x": 0.05
          },
          "xaxis": {
           "automargin": true,
           "gridcolor": "white",
           "linecolor": "white",
           "ticks": "",
           "title": {
            "standoff": 15
           },
           "zerolinecolor": "white",
           "zerolinewidth": 2
          },
          "yaxis": {
           "automargin": true,
           "gridcolor": "white",
           "linecolor": "white",
           "ticks": "",
           "title": {
            "standoff": 15
           },
           "zerolinecolor": "white",
           "zerolinewidth": 2
          }
         }
        },
        "width": 1024
       }
      }
     },
     "metadata": {},
     "output_type": "display_data"
    }
   ],
   "source": [
    "# GENERAL\n",
    "HandModel = getHandModel()\n",
    "q = np.zeros(20)\n",
    "# set the thumb in a flat position\n",
    "q[0] = 0.4\n",
    "q[1] = -0.6\n",
    "q[2] = 0.1\n",
    "state = setHandPose(HandModel, q)\n",
    "fingers_idx = np.array([[0,3,8,17], #thumb (root to tip)\n",
    "                        [4,9,13,18], #index\n",
    "                        [5,10,14,19], #middle\n",
    "                        [6,11,15,20], #ring\n",
    "                        [7,12,16,21]]) #pinky\n",
    "finger_radius = 10 # mm\n",
    "#palm_plane_idx = np.array([7, 6, 5, 4, 1, 25, 24, 2]) # cirsumverence of palm clockwise\n",
    "\n",
    "# HAND\n",
    "# x = + flexion, - extension\n",
    "# y = + pronation, - supination\n",
    "# z = + ulna devation, - radial deviation\n",
    "pos_markers = getHandMarkers(HandModel, state, pos=np.array([0, -100, 300]), orient=np.array([0., 90, 0.]))\n",
    "\n",
    "# PALM;\n",
    "pv__ = (pos_markers[2] + pos_markers[1]) / 2 - pos_markers[6] # vector pointing from the finger root to the wrist\n",
    "pv__ /= np.linalg.norm(pv__)\n",
    "palm_markers = np.array([pos_markers[7] + pv__*3, pos_markers[6] + pv__*3, pos_markers[5] + pv__*3, pos_markers[4] + pv__*3, # to make sure the finger root markers do not intersect with the palm\n",
    "                         pos_markers[1], pos_markers[25], pos_markers[24], pos_markers[2]])\n",
    "# normal plane to the palm and palm centroid\n",
    "palm_plane_normal = get_regressionPlane(palm_markers)\n",
    "palm_centroid = np.mean(palm_markers, axis=0)\n",
    "\n",
    "# FINGERS\n",
    "# the line chain of a finger starts at the finger root and clinbs marker by marker to the finger tip\n",
    "# the base of a line is always the origin of a vector pointing from towards the tip -> this means the only frogner marker not a line origin is the finger tip\n",
    "#finger_lines has the shape (num_fingers, num_phlanges, len_phlanges)\n",
    "finger_lines = np.array([[(pos_markers[fingers_idx[j, i]], (pos_markers[fingers_idx[j, i+1]]-pos_markers[fingers_idx[j, i]])/np.linalg.norm(pos_markers[fingers_idx[j, i+1]]-pos_markers[fingers_idx[j, i]]), np.linalg.norm(pos_markers[fingers_idx[j, i+1]]-pos_markers[fingers_idx[j, i]])) for i in range(fingers_idx.shape[1]-1)] for j in range(fingers_idx.shape[0])])\n",
    "forearm_vec = (pos_markers[24] + pos_markers[25])/2 - (pos_markers[22] + pos_markers[23])/2\n",
    "\n",
    "# LMC\n",
    "LMC = make_LMC(LMC_loc=[0, 0, 0], LMC_orient=[0, 0, 0], LMC_H=600)\n",
    "\n",
    "fig = go.Figure()\n",
    "fig = plotLMC(fig, LMC, color='orange', name='LMC', scale=1)\n",
    "fig = plot_hand(fig, pos_markers)\n",
    "\n",
    "occlusions, _ = check_LMC_Hand_visibility(LMC, pos_markers, fingers_idx, finger_lines, finger_radius, palm_plane_normal, palm_centroid, palm_markers, forearm_vec, fig=fig, verbose=1)\n",
    "print(occlusions)\n",
    "fig.show()"
   ]
  },
  {
   "cell_type": "code",
   "execution_count": 39,
   "metadata": {},
   "outputs": [
    {
     "name": "stdout",
     "output_type": "stream",
     "text": [
      "[1. 1. 1. 1. 1. 1. 1.]\n"
     ]
    },
    {
     "data": {
      "application/vnd.plotly.v1+json": {
       "config": {
        "plotlyServerURL": "https://plot.ly"
       },
       "data": [
        {
         "marker": {
          "color": "orange",
          "size": 5
         },
         "mode": "markers+text",
         "type": "scatter3d",
         "x": [
          -380
         ],
         "y": [
          130
         ],
         "z": [
          0
         ]
        },
        {
         "line": {
          "color": "orange",
          "width": 2
         },
         "mode": "lines",
         "type": "scatter3d",
         "x": [
          -380,
          -380,
          null
         ],
         "y": [
          130,
          -129.8076211353316,
          null
         ],
         "z": [
          0,
          149.99999999999997,
          null
         ]
        },
        {
         "colorscale": [
          [
           0,
           "orange"
          ],
          [
           1,
           "orange"
          ]
         ],
         "showlegend": false,
         "showscale": false,
         "type": "cone",
         "u": [
          0
         ],
         "v": [
          -77.94228634059948
         ],
         "w": [
          44.99999999999999
         ],
         "x": [
          -380
         ],
         "y": [
          -124.61146871262497
         ],
         "z": [
          146.99999999999997
         ]
        },
        {
         "marker": {
          "color": "orange",
          "size": 5
         },
         "mode": "markers+text",
         "type": "scatter3d",
         "x": [
          -380
         ],
         "y": [
          130
         ],
         "z": [
          0
         ]
        },
        {
         "line": {
          "color": "orange",
          "width": 2
         },
         "mode": "lines",
         "type": "scatter3d",
         "x": [
          -380,
          -90.22225211327952,
          null
         ],
         "y": [
          130,
          130,
          null
         ],
         "z": [
          0,
          77.64571353075623,
          null
         ]
        },
        {
         "colorscale": [
          [
           0,
           "orange"
          ],
          [
           1,
           "orange"
          ]
         ],
         "showlegend": false,
         "showscale": false,
         "type": "cone",
         "u": [
          86.93332436601614
         ],
         "v": [
          0
         ],
         "w": [
          23.29371405922687
         ],
         "x": [
          -96.01780707101392
         ],
         "y": [
          130
         ],
         "z": [
          76.0927992601411
         ]
        },
        {
         "marker": {
          "color": "orange",
          "size": 5
         },
         "mode": "markers+text",
         "type": "scatter3d",
         "x": [
          -380
         ],
         "y": [
          130
         ],
         "z": [
          0
         ]
        },
        {
         "line": {
          "color": "orange",
          "width": 2
         },
         "mode": "lines",
         "type": "scatter3d",
         "x": [
          -380,
          -380,
          null
         ],
         "y": [
          130,
          389.8076211353316,
          null
         ],
         "z": [
          0,
          149.99999999999997,
          null
         ]
        },
        {
         "colorscale": [
          [
           0,
           "orange"
          ],
          [
           1,
           "orange"
          ]
         ],
         "showlegend": false,
         "showscale": false,
         "type": "cone",
         "u": [
          0
         ],
         "v": [
          77.94228634059948
         ],
         "w": [
          44.99999999999999
         ],
         "x": [
          -380
         ],
         "y": [
          384.61146871262497
         ],
         "z": [
          146.99999999999997
         ]
        },
        {
         "marker": {
          "color": "orange",
          "size": 5
         },
         "mode": "markers+text",
         "type": "scatter3d",
         "x": [
          -380
         ],
         "y": [
          130
         ],
         "z": [
          0
         ]
        },
        {
         "line": {
          "color": "orange",
          "width": 2
         },
         "mode": "lines",
         "type": "scatter3d",
         "x": [
          -380,
          -669.7777478867205,
          null
         ],
         "y": [
          130,
          130,
          null
         ],
         "z": [
          0,
          77.64571353075623,
          null
         ]
        },
        {
         "colorscale": [
          [
           0,
           "orange"
          ],
          [
           1,
           "orange"
          ]
         ],
         "showlegend": false,
         "showscale": false,
         "type": "cone",
         "u": [
          -86.93332436601614
         ],
         "v": [
          0
         ],
         "w": [
          23.29371405922687
         ],
         "x": [
          -663.982192928986
         ],
         "y": [
          130
         ],
         "z": [
          76.0927992601411
         ]
        },
        {
         "marker": {
          "color": "orange",
          "size": 5
         },
         "mode": "markers+text",
         "text": "0d",
         "type": "scatter3d",
         "x": [
          -380
         ],
         "y": [
          0.09618943233419941
         ],
         "z": [
          74.99999999999999
         ]
        },
        {
         "marker": {
          "color": "orange",
          "size": 5
         },
         "mode": "markers+text",
         "text": "1d",
         "type": "scatter3d",
         "x": [
          -235.11112605663976
         ],
         "y": [
          130
         ],
         "z": [
          38.82285676537811
         ]
        },
        {
         "marker": {
          "color": "orange",
          "size": 5
         },
         "mode": "markers+text",
         "text": "2d",
         "type": "scatter3d",
         "x": [
          -380
         ],
         "y": [
          259.9038105676658
         ],
         "z": [
          74.99999999999999
         ]
        },
        {
         "marker": {
          "color": "orange",
          "size": 5
         },
         "mode": "markers+text",
         "text": "3d",
         "type": "scatter3d",
         "x": [
          -524.8888739433603
         ],
         "y": [
          130
         ],
         "z": [
          38.82285676537811
         ]
        },
        {
         "marker": {
          "color": "orange",
          "size": 5
         },
         "mode": "markers+text",
         "type": "scatter3d",
         "x": [
          -380
         ],
         "y": [
          130
         ],
         "z": [
          0
         ]
        },
        {
         "line": {
          "color": "orange",
          "width": 2
         },
         "mode": "lines",
         "type": "scatter3d",
         "x": [
          -380,
          -380,
          null
         ],
         "y": [
          130,
          430,
          null
         ],
         "z": [
          0,
          0,
          null
         ]
        },
        {
         "colorscale": [
          [
           0,
           "orange"
          ],
          [
           1,
           "orange"
          ]
         ],
         "showlegend": false,
         "showscale": false,
         "type": "cone",
         "u": [
          0
         ],
         "v": [
          90
         ],
         "w": [
          0
         ],
         "x": [
          -380
         ],
         "y": [
          424
         ],
         "z": [
          0
         ]
        },
        {
         "marker": {
          "color": "orange",
          "size": 5
         },
         "mode": "markers+text",
         "text": "LMC",
         "type": "scatter3d",
         "x": [
          -380
         ],
         "y": [
          130
         ],
         "z": [
          0
         ]
        },
        {
         "marker": {
          "color": "blue",
          "size": 5
         },
         "mode": "markers+text",
         "text": [
          0,
          1,
          2,
          3,
          4,
          5,
          6,
          7,
          8,
          9,
          10,
          11,
          12,
          13,
          14,
          15,
          16,
          17,
          18,
          19,
          20,
          21,
          22,
          23,
          24,
          25
         ],
         "type": "scatter3d",
         "x": [
          9.4098110473911,
          -8.9529803308769,
          -7.472844917917064,
          20.778027417231275,
          0.0010895002134085428,
          -1.0959260117360343,
          0.9881856356647079,
          0.563413341429151,
          25.295311971632692,
          4.453402496562397,
          6.295299050436839,
          9.324203933319785,
          6.199065690062207,
          7.678603335372421,
          9.838523962802098,
          12.943633818926138,
          10.324692944889177,
          28.10472268587001,
          8.219368705220678,
          10.283333259796985,
          17.06333488652509,
          11.919775489292466,
          49.566143615149095,
          -2.960560702861752,
          -0.00009321185828976525,
          0.00009321185829580334
         ],
         "y": [
          -68.48161875460463,
          -45.129174919162026,
          -48.161424548364664,
          -33.742580156886596,
          11.5304423163642,
          11.175091087345931,
          7.7121800464186085,
          -3.673851527731642,
          -4.25071085069878,
          55.77138830220385,
          60.38585388206965,
          57.96136906421048,
          31.034931688866234,
          82.25263363419619,
          89.91096208035118,
          81.42439166436314,
          53.627917689367756,
          21.024447205886556,
          98.5784306291386,
          105.92628123187133,
          100.18788190734374,
          69.93349235139029,
          -290.2650498206238,
          -293.40222525835344,
          -99.06222194990012,
          -100.93777805009977
         ],
         "z": [
          262.4715783303531,
          280.5741990572509,
          326.62623442496306,
          240.51994345652255,
          278.051008547417,
          300.65920027170023,
          320.59286737531755,
          338.73165361068436,
          233.3944482655405,
          280.16681882959637,
          301.097299137167,
          322.3511990888108,
          340.55978246487365,
          283.03777729641934,
          302.146898549276,
          322.54547676411613,
          338.7387923221184,
          230.3229850303637,
          284.2097033936271,
          302.90879454342013,
          323.13460093047416,
          339.0866811729465,
          298.264927696833,
          330.7823336386574,
          326.0043630127447,
          273.9956369872552
         ]
        }
       ],
       "layout": {
        "height": 1024,
        "scene": {
         "aspectmode": "data",
         "aspectratio": {
          "x": 1,
          "y": 1,
          "z": 1
         },
         "camera": {
          "center": {
           "x": 0,
           "y": 0,
           "z": 0
          },
          "eye": {
           "x": -2,
           "y": -0.5,
           "z": 3
          },
          "up": {
           "x": 0,
           "y": 0,
           "z": 20
          }
         }
        },
        "template": {
         "data": {
          "bar": [
           {
            "error_x": {
             "color": "#2a3f5f"
            },
            "error_y": {
             "color": "#2a3f5f"
            },
            "marker": {
             "line": {
              "color": "#E5ECF6",
              "width": 0.5
             },
             "pattern": {
              "fillmode": "overlay",
              "size": 10,
              "solidity": 0.2
             }
            },
            "type": "bar"
           }
          ],
          "barpolar": [
           {
            "marker": {
             "line": {
              "color": "#E5ECF6",
              "width": 0.5
             },
             "pattern": {
              "fillmode": "overlay",
              "size": 10,
              "solidity": 0.2
             }
            },
            "type": "barpolar"
           }
          ],
          "carpet": [
           {
            "aaxis": {
             "endlinecolor": "#2a3f5f",
             "gridcolor": "white",
             "linecolor": "white",
             "minorgridcolor": "white",
             "startlinecolor": "#2a3f5f"
            },
            "baxis": {
             "endlinecolor": "#2a3f5f",
             "gridcolor": "white",
             "linecolor": "white",
             "minorgridcolor": "white",
             "startlinecolor": "#2a3f5f"
            },
            "type": "carpet"
           }
          ],
          "choropleth": [
           {
            "colorbar": {
             "outlinewidth": 0,
             "ticks": ""
            },
            "type": "choropleth"
           }
          ],
          "contour": [
           {
            "colorbar": {
             "outlinewidth": 0,
             "ticks": ""
            },
            "colorscale": [
             [
              0,
              "#0d0887"
             ],
             [
              0.1111111111111111,
              "#46039f"
             ],
             [
              0.2222222222222222,
              "#7201a8"
             ],
             [
              0.3333333333333333,
              "#9c179e"
             ],
             [
              0.4444444444444444,
              "#bd3786"
             ],
             [
              0.5555555555555556,
              "#d8576b"
             ],
             [
              0.6666666666666666,
              "#ed7953"
             ],
             [
              0.7777777777777778,
              "#fb9f3a"
             ],
             [
              0.8888888888888888,
              "#fdca26"
             ],
             [
              1,
              "#f0f921"
             ]
            ],
            "type": "contour"
           }
          ],
          "contourcarpet": [
           {
            "colorbar": {
             "outlinewidth": 0,
             "ticks": ""
            },
            "type": "contourcarpet"
           }
          ],
          "heatmap": [
           {
            "colorbar": {
             "outlinewidth": 0,
             "ticks": ""
            },
            "colorscale": [
             [
              0,
              "#0d0887"
             ],
             [
              0.1111111111111111,
              "#46039f"
             ],
             [
              0.2222222222222222,
              "#7201a8"
             ],
             [
              0.3333333333333333,
              "#9c179e"
             ],
             [
              0.4444444444444444,
              "#bd3786"
             ],
             [
              0.5555555555555556,
              "#d8576b"
             ],
             [
              0.6666666666666666,
              "#ed7953"
             ],
             [
              0.7777777777777778,
              "#fb9f3a"
             ],
             [
              0.8888888888888888,
              "#fdca26"
             ],
             [
              1,
              "#f0f921"
             ]
            ],
            "type": "heatmap"
           }
          ],
          "heatmapgl": [
           {
            "colorbar": {
             "outlinewidth": 0,
             "ticks": ""
            },
            "colorscale": [
             [
              0,
              "#0d0887"
             ],
             [
              0.1111111111111111,
              "#46039f"
             ],
             [
              0.2222222222222222,
              "#7201a8"
             ],
             [
              0.3333333333333333,
              "#9c179e"
             ],
             [
              0.4444444444444444,
              "#bd3786"
             ],
             [
              0.5555555555555556,
              "#d8576b"
             ],
             [
              0.6666666666666666,
              "#ed7953"
             ],
             [
              0.7777777777777778,
              "#fb9f3a"
             ],
             [
              0.8888888888888888,
              "#fdca26"
             ],
             [
              1,
              "#f0f921"
             ]
            ],
            "type": "heatmapgl"
           }
          ],
          "histogram": [
           {
            "marker": {
             "pattern": {
              "fillmode": "overlay",
              "size": 10,
              "solidity": 0.2
             }
            },
            "type": "histogram"
           }
          ],
          "histogram2d": [
           {
            "colorbar": {
             "outlinewidth": 0,
             "ticks": ""
            },
            "colorscale": [
             [
              0,
              "#0d0887"
             ],
             [
              0.1111111111111111,
              "#46039f"
             ],
             [
              0.2222222222222222,
              "#7201a8"
             ],
             [
              0.3333333333333333,
              "#9c179e"
             ],
             [
              0.4444444444444444,
              "#bd3786"
             ],
             [
              0.5555555555555556,
              "#d8576b"
             ],
             [
              0.6666666666666666,
              "#ed7953"
             ],
             [
              0.7777777777777778,
              "#fb9f3a"
             ],
             [
              0.8888888888888888,
              "#fdca26"
             ],
             [
              1,
              "#f0f921"
             ]
            ],
            "type": "histogram2d"
           }
          ],
          "histogram2dcontour": [
           {
            "colorbar": {
             "outlinewidth": 0,
             "ticks": ""
            },
            "colorscale": [
             [
              0,
              "#0d0887"
             ],
             [
              0.1111111111111111,
              "#46039f"
             ],
             [
              0.2222222222222222,
              "#7201a8"
             ],
             [
              0.3333333333333333,
              "#9c179e"
             ],
             [
              0.4444444444444444,
              "#bd3786"
             ],
             [
              0.5555555555555556,
              "#d8576b"
             ],
             [
              0.6666666666666666,
              "#ed7953"
             ],
             [
              0.7777777777777778,
              "#fb9f3a"
             ],
             [
              0.8888888888888888,
              "#fdca26"
             ],
             [
              1,
              "#f0f921"
             ]
            ],
            "type": "histogram2dcontour"
           }
          ],
          "mesh3d": [
           {
            "colorbar": {
             "outlinewidth": 0,
             "ticks": ""
            },
            "type": "mesh3d"
           }
          ],
          "parcoords": [
           {
            "line": {
             "colorbar": {
              "outlinewidth": 0,
              "ticks": ""
             }
            },
            "type": "parcoords"
           }
          ],
          "pie": [
           {
            "automargin": true,
            "type": "pie"
           }
          ],
          "scatter": [
           {
            "fillpattern": {
             "fillmode": "overlay",
             "size": 10,
             "solidity": 0.2
            },
            "type": "scatter"
           }
          ],
          "scatter3d": [
           {
            "line": {
             "colorbar": {
              "outlinewidth": 0,
              "ticks": ""
             }
            },
            "marker": {
             "colorbar": {
              "outlinewidth": 0,
              "ticks": ""
             }
            },
            "type": "scatter3d"
           }
          ],
          "scattercarpet": [
           {
            "marker": {
             "colorbar": {
              "outlinewidth": 0,
              "ticks": ""
             }
            },
            "type": "scattercarpet"
           }
          ],
          "scattergeo": [
           {
            "marker": {
             "colorbar": {
              "outlinewidth": 0,
              "ticks": ""
             }
            },
            "type": "scattergeo"
           }
          ],
          "scattergl": [
           {
            "marker": {
             "colorbar": {
              "outlinewidth": 0,
              "ticks": ""
             }
            },
            "type": "scattergl"
           }
          ],
          "scattermapbox": [
           {
            "marker": {
             "colorbar": {
              "outlinewidth": 0,
              "ticks": ""
             }
            },
            "type": "scattermapbox"
           }
          ],
          "scatterpolar": [
           {
            "marker": {
             "colorbar": {
              "outlinewidth": 0,
              "ticks": ""
             }
            },
            "type": "scatterpolar"
           }
          ],
          "scatterpolargl": [
           {
            "marker": {
             "colorbar": {
              "outlinewidth": 0,
              "ticks": ""
             }
            },
            "type": "scatterpolargl"
           }
          ],
          "scatterternary": [
           {
            "marker": {
             "colorbar": {
              "outlinewidth": 0,
              "ticks": ""
             }
            },
            "type": "scatterternary"
           }
          ],
          "surface": [
           {
            "colorbar": {
             "outlinewidth": 0,
             "ticks": ""
            },
            "colorscale": [
             [
              0,
              "#0d0887"
             ],
             [
              0.1111111111111111,
              "#46039f"
             ],
             [
              0.2222222222222222,
              "#7201a8"
             ],
             [
              0.3333333333333333,
              "#9c179e"
             ],
             [
              0.4444444444444444,
              "#bd3786"
             ],
             [
              0.5555555555555556,
              "#d8576b"
             ],
             [
              0.6666666666666666,
              "#ed7953"
             ],
             [
              0.7777777777777778,
              "#fb9f3a"
             ],
             [
              0.8888888888888888,
              "#fdca26"
             ],
             [
              1,
              "#f0f921"
             ]
            ],
            "type": "surface"
           }
          ],
          "table": [
           {
            "cells": {
             "fill": {
              "color": "#EBF0F8"
             },
             "line": {
              "color": "white"
             }
            },
            "header": {
             "fill": {
              "color": "#C8D4E3"
             },
             "line": {
              "color": "white"
             }
            },
            "type": "table"
           }
          ]
         },
         "layout": {
          "annotationdefaults": {
           "arrowcolor": "#2a3f5f",
           "arrowhead": 0,
           "arrowwidth": 1
          },
          "autotypenumbers": "strict",
          "coloraxis": {
           "colorbar": {
            "outlinewidth": 0,
            "ticks": ""
           }
          },
          "colorscale": {
           "diverging": [
            [
             0,
             "#8e0152"
            ],
            [
             0.1,
             "#c51b7d"
            ],
            [
             0.2,
             "#de77ae"
            ],
            [
             0.3,
             "#f1b6da"
            ],
            [
             0.4,
             "#fde0ef"
            ],
            [
             0.5,
             "#f7f7f7"
            ],
            [
             0.6,
             "#e6f5d0"
            ],
            [
             0.7,
             "#b8e186"
            ],
            [
             0.8,
             "#7fbc41"
            ],
            [
             0.9,
             "#4d9221"
            ],
            [
             1,
             "#276419"
            ]
           ],
           "sequential": [
            [
             0,
             "#0d0887"
            ],
            [
             0.1111111111111111,
             "#46039f"
            ],
            [
             0.2222222222222222,
             "#7201a8"
            ],
            [
             0.3333333333333333,
             "#9c179e"
            ],
            [
             0.4444444444444444,
             "#bd3786"
            ],
            [
             0.5555555555555556,
             "#d8576b"
            ],
            [
             0.6666666666666666,
             "#ed7953"
            ],
            [
             0.7777777777777778,
             "#fb9f3a"
            ],
            [
             0.8888888888888888,
             "#fdca26"
            ],
            [
             1,
             "#f0f921"
            ]
           ],
           "sequentialminus": [
            [
             0,
             "#0d0887"
            ],
            [
             0.1111111111111111,
             "#46039f"
            ],
            [
             0.2222222222222222,
             "#7201a8"
            ],
            [
             0.3333333333333333,
             "#9c179e"
            ],
            [
             0.4444444444444444,
             "#bd3786"
            ],
            [
             0.5555555555555556,
             "#d8576b"
            ],
            [
             0.6666666666666666,
             "#ed7953"
            ],
            [
             0.7777777777777778,
             "#fb9f3a"
            ],
            [
             0.8888888888888888,
             "#fdca26"
            ],
            [
             1,
             "#f0f921"
            ]
           ]
          },
          "colorway": [
           "#636efa",
           "#EF553B",
           "#00cc96",
           "#ab63fa",
           "#FFA15A",
           "#19d3f3",
           "#FF6692",
           "#B6E880",
           "#FF97FF",
           "#FECB52"
          ],
          "font": {
           "color": "#2a3f5f"
          },
          "geo": {
           "bgcolor": "white",
           "lakecolor": "white",
           "landcolor": "#E5ECF6",
           "showlakes": true,
           "showland": true,
           "subunitcolor": "white"
          },
          "hoverlabel": {
           "align": "left"
          },
          "hovermode": "closest",
          "mapbox": {
           "style": "light"
          },
          "paper_bgcolor": "white",
          "plot_bgcolor": "#E5ECF6",
          "polar": {
           "angularaxis": {
            "gridcolor": "white",
            "linecolor": "white",
            "ticks": ""
           },
           "bgcolor": "#E5ECF6",
           "radialaxis": {
            "gridcolor": "white",
            "linecolor": "white",
            "ticks": ""
           }
          },
          "scene": {
           "xaxis": {
            "backgroundcolor": "#E5ECF6",
            "gridcolor": "white",
            "gridwidth": 2,
            "linecolor": "white",
            "showbackground": true,
            "ticks": "",
            "zerolinecolor": "white"
           },
           "yaxis": {
            "backgroundcolor": "#E5ECF6",
            "gridcolor": "white",
            "gridwidth": 2,
            "linecolor": "white",
            "showbackground": true,
            "ticks": "",
            "zerolinecolor": "white"
           },
           "zaxis": {
            "backgroundcolor": "#E5ECF6",
            "gridcolor": "white",
            "gridwidth": 2,
            "linecolor": "white",
            "showbackground": true,
            "ticks": "",
            "zerolinecolor": "white"
           }
          },
          "shapedefaults": {
           "line": {
            "color": "#2a3f5f"
           }
          },
          "ternary": {
           "aaxis": {
            "gridcolor": "white",
            "linecolor": "white",
            "ticks": ""
           },
           "baxis": {
            "gridcolor": "white",
            "linecolor": "white",
            "ticks": ""
           },
           "bgcolor": "#E5ECF6",
           "caxis": {
            "gridcolor": "white",
            "linecolor": "white",
            "ticks": ""
           }
          },
          "title": {
           "x": 0.05
          },
          "xaxis": {
           "automargin": true,
           "gridcolor": "white",
           "linecolor": "white",
           "ticks": "",
           "title": {
            "standoff": 15
           },
           "zerolinecolor": "white",
           "zerolinewidth": 2
          },
          "yaxis": {
           "automargin": true,
           "gridcolor": "white",
           "linecolor": "white",
           "ticks": "",
           "title": {
            "standoff": 15
           },
           "zerolinecolor": "white",
           "zerolinewidth": 2
          }
         }
        },
        "width": 1024
       }
      }
     },
     "metadata": {},
     "output_type": "display_data"
    }
   ],
   "source": [
    "handMarkers, palmMarkers, palmPlnNormals, palmCentroids, fingers = generate_hand_pose(pos=np.array([0, -100, 300]), PS=90, FE=0, WD=0)\n",
    "data = [handMarkers, palmMarkers, palmPlnNormals, palmCentroids, fingers]\n",
    "LMCs = [make_LMC(LMC_loc=[-380,  130, 0], LMC_orient=[0, 0, 0], LMC_H=LMC_H) ]\n",
    "i = 0\n",
    "print(check_LMC_Hand_visibility(LMCs[0], pos_markers=data[0][i], fingers_idx=fingers_idx, finger_lines=data[4][0], finger_radius=finger_radius, palm_plane_normal=data[2][i], palm_centroid=data[3][i], palm_markers=data[1][i]))\n",
    "\n",
    "fig = go.Figure()\n",
    "fig = plotLMC(fig, LMCs[0], color='orange', name='LMC', scale = 30)\n",
    "fig = plot_hand(fig, data[0][0])\n",
    "fig.show()"
   ]
  }
 ],
 "metadata": {
  "kernelspec": {
   "display_name": "OpenSim44",
   "language": "python",
   "name": "python3"
  },
  "language_info": {
   "codemirror_mode": {
    "name": "ipython",
    "version": 3
   },
   "file_extension": ".py",
   "mimetype": "text/x-python",
   "name": "python",
   "nbconvert_exporter": "python",
   "pygments_lexer": "ipython3",
   "version": "3.8.16"
  }
 },
 "nbformat": 4,
 "nbformat_minor": 2
}
